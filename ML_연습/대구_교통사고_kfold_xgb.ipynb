{
 "cells": [
  {
   "cell_type": "markdown",
   "id": "153641fd",
   "metadata": {},
   "source": [
    "각 test_ID에 교통사고 값(ECLO)을 예측하기 \n",
    "\n",
    "ECLO = 사망자수 * 10 + 중상자수 * 5 + 경상자수 * 3 + 부상자수 * 1\n",
    "\n",
    "- 출퇴근 시간, 새벽 시간(음주, 졸음)에 많이 발생?\n",
    "\n",
    "- 요일에 따라 달라진다? -> 인구 밀집\n",
    "\n",
    "- 날씨 영향?\n",
    "\n",
    "- 사고가 빈번한 지역?\n",
    "\n",
    "- cctv가 없거나 신호 시간이 짧거나\n",
    "\n",
    "- 도로 상태, 형태\n",
    "\n",
    "- 노인이 많으면 사고가 자주 발생"
   ]
  },
  {
   "cell_type": "markdown",
   "id": "3927b9d9",
   "metadata": {},
   "source": [
    "# 카테코리로 묶어 xgb, lgbm 실행하기"
   ]
  },
  {
   "cell_type": "markdown",
   "id": "27fbf88d",
   "metadata": {},
   "source": [
    "# 라이브러리 불러오기"
   ]
  },
  {
   "cell_type": "code",
   "execution_count": 2,
   "id": "89ed53c9",
   "metadata": {},
   "outputs": [],
   "source": [
    "import pandas as pd\n",
    "import numpy as np\n",
    "from sklearn.cluster import KMeans\n",
    "from sklearn.model_selection import StratifiedKFold\n",
    "from sklearn.model_selection import KFold\n",
    "from xgboost import XGBRegressor\n",
    "from lightgbm import LGBMRegressor\n",
    "from catboost import CatBoostRegressor\n",
    "from sklearn.metrics import mean_squared_error\n",
    "from tqdm import tqdm"
   ]
  },
  {
   "cell_type": "markdown",
   "id": "1837440e",
   "metadata": {},
   "source": [
    "# 데이터 불러오기"
   ]
  },
  {
   "cell_type": "code",
   "execution_count": 3,
   "id": "304e48a6",
   "metadata": {
    "scrolled": true
   },
   "outputs": [
    {
     "data": {
      "text/html": [
       "<div>\n",
       "<style scoped>\n",
       "    .dataframe tbody tr th:only-of-type {\n",
       "        vertical-align: middle;\n",
       "    }\n",
       "\n",
       "    .dataframe tbody tr th {\n",
       "        vertical-align: top;\n",
       "    }\n",
       "\n",
       "    .dataframe thead th {\n",
       "        text-align: right;\n",
       "    }\n",
       "</style>\n",
       "<table border=\"1\" class=\"dataframe\">\n",
       "  <thead>\n",
       "    <tr style=\"text-align: right;\">\n",
       "      <th></th>\n",
       "      <th>ID</th>\n",
       "      <th>사고일시</th>\n",
       "      <th>요일</th>\n",
       "      <th>기상상태</th>\n",
       "      <th>시군구</th>\n",
       "      <th>도로형태</th>\n",
       "      <th>노면상태</th>\n",
       "      <th>사고유형</th>\n",
       "      <th>사고유형 - 세부분류</th>\n",
       "      <th>법규위반</th>\n",
       "      <th>...</th>\n",
       "      <th>가해운전자 상해정도</th>\n",
       "      <th>피해운전자 차종</th>\n",
       "      <th>피해운전자 성별</th>\n",
       "      <th>피해운전자 연령</th>\n",
       "      <th>피해운전자 상해정도</th>\n",
       "      <th>사망자수</th>\n",
       "      <th>중상자수</th>\n",
       "      <th>경상자수</th>\n",
       "      <th>부상자수</th>\n",
       "      <th>ECLO</th>\n",
       "    </tr>\n",
       "  </thead>\n",
       "  <tbody>\n",
       "    <tr>\n",
       "      <th>0</th>\n",
       "      <td>ACCIDENT_00000</td>\n",
       "      <td>2019-01-01 00</td>\n",
       "      <td>화요일</td>\n",
       "      <td>맑음</td>\n",
       "      <td>대구광역시 중구 대신동</td>\n",
       "      <td>단일로 - 기타</td>\n",
       "      <td>건조</td>\n",
       "      <td>차대사람</td>\n",
       "      <td>길가장자리구역통행중</td>\n",
       "      <td>안전운전불이행</td>\n",
       "      <td>...</td>\n",
       "      <td>상해없음</td>\n",
       "      <td>보행자</td>\n",
       "      <td>여</td>\n",
       "      <td>70세</td>\n",
       "      <td>중상</td>\n",
       "      <td>0</td>\n",
       "      <td>1</td>\n",
       "      <td>0</td>\n",
       "      <td>0</td>\n",
       "      <td>5</td>\n",
       "    </tr>\n",
       "    <tr>\n",
       "      <th>1</th>\n",
       "      <td>ACCIDENT_00001</td>\n",
       "      <td>2019-01-01 00</td>\n",
       "      <td>화요일</td>\n",
       "      <td>흐림</td>\n",
       "      <td>대구광역시 달서구 감삼동</td>\n",
       "      <td>단일로 - 기타</td>\n",
       "      <td>건조</td>\n",
       "      <td>차대사람</td>\n",
       "      <td>보도통행중</td>\n",
       "      <td>기타</td>\n",
       "      <td>...</td>\n",
       "      <td>상해없음</td>\n",
       "      <td>보행자</td>\n",
       "      <td>남</td>\n",
       "      <td>61세</td>\n",
       "      <td>경상</td>\n",
       "      <td>0</td>\n",
       "      <td>0</td>\n",
       "      <td>1</td>\n",
       "      <td>0</td>\n",
       "      <td>3</td>\n",
       "    </tr>\n",
       "    <tr>\n",
       "      <th>2</th>\n",
       "      <td>ACCIDENT_00002</td>\n",
       "      <td>2019-01-01 01</td>\n",
       "      <td>화요일</td>\n",
       "      <td>맑음</td>\n",
       "      <td>대구광역시 수성구 두산동</td>\n",
       "      <td>단일로 - 기타</td>\n",
       "      <td>건조</td>\n",
       "      <td>차대사람</td>\n",
       "      <td>차도통행중</td>\n",
       "      <td>안전운전불이행</td>\n",
       "      <td>...</td>\n",
       "      <td>상해없음</td>\n",
       "      <td>보행자</td>\n",
       "      <td>남</td>\n",
       "      <td>38세</td>\n",
       "      <td>경상</td>\n",
       "      <td>0</td>\n",
       "      <td>0</td>\n",
       "      <td>1</td>\n",
       "      <td>0</td>\n",
       "      <td>3</td>\n",
       "    </tr>\n",
       "  </tbody>\n",
       "</table>\n",
       "<p>3 rows × 23 columns</p>\n",
       "</div>"
      ],
      "text/plain": [
       "               ID           사고일시   요일 기상상태            시군구      도로형태 노면상태  \\\n",
       "0  ACCIDENT_00000  2019-01-01 00  화요일   맑음   대구광역시 중구 대신동  단일로 - 기타   건조   \n",
       "1  ACCIDENT_00001  2019-01-01 00  화요일   흐림  대구광역시 달서구 감삼동  단일로 - 기타   건조   \n",
       "2  ACCIDENT_00002  2019-01-01 01  화요일   맑음  대구광역시 수성구 두산동  단일로 - 기타   건조   \n",
       "\n",
       "   사고유형 사고유형 - 세부분류     법규위반  ... 가해운전자 상해정도 피해운전자 차종 피해운전자 성별 피해운전자 연령  \\\n",
       "0  차대사람  길가장자리구역통행중  안전운전불이행  ...       상해없음      보행자        여      70세   \n",
       "1  차대사람       보도통행중       기타  ...       상해없음      보행자        남      61세   \n",
       "2  차대사람       차도통행중  안전운전불이행  ...       상해없음      보행자        남      38세   \n",
       "\n",
       "  피해운전자 상해정도 사망자수 중상자수 경상자수  부상자수  ECLO  \n",
       "0         중상    0    1    0     0     5  \n",
       "1         경상    0    0    1     0     3  \n",
       "2         경상    0    0    1     0     3  \n",
       "\n",
       "[3 rows x 23 columns]"
      ]
     },
     "execution_count": 3,
     "metadata": {},
     "output_type": "execute_result"
    },
    {
     "data": {
      "text/plain": [
       "(39609, 23)"
      ]
     },
     "execution_count": 3,
     "metadata": {},
     "output_type": "execute_result"
    },
    {
     "data": {
      "text/html": [
       "<div>\n",
       "<style scoped>\n",
       "    .dataframe tbody tr th:only-of-type {\n",
       "        vertical-align: middle;\n",
       "    }\n",
       "\n",
       "    .dataframe tbody tr th {\n",
       "        vertical-align: top;\n",
       "    }\n",
       "\n",
       "    .dataframe thead th {\n",
       "        text-align: right;\n",
       "    }\n",
       "</style>\n",
       "<table border=\"1\" class=\"dataframe\">\n",
       "  <thead>\n",
       "    <tr style=\"text-align: right;\">\n",
       "      <th></th>\n",
       "      <th>ID</th>\n",
       "      <th>사고일시</th>\n",
       "      <th>요일</th>\n",
       "      <th>기상상태</th>\n",
       "      <th>시군구</th>\n",
       "      <th>도로형태</th>\n",
       "      <th>노면상태</th>\n",
       "      <th>사고유형</th>\n",
       "    </tr>\n",
       "  </thead>\n",
       "  <tbody>\n",
       "    <tr>\n",
       "      <th>0</th>\n",
       "      <td>ACCIDENT_39609</td>\n",
       "      <td>2022-01-01 01</td>\n",
       "      <td>토요일</td>\n",
       "      <td>맑음</td>\n",
       "      <td>대구광역시 수성구 상동</td>\n",
       "      <td>교차로 - 교차로안</td>\n",
       "      <td>건조</td>\n",
       "      <td>차대사람</td>\n",
       "    </tr>\n",
       "    <tr>\n",
       "      <th>1</th>\n",
       "      <td>ACCIDENT_39610</td>\n",
       "      <td>2022-01-01 01</td>\n",
       "      <td>토요일</td>\n",
       "      <td>맑음</td>\n",
       "      <td>대구광역시 수성구 지산동</td>\n",
       "      <td>단일로 - 기타</td>\n",
       "      <td>건조</td>\n",
       "      <td>차대사람</td>\n",
       "    </tr>\n",
       "    <tr>\n",
       "      <th>2</th>\n",
       "      <td>ACCIDENT_39611</td>\n",
       "      <td>2022-01-01 04</td>\n",
       "      <td>토요일</td>\n",
       "      <td>맑음</td>\n",
       "      <td>대구광역시 수성구 수성동2가</td>\n",
       "      <td>교차로 - 교차로안</td>\n",
       "      <td>건조</td>\n",
       "      <td>차대차</td>\n",
       "    </tr>\n",
       "  </tbody>\n",
       "</table>\n",
       "</div>"
      ],
      "text/plain": [
       "               ID           사고일시   요일 기상상태              시군구        도로형태 노면상태  \\\n",
       "0  ACCIDENT_39609  2022-01-01 01  토요일   맑음     대구광역시 수성구 상동  교차로 - 교차로안   건조   \n",
       "1  ACCIDENT_39610  2022-01-01 01  토요일   맑음    대구광역시 수성구 지산동    단일로 - 기타   건조   \n",
       "2  ACCIDENT_39611  2022-01-01 04  토요일   맑음  대구광역시 수성구 수성동2가  교차로 - 교차로안   건조   \n",
       "\n",
       "   사고유형  \n",
       "0  차대사람  \n",
       "1  차대사람  \n",
       "2   차대차  "
      ]
     },
     "execution_count": 3,
     "metadata": {},
     "output_type": "execute_result"
    },
    {
     "data": {
      "text/plain": [
       "(10963, 8)"
      ]
     },
     "execution_count": 3,
     "metadata": {},
     "output_type": "execute_result"
    },
    {
     "data": {
      "text/html": [
       "<div>\n",
       "<style scoped>\n",
       "    .dataframe tbody tr th:only-of-type {\n",
       "        vertical-align: middle;\n",
       "    }\n",
       "\n",
       "    .dataframe tbody tr th {\n",
       "        vertical-align: top;\n",
       "    }\n",
       "\n",
       "    .dataframe thead th {\n",
       "        text-align: right;\n",
       "    }\n",
       "</style>\n",
       "<table border=\"1\" class=\"dataframe\">\n",
       "  <thead>\n",
       "    <tr style=\"text-align: right;\">\n",
       "      <th></th>\n",
       "      <th>ID</th>\n",
       "      <th>사고일시</th>\n",
       "      <th>요일</th>\n",
       "      <th>기상상태</th>\n",
       "      <th>시군구</th>\n",
       "      <th>도로형태</th>\n",
       "      <th>노면상태</th>\n",
       "      <th>사고유형</th>\n",
       "      <th>사고유형 - 세부분류</th>\n",
       "      <th>법규위반</th>\n",
       "      <th>...</th>\n",
       "      <th>가해운전자 상해정도</th>\n",
       "      <th>피해운전자 차종</th>\n",
       "      <th>피해운전자 성별</th>\n",
       "      <th>피해운전자 연령</th>\n",
       "      <th>피해운전자 상해정도</th>\n",
       "      <th>사망자수</th>\n",
       "      <th>중상자수</th>\n",
       "      <th>경상자수</th>\n",
       "      <th>부상자수</th>\n",
       "      <th>ECLO</th>\n",
       "    </tr>\n",
       "  </thead>\n",
       "  <tbody>\n",
       "    <tr>\n",
       "      <th>0</th>\n",
       "      <td>COUNTRYWIDE_ACCIDENT_000000</td>\n",
       "      <td>2019-01-01 00</td>\n",
       "      <td>화요일</td>\n",
       "      <td>맑음</td>\n",
       "      <td>서울특별시 강서구 방화동</td>\n",
       "      <td>교차로 - 교차로횡단보도내</td>\n",
       "      <td>건조</td>\n",
       "      <td>차대사람</td>\n",
       "      <td>횡단중</td>\n",
       "      <td>보행자보호의무위반</td>\n",
       "      <td>...</td>\n",
       "      <td>상해없음</td>\n",
       "      <td>보행자</td>\n",
       "      <td>남</td>\n",
       "      <td>40세</td>\n",
       "      <td>경상</td>\n",
       "      <td>0</td>\n",
       "      <td>0</td>\n",
       "      <td>1</td>\n",
       "      <td>0</td>\n",
       "      <td>3</td>\n",
       "    </tr>\n",
       "    <tr>\n",
       "      <th>1</th>\n",
       "      <td>COUNTRYWIDE_ACCIDENT_000001</td>\n",
       "      <td>2019-01-01 00</td>\n",
       "      <td>화요일</td>\n",
       "      <td>맑음</td>\n",
       "      <td>경기도 포천시 소흘읍</td>\n",
       "      <td>교차로 - 교차로안</td>\n",
       "      <td>건조</td>\n",
       "      <td>차대차</td>\n",
       "      <td>기타</td>\n",
       "      <td>직진우회전진행방해</td>\n",
       "      <td>...</td>\n",
       "      <td>상해없음</td>\n",
       "      <td>이륜</td>\n",
       "      <td>남</td>\n",
       "      <td>20세</td>\n",
       "      <td>경상</td>\n",
       "      <td>0</td>\n",
       "      <td>0</td>\n",
       "      <td>1</td>\n",
       "      <td>0</td>\n",
       "      <td>3</td>\n",
       "    </tr>\n",
       "    <tr>\n",
       "      <th>2</th>\n",
       "      <td>COUNTRYWIDE_ACCIDENT_000002</td>\n",
       "      <td>2019-01-01 00</td>\n",
       "      <td>화요일</td>\n",
       "      <td>맑음</td>\n",
       "      <td>경기도 양주시 고암동</td>\n",
       "      <td>교차로 - 교차로안</td>\n",
       "      <td>건조</td>\n",
       "      <td>차대차</td>\n",
       "      <td>측면충돌</td>\n",
       "      <td>신호위반</td>\n",
       "      <td>...</td>\n",
       "      <td>상해없음</td>\n",
       "      <td>이륜</td>\n",
       "      <td>남</td>\n",
       "      <td>17세</td>\n",
       "      <td>중상</td>\n",
       "      <td>0</td>\n",
       "      <td>1</td>\n",
       "      <td>0</td>\n",
       "      <td>0</td>\n",
       "      <td>5</td>\n",
       "    </tr>\n",
       "  </tbody>\n",
       "</table>\n",
       "<p>3 rows × 23 columns</p>\n",
       "</div>"
      ],
      "text/plain": [
       "                            ID           사고일시   요일 기상상태            시군구  \\\n",
       "0  COUNTRYWIDE_ACCIDENT_000000  2019-01-01 00  화요일   맑음  서울특별시 강서구 방화동   \n",
       "1  COUNTRYWIDE_ACCIDENT_000001  2019-01-01 00  화요일   맑음    경기도 포천시 소흘읍   \n",
       "2  COUNTRYWIDE_ACCIDENT_000002  2019-01-01 00  화요일   맑음    경기도 양주시 고암동   \n",
       "\n",
       "             도로형태 노면상태  사고유형 사고유형 - 세부분류       법규위반  ... 가해운전자 상해정도 피해운전자 차종  \\\n",
       "0  교차로 - 교차로횡단보도내   건조  차대사람         횡단중  보행자보호의무위반  ...       상해없음      보행자   \n",
       "1      교차로 - 교차로안   건조   차대차          기타  직진우회전진행방해  ...       상해없음       이륜   \n",
       "2      교차로 - 교차로안   건조   차대차        측면충돌       신호위반  ...       상해없음       이륜   \n",
       "\n",
       "  피해운전자 성별 피해운전자 연령 피해운전자 상해정도 사망자수 중상자수 경상자수  부상자수  ECLO  \n",
       "0        남      40세         경상    0    0    1     0     3  \n",
       "1        남      20세         경상    0    0    1     0     3  \n",
       "2        남      17세         중상    0    1    0     0     5  \n",
       "\n",
       "[3 rows x 23 columns]"
      ]
     },
     "execution_count": 3,
     "metadata": {},
     "output_type": "execute_result"
    },
    {
     "data": {
      "text/plain": [
       "(602775, 23)"
      ]
     },
     "execution_count": 3,
     "metadata": {},
     "output_type": "execute_result"
    }
   ],
   "source": [
    "train_df = pd.read_csv('./data/train.csv')\n",
    "test_df = pd.read_csv('./data/test.csv')\n",
    "accident_df = pd.read_csv('./data/external_open/countrywide_accident.csv')\n",
    "\n",
    "train_df.head(3)\n",
    "train_df.shape\n",
    "\n",
    "test_df.head(3)\n",
    "test_df.shape\n",
    "\n",
    "accident_df.head(3)\n",
    "accident_df.shape"
   ]
  },
  {
   "cell_type": "code",
   "execution_count": 4,
   "id": "ad70969a",
   "metadata": {},
   "outputs": [],
   "source": [
    "# 추가할 수 있는 data\n",
    "\n",
    "cctv_df = pd.read_csv('./data/external_open/대구 CCTV 정보.csv', encoding = 'cp949')\n",
    "security_light_df = pd.read_csv('./data/external_open/대구 보안등 정보.csv', encoding = 'cp949', low_memory = False)\n",
    "child_protection_df = pd.read_csv('./data/external_open/대구 어린이 보호 구역 정보.csv', encoding = 'cp949')\n",
    "parking_df = pd.read_csv('./data/external_open/대구 주차장 정보.csv', encoding = 'cp949')\n",
    "\n",
    "# cctv_df.head(2)\n",
    "# security_light_df.head(2)\n",
    "# child_protection_df.head(2)\n",
    "# parking_df.head(2)"
   ]
  },
  {
   "cell_type": "markdown",
   "id": "04d3e3d9",
   "metadata": {},
   "source": [
    "# EDA"
   ]
  },
  {
   "cell_type": "markdown",
   "id": "75426ee7",
   "metadata": {},
   "source": [
    "## 결측치 확인"
   ]
  },
  {
   "cell_type": "code",
   "execution_count": 5,
   "id": "655b10f0",
   "metadata": {},
   "outputs": [
    {
     "name": "stdout",
     "output_type": "stream",
     "text": [
      "<class 'pandas.core.frame.DataFrame'>\n",
      "RangeIndex: 39609 entries, 0 to 39608\n",
      "Data columns (total 23 columns):\n",
      " #   Column       Non-Null Count  Dtype \n",
      "---  ------       --------------  ----- \n",
      " 0   ID           39609 non-null  object\n",
      " 1   사고일시         39609 non-null  object\n",
      " 2   요일           39609 non-null  object\n",
      " 3   기상상태         39609 non-null  object\n",
      " 4   시군구          39609 non-null  object\n",
      " 5   도로형태         39609 non-null  object\n",
      " 6   노면상태         39609 non-null  object\n",
      " 7   사고유형         39609 non-null  object\n",
      " 8   사고유형 - 세부분류  39609 non-null  object\n",
      " 9   법규위반         39609 non-null  object\n",
      " 10  가해운전자 차종     39609 non-null  object\n",
      " 11  가해운전자 성별     39609 non-null  object\n",
      " 12  가해운전자 연령     39609 non-null  object\n",
      " 13  가해운전자 상해정도   39609 non-null  object\n",
      " 14  피해운전자 차종     38618 non-null  object\n",
      " 15  피해운전자 성별     38618 non-null  object\n",
      " 16  피해운전자 연령     38618 non-null  object\n",
      " 17  피해운전자 상해정도   38618 non-null  object\n",
      " 18  사망자수         39609 non-null  int64 \n",
      " 19  중상자수         39609 non-null  int64 \n",
      " 20  경상자수         39609 non-null  int64 \n",
      " 21  부상자수         39609 non-null  int64 \n",
      " 22  ECLO         39609 non-null  int64 \n",
      "dtypes: int64(5), object(18)\n",
      "memory usage: 7.0+ MB\n"
     ]
    }
   ],
   "source": [
    "train_df.info()"
   ]
  },
  {
   "cell_type": "markdown",
   "id": "f143d522",
   "metadata": {},
   "source": [
    "=> '피해운전자 차종', '피해운전자 성별', '피해운전자 연령', '피해운전자 상해정도'에 약 1000개의 결측치 존재"
   ]
  },
  {
   "cell_type": "code",
   "execution_count": 6,
   "id": "78c1e148",
   "metadata": {},
   "outputs": [
    {
     "name": "stdout",
     "output_type": "stream",
     "text": [
      "<class 'pandas.core.frame.DataFrame'>\n",
      "RangeIndex: 10963 entries, 0 to 10962\n",
      "Data columns (total 8 columns):\n",
      " #   Column  Non-Null Count  Dtype \n",
      "---  ------  --------------  ----- \n",
      " 0   ID      10963 non-null  object\n",
      " 1   사고일시    10963 non-null  object\n",
      " 2   요일      10963 non-null  object\n",
      " 3   기상상태    10963 non-null  object\n",
      " 4   시군구     10963 non-null  object\n",
      " 5   도로형태    10963 non-null  object\n",
      " 6   노면상태    10963 non-null  object\n",
      " 7   사고유형    10963 non-null  object\n",
      "dtypes: object(8)\n",
      "memory usage: 685.3+ KB\n"
     ]
    }
   ],
   "source": [
    "test_df.info() # 결측치 없음"
   ]
  },
  {
   "cell_type": "code",
   "execution_count": 7,
   "id": "deb59164",
   "metadata": {},
   "outputs": [
    {
     "name": "stdout",
     "output_type": "stream",
     "text": [
      "<class 'pandas.core.frame.DataFrame'>\n",
      "RangeIndex: 602775 entries, 0 to 602774\n",
      "Data columns (total 23 columns):\n",
      " #   Column       Non-Null Count   Dtype \n",
      "---  ------       --------------   ----- \n",
      " 0   ID           602775 non-null  object\n",
      " 1   사고일시         602775 non-null  object\n",
      " 2   요일           602775 non-null  object\n",
      " 3   기상상태         602775 non-null  object\n",
      " 4   시군구          602775 non-null  object\n",
      " 5   도로형태         602775 non-null  object\n",
      " 6   노면상태         602774 non-null  object\n",
      " 7   사고유형         602775 non-null  object\n",
      " 8   사고유형 - 세부분류  602775 non-null  object\n",
      " 9   법규위반         602775 non-null  object\n",
      " 10  가해운전자 차종     602775 non-null  object\n",
      " 11  가해운전자 성별     602775 non-null  object\n",
      " 12  가해운전자 연령     602775 non-null  object\n",
      " 13  가해운전자 상해정도   602775 non-null  object\n",
      " 14  피해운전자 차종     576948 non-null  object\n",
      " 15  피해운전자 성별     576946 non-null  object\n",
      " 16  피해운전자 연령     576949 non-null  object\n",
      " 17  피해운전자 상해정도   576946 non-null  object\n",
      " 18  사망자수         602775 non-null  int64 \n",
      " 19  중상자수         602775 non-null  int64 \n",
      " 20  경상자수         602775 non-null  int64 \n",
      " 21  부상자수         602775 non-null  int64 \n",
      " 22  ECLO         602775 non-null  int64 \n",
      "dtypes: int64(5), object(18)\n",
      "memory usage: 105.8+ MB\n"
     ]
    }
   ],
   "source": [
    "accident_df.info()"
   ]
  },
  {
   "cell_type": "markdown",
   "id": "f7287420",
   "metadata": {},
   "source": [
    "=> '피해운전자 차종', '피해운전자 성별', '피해운전자 연령', '피해운전자 상해정도'에 결측치가 존재하는 이유 -> '사고 유형'이 '챠랑단독'이기 때문이다\n",
    "\n",
    "=> 이런 결측치는 어떻게 처리를 해야하나"
   ]
  },
  {
   "cell_type": "markdown",
   "id": "170b6b40",
   "metadata": {},
   "source": [
    "# 데이터 전처리"
   ]
  },
  {
   "cell_type": "markdown",
   "id": "05251467",
   "metadata": {},
   "source": [
    "## train에 있고 test에 없는 값 삭제"
   ]
  },
  {
   "cell_type": "code",
   "execution_count": 8,
   "id": "59564dcd",
   "metadata": {},
   "outputs": [
    {
     "data": {
      "text/plain": [
       "array(['맑음', '흐림', '기타', '비', '안개', '눈'], dtype=object)"
      ]
     },
     "execution_count": 8,
     "metadata": {},
     "output_type": "execute_result"
    },
    {
     "data": {
      "text/plain": [
       "array(['맑음', '흐림', '눈', '기타', '비', '안개'], dtype=object)"
      ]
     },
     "execution_count": 8,
     "metadata": {},
     "output_type": "execute_result"
    },
    {
     "data": {
      "text/plain": [
       "array(['맑음', '흐림', '기타', '비', '눈'], dtype=object)"
      ]
     },
     "execution_count": 8,
     "metadata": {},
     "output_type": "execute_result"
    }
   ],
   "source": [
    "train_df['기상상태'].unique()\n",
    "accident_df['기상상태'].unique()\n",
    "test_df['기상상태'].unique()"
   ]
  },
  {
   "cell_type": "code",
   "execution_count": 9,
   "id": "f408081d",
   "metadata": {},
   "outputs": [
    {
     "data": {
      "text/plain": [
       "array(['건조', '젖음/습기', '서리/결빙', '기타', '침수', '적설'], dtype=object)"
      ]
     },
     "execution_count": 9,
     "metadata": {},
     "output_type": "execute_result"
    },
    {
     "data": {
      "text/plain": [
       "array(['건조', '젖음/습기', '기타', '서리/결빙', '적설', '해빙', '침수', nan], dtype=object)"
      ]
     },
     "execution_count": 9,
     "metadata": {},
     "output_type": "execute_result"
    },
    {
     "data": {
      "text/plain": [
       "array(['건조', '젖음/습기', '서리/결빙', '기타', '침수', '적설'], dtype=object)"
      ]
     },
     "execution_count": 9,
     "metadata": {},
     "output_type": "execute_result"
    }
   ],
   "source": [
    "train_df['노면상태'].unique()\n",
    "accident_df['노면상태'].unique()\n",
    "test_df['노면상태'].unique()"
   ]
  },
  {
   "cell_type": "code",
   "execution_count": 10,
   "id": "e85e959b",
   "metadata": {},
   "outputs": [
    {
     "data": {
      "text/plain": [
       "array(['차대사람', '차대차', '차량단독'], dtype=object)"
      ]
     },
     "execution_count": 10,
     "metadata": {},
     "output_type": "execute_result"
    },
    {
     "data": {
      "text/plain": [
       "array(['차대사람', '차대차', '차량단독', '철길건널목'], dtype=object)"
      ]
     },
     "execution_count": 10,
     "metadata": {},
     "output_type": "execute_result"
    },
    {
     "data": {
      "text/plain": [
       "array(['차대사람', '차대차', '차량단독'], dtype=object)"
      ]
     },
     "execution_count": 10,
     "metadata": {},
     "output_type": "execute_result"
    }
   ],
   "source": [
    "train_df['사고유형'].unique()\n",
    "accident_df['사고유형'].unique()\n",
    "test_df['사고유형'].unique()"
   ]
  },
  {
   "cell_type": "markdown",
   "id": "fd65005c",
   "metadata": {},
   "source": [
    "=> train, accident '기상상태'에는 안개가 있고 test '기상상태'에는 안개가 없어 삭제\n",
    "\n",
    "=> accident '노면상태'에는 해빙, nan가 있고 train test에는 없어 삭제\n",
    "\n",
    "=> accident '사고유형'에는 철길건널목이 있고 train, test에는 없어 삭제"
   ]
  },
  {
   "cell_type": "code",
   "execution_count": 11,
   "id": "7ed0202d",
   "metadata": {
    "scrolled": true
   },
   "outputs": [
    {
     "data": {
      "text/plain": [
       "array(['맑음', '흐림', '기타', '비', '눈'], dtype=object)"
      ]
     },
     "execution_count": 11,
     "metadata": {},
     "output_type": "execute_result"
    },
    {
     "data": {
      "text/plain": [
       "array(['맑음', '흐림', '눈', '기타', '비'], dtype=object)"
      ]
     },
     "execution_count": 11,
     "metadata": {},
     "output_type": "execute_result"
    }
   ],
   "source": [
    "# '기상상태'에서 '안개' 삭제\n",
    "\n",
    "train_df = train_df[train_df['기상상태'] != '안개']\n",
    "accident_df = accident_df[accident_df['기상상태'] != '안개']\n",
    "\n",
    "train_df['기상상태'].unique()\n",
    "accident_df['기상상태'].unique()"
   ]
  },
  {
   "cell_type": "code",
   "execution_count": 12,
   "id": "d3921206",
   "metadata": {},
   "outputs": [
    {
     "data": {
      "text/plain": [
       "array(['건조', '젖음/습기', '기타', '서리/결빙', '적설', '침수'], dtype=object)"
      ]
     },
     "execution_count": 12,
     "metadata": {},
     "output_type": "execute_result"
    }
   ],
   "source": [
    "# '노면상태'에서 '해빙', nan 삭제\n",
    "\n",
    "accident_df = accident_df[accident_df['노면상태'] != '해빙']\n",
    "accident_df = accident_df[~accident_df['노면상태'].isnull()]\n",
    "\n",
    "accident_df['노면상태'].unique()"
   ]
  },
  {
   "cell_type": "code",
   "execution_count": 13,
   "id": "bfab5d13",
   "metadata": {},
   "outputs": [
    {
     "data": {
      "text/plain": [
       "array(['차대사람', '차대차', '차량단독'], dtype=object)"
      ]
     },
     "execution_count": 13,
     "metadata": {},
     "output_type": "execute_result"
    }
   ],
   "source": [
    "# '사고유형'에서 '철길건널목' 삭제\n",
    "\n",
    "accident_df = accident_df[accident_df['사고유형'] != '철길건널목']\n",
    "\n",
    "accident_df['사고유형'].unique()"
   ]
  },
  {
   "cell_type": "markdown",
   "id": "5be404e6",
   "metadata": {},
   "source": [
    "## 시군구, 날짜, 도로형태, 사고 유형 분리 분리하기"
   ]
  },
  {
   "cell_type": "code",
   "execution_count": 14,
   "id": "368f7d73",
   "metadata": {},
   "outputs": [],
   "source": [
    "# accident_df에 '시군구'를 나눌 때 결측치가 발생하므로 따로 처리\n",
    "for i in range(len(accident_df)):\n",
    "    name = accident_df.iloc[i]['시군구']\n",
    "    name_lst = name.split()\n",
    "\n",
    "    if len(name_lst) == 2:\n",
    "        re_name = f'{name_lst[0]}{name_lst[0]}{name_lst[0]}'\n",
    "        accident_df.loc[i, '시군구'] = re_name"
   ]
  },
  {
   "cell_type": "code",
   "execution_count": 15,
   "id": "c441577b",
   "metadata": {},
   "outputs": [],
   "source": [
    "# 시군구 나누는 함수 구현\n",
    "\n",
    "def si_gun_gu(df):\n",
    "    lst = df['시군구'].str.split(' ')\n",
    "    df['시'] = lst.str[0]\n",
    "    df['군'] = lst.str[1]\n",
    "    df['구'] = lst.str[2]\n",
    "    return df"
   ]
  },
  {
   "cell_type": "code",
   "execution_count": 16,
   "id": "92ba90be",
   "metadata": {
    "scrolled": true
   },
   "outputs": [
    {
     "data": {
      "text/html": [
       "<div>\n",
       "<style scoped>\n",
       "    .dataframe tbody tr th:only-of-type {\n",
       "        vertical-align: middle;\n",
       "    }\n",
       "\n",
       "    .dataframe tbody tr th {\n",
       "        vertical-align: top;\n",
       "    }\n",
       "\n",
       "    .dataframe thead th {\n",
       "        text-align: right;\n",
       "    }\n",
       "</style>\n",
       "<table border=\"1\" class=\"dataframe\">\n",
       "  <thead>\n",
       "    <tr style=\"text-align: right;\">\n",
       "      <th></th>\n",
       "      <th>ID</th>\n",
       "      <th>사고일시</th>\n",
       "      <th>요일</th>\n",
       "      <th>기상상태</th>\n",
       "      <th>시군구</th>\n",
       "      <th>도로형태</th>\n",
       "      <th>노면상태</th>\n",
       "      <th>사고유형</th>\n",
       "      <th>사고유형 - 세부분류</th>\n",
       "      <th>법규위반</th>\n",
       "      <th>...</th>\n",
       "      <th>피해운전자 연령</th>\n",
       "      <th>피해운전자 상해정도</th>\n",
       "      <th>사망자수</th>\n",
       "      <th>중상자수</th>\n",
       "      <th>경상자수</th>\n",
       "      <th>부상자수</th>\n",
       "      <th>ECLO</th>\n",
       "      <th>시</th>\n",
       "      <th>군</th>\n",
       "      <th>구</th>\n",
       "    </tr>\n",
       "  </thead>\n",
       "  <tbody>\n",
       "    <tr>\n",
       "      <th>0</th>\n",
       "      <td>ACCIDENT_00000</td>\n",
       "      <td>2019-01-01 00</td>\n",
       "      <td>화요일</td>\n",
       "      <td>맑음</td>\n",
       "      <td>대구광역시 중구 대신동</td>\n",
       "      <td>단일로 - 기타</td>\n",
       "      <td>건조</td>\n",
       "      <td>차대사람</td>\n",
       "      <td>길가장자리구역통행중</td>\n",
       "      <td>안전운전불이행</td>\n",
       "      <td>...</td>\n",
       "      <td>70세</td>\n",
       "      <td>중상</td>\n",
       "      <td>0</td>\n",
       "      <td>1</td>\n",
       "      <td>0</td>\n",
       "      <td>0</td>\n",
       "      <td>5</td>\n",
       "      <td>대구광역시</td>\n",
       "      <td>중구</td>\n",
       "      <td>대신동</td>\n",
       "    </tr>\n",
       "    <tr>\n",
       "      <th>1</th>\n",
       "      <td>ACCIDENT_00001</td>\n",
       "      <td>2019-01-01 00</td>\n",
       "      <td>화요일</td>\n",
       "      <td>흐림</td>\n",
       "      <td>대구광역시 달서구 감삼동</td>\n",
       "      <td>단일로 - 기타</td>\n",
       "      <td>건조</td>\n",
       "      <td>차대사람</td>\n",
       "      <td>보도통행중</td>\n",
       "      <td>기타</td>\n",
       "      <td>...</td>\n",
       "      <td>61세</td>\n",
       "      <td>경상</td>\n",
       "      <td>0</td>\n",
       "      <td>0</td>\n",
       "      <td>1</td>\n",
       "      <td>0</td>\n",
       "      <td>3</td>\n",
       "      <td>대구광역시</td>\n",
       "      <td>달서구</td>\n",
       "      <td>감삼동</td>\n",
       "    </tr>\n",
       "    <tr>\n",
       "      <th>2</th>\n",
       "      <td>ACCIDENT_00002</td>\n",
       "      <td>2019-01-01 01</td>\n",
       "      <td>화요일</td>\n",
       "      <td>맑음</td>\n",
       "      <td>대구광역시 수성구 두산동</td>\n",
       "      <td>단일로 - 기타</td>\n",
       "      <td>건조</td>\n",
       "      <td>차대사람</td>\n",
       "      <td>차도통행중</td>\n",
       "      <td>안전운전불이행</td>\n",
       "      <td>...</td>\n",
       "      <td>38세</td>\n",
       "      <td>경상</td>\n",
       "      <td>0</td>\n",
       "      <td>0</td>\n",
       "      <td>1</td>\n",
       "      <td>0</td>\n",
       "      <td>3</td>\n",
       "      <td>대구광역시</td>\n",
       "      <td>수성구</td>\n",
       "      <td>두산동</td>\n",
       "    </tr>\n",
       "  </tbody>\n",
       "</table>\n",
       "<p>3 rows × 26 columns</p>\n",
       "</div>"
      ],
      "text/plain": [
       "               ID           사고일시   요일 기상상태            시군구      도로형태 노면상태  \\\n",
       "0  ACCIDENT_00000  2019-01-01 00  화요일   맑음   대구광역시 중구 대신동  단일로 - 기타   건조   \n",
       "1  ACCIDENT_00001  2019-01-01 00  화요일   흐림  대구광역시 달서구 감삼동  단일로 - 기타   건조   \n",
       "2  ACCIDENT_00002  2019-01-01 01  화요일   맑음  대구광역시 수성구 두산동  단일로 - 기타   건조   \n",
       "\n",
       "   사고유형 사고유형 - 세부분류     법규위반  ... 피해운전자 연령 피해운전자 상해정도 사망자수 중상자수 경상자수 부상자수  \\\n",
       "0  차대사람  길가장자리구역통행중  안전운전불이행  ...      70세         중상    0    1    0    0   \n",
       "1  차대사람       보도통행중       기타  ...      61세         경상    0    0    1    0   \n",
       "2  차대사람       차도통행중  안전운전불이행  ...      38세         경상    0    0    1    0   \n",
       "\n",
       "  ECLO      시    군    구  \n",
       "0    5  대구광역시   중구  대신동  \n",
       "1    3  대구광역시  달서구  감삼동  \n",
       "2    3  대구광역시  수성구  두산동  \n",
       "\n",
       "[3 rows x 26 columns]"
      ]
     },
     "execution_count": 16,
     "metadata": {},
     "output_type": "execute_result"
    },
    {
     "data": {
      "text/html": [
       "<div>\n",
       "<style scoped>\n",
       "    .dataframe tbody tr th:only-of-type {\n",
       "        vertical-align: middle;\n",
       "    }\n",
       "\n",
       "    .dataframe tbody tr th {\n",
       "        vertical-align: top;\n",
       "    }\n",
       "\n",
       "    .dataframe thead th {\n",
       "        text-align: right;\n",
       "    }\n",
       "</style>\n",
       "<table border=\"1\" class=\"dataframe\">\n",
       "  <thead>\n",
       "    <tr style=\"text-align: right;\">\n",
       "      <th></th>\n",
       "      <th>ID</th>\n",
       "      <th>사고일시</th>\n",
       "      <th>요일</th>\n",
       "      <th>기상상태</th>\n",
       "      <th>시군구</th>\n",
       "      <th>도로형태</th>\n",
       "      <th>노면상태</th>\n",
       "      <th>사고유형</th>\n",
       "      <th>시</th>\n",
       "      <th>군</th>\n",
       "      <th>구</th>\n",
       "    </tr>\n",
       "  </thead>\n",
       "  <tbody>\n",
       "    <tr>\n",
       "      <th>0</th>\n",
       "      <td>ACCIDENT_39609</td>\n",
       "      <td>2022-01-01 01</td>\n",
       "      <td>토요일</td>\n",
       "      <td>맑음</td>\n",
       "      <td>대구광역시 수성구 상동</td>\n",
       "      <td>교차로 - 교차로안</td>\n",
       "      <td>건조</td>\n",
       "      <td>차대사람</td>\n",
       "      <td>대구광역시</td>\n",
       "      <td>수성구</td>\n",
       "      <td>상동</td>\n",
       "    </tr>\n",
       "    <tr>\n",
       "      <th>1</th>\n",
       "      <td>ACCIDENT_39610</td>\n",
       "      <td>2022-01-01 01</td>\n",
       "      <td>토요일</td>\n",
       "      <td>맑음</td>\n",
       "      <td>대구광역시 수성구 지산동</td>\n",
       "      <td>단일로 - 기타</td>\n",
       "      <td>건조</td>\n",
       "      <td>차대사람</td>\n",
       "      <td>대구광역시</td>\n",
       "      <td>수성구</td>\n",
       "      <td>지산동</td>\n",
       "    </tr>\n",
       "    <tr>\n",
       "      <th>2</th>\n",
       "      <td>ACCIDENT_39611</td>\n",
       "      <td>2022-01-01 04</td>\n",
       "      <td>토요일</td>\n",
       "      <td>맑음</td>\n",
       "      <td>대구광역시 수성구 수성동2가</td>\n",
       "      <td>교차로 - 교차로안</td>\n",
       "      <td>건조</td>\n",
       "      <td>차대차</td>\n",
       "      <td>대구광역시</td>\n",
       "      <td>수성구</td>\n",
       "      <td>수성동2가</td>\n",
       "    </tr>\n",
       "  </tbody>\n",
       "</table>\n",
       "</div>"
      ],
      "text/plain": [
       "               ID           사고일시   요일 기상상태              시군구        도로형태 노면상태  \\\n",
       "0  ACCIDENT_39609  2022-01-01 01  토요일   맑음     대구광역시 수성구 상동  교차로 - 교차로안   건조   \n",
       "1  ACCIDENT_39610  2022-01-01 01  토요일   맑음    대구광역시 수성구 지산동    단일로 - 기타   건조   \n",
       "2  ACCIDENT_39611  2022-01-01 04  토요일   맑음  대구광역시 수성구 수성동2가  교차로 - 교차로안   건조   \n",
       "\n",
       "   사고유형      시    군      구  \n",
       "0  차대사람  대구광역시  수성구     상동  \n",
       "1  차대사람  대구광역시  수성구    지산동  \n",
       "2   차대차  대구광역시  수성구  수성동2가  "
      ]
     },
     "execution_count": 16,
     "metadata": {},
     "output_type": "execute_result"
    },
    {
     "data": {
      "text/html": [
       "<div>\n",
       "<style scoped>\n",
       "    .dataframe tbody tr th:only-of-type {\n",
       "        vertical-align: middle;\n",
       "    }\n",
       "\n",
       "    .dataframe tbody tr th {\n",
       "        vertical-align: top;\n",
       "    }\n",
       "\n",
       "    .dataframe thead th {\n",
       "        text-align: right;\n",
       "    }\n",
       "</style>\n",
       "<table border=\"1\" class=\"dataframe\">\n",
       "  <thead>\n",
       "    <tr style=\"text-align: right;\">\n",
       "      <th></th>\n",
       "      <th>ID</th>\n",
       "      <th>사고일시</th>\n",
       "      <th>요일</th>\n",
       "      <th>기상상태</th>\n",
       "      <th>시군구</th>\n",
       "      <th>도로형태</th>\n",
       "      <th>노면상태</th>\n",
       "      <th>사고유형</th>\n",
       "      <th>사고유형 - 세부분류</th>\n",
       "      <th>법규위반</th>\n",
       "      <th>...</th>\n",
       "      <th>피해운전자 연령</th>\n",
       "      <th>피해운전자 상해정도</th>\n",
       "      <th>사망자수</th>\n",
       "      <th>중상자수</th>\n",
       "      <th>경상자수</th>\n",
       "      <th>부상자수</th>\n",
       "      <th>ECLO</th>\n",
       "      <th>시</th>\n",
       "      <th>군</th>\n",
       "      <th>구</th>\n",
       "    </tr>\n",
       "  </thead>\n",
       "  <tbody>\n",
       "    <tr>\n",
       "      <th>0</th>\n",
       "      <td>COUNTRYWIDE_ACCIDENT_000000</td>\n",
       "      <td>2019-01-01 00</td>\n",
       "      <td>화요일</td>\n",
       "      <td>맑음</td>\n",
       "      <td>서울특별시 강서구 방화동</td>\n",
       "      <td>교차로 - 교차로횡단보도내</td>\n",
       "      <td>건조</td>\n",
       "      <td>차대사람</td>\n",
       "      <td>횡단중</td>\n",
       "      <td>보행자보호의무위반</td>\n",
       "      <td>...</td>\n",
       "      <td>40세</td>\n",
       "      <td>경상</td>\n",
       "      <td>0.0</td>\n",
       "      <td>0.0</td>\n",
       "      <td>1.0</td>\n",
       "      <td>0.0</td>\n",
       "      <td>3.0</td>\n",
       "      <td>서울특별시</td>\n",
       "      <td>강서구</td>\n",
       "      <td>방화동</td>\n",
       "    </tr>\n",
       "    <tr>\n",
       "      <th>1</th>\n",
       "      <td>COUNTRYWIDE_ACCIDENT_000001</td>\n",
       "      <td>2019-01-01 00</td>\n",
       "      <td>화요일</td>\n",
       "      <td>맑음</td>\n",
       "      <td>경기도 포천시 소흘읍</td>\n",
       "      <td>교차로 - 교차로안</td>\n",
       "      <td>건조</td>\n",
       "      <td>차대차</td>\n",
       "      <td>기타</td>\n",
       "      <td>직진우회전진행방해</td>\n",
       "      <td>...</td>\n",
       "      <td>20세</td>\n",
       "      <td>경상</td>\n",
       "      <td>0.0</td>\n",
       "      <td>0.0</td>\n",
       "      <td>1.0</td>\n",
       "      <td>0.0</td>\n",
       "      <td>3.0</td>\n",
       "      <td>경기도</td>\n",
       "      <td>포천시</td>\n",
       "      <td>소흘읍</td>\n",
       "    </tr>\n",
       "    <tr>\n",
       "      <th>2</th>\n",
       "      <td>COUNTRYWIDE_ACCIDENT_000002</td>\n",
       "      <td>2019-01-01 00</td>\n",
       "      <td>화요일</td>\n",
       "      <td>맑음</td>\n",
       "      <td>경기도 양주시 고암동</td>\n",
       "      <td>교차로 - 교차로안</td>\n",
       "      <td>건조</td>\n",
       "      <td>차대차</td>\n",
       "      <td>측면충돌</td>\n",
       "      <td>신호위반</td>\n",
       "      <td>...</td>\n",
       "      <td>17세</td>\n",
       "      <td>중상</td>\n",
       "      <td>0.0</td>\n",
       "      <td>1.0</td>\n",
       "      <td>0.0</td>\n",
       "      <td>0.0</td>\n",
       "      <td>5.0</td>\n",
       "      <td>경기도</td>\n",
       "      <td>양주시</td>\n",
       "      <td>고암동</td>\n",
       "    </tr>\n",
       "  </tbody>\n",
       "</table>\n",
       "<p>3 rows × 26 columns</p>\n",
       "</div>"
      ],
      "text/plain": [
       "                            ID           사고일시   요일 기상상태            시군구  \\\n",
       "0  COUNTRYWIDE_ACCIDENT_000000  2019-01-01 00  화요일   맑음  서울특별시 강서구 방화동   \n",
       "1  COUNTRYWIDE_ACCIDENT_000001  2019-01-01 00  화요일   맑음    경기도 포천시 소흘읍   \n",
       "2  COUNTRYWIDE_ACCIDENT_000002  2019-01-01 00  화요일   맑음    경기도 양주시 고암동   \n",
       "\n",
       "             도로형태 노면상태  사고유형 사고유형 - 세부분류       법규위반  ... 피해운전자 연령 피해운전자 상해정도  \\\n",
       "0  교차로 - 교차로횡단보도내   건조  차대사람         횡단중  보행자보호의무위반  ...      40세         경상   \n",
       "1      교차로 - 교차로안   건조   차대차          기타  직진우회전진행방해  ...      20세         경상   \n",
       "2      교차로 - 교차로안   건조   차대차        측면충돌       신호위반  ...      17세         중상   \n",
       "\n",
       "  사망자수 중상자수 경상자수 부상자수 ECLO      시    군    구  \n",
       "0  0.0  0.0  1.0  0.0  3.0  서울특별시  강서구  방화동  \n",
       "1  0.0  0.0  1.0  0.0  3.0    경기도  포천시  소흘읍  \n",
       "2  0.0  1.0  0.0  0.0  5.0    경기도  양주시  고암동  \n",
       "\n",
       "[3 rows x 26 columns]"
      ]
     },
     "execution_count": 16,
     "metadata": {},
     "output_type": "execute_result"
    }
   ],
   "source": [
    "train_df = si_gun_gu(train_df)\n",
    "test_df = si_gun_gu(test_df)\n",
    "accident_df = si_gun_gu(accident_df)\n",
    "\n",
    "train_df.head(3)\n",
    "test_df.head(3)\n",
    "accident_df.head(3)"
   ]
  },
  {
   "cell_type": "code",
   "execution_count": 17,
   "id": "cabf7dc6",
   "metadata": {},
   "outputs": [],
   "source": [
    "# 사고일시를 나누는 함수 \n",
    "\n",
    "def year_mon_day(df):\n",
    "    df['사고일시'] = pd.to_datetime(df['사고일시'])\n",
    "    df['연'] = df['사고일시'].dt.year\n",
    "    df['월'] = df['사고일시'].dt.month\n",
    "    df['일'] = df['사고일시'].dt.day\n",
    "    df['요일'] = df['사고일시'].dt.day_of_week # 0:월 ~ 6일요일\n",
    "    df['시간'] = df['사고일시'].dt.hour\n",
    "    return df"
   ]
  },
  {
   "cell_type": "code",
   "execution_count": 18,
   "id": "b8b32382",
   "metadata": {},
   "outputs": [
    {
     "data": {
      "text/html": [
       "<div>\n",
       "<style scoped>\n",
       "    .dataframe tbody tr th:only-of-type {\n",
       "        vertical-align: middle;\n",
       "    }\n",
       "\n",
       "    .dataframe tbody tr th {\n",
       "        vertical-align: top;\n",
       "    }\n",
       "\n",
       "    .dataframe thead th {\n",
       "        text-align: right;\n",
       "    }\n",
       "</style>\n",
       "<table border=\"1\" class=\"dataframe\">\n",
       "  <thead>\n",
       "    <tr style=\"text-align: right;\">\n",
       "      <th></th>\n",
       "      <th>ID</th>\n",
       "      <th>사고일시</th>\n",
       "      <th>요일</th>\n",
       "      <th>기상상태</th>\n",
       "      <th>시군구</th>\n",
       "      <th>도로형태</th>\n",
       "      <th>노면상태</th>\n",
       "      <th>사고유형</th>\n",
       "      <th>사고유형 - 세부분류</th>\n",
       "      <th>법규위반</th>\n",
       "      <th>...</th>\n",
       "      <th>경상자수</th>\n",
       "      <th>부상자수</th>\n",
       "      <th>ECLO</th>\n",
       "      <th>시</th>\n",
       "      <th>군</th>\n",
       "      <th>구</th>\n",
       "      <th>연</th>\n",
       "      <th>월</th>\n",
       "      <th>일</th>\n",
       "      <th>시간</th>\n",
       "    </tr>\n",
       "  </thead>\n",
       "  <tbody>\n",
       "    <tr>\n",
       "      <th>0</th>\n",
       "      <td>ACCIDENT_00000</td>\n",
       "      <td>2019-01-01 00:00:00</td>\n",
       "      <td>1</td>\n",
       "      <td>맑음</td>\n",
       "      <td>대구광역시 중구 대신동</td>\n",
       "      <td>단일로 - 기타</td>\n",
       "      <td>건조</td>\n",
       "      <td>차대사람</td>\n",
       "      <td>길가장자리구역통행중</td>\n",
       "      <td>안전운전불이행</td>\n",
       "      <td>...</td>\n",
       "      <td>0</td>\n",
       "      <td>0</td>\n",
       "      <td>5</td>\n",
       "      <td>대구광역시</td>\n",
       "      <td>중구</td>\n",
       "      <td>대신동</td>\n",
       "      <td>2019</td>\n",
       "      <td>1</td>\n",
       "      <td>1</td>\n",
       "      <td>0</td>\n",
       "    </tr>\n",
       "    <tr>\n",
       "      <th>1</th>\n",
       "      <td>ACCIDENT_00001</td>\n",
       "      <td>2019-01-01 00:00:00</td>\n",
       "      <td>1</td>\n",
       "      <td>흐림</td>\n",
       "      <td>대구광역시 달서구 감삼동</td>\n",
       "      <td>단일로 - 기타</td>\n",
       "      <td>건조</td>\n",
       "      <td>차대사람</td>\n",
       "      <td>보도통행중</td>\n",
       "      <td>기타</td>\n",
       "      <td>...</td>\n",
       "      <td>1</td>\n",
       "      <td>0</td>\n",
       "      <td>3</td>\n",
       "      <td>대구광역시</td>\n",
       "      <td>달서구</td>\n",
       "      <td>감삼동</td>\n",
       "      <td>2019</td>\n",
       "      <td>1</td>\n",
       "      <td>1</td>\n",
       "      <td>0</td>\n",
       "    </tr>\n",
       "    <tr>\n",
       "      <th>2</th>\n",
       "      <td>ACCIDENT_00002</td>\n",
       "      <td>2019-01-01 01:00:00</td>\n",
       "      <td>1</td>\n",
       "      <td>맑음</td>\n",
       "      <td>대구광역시 수성구 두산동</td>\n",
       "      <td>단일로 - 기타</td>\n",
       "      <td>건조</td>\n",
       "      <td>차대사람</td>\n",
       "      <td>차도통행중</td>\n",
       "      <td>안전운전불이행</td>\n",
       "      <td>...</td>\n",
       "      <td>1</td>\n",
       "      <td>0</td>\n",
       "      <td>3</td>\n",
       "      <td>대구광역시</td>\n",
       "      <td>수성구</td>\n",
       "      <td>두산동</td>\n",
       "      <td>2019</td>\n",
       "      <td>1</td>\n",
       "      <td>1</td>\n",
       "      <td>1</td>\n",
       "    </tr>\n",
       "  </tbody>\n",
       "</table>\n",
       "<p>3 rows × 30 columns</p>\n",
       "</div>"
      ],
      "text/plain": [
       "               ID                사고일시  요일 기상상태            시군구      도로형태 노면상태  \\\n",
       "0  ACCIDENT_00000 2019-01-01 00:00:00   1   맑음   대구광역시 중구 대신동  단일로 - 기타   건조   \n",
       "1  ACCIDENT_00001 2019-01-01 00:00:00   1   흐림  대구광역시 달서구 감삼동  단일로 - 기타   건조   \n",
       "2  ACCIDENT_00002 2019-01-01 01:00:00   1   맑음  대구광역시 수성구 두산동  단일로 - 기타   건조   \n",
       "\n",
       "   사고유형 사고유형 - 세부분류     법규위반  ... 경상자수 부상자수 ECLO      시    군    구     연  월  일  \\\n",
       "0  차대사람  길가장자리구역통행중  안전운전불이행  ...    0    0    5  대구광역시   중구  대신동  2019  1  1   \n",
       "1  차대사람       보도통행중       기타  ...    1    0    3  대구광역시  달서구  감삼동  2019  1  1   \n",
       "2  차대사람       차도통행중  안전운전불이행  ...    1    0    3  대구광역시  수성구  두산동  2019  1  1   \n",
       "\n",
       "   시간  \n",
       "0   0  \n",
       "1   0  \n",
       "2   1  \n",
       "\n",
       "[3 rows x 30 columns]"
      ]
     },
     "execution_count": 18,
     "metadata": {},
     "output_type": "execute_result"
    },
    {
     "data": {
      "text/html": [
       "<div>\n",
       "<style scoped>\n",
       "    .dataframe tbody tr th:only-of-type {\n",
       "        vertical-align: middle;\n",
       "    }\n",
       "\n",
       "    .dataframe tbody tr th {\n",
       "        vertical-align: top;\n",
       "    }\n",
       "\n",
       "    .dataframe thead th {\n",
       "        text-align: right;\n",
       "    }\n",
       "</style>\n",
       "<table border=\"1\" class=\"dataframe\">\n",
       "  <thead>\n",
       "    <tr style=\"text-align: right;\">\n",
       "      <th></th>\n",
       "      <th>ID</th>\n",
       "      <th>사고일시</th>\n",
       "      <th>요일</th>\n",
       "      <th>기상상태</th>\n",
       "      <th>시군구</th>\n",
       "      <th>도로형태</th>\n",
       "      <th>노면상태</th>\n",
       "      <th>사고유형</th>\n",
       "      <th>시</th>\n",
       "      <th>군</th>\n",
       "      <th>구</th>\n",
       "      <th>연</th>\n",
       "      <th>월</th>\n",
       "      <th>일</th>\n",
       "      <th>시간</th>\n",
       "    </tr>\n",
       "  </thead>\n",
       "  <tbody>\n",
       "    <tr>\n",
       "      <th>0</th>\n",
       "      <td>ACCIDENT_39609</td>\n",
       "      <td>2022-01-01 01:00:00</td>\n",
       "      <td>5</td>\n",
       "      <td>맑음</td>\n",
       "      <td>대구광역시 수성구 상동</td>\n",
       "      <td>교차로 - 교차로안</td>\n",
       "      <td>건조</td>\n",
       "      <td>차대사람</td>\n",
       "      <td>대구광역시</td>\n",
       "      <td>수성구</td>\n",
       "      <td>상동</td>\n",
       "      <td>2022</td>\n",
       "      <td>1</td>\n",
       "      <td>1</td>\n",
       "      <td>1</td>\n",
       "    </tr>\n",
       "    <tr>\n",
       "      <th>1</th>\n",
       "      <td>ACCIDENT_39610</td>\n",
       "      <td>2022-01-01 01:00:00</td>\n",
       "      <td>5</td>\n",
       "      <td>맑음</td>\n",
       "      <td>대구광역시 수성구 지산동</td>\n",
       "      <td>단일로 - 기타</td>\n",
       "      <td>건조</td>\n",
       "      <td>차대사람</td>\n",
       "      <td>대구광역시</td>\n",
       "      <td>수성구</td>\n",
       "      <td>지산동</td>\n",
       "      <td>2022</td>\n",
       "      <td>1</td>\n",
       "      <td>1</td>\n",
       "      <td>1</td>\n",
       "    </tr>\n",
       "    <tr>\n",
       "      <th>2</th>\n",
       "      <td>ACCIDENT_39611</td>\n",
       "      <td>2022-01-01 04:00:00</td>\n",
       "      <td>5</td>\n",
       "      <td>맑음</td>\n",
       "      <td>대구광역시 수성구 수성동2가</td>\n",
       "      <td>교차로 - 교차로안</td>\n",
       "      <td>건조</td>\n",
       "      <td>차대차</td>\n",
       "      <td>대구광역시</td>\n",
       "      <td>수성구</td>\n",
       "      <td>수성동2가</td>\n",
       "      <td>2022</td>\n",
       "      <td>1</td>\n",
       "      <td>1</td>\n",
       "      <td>4</td>\n",
       "    </tr>\n",
       "  </tbody>\n",
       "</table>\n",
       "</div>"
      ],
      "text/plain": [
       "               ID                사고일시  요일 기상상태              시군구        도로형태  \\\n",
       "0  ACCIDENT_39609 2022-01-01 01:00:00   5   맑음     대구광역시 수성구 상동  교차로 - 교차로안   \n",
       "1  ACCIDENT_39610 2022-01-01 01:00:00   5   맑음    대구광역시 수성구 지산동    단일로 - 기타   \n",
       "2  ACCIDENT_39611 2022-01-01 04:00:00   5   맑음  대구광역시 수성구 수성동2가  교차로 - 교차로안   \n",
       "\n",
       "  노면상태  사고유형      시    군      구     연  월  일  시간  \n",
       "0   건조  차대사람  대구광역시  수성구     상동  2022  1  1   1  \n",
       "1   건조  차대사람  대구광역시  수성구    지산동  2022  1  1   1  \n",
       "2   건조   차대차  대구광역시  수성구  수성동2가  2022  1  1   4  "
      ]
     },
     "execution_count": 18,
     "metadata": {},
     "output_type": "execute_result"
    },
    {
     "data": {
      "text/html": [
       "<div>\n",
       "<style scoped>\n",
       "    .dataframe tbody tr th:only-of-type {\n",
       "        vertical-align: middle;\n",
       "    }\n",
       "\n",
       "    .dataframe tbody tr th {\n",
       "        vertical-align: top;\n",
       "    }\n",
       "\n",
       "    .dataframe thead th {\n",
       "        text-align: right;\n",
       "    }\n",
       "</style>\n",
       "<table border=\"1\" class=\"dataframe\">\n",
       "  <thead>\n",
       "    <tr style=\"text-align: right;\">\n",
       "      <th></th>\n",
       "      <th>ID</th>\n",
       "      <th>사고일시</th>\n",
       "      <th>요일</th>\n",
       "      <th>기상상태</th>\n",
       "      <th>시군구</th>\n",
       "      <th>도로형태</th>\n",
       "      <th>노면상태</th>\n",
       "      <th>사고유형</th>\n",
       "      <th>사고유형 - 세부분류</th>\n",
       "      <th>법규위반</th>\n",
       "      <th>...</th>\n",
       "      <th>경상자수</th>\n",
       "      <th>부상자수</th>\n",
       "      <th>ECLO</th>\n",
       "      <th>시</th>\n",
       "      <th>군</th>\n",
       "      <th>구</th>\n",
       "      <th>연</th>\n",
       "      <th>월</th>\n",
       "      <th>일</th>\n",
       "      <th>시간</th>\n",
       "    </tr>\n",
       "  </thead>\n",
       "  <tbody>\n",
       "    <tr>\n",
       "      <th>0</th>\n",
       "      <td>COUNTRYWIDE_ACCIDENT_000000</td>\n",
       "      <td>2019-01-01</td>\n",
       "      <td>1.0</td>\n",
       "      <td>맑음</td>\n",
       "      <td>서울특별시 강서구 방화동</td>\n",
       "      <td>교차로 - 교차로횡단보도내</td>\n",
       "      <td>건조</td>\n",
       "      <td>차대사람</td>\n",
       "      <td>횡단중</td>\n",
       "      <td>보행자보호의무위반</td>\n",
       "      <td>...</td>\n",
       "      <td>1.0</td>\n",
       "      <td>0.0</td>\n",
       "      <td>3.0</td>\n",
       "      <td>서울특별시</td>\n",
       "      <td>강서구</td>\n",
       "      <td>방화동</td>\n",
       "      <td>2019.0</td>\n",
       "      <td>1.0</td>\n",
       "      <td>1.0</td>\n",
       "      <td>0.0</td>\n",
       "    </tr>\n",
       "    <tr>\n",
       "      <th>1</th>\n",
       "      <td>COUNTRYWIDE_ACCIDENT_000001</td>\n",
       "      <td>2019-01-01</td>\n",
       "      <td>1.0</td>\n",
       "      <td>맑음</td>\n",
       "      <td>경기도 포천시 소흘읍</td>\n",
       "      <td>교차로 - 교차로안</td>\n",
       "      <td>건조</td>\n",
       "      <td>차대차</td>\n",
       "      <td>기타</td>\n",
       "      <td>직진우회전진행방해</td>\n",
       "      <td>...</td>\n",
       "      <td>1.0</td>\n",
       "      <td>0.0</td>\n",
       "      <td>3.0</td>\n",
       "      <td>경기도</td>\n",
       "      <td>포천시</td>\n",
       "      <td>소흘읍</td>\n",
       "      <td>2019.0</td>\n",
       "      <td>1.0</td>\n",
       "      <td>1.0</td>\n",
       "      <td>0.0</td>\n",
       "    </tr>\n",
       "    <tr>\n",
       "      <th>2</th>\n",
       "      <td>COUNTRYWIDE_ACCIDENT_000002</td>\n",
       "      <td>2019-01-01</td>\n",
       "      <td>1.0</td>\n",
       "      <td>맑음</td>\n",
       "      <td>경기도 양주시 고암동</td>\n",
       "      <td>교차로 - 교차로안</td>\n",
       "      <td>건조</td>\n",
       "      <td>차대차</td>\n",
       "      <td>측면충돌</td>\n",
       "      <td>신호위반</td>\n",
       "      <td>...</td>\n",
       "      <td>0.0</td>\n",
       "      <td>0.0</td>\n",
       "      <td>5.0</td>\n",
       "      <td>경기도</td>\n",
       "      <td>양주시</td>\n",
       "      <td>고암동</td>\n",
       "      <td>2019.0</td>\n",
       "      <td>1.0</td>\n",
       "      <td>1.0</td>\n",
       "      <td>0.0</td>\n",
       "    </tr>\n",
       "  </tbody>\n",
       "</table>\n",
       "<p>3 rows × 30 columns</p>\n",
       "</div>"
      ],
      "text/plain": [
       "                            ID       사고일시   요일 기상상태            시군구  \\\n",
       "0  COUNTRYWIDE_ACCIDENT_000000 2019-01-01  1.0   맑음  서울특별시 강서구 방화동   \n",
       "1  COUNTRYWIDE_ACCIDENT_000001 2019-01-01  1.0   맑음    경기도 포천시 소흘읍   \n",
       "2  COUNTRYWIDE_ACCIDENT_000002 2019-01-01  1.0   맑음    경기도 양주시 고암동   \n",
       "\n",
       "             도로형태 노면상태  사고유형 사고유형 - 세부분류       법규위반  ... 경상자수 부상자수 ECLO  \\\n",
       "0  교차로 - 교차로횡단보도내   건조  차대사람         횡단중  보행자보호의무위반  ...  1.0  0.0  3.0   \n",
       "1      교차로 - 교차로안   건조   차대차          기타  직진우회전진행방해  ...  1.0  0.0  3.0   \n",
       "2      교차로 - 교차로안   건조   차대차        측면충돌       신호위반  ...  0.0  0.0  5.0   \n",
       "\n",
       "       시    군    구       연    월    일   시간  \n",
       "0  서울특별시  강서구  방화동  2019.0  1.0  1.0  0.0  \n",
       "1    경기도  포천시  소흘읍  2019.0  1.0  1.0  0.0  \n",
       "2    경기도  양주시  고암동  2019.0  1.0  1.0  0.0  \n",
       "\n",
       "[3 rows x 30 columns]"
      ]
     },
     "execution_count": 18,
     "metadata": {},
     "output_type": "execute_result"
    }
   ],
   "source": [
    "train_df = year_mon_day(train_df)\n",
    "test_df = year_mon_day(test_df)\n",
    "accident_df = year_mon_day(accident_df)\n",
    "\n",
    "train_df.head(3)\n",
    "test_df.head(3)\n",
    "accident_df.head(3)"
   ]
  },
  {
   "cell_type": "code",
   "execution_count": 19,
   "id": "f6d380e9",
   "metadata": {},
   "outputs": [],
   "source": [
    "# 도로형태를 '-'를 기준으로 분리하는 함수 구현\n",
    "def road(df):\n",
    "    lst = df['도로형태'].str.split(' - ')\n",
    "    df['도로형태 - 대분류'] = lst.str[0]\n",
    "    df['도로형태 - 소분류'] = lst.str[1]\n",
    "    return df"
   ]
  },
  {
   "cell_type": "code",
   "execution_count": 20,
   "id": "cd275ca6",
   "metadata": {},
   "outputs": [
    {
     "data": {
      "text/html": [
       "<div>\n",
       "<style scoped>\n",
       "    .dataframe tbody tr th:only-of-type {\n",
       "        vertical-align: middle;\n",
       "    }\n",
       "\n",
       "    .dataframe tbody tr th {\n",
       "        vertical-align: top;\n",
       "    }\n",
       "\n",
       "    .dataframe thead th {\n",
       "        text-align: right;\n",
       "    }\n",
       "</style>\n",
       "<table border=\"1\" class=\"dataframe\">\n",
       "  <thead>\n",
       "    <tr style=\"text-align: right;\">\n",
       "      <th></th>\n",
       "      <th>ID</th>\n",
       "      <th>사고일시</th>\n",
       "      <th>요일</th>\n",
       "      <th>기상상태</th>\n",
       "      <th>시군구</th>\n",
       "      <th>도로형태</th>\n",
       "      <th>노면상태</th>\n",
       "      <th>사고유형</th>\n",
       "      <th>사고유형 - 세부분류</th>\n",
       "      <th>법규위반</th>\n",
       "      <th>...</th>\n",
       "      <th>ECLO</th>\n",
       "      <th>시</th>\n",
       "      <th>군</th>\n",
       "      <th>구</th>\n",
       "      <th>연</th>\n",
       "      <th>월</th>\n",
       "      <th>일</th>\n",
       "      <th>시간</th>\n",
       "      <th>도로형태 - 대분류</th>\n",
       "      <th>도로형태 - 소분류</th>\n",
       "    </tr>\n",
       "  </thead>\n",
       "  <tbody>\n",
       "    <tr>\n",
       "      <th>0</th>\n",
       "      <td>ACCIDENT_00000</td>\n",
       "      <td>2019-01-01</td>\n",
       "      <td>1</td>\n",
       "      <td>맑음</td>\n",
       "      <td>대구광역시 중구 대신동</td>\n",
       "      <td>단일로 - 기타</td>\n",
       "      <td>건조</td>\n",
       "      <td>차대사람</td>\n",
       "      <td>길가장자리구역통행중</td>\n",
       "      <td>안전운전불이행</td>\n",
       "      <td>...</td>\n",
       "      <td>5</td>\n",
       "      <td>대구광역시</td>\n",
       "      <td>중구</td>\n",
       "      <td>대신동</td>\n",
       "      <td>2019</td>\n",
       "      <td>1</td>\n",
       "      <td>1</td>\n",
       "      <td>0</td>\n",
       "      <td>단일로</td>\n",
       "      <td>기타</td>\n",
       "    </tr>\n",
       "    <tr>\n",
       "      <th>1</th>\n",
       "      <td>ACCIDENT_00001</td>\n",
       "      <td>2019-01-01</td>\n",
       "      <td>1</td>\n",
       "      <td>흐림</td>\n",
       "      <td>대구광역시 달서구 감삼동</td>\n",
       "      <td>단일로 - 기타</td>\n",
       "      <td>건조</td>\n",
       "      <td>차대사람</td>\n",
       "      <td>보도통행중</td>\n",
       "      <td>기타</td>\n",
       "      <td>...</td>\n",
       "      <td>3</td>\n",
       "      <td>대구광역시</td>\n",
       "      <td>달서구</td>\n",
       "      <td>감삼동</td>\n",
       "      <td>2019</td>\n",
       "      <td>1</td>\n",
       "      <td>1</td>\n",
       "      <td>0</td>\n",
       "      <td>단일로</td>\n",
       "      <td>기타</td>\n",
       "    </tr>\n",
       "  </tbody>\n",
       "</table>\n",
       "<p>2 rows × 32 columns</p>\n",
       "</div>"
      ],
      "text/plain": [
       "               ID       사고일시  요일 기상상태            시군구      도로형태 노면상태  사고유형  \\\n",
       "0  ACCIDENT_00000 2019-01-01   1   맑음   대구광역시 중구 대신동  단일로 - 기타   건조  차대사람   \n",
       "1  ACCIDENT_00001 2019-01-01   1   흐림  대구광역시 달서구 감삼동  단일로 - 기타   건조  차대사람   \n",
       "\n",
       "  사고유형 - 세부분류     법규위반  ... ECLO      시    군    구     연  월  일 시간  도로형태 - 대분류  \\\n",
       "0  길가장자리구역통행중  안전운전불이행  ...    5  대구광역시   중구  대신동  2019  1  1  0         단일로   \n",
       "1       보도통행중       기타  ...    3  대구광역시  달서구  감삼동  2019  1  1  0         단일로   \n",
       "\n",
       "   도로형태 - 소분류  \n",
       "0          기타  \n",
       "1          기타  \n",
       "\n",
       "[2 rows x 32 columns]"
      ]
     },
     "execution_count": 20,
     "metadata": {},
     "output_type": "execute_result"
    },
    {
     "data": {
      "text/html": [
       "<div>\n",
       "<style scoped>\n",
       "    .dataframe tbody tr th:only-of-type {\n",
       "        vertical-align: middle;\n",
       "    }\n",
       "\n",
       "    .dataframe tbody tr th {\n",
       "        vertical-align: top;\n",
       "    }\n",
       "\n",
       "    .dataframe thead th {\n",
       "        text-align: right;\n",
       "    }\n",
       "</style>\n",
       "<table border=\"1\" class=\"dataframe\">\n",
       "  <thead>\n",
       "    <tr style=\"text-align: right;\">\n",
       "      <th></th>\n",
       "      <th>ID</th>\n",
       "      <th>사고일시</th>\n",
       "      <th>요일</th>\n",
       "      <th>기상상태</th>\n",
       "      <th>시군구</th>\n",
       "      <th>도로형태</th>\n",
       "      <th>노면상태</th>\n",
       "      <th>사고유형</th>\n",
       "      <th>시</th>\n",
       "      <th>군</th>\n",
       "      <th>구</th>\n",
       "      <th>연</th>\n",
       "      <th>월</th>\n",
       "      <th>일</th>\n",
       "      <th>시간</th>\n",
       "      <th>도로형태 - 대분류</th>\n",
       "      <th>도로형태 - 소분류</th>\n",
       "    </tr>\n",
       "  </thead>\n",
       "  <tbody>\n",
       "    <tr>\n",
       "      <th>0</th>\n",
       "      <td>ACCIDENT_39609</td>\n",
       "      <td>2022-01-01 01:00:00</td>\n",
       "      <td>5</td>\n",
       "      <td>맑음</td>\n",
       "      <td>대구광역시 수성구 상동</td>\n",
       "      <td>교차로 - 교차로안</td>\n",
       "      <td>건조</td>\n",
       "      <td>차대사람</td>\n",
       "      <td>대구광역시</td>\n",
       "      <td>수성구</td>\n",
       "      <td>상동</td>\n",
       "      <td>2022</td>\n",
       "      <td>1</td>\n",
       "      <td>1</td>\n",
       "      <td>1</td>\n",
       "      <td>교차로</td>\n",
       "      <td>교차로안</td>\n",
       "    </tr>\n",
       "    <tr>\n",
       "      <th>1</th>\n",
       "      <td>ACCIDENT_39610</td>\n",
       "      <td>2022-01-01 01:00:00</td>\n",
       "      <td>5</td>\n",
       "      <td>맑음</td>\n",
       "      <td>대구광역시 수성구 지산동</td>\n",
       "      <td>단일로 - 기타</td>\n",
       "      <td>건조</td>\n",
       "      <td>차대사람</td>\n",
       "      <td>대구광역시</td>\n",
       "      <td>수성구</td>\n",
       "      <td>지산동</td>\n",
       "      <td>2022</td>\n",
       "      <td>1</td>\n",
       "      <td>1</td>\n",
       "      <td>1</td>\n",
       "      <td>단일로</td>\n",
       "      <td>기타</td>\n",
       "    </tr>\n",
       "  </tbody>\n",
       "</table>\n",
       "</div>"
      ],
      "text/plain": [
       "               ID                사고일시  요일 기상상태            시군구        도로형태  \\\n",
       "0  ACCIDENT_39609 2022-01-01 01:00:00   5   맑음   대구광역시 수성구 상동  교차로 - 교차로안   \n",
       "1  ACCIDENT_39610 2022-01-01 01:00:00   5   맑음  대구광역시 수성구 지산동    단일로 - 기타   \n",
       "\n",
       "  노면상태  사고유형      시    군    구     연  월  일  시간 도로형태 - 대분류 도로형태 - 소분류  \n",
       "0   건조  차대사람  대구광역시  수성구   상동  2022  1  1   1        교차로       교차로안  \n",
       "1   건조  차대사람  대구광역시  수성구  지산동  2022  1  1   1        단일로         기타  "
      ]
     },
     "execution_count": 20,
     "metadata": {},
     "output_type": "execute_result"
    },
    {
     "data": {
      "text/html": [
       "<div>\n",
       "<style scoped>\n",
       "    .dataframe tbody tr th:only-of-type {\n",
       "        vertical-align: middle;\n",
       "    }\n",
       "\n",
       "    .dataframe tbody tr th {\n",
       "        vertical-align: top;\n",
       "    }\n",
       "\n",
       "    .dataframe thead th {\n",
       "        text-align: right;\n",
       "    }\n",
       "</style>\n",
       "<table border=\"1\" class=\"dataframe\">\n",
       "  <thead>\n",
       "    <tr style=\"text-align: right;\">\n",
       "      <th></th>\n",
       "      <th>ID</th>\n",
       "      <th>사고일시</th>\n",
       "      <th>요일</th>\n",
       "      <th>기상상태</th>\n",
       "      <th>시군구</th>\n",
       "      <th>도로형태</th>\n",
       "      <th>노면상태</th>\n",
       "      <th>사고유형</th>\n",
       "      <th>사고유형 - 세부분류</th>\n",
       "      <th>법규위반</th>\n",
       "      <th>...</th>\n",
       "      <th>ECLO</th>\n",
       "      <th>시</th>\n",
       "      <th>군</th>\n",
       "      <th>구</th>\n",
       "      <th>연</th>\n",
       "      <th>월</th>\n",
       "      <th>일</th>\n",
       "      <th>시간</th>\n",
       "      <th>도로형태 - 대분류</th>\n",
       "      <th>도로형태 - 소분류</th>\n",
       "    </tr>\n",
       "  </thead>\n",
       "  <tbody>\n",
       "    <tr>\n",
       "      <th>0</th>\n",
       "      <td>COUNTRYWIDE_ACCIDENT_000000</td>\n",
       "      <td>2019-01-01</td>\n",
       "      <td>1.0</td>\n",
       "      <td>맑음</td>\n",
       "      <td>서울특별시 강서구 방화동</td>\n",
       "      <td>교차로 - 교차로횡단보도내</td>\n",
       "      <td>건조</td>\n",
       "      <td>차대사람</td>\n",
       "      <td>횡단중</td>\n",
       "      <td>보행자보호의무위반</td>\n",
       "      <td>...</td>\n",
       "      <td>3.0</td>\n",
       "      <td>서울특별시</td>\n",
       "      <td>강서구</td>\n",
       "      <td>방화동</td>\n",
       "      <td>2019.0</td>\n",
       "      <td>1.0</td>\n",
       "      <td>1.0</td>\n",
       "      <td>0.0</td>\n",
       "      <td>교차로</td>\n",
       "      <td>교차로횡단보도내</td>\n",
       "    </tr>\n",
       "    <tr>\n",
       "      <th>1</th>\n",
       "      <td>COUNTRYWIDE_ACCIDENT_000001</td>\n",
       "      <td>2019-01-01</td>\n",
       "      <td>1.0</td>\n",
       "      <td>맑음</td>\n",
       "      <td>경기도 포천시 소흘읍</td>\n",
       "      <td>교차로 - 교차로안</td>\n",
       "      <td>건조</td>\n",
       "      <td>차대차</td>\n",
       "      <td>기타</td>\n",
       "      <td>직진우회전진행방해</td>\n",
       "      <td>...</td>\n",
       "      <td>3.0</td>\n",
       "      <td>경기도</td>\n",
       "      <td>포천시</td>\n",
       "      <td>소흘읍</td>\n",
       "      <td>2019.0</td>\n",
       "      <td>1.0</td>\n",
       "      <td>1.0</td>\n",
       "      <td>0.0</td>\n",
       "      <td>교차로</td>\n",
       "      <td>교차로안</td>\n",
       "    </tr>\n",
       "  </tbody>\n",
       "</table>\n",
       "<p>2 rows × 32 columns</p>\n",
       "</div>"
      ],
      "text/plain": [
       "                            ID       사고일시   요일 기상상태            시군구  \\\n",
       "0  COUNTRYWIDE_ACCIDENT_000000 2019-01-01  1.0   맑음  서울특별시 강서구 방화동   \n",
       "1  COUNTRYWIDE_ACCIDENT_000001 2019-01-01  1.0   맑음    경기도 포천시 소흘읍   \n",
       "\n",
       "             도로형태 노면상태  사고유형 사고유형 - 세부분류       법규위반  ... ECLO      시    군  \\\n",
       "0  교차로 - 교차로횡단보도내   건조  차대사람         횡단중  보행자보호의무위반  ...  3.0  서울특별시  강서구   \n",
       "1      교차로 - 교차로안   건조   차대차          기타  직진우회전진행방해  ...  3.0    경기도  포천시   \n",
       "\n",
       "     구       연    월    일   시간  도로형태 - 대분류  도로형태 - 소분류  \n",
       "0  방화동  2019.0  1.0  1.0  0.0         교차로    교차로횡단보도내  \n",
       "1  소흘읍  2019.0  1.0  1.0  0.0         교차로        교차로안  \n",
       "\n",
       "[2 rows x 32 columns]"
      ]
     },
     "execution_count": 20,
     "metadata": {},
     "output_type": "execute_result"
    }
   ],
   "source": [
    "train_df = road(train_df)\n",
    "test_df = road(test_df)\n",
    "accident_df = road(accident_df)\n",
    "\n",
    "train_df.head(2)\n",
    "test_df.head(2)\n",
    "accident_df.head(2)"
   ]
  },
  {
   "cell_type": "code",
   "execution_count": 22,
   "id": "cb57b6fe",
   "metadata": {},
   "outputs": [],
   "source": [
    "# 사고 유형 분리하기\n",
    "# 사고 유형은 차대차, 차대 사람, 차량단독\n",
    "def car_people(df):\n",
    "    pattern = r'(\\S)(\\S)(\\S+)'\n",
    "    df[['사고유형1', '대', '사고유형2']] = df['사고유형'].str.extract(pattern)\n",
    "\n",
    "    return df"
   ]
  },
  {
   "cell_type": "code",
   "execution_count": 23,
   "id": "ba208d18",
   "metadata": {},
   "outputs": [],
   "source": [
    "train_df = car_people(train_df)\n",
    "test_df = car_people(test_df)\n",
    "accident_df = car_people(accident_df)"
   ]
  },
  {
   "cell_type": "code",
   "execution_count": 24,
   "id": "df939145",
   "metadata": {},
   "outputs": [],
   "source": [
    "# 필요없는 col 제거\n",
    "train_df = train_df.drop(['사고일시', '시군구', '도로형태', '사고유형', '대'], axis = 1)\n",
    "test_df = test_df.drop(['사고일시', '시군구', '도로형태', '사고유형', '대'], axis = 1)\n",
    "accident_df = accident_df.drop(['사고일시', '시군구', '도로형태', '사고유형', '대'], axis = 1)"
   ]
  },
  {
   "cell_type": "code",
   "execution_count": 25,
   "id": "189ed046",
   "metadata": {},
   "outputs": [
    {
     "data": {
      "text/html": [
       "<div>\n",
       "<style scoped>\n",
       "    .dataframe tbody tr th:only-of-type {\n",
       "        vertical-align: middle;\n",
       "    }\n",
       "\n",
       "    .dataframe tbody tr th {\n",
       "        vertical-align: top;\n",
       "    }\n",
       "\n",
       "    .dataframe thead th {\n",
       "        text-align: right;\n",
       "    }\n",
       "</style>\n",
       "<table border=\"1\" class=\"dataframe\">\n",
       "  <thead>\n",
       "    <tr style=\"text-align: right;\">\n",
       "      <th></th>\n",
       "      <th>ID</th>\n",
       "      <th>요일</th>\n",
       "      <th>기상상태</th>\n",
       "      <th>노면상태</th>\n",
       "      <th>사고유형 - 세부분류</th>\n",
       "      <th>법규위반</th>\n",
       "      <th>가해운전자 차종</th>\n",
       "      <th>가해운전자 성별</th>\n",
       "      <th>가해운전자 연령</th>\n",
       "      <th>가해운전자 상해정도</th>\n",
       "      <th>...</th>\n",
       "      <th>군</th>\n",
       "      <th>구</th>\n",
       "      <th>연</th>\n",
       "      <th>월</th>\n",
       "      <th>일</th>\n",
       "      <th>시간</th>\n",
       "      <th>도로형태 - 대분류</th>\n",
       "      <th>도로형태 - 소분류</th>\n",
       "      <th>사고유형1</th>\n",
       "      <th>사고유형2</th>\n",
       "    </tr>\n",
       "  </thead>\n",
       "  <tbody>\n",
       "    <tr>\n",
       "      <th>0</th>\n",
       "      <td>ACCIDENT_00000</td>\n",
       "      <td>1</td>\n",
       "      <td>맑음</td>\n",
       "      <td>건조</td>\n",
       "      <td>길가장자리구역통행중</td>\n",
       "      <td>안전운전불이행</td>\n",
       "      <td>승용</td>\n",
       "      <td>여</td>\n",
       "      <td>51세</td>\n",
       "      <td>상해없음</td>\n",
       "      <td>...</td>\n",
       "      <td>중구</td>\n",
       "      <td>대신동</td>\n",
       "      <td>2019</td>\n",
       "      <td>1</td>\n",
       "      <td>1</td>\n",
       "      <td>0</td>\n",
       "      <td>단일로</td>\n",
       "      <td>기타</td>\n",
       "      <td>차</td>\n",
       "      <td>사람</td>\n",
       "    </tr>\n",
       "  </tbody>\n",
       "</table>\n",
       "<p>1 rows × 30 columns</p>\n",
       "</div>"
      ],
      "text/plain": [
       "               ID  요일 기상상태 노면상태 사고유형 - 세부분류     법규위반 가해운전자 차종 가해운전자 성별  \\\n",
       "0  ACCIDENT_00000   1   맑음   건조  길가장자리구역통행중  안전운전불이행       승용        여   \n",
       "\n",
       "  가해운전자 연령 가해운전자 상해정도  ...   군    구     연  월  일  시간  도로형태 - 대분류  도로형태 - 소분류  \\\n",
       "0      51세       상해없음  ...  중구  대신동  2019  1  1   0         단일로          기타   \n",
       "\n",
       "   사고유형1 사고유형2  \n",
       "0      차    사람  \n",
       "\n",
       "[1 rows x 30 columns]"
      ]
     },
     "execution_count": 25,
     "metadata": {},
     "output_type": "execute_result"
    },
    {
     "data": {
      "text/html": [
       "<div>\n",
       "<style scoped>\n",
       "    .dataframe tbody tr th:only-of-type {\n",
       "        vertical-align: middle;\n",
       "    }\n",
       "\n",
       "    .dataframe tbody tr th {\n",
       "        vertical-align: top;\n",
       "    }\n",
       "\n",
       "    .dataframe thead th {\n",
       "        text-align: right;\n",
       "    }\n",
       "</style>\n",
       "<table border=\"1\" class=\"dataframe\">\n",
       "  <thead>\n",
       "    <tr style=\"text-align: right;\">\n",
       "      <th></th>\n",
       "      <th>ID</th>\n",
       "      <th>요일</th>\n",
       "      <th>기상상태</th>\n",
       "      <th>노면상태</th>\n",
       "      <th>시</th>\n",
       "      <th>군</th>\n",
       "      <th>구</th>\n",
       "      <th>연</th>\n",
       "      <th>월</th>\n",
       "      <th>일</th>\n",
       "      <th>시간</th>\n",
       "      <th>도로형태 - 대분류</th>\n",
       "      <th>도로형태 - 소분류</th>\n",
       "      <th>사고유형1</th>\n",
       "      <th>사고유형2</th>\n",
       "    </tr>\n",
       "  </thead>\n",
       "  <tbody>\n",
       "    <tr>\n",
       "      <th>0</th>\n",
       "      <td>ACCIDENT_39609</td>\n",
       "      <td>5</td>\n",
       "      <td>맑음</td>\n",
       "      <td>건조</td>\n",
       "      <td>대구광역시</td>\n",
       "      <td>수성구</td>\n",
       "      <td>상동</td>\n",
       "      <td>2022</td>\n",
       "      <td>1</td>\n",
       "      <td>1</td>\n",
       "      <td>1</td>\n",
       "      <td>교차로</td>\n",
       "      <td>교차로안</td>\n",
       "      <td>차</td>\n",
       "      <td>사람</td>\n",
       "    </tr>\n",
       "  </tbody>\n",
       "</table>\n",
       "</div>"
      ],
      "text/plain": [
       "               ID  요일 기상상태 노면상태      시    군   구     연  월  일  시간 도로형태 - 대분류  \\\n",
       "0  ACCIDENT_39609   5   맑음   건조  대구광역시  수성구  상동  2022  1  1   1        교차로   \n",
       "\n",
       "  도로형태 - 소분류 사고유형1 사고유형2  \n",
       "0       교차로안     차    사람  "
      ]
     },
     "execution_count": 25,
     "metadata": {},
     "output_type": "execute_result"
    }
   ],
   "source": [
    "train_df.head(1)\n",
    "test_df.head(1)"
   ]
  },
  {
   "cell_type": "code",
   "execution_count": 26,
   "id": "c1f28463",
   "metadata": {},
   "outputs": [
    {
     "data": {
      "text/plain": [
       "array(['차'], dtype=object)"
      ]
     },
     "execution_count": 26,
     "metadata": {},
     "output_type": "execute_result"
    },
    {
     "data": {
      "text/plain": [
       "array(['사람', '차', '단독'], dtype=object)"
      ]
     },
     "execution_count": 26,
     "metadata": {},
     "output_type": "execute_result"
    }
   ],
   "source": [
    "train_df['사고유형1'].unique()\n",
    "train_df['사고유형2'].unique()"
   ]
  },
  {
   "cell_type": "markdown",
   "id": "af21b028",
   "metadata": {},
   "source": [
    "## 연령을 수치로"
   ]
  },
  {
   "cell_type": "code",
   "execution_count": null,
   "id": "9815a9f0",
   "metadata": {},
   "outputs": [],
   "source": [
    "# train_df['가해운전자 연령'] = train_df['가해운전자 연령'].str.replace('세', '')\n",
    "# train_df['가해운전자 연령'] = train_df['가해운전자 연령'].astype('int')\n",
    "# train_df['가해운전자 연령']"
   ]
  },
  {
   "cell_type": "code",
   "execution_count": null,
   "id": "48f435fa",
   "metadata": {
    "scrolled": true
   },
   "outputs": [],
   "source": [
    "# train_df['가해운전자 연령'].unique()"
   ]
  },
  {
   "cell_type": "markdown",
   "id": "1810187b",
   "metadata": {},
   "source": [
    "=> 가해운전자 연량에 미분류(900개), 18, 17, 16, 10, 13, 14, 15, 11, 9, 4, 8, 12, ,7, 5는 흠,,\n",
    "\n",
    "=> 90 이상, 98 이상, 90은 그냥 90이상으로 변경"
   ]
  },
  {
   "cell_type": "code",
   "execution_count": null,
   "id": "7e80da7e",
   "metadata": {},
   "outputs": [],
   "source": [
    "# train_df[train_df['가해운전자 연령'] == '5'].T\n",
    "# train_df[train_df['가해운전자 연령'] == '미분류'].iloc[1].T"
   ]
  },
  {
   "cell_type": "code",
   "execution_count": null,
   "id": "87c35ea8",
   "metadata": {},
   "outputs": [],
   "source": [
    "# train_df[train_df['가해운전자 연령'] == '미분류'].loc[:, '사고일시' : '가해운전자 상해정도']"
   ]
  },
  {
   "cell_type": "markdown",
   "id": "9c8b4f14",
   "metadata": {},
   "source": [
    "# 모델링"
   ]
  },
  {
   "cell_type": "code",
   "execution_count": 28,
   "id": "5a3b5e3a",
   "metadata": {},
   "outputs": [],
   "source": [
    "X_test = test_df.drop(['ID'], axis = 1).copy()\n",
    "X_train = train_df[X_test.columns].copy()\n",
    "y_train = train_df['ECLO'].copy()"
   ]
  },
  {
   "cell_type": "code",
   "execution_count": 29,
   "id": "8b30c795",
   "metadata": {},
   "outputs": [
    {
     "data": {
      "text/html": [
       "<div>\n",
       "<style scoped>\n",
       "    .dataframe tbody tr th:only-of-type {\n",
       "        vertical-align: middle;\n",
       "    }\n",
       "\n",
       "    .dataframe tbody tr th {\n",
       "        vertical-align: top;\n",
       "    }\n",
       "\n",
       "    .dataframe thead th {\n",
       "        text-align: right;\n",
       "    }\n",
       "</style>\n",
       "<table border=\"1\" class=\"dataframe\">\n",
       "  <thead>\n",
       "    <tr style=\"text-align: right;\">\n",
       "      <th></th>\n",
       "      <th>요일</th>\n",
       "      <th>기상상태</th>\n",
       "      <th>노면상태</th>\n",
       "      <th>시</th>\n",
       "      <th>군</th>\n",
       "      <th>구</th>\n",
       "      <th>연</th>\n",
       "      <th>월</th>\n",
       "      <th>일</th>\n",
       "      <th>시간</th>\n",
       "      <th>도로형태 - 대분류</th>\n",
       "      <th>도로형태 - 소분류</th>\n",
       "      <th>사고유형1</th>\n",
       "      <th>사고유형2</th>\n",
       "    </tr>\n",
       "  </thead>\n",
       "  <tbody>\n",
       "    <tr>\n",
       "      <th>0</th>\n",
       "      <td>5</td>\n",
       "      <td>맑음</td>\n",
       "      <td>건조</td>\n",
       "      <td>대구광역시</td>\n",
       "      <td>수성구</td>\n",
       "      <td>상동</td>\n",
       "      <td>2022</td>\n",
       "      <td>1</td>\n",
       "      <td>1</td>\n",
       "      <td>1</td>\n",
       "      <td>교차로</td>\n",
       "      <td>교차로안</td>\n",
       "      <td>차</td>\n",
       "      <td>사람</td>\n",
       "    </tr>\n",
       "  </tbody>\n",
       "</table>\n",
       "</div>"
      ],
      "text/plain": [
       "   요일 기상상태 노면상태      시    군   구     연  월  일  시간 도로형태 - 대분류 도로형태 - 소분류 사고유형1  \\\n",
       "0   5   맑음   건조  대구광역시  수성구  상동  2022  1  1   1        교차로       교차로안     차   \n",
       "\n",
       "  사고유형2  \n",
       "0    사람  "
      ]
     },
     "execution_count": 29,
     "metadata": {},
     "output_type": "execute_result"
    },
    {
     "data": {
      "text/html": [
       "<div>\n",
       "<style scoped>\n",
       "    .dataframe tbody tr th:only-of-type {\n",
       "        vertical-align: middle;\n",
       "    }\n",
       "\n",
       "    .dataframe tbody tr th {\n",
       "        vertical-align: top;\n",
       "    }\n",
       "\n",
       "    .dataframe thead th {\n",
       "        text-align: right;\n",
       "    }\n",
       "</style>\n",
       "<table border=\"1\" class=\"dataframe\">\n",
       "  <thead>\n",
       "    <tr style=\"text-align: right;\">\n",
       "      <th></th>\n",
       "      <th>요일</th>\n",
       "      <th>기상상태</th>\n",
       "      <th>노면상태</th>\n",
       "      <th>시</th>\n",
       "      <th>군</th>\n",
       "      <th>구</th>\n",
       "      <th>연</th>\n",
       "      <th>월</th>\n",
       "      <th>일</th>\n",
       "      <th>시간</th>\n",
       "      <th>도로형태 - 대분류</th>\n",
       "      <th>도로형태 - 소분류</th>\n",
       "      <th>사고유형1</th>\n",
       "      <th>사고유형2</th>\n",
       "    </tr>\n",
       "  </thead>\n",
       "  <tbody>\n",
       "    <tr>\n",
       "      <th>0</th>\n",
       "      <td>1</td>\n",
       "      <td>맑음</td>\n",
       "      <td>건조</td>\n",
       "      <td>대구광역시</td>\n",
       "      <td>중구</td>\n",
       "      <td>대신동</td>\n",
       "      <td>2019</td>\n",
       "      <td>1</td>\n",
       "      <td>1</td>\n",
       "      <td>0</td>\n",
       "      <td>단일로</td>\n",
       "      <td>기타</td>\n",
       "      <td>차</td>\n",
       "      <td>사람</td>\n",
       "    </tr>\n",
       "  </tbody>\n",
       "</table>\n",
       "</div>"
      ],
      "text/plain": [
       "   요일 기상상태 노면상태      시   군    구     연  월  일  시간 도로형태 - 대분류 도로형태 - 소분류 사고유형1  \\\n",
       "0   1   맑음   건조  대구광역시  중구  대신동  2019  1  1   0        단일로         기타     차   \n",
       "\n",
       "  사고유형2  \n",
       "0    사람  "
      ]
     },
     "execution_count": 29,
     "metadata": {},
     "output_type": "execute_result"
    },
    {
     "data": {
      "text/plain": [
       "0    5\n",
       "Name: ECLO, dtype: int64"
      ]
     },
     "execution_count": 29,
     "metadata": {},
     "output_type": "execute_result"
    }
   ],
   "source": [
    "X_test.head(1)\n",
    "X_train.head(1)\n",
    "y_train.head(1)"
   ]
  },
  {
   "cell_type": "code",
   "execution_count": 30,
   "id": "8e145a2b",
   "metadata": {},
   "outputs": [],
   "source": [
    "# LGBMRegressor 파라미터\n",
    "\n",
    "cat_features = list(X_train.dtypes[X_train.dtypes == 'object'].index)\n",
    "cat = CatBoostRegressor(\n",
    "    learning_rate=0.1,          # 학습률\n",
    "    cat_features = cat_features,\n",
    "    random_state = 42, \n",
    "    verbose = False,\n",
    "    iterations=100,             # 반복 횟수 (트리 개수)\n",
    "    depth=6,                    # 트리의 최대 깊이\n",
    "    l2_leaf_reg=3,              # L2 규제 가중치\n",
    "    loss_function='RMSE'        # 손실 함수 (회귀 문제의 경우 RMSE)\n",
    ")"
   ]
  },
  {
   "cell_type": "code",
   "execution_count": 31,
   "id": "2d1e5fb7",
   "metadata": {},
   "outputs": [
    {
     "name": "stderr",
     "output_type": "stream",
     "text": [
      "\r",
      "  0%|                                                    | 0/10 [00:00<?, ?it/s]"
     ]
    },
    {
     "data": {
      "text/plain": [
       "<catboost.core.CatBoostRegressor at 0x16afe9fd0>"
      ]
     },
     "execution_count": 31,
     "metadata": {},
     "output_type": "execute_result"
    },
    {
     "name": "stderr",
     "output_type": "stream",
     "text": [
      "\r",
      " 10%|████▍                                       | 1/10 [00:00<00:04,  1.98it/s]"
     ]
    },
    {
     "data": {
      "text/plain": [
       "<catboost.core.CatBoostRegressor at 0x16afe9fd0>"
      ]
     },
     "execution_count": 31,
     "metadata": {},
     "output_type": "execute_result"
    },
    {
     "name": "stderr",
     "output_type": "stream",
     "text": [
      "\r",
      " 20%|████████▊                                   | 2/10 [00:00<00:03,  2.17it/s]"
     ]
    },
    {
     "data": {
      "text/plain": [
       "<catboost.core.CatBoostRegressor at 0x16afe9fd0>"
      ]
     },
     "execution_count": 31,
     "metadata": {},
     "output_type": "execute_result"
    },
    {
     "name": "stderr",
     "output_type": "stream",
     "text": [
      "\r",
      " 30%|█████████████▏                              | 3/10 [00:01<00:03,  2.25it/s]"
     ]
    },
    {
     "data": {
      "text/plain": [
       "<catboost.core.CatBoostRegressor at 0x16afe9fd0>"
      ]
     },
     "execution_count": 31,
     "metadata": {},
     "output_type": "execute_result"
    },
    {
     "name": "stderr",
     "output_type": "stream",
     "text": [
      "\r",
      " 40%|█████████████████▌                          | 4/10 [00:01<00:02,  2.28it/s]"
     ]
    },
    {
     "data": {
      "text/plain": [
       "<catboost.core.CatBoostRegressor at 0x16afe9fd0>"
      ]
     },
     "execution_count": 31,
     "metadata": {},
     "output_type": "execute_result"
    },
    {
     "name": "stderr",
     "output_type": "stream",
     "text": [
      "\r",
      " 50%|██████████████████████                      | 5/10 [00:02<00:02,  2.26it/s]"
     ]
    },
    {
     "data": {
      "text/plain": [
       "<catboost.core.CatBoostRegressor at 0x16afe9fd0>"
      ]
     },
     "execution_count": 31,
     "metadata": {},
     "output_type": "execute_result"
    },
    {
     "name": "stderr",
     "output_type": "stream",
     "text": [
      "\r",
      " 60%|██████████████████████████▍                 | 6/10 [00:02<00:01,  2.30it/s]"
     ]
    },
    {
     "data": {
      "text/plain": [
       "<catboost.core.CatBoostRegressor at 0x16afe9fd0>"
      ]
     },
     "execution_count": 31,
     "metadata": {},
     "output_type": "execute_result"
    },
    {
     "name": "stderr",
     "output_type": "stream",
     "text": [
      "\r",
      " 70%|██████████████████████████████▊             | 7/10 [00:03<00:01,  2.30it/s]"
     ]
    },
    {
     "data": {
      "text/plain": [
       "<catboost.core.CatBoostRegressor at 0x16afe9fd0>"
      ]
     },
     "execution_count": 31,
     "metadata": {},
     "output_type": "execute_result"
    },
    {
     "name": "stderr",
     "output_type": "stream",
     "text": [
      "\r",
      " 80%|███████████████████████████████████▏        | 8/10 [00:03<00:00,  2.32it/s]"
     ]
    },
    {
     "data": {
      "text/plain": [
       "<catboost.core.CatBoostRegressor at 0x16afe9fd0>"
      ]
     },
     "execution_count": 31,
     "metadata": {},
     "output_type": "execute_result"
    },
    {
     "name": "stderr",
     "output_type": "stream",
     "text": [
      "\r",
      " 90%|███████████████████████████████████████▌    | 9/10 [00:03<00:00,  2.33it/s]"
     ]
    },
    {
     "data": {
      "text/plain": [
       "<catboost.core.CatBoostRegressor at 0x16afe9fd0>"
      ]
     },
     "execution_count": 31,
     "metadata": {},
     "output_type": "execute_result"
    },
    {
     "name": "stderr",
     "output_type": "stream",
     "text": [
      "100%|███████████████████████████████████████████| 10/10 [00:04<00:00,  2.28it/s]"
     ]
    },
    {
     "name": "stdout",
     "output_type": "stream",
     "text": [
      "each fold rmse :  [3.137898279927288, 3.284512436396484, 3.2307242879876372, 2.96605919440436, 3.2755339961672303, 3.187659707485155, 3.2739613136431314, 3.0286707171871856, 2.9553126977528508, 3.155943710281724]\n",
      "rmse :  3.1496276341233047\n"
     ]
    },
    {
     "name": "stderr",
     "output_type": "stream",
     "text": [
      "\n"
     ]
    }
   ],
   "source": [
    "# KFold이용\n",
    "\n",
    "cv = KFold(n_splits = 10, shuffle = True, random_state = 42)\n",
    "score_lst = []\n",
    "cat_lst = []\n",
    "\n",
    "for train_idx, test_idx in tqdm(cv.split(X_train), total = 10):\n",
    "    x_tr = X_train.iloc[train_idx]\n",
    "    y_tr = y_train.iloc[train_idx]\n",
    "    \n",
    "    x_val = X_train.iloc[test_idx]\n",
    "    y_val = y_train.iloc[test_idx]\n",
    "    \n",
    "    model = cat\n",
    "    model.fit(x_tr, y_tr)\n",
    "\n",
    "    pred = model.predict(x_val)\n",
    "    score = mean_squared_error(y_val, pred, squared = False)\n",
    "    score_lst.append(score)\n",
    "    \n",
    "#     cat_pred = np.expm1(model.fit(x_val))\n",
    "#     cat_pred = np.where(cat_pred < 1, 1, cat_pred)\n",
    "#     cat_lst.append(cat_pred)\n",
    "\n",
    "print('each fold rmse : ', score_lst)\n",
    "print('rmse : ', np.mean(score_lst))"
   ]
  },
  {
   "cell_type": "code",
   "execution_count": null,
   "id": "f45c93ba",
   "metadata": {},
   "outputs": [],
   "source": []
  },
  {
   "cell_type": "code",
   "execution_count": null,
   "id": "623e8b24",
   "metadata": {},
   "outputs": [],
   "source": []
  },
  {
   "cell_type": "code",
   "execution_count": null,
   "id": "67b2ddaa",
   "metadata": {},
   "outputs": [],
   "source": []
  },
  {
   "cell_type": "code",
   "execution_count": null,
   "id": "87ca3121",
   "metadata": {},
   "outputs": [],
   "source": []
  },
  {
   "cell_type": "code",
   "execution_count": null,
   "id": "e78e6c48",
   "metadata": {},
   "outputs": [],
   "source": []
  },
  {
   "cell_type": "code",
   "execution_count": null,
   "id": "ccdcb471",
   "metadata": {},
   "outputs": [],
   "source": []
  },
  {
   "cell_type": "code",
   "execution_count": null,
   "id": "f9186775",
   "metadata": {},
   "outputs": [],
   "source": []
  }
 ],
 "metadata": {
  "kernelspec": {
   "display_name": "Python 3 (ipykernel)",
   "language": "python",
   "name": "python3"
  },
  "language_info": {
   "codemirror_mode": {
    "name": "ipython",
    "version": 3
   },
   "file_extension": ".py",
   "mimetype": "text/x-python",
   "name": "python",
   "nbconvert_exporter": "python",
   "pygments_lexer": "ipython3",
   "version": "3.11.5"
  },
  "toc": {
   "base_numbering": 1,
   "nav_menu": {},
   "number_sections": true,
   "sideBar": true,
   "skip_h1_title": false,
   "title_cell": "Table of Contents",
   "title_sidebar": "Contents",
   "toc_cell": false,
   "toc_position": {
    "height": "calc(100% - 180px)",
    "left": "10px",
    "top": "150px",
    "width": "243.62px"
   },
   "toc_section_display": true,
   "toc_window_display": true
  }
 },
 "nbformat": 4,
 "nbformat_minor": 5
}
