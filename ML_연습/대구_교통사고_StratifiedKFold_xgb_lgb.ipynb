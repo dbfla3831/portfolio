{
 "cells": [
  {
   "cell_type": "markdown",
   "id": "153641fd",
   "metadata": {},
   "source": [
    "각 test_ID에 교통사고 값(ECLO)을 예측하기 \n",
    "\n",
    "ECLO = 사망자수 * 10 + 중상자수 * 5 + 경상자수 * 3 + 부상자수 * 1\n",
    "\n",
    "- 출퇴근 시간, 새벽 시간(음주, 졸음)에 많이 발생?\n",
    "\n",
    "- 요일에 따라 달라진다? -> 인구 밀집\n",
    "\n",
    "- 날씨 영향?\n",
    "\n",
    "- 사고가 빈번한 지역?\n",
    "\n",
    "- cctv가 없거나 신호 시간이 짧거나\n",
    "\n",
    "- 도로 상태, 형태\n",
    "\n",
    "- 노인이 많으면 사고가 자주 발생"
   ]
  },
  {
   "cell_type": "markdown",
   "id": "3927b9d9",
   "metadata": {},
   "source": [
    "# 카테코리로 묶어 xgb, lgbm 실행하기\n",
    "# 조기종료"
   ]
  },
  {
   "cell_type": "markdown",
   "id": "27fbf88d",
   "metadata": {},
   "source": [
    "# 라이브러리 불러오기"
   ]
  },
  {
   "cell_type": "code",
   "execution_count": 38,
   "id": "89ed53c9",
   "metadata": {
    "ExecuteTime": {
     "end_time": "2024-01-30T03:28:13.759334Z",
     "start_time": "2024-01-30T03:28:13.755198Z"
    }
   },
   "outputs": [],
   "source": [
    "import pandas as pd\n",
    "import numpy as np\n",
    "from sklearn.preprocessing import OneHotEncoder\n",
    "from sklearn.cluster import KMeans\n",
    "from sklearn.model_selection import train_test_split\n",
    "from sklearn.model_selection import StratifiedKFold\n",
    "from sklearn.model_selection import KFold\n",
    "from xgboost import XGBRegressor\n",
    "from lightgbm import LGBMRegressor\n",
    "from catboost import CatBoostRegressor\n",
    "from sklearn.metrics import mean_squared_log_error\n",
    "from tqdm import tqdm\n",
    "\n",
    "import warnings\n",
    "warnings.filterwarnings('ignore')"
   ]
  },
  {
   "cell_type": "markdown",
   "id": "1837440e",
   "metadata": {},
   "source": [
    "# 데이터 불러오기"
   ]
  },
  {
   "cell_type": "code",
   "execution_count": 2,
   "id": "304e48a6",
   "metadata": {
    "ExecuteTime": {
     "end_time": "2024-01-30T03:24:24.755469Z",
     "start_time": "2024-01-30T03:24:22.169439Z"
    },
    "scrolled": true
   },
   "outputs": [
    {
     "data": {
      "text/plain": [
       "(602775, 23)"
      ]
     },
     "execution_count": 2,
     "metadata": {},
     "output_type": "execute_result"
    }
   ],
   "source": [
    "train_df = pd.read_csv('./data/train.csv')\n",
    "test_df = pd.read_csv('./data/test.csv')\n",
    "accident_df = pd.read_csv('./data/external_open/countrywide_accident.csv')\n",
    "\n",
    "train_df.head(3)\n",
    "train_df.shape\n",
    "\n",
    "test_df.head(3)\n",
    "test_df.shape\n",
    "\n",
    "accident_df.head(3)\n",
    "accident_df.shape"
   ]
  },
  {
   "cell_type": "code",
   "execution_count": 3,
   "id": "ad70969a",
   "metadata": {
    "ExecuteTime": {
     "end_time": "2024-01-30T03:24:24.761227Z",
     "start_time": "2024-01-30T03:24:24.757466Z"
    }
   },
   "outputs": [],
   "source": [
    "# 추가할 수 있는 data\n",
    "\n",
    "# cctv_df = pd.read_csv('./data/external_open/대구 CCTV 정보.csv', encoding = 'cp949')\n",
    "# security_light_df = pd.read_csv('./data/external_open/대구 보안등 정보.csv', encoding = 'cp949', low_memory = False)\n",
    "# child_protection_df = pd.read_csv('./data/external_open/대구 어린이 보호 구역 정보.csv', encoding = 'cp949')\n",
    "# parking_df = pd.read_csv('./data/external_open/대구 주차장 정보.csv', encoding = 'cp949')\n",
    "\n",
    "# cctv_df.head(2)\n",
    "# security_light_df.head(2)\n",
    "# child_protection_df.head(2)\n",
    "# parking_df.head(2)"
   ]
  },
  {
   "cell_type": "markdown",
   "id": "04d3e3d9",
   "metadata": {},
   "source": [
    "# EDA"
   ]
  },
  {
   "cell_type": "markdown",
   "id": "75426ee7",
   "metadata": {},
   "source": [
    "## 결측치 확인"
   ]
  },
  {
   "cell_type": "code",
   "execution_count": 4,
   "id": "655b10f0",
   "metadata": {
    "ExecuteTime": {
     "end_time": "2024-01-30T03:24:24.792790Z",
     "start_time": "2024-01-30T03:24:24.762226Z"
    }
   },
   "outputs": [
    {
     "name": "stdout",
     "output_type": "stream",
     "text": [
      "<class 'pandas.core.frame.DataFrame'>\n",
      "RangeIndex: 39609 entries, 0 to 39608\n",
      "Data columns (total 23 columns):\n",
      " #   Column       Non-Null Count  Dtype \n",
      "---  ------       --------------  ----- \n",
      " 0   ID           39609 non-null  object\n",
      " 1   사고일시         39609 non-null  object\n",
      " 2   요일           39609 non-null  object\n",
      " 3   기상상태         39609 non-null  object\n",
      " 4   시군구          39609 non-null  object\n",
      " 5   도로형태         39609 non-null  object\n",
      " 6   노면상태         39609 non-null  object\n",
      " 7   사고유형         39609 non-null  object\n",
      " 8   사고유형 - 세부분류  39609 non-null  object\n",
      " 9   법규위반         39609 non-null  object\n",
      " 10  가해운전자 차종     39609 non-null  object\n",
      " 11  가해운전자 성별     39609 non-null  object\n",
      " 12  가해운전자 연령     39609 non-null  object\n",
      " 13  가해운전자 상해정도   39609 non-null  object\n",
      " 14  피해운전자 차종     38618 non-null  object\n",
      " 15  피해운전자 성별     38618 non-null  object\n",
      " 16  피해운전자 연령     38618 non-null  object\n",
      " 17  피해운전자 상해정도   38618 non-null  object\n",
      " 18  사망자수         39609 non-null  int64 \n",
      " 19  중상자수         39609 non-null  int64 \n",
      " 20  경상자수         39609 non-null  int64 \n",
      " 21  부상자수         39609 non-null  int64 \n",
      " 22  ECLO         39609 non-null  int64 \n",
      "dtypes: int64(5), object(18)\n",
      "memory usage: 7.0+ MB\n"
     ]
    }
   ],
   "source": [
    "train_df.info()"
   ]
  },
  {
   "cell_type": "markdown",
   "id": "f143d522",
   "metadata": {},
   "source": [
    "=> '피해운전자 차종', '피해운전자 성별', '피해운전자 연령', '피해운전자 상해정도'에 약 1000개의 결측치 존재"
   ]
  },
  {
   "cell_type": "code",
   "execution_count": 5,
   "id": "78c1e148",
   "metadata": {
    "ExecuteTime": {
     "end_time": "2024-01-30T03:24:24.805296Z",
     "start_time": "2024-01-30T03:24:24.794789Z"
    }
   },
   "outputs": [
    {
     "name": "stdout",
     "output_type": "stream",
     "text": [
      "<class 'pandas.core.frame.DataFrame'>\n",
      "RangeIndex: 10963 entries, 0 to 10962\n",
      "Data columns (total 8 columns):\n",
      " #   Column  Non-Null Count  Dtype \n",
      "---  ------  --------------  ----- \n",
      " 0   ID      10963 non-null  object\n",
      " 1   사고일시    10963 non-null  object\n",
      " 2   요일      10963 non-null  object\n",
      " 3   기상상태    10963 non-null  object\n",
      " 4   시군구     10963 non-null  object\n",
      " 5   도로형태    10963 non-null  object\n",
      " 6   노면상태    10963 non-null  object\n",
      " 7   사고유형    10963 non-null  object\n",
      "dtypes: object(8)\n",
      "memory usage: 685.3+ KB\n"
     ]
    }
   ],
   "source": [
    "test_df.info() # 결측치 없음"
   ]
  },
  {
   "cell_type": "code",
   "execution_count": 6,
   "id": "deb59164",
   "metadata": {
    "ExecuteTime": {
     "end_time": "2024-01-30T03:24:25.060319Z",
     "start_time": "2024-01-30T03:24:24.806296Z"
    }
   },
   "outputs": [
    {
     "name": "stdout",
     "output_type": "stream",
     "text": [
      "<class 'pandas.core.frame.DataFrame'>\n",
      "RangeIndex: 602775 entries, 0 to 602774\n",
      "Data columns (total 23 columns):\n",
      " #   Column       Non-Null Count   Dtype \n",
      "---  ------       --------------   ----- \n",
      " 0   ID           602775 non-null  object\n",
      " 1   사고일시         602775 non-null  object\n",
      " 2   요일           602775 non-null  object\n",
      " 3   기상상태         602775 non-null  object\n",
      " 4   시군구          602775 non-null  object\n",
      " 5   도로형태         602775 non-null  object\n",
      " 6   노면상태         602774 non-null  object\n",
      " 7   사고유형         602775 non-null  object\n",
      " 8   사고유형 - 세부분류  602775 non-null  object\n",
      " 9   법규위반         602775 non-null  object\n",
      " 10  가해운전자 차종     602775 non-null  object\n",
      " 11  가해운전자 성별     602775 non-null  object\n",
      " 12  가해운전자 연령     602775 non-null  object\n",
      " 13  가해운전자 상해정도   602775 non-null  object\n",
      " 14  피해운전자 차종     576948 non-null  object\n",
      " 15  피해운전자 성별     576946 non-null  object\n",
      " 16  피해운전자 연령     576949 non-null  object\n",
      " 17  피해운전자 상해정도   576946 non-null  object\n",
      " 18  사망자수         602775 non-null  int64 \n",
      " 19  중상자수         602775 non-null  int64 \n",
      " 20  경상자수         602775 non-null  int64 \n",
      " 21  부상자수         602775 non-null  int64 \n",
      " 22  ECLO         602775 non-null  int64 \n",
      "dtypes: int64(5), object(18)\n",
      "memory usage: 105.8+ MB\n"
     ]
    }
   ],
   "source": [
    "accident_df.info()"
   ]
  },
  {
   "cell_type": "markdown",
   "id": "f7287420",
   "metadata": {},
   "source": [
    "=> '피해운전자 차종', '피해운전자 성별', '피해운전자 연령', '피해운전자 상해정도'에 결측치가 존재하는 이유 -> '사고 유형'이 '챠랑단독'이기 때문이다\n",
    "\n",
    "=> 이런 결측치는 어떻게 처리를 해야하나"
   ]
  },
  {
   "cell_type": "markdown",
   "id": "83bc0bbe",
   "metadata": {},
   "source": [
    "## 변수별 유의미한지 확인"
   ]
  },
  {
   "cell_type": "code",
   "execution_count": 7,
   "id": "9621b985",
   "metadata": {
    "ExecuteTime": {
     "end_time": "2024-01-30T03:24:25.068976Z",
     "start_time": "2024-01-30T03:24:25.061319Z"
    }
   },
   "outputs": [
    {
     "data": {
      "text/plain": [
       "요일\n",
       "금요일    6179\n",
       "화요일    6023\n",
       "수요일    5969\n",
       "월요일    5895\n",
       "목요일    5759\n",
       "토요일    5670\n",
       "일요일    4114\n",
       "Name: count, dtype: int64"
      ]
     },
     "execution_count": 7,
     "metadata": {},
     "output_type": "execute_result"
    }
   ],
   "source": [
    "# 요일별로 언제 사고가 많이 발생하는지\n",
    "\n",
    "train_df['요일'].value_counts() # 금요일이 제일 많이 발생"
   ]
  },
  {
   "cell_type": "code",
   "execution_count": 8,
   "id": "29906aea",
   "metadata": {
    "ExecuteTime": {
     "end_time": "2024-01-30T03:24:25.084463Z",
     "start_time": "2024-01-30T03:24:25.069977Z"
    }
   },
   "outputs": [
    {
     "data": {
      "text/html": [
       "<div>\n",
       "<style scoped>\n",
       "    .dataframe tbody tr th:only-of-type {\n",
       "        vertical-align: middle;\n",
       "    }\n",
       "\n",
       "    .dataframe tbody tr th {\n",
       "        vertical-align: top;\n",
       "    }\n",
       "\n",
       "    .dataframe thead th {\n",
       "        text-align: right;\n",
       "    }\n",
       "</style>\n",
       "<table border=\"1\" class=\"dataframe\">\n",
       "  <thead>\n",
       "    <tr style=\"text-align: right;\">\n",
       "      <th></th>\n",
       "      <th>사망자수</th>\n",
       "      <th>중상자수</th>\n",
       "      <th>경상자수</th>\n",
       "      <th>부상자수</th>\n",
       "    </tr>\n",
       "    <tr>\n",
       "      <th>기상상태</th>\n",
       "      <th></th>\n",
       "      <th></th>\n",
       "      <th></th>\n",
       "      <th></th>\n",
       "    </tr>\n",
       "  </thead>\n",
       "  <tbody>\n",
       "    <tr>\n",
       "      <th>기타</th>\n",
       "      <td>1</td>\n",
       "      <td>22</td>\n",
       "      <td>50</td>\n",
       "      <td>7</td>\n",
       "    </tr>\n",
       "    <tr>\n",
       "      <th>눈</th>\n",
       "      <td>1</td>\n",
       "      <td>1</td>\n",
       "      <td>7</td>\n",
       "      <td>1</td>\n",
       "    </tr>\n",
       "    <tr>\n",
       "      <th>맑음</th>\n",
       "      <td>265</td>\n",
       "      <td>9383</td>\n",
       "      <td>38781</td>\n",
       "      <td>4609</td>\n",
       "    </tr>\n",
       "    <tr>\n",
       "      <th>비</th>\n",
       "      <td>36</td>\n",
       "      <td>763</td>\n",
       "      <td>2788</td>\n",
       "      <td>322</td>\n",
       "    </tr>\n",
       "    <tr>\n",
       "      <th>안개</th>\n",
       "      <td>0</td>\n",
       "      <td>1</td>\n",
       "      <td>13</td>\n",
       "      <td>0</td>\n",
       "    </tr>\n",
       "    <tr>\n",
       "      <th>흐림</th>\n",
       "      <td>5</td>\n",
       "      <td>222</td>\n",
       "      <td>746</td>\n",
       "      <td>86</td>\n",
       "    </tr>\n",
       "  </tbody>\n",
       "</table>\n",
       "</div>"
      ],
      "text/plain": [
       "      사망자수  중상자수   경상자수  부상자수\n",
       "기상상태                         \n",
       "기타       1    22     50     7\n",
       "눈        1     1      7     1\n",
       "맑음     265  9383  38781  4609\n",
       "비       36   763   2788   322\n",
       "안개       0     1     13     0\n",
       "흐림       5   222    746    86"
      ]
     },
     "execution_count": 8,
     "metadata": {},
     "output_type": "execute_result"
    }
   ],
   "source": [
    "# 기상상태로 확인\n",
    "\n",
    "train_df.groupby(['기상상태'])[['사망자수', '중상자수', '경상자수', '부상자수']].sum() # 맑을 때? 눈 올때가 많은 줄 알았는데"
   ]
  },
  {
   "cell_type": "code",
   "execution_count": 9,
   "id": "32cc8680",
   "metadata": {
    "ExecuteTime": {
     "end_time": "2024-01-30T03:24:25.094334Z",
     "start_time": "2024-01-30T03:24:25.087458Z"
    }
   },
   "outputs": [
    {
     "data": {
      "text/plain": [
       "도로형태\n",
       "단일로 - 기타           19485\n",
       "교차로 - 교차로안          9931\n",
       "교차로 - 교차로부근         5746\n",
       "기타 - 기타             1986\n",
       "교차로 - 교차로횡단보도내      1474\n",
       "단일로 - 지하차도(도로)내      309\n",
       "주차장 - 주차장            236\n",
       "단일로 - 교량             232\n",
       "단일로 - 고가도로위          138\n",
       "단일로 - 터널              64\n",
       "미분류 - 미분류              8\n",
       "Name: count, dtype: int64"
      ]
     },
     "execution_count": 9,
     "metadata": {},
     "output_type": "execute_result"
    }
   ],
   "source": [
    "# 도로형태\n",
    "\n",
    "train_df['도로형태'].value_counts()"
   ]
  },
  {
   "cell_type": "code",
   "execution_count": 10,
   "id": "391dd61f",
   "metadata": {
    "ExecuteTime": {
     "end_time": "2024-01-30T03:24:25.104267Z",
     "start_time": "2024-01-30T03:24:25.096331Z"
    }
   },
   "outputs": [
    {
     "data": {
      "text/plain": [
       "노면상태\n",
       "건조       36420\n",
       "젖음/습기     3100\n",
       "기타          58\n",
       "서리/결빙       25\n",
       "침수           3\n",
       "적설           3\n",
       "Name: count, dtype: int64"
      ]
     },
     "execution_count": 10,
     "metadata": {},
     "output_type": "execute_result"
    }
   ],
   "source": [
    "# 노면상태\n",
    "\n",
    "train_df['노면상태'].value_counts()"
   ]
  },
  {
   "cell_type": "code",
   "execution_count": 11,
   "id": "a22a0230",
   "metadata": {
    "ExecuteTime": {
     "end_time": "2024-01-30T03:24:25.113768Z",
     "start_time": "2024-01-30T03:24:25.105268Z"
    }
   },
   "outputs": [
    {
     "data": {
      "text/plain": [
       "사고유형\n",
       "차대차     31785\n",
       "차대사람     6833\n",
       "차량단독      991\n",
       "Name: count, dtype: int64"
      ]
     },
     "execution_count": 11,
     "metadata": {},
     "output_type": "execute_result"
    }
   ],
   "source": [
    "# 사고유형\n",
    "\n",
    "train_df['사고유형'].value_counts()"
   ]
  },
  {
   "cell_type": "markdown",
   "id": "170b6b40",
   "metadata": {},
   "source": [
    "# 데이터 전처리"
   ]
  },
  {
   "cell_type": "markdown",
   "id": "05251467",
   "metadata": {},
   "source": [
    "## train에 있고 test에 없는 값 삭제"
   ]
  },
  {
   "cell_type": "code",
   "execution_count": 12,
   "id": "59564dcd",
   "metadata": {
    "ExecuteTime": {
     "end_time": "2024-01-30T03:24:25.147897Z",
     "start_time": "2024-01-30T03:24:25.114769Z"
    }
   },
   "outputs": [
    {
     "data": {
      "text/plain": [
       "array(['맑음', '흐림', '기타', '비', '눈'], dtype=object)"
      ]
     },
     "execution_count": 12,
     "metadata": {},
     "output_type": "execute_result"
    }
   ],
   "source": [
    "train_df['기상상태'].unique()\n",
    "accident_df['기상상태'].unique()\n",
    "test_df['기상상태'].unique()"
   ]
  },
  {
   "cell_type": "code",
   "execution_count": 13,
   "id": "f408081d",
   "metadata": {
    "ExecuteTime": {
     "end_time": "2024-01-30T03:24:25.182781Z",
     "start_time": "2024-01-30T03:24:25.148899Z"
    }
   },
   "outputs": [
    {
     "data": {
      "text/plain": [
       "array(['건조', '젖음/습기', '서리/결빙', '기타', '침수', '적설'], dtype=object)"
      ]
     },
     "execution_count": 13,
     "metadata": {},
     "output_type": "execute_result"
    }
   ],
   "source": [
    "train_df['노면상태'].unique()\n",
    "accident_df['노면상태'].unique()\n",
    "test_df['노면상태'].unique()"
   ]
  },
  {
   "cell_type": "code",
   "execution_count": 14,
   "id": "e85e959b",
   "metadata": {
    "ExecuteTime": {
     "end_time": "2024-01-30T03:24:25.218792Z",
     "start_time": "2024-01-30T03:24:25.183781Z"
    }
   },
   "outputs": [
    {
     "data": {
      "text/plain": [
       "array(['차대사람', '차대차', '차량단독'], dtype=object)"
      ]
     },
     "execution_count": 14,
     "metadata": {},
     "output_type": "execute_result"
    }
   ],
   "source": [
    "train_df['사고유형'].unique()\n",
    "accident_df['사고유형'].unique()\n",
    "test_df['사고유형'].unique()"
   ]
  },
  {
   "cell_type": "markdown",
   "id": "fd65005c",
   "metadata": {},
   "source": [
    "=> train, accident '기상상태'에는 안개가 있고 test '기상상태'에는 안개가 없어 삭제\n",
    "\n",
    "=> accident '노면상태'에는 해빙, nan가 있고 train test에는 없어 삭제\n",
    "\n",
    "=> accident '사고유형'에는 철길건널목이 있고 train, test에는 없어 삭제"
   ]
  },
  {
   "cell_type": "code",
   "execution_count": 15,
   "id": "7ed0202d",
   "metadata": {
    "ExecuteTime": {
     "end_time": "2024-01-30T03:24:25.431087Z",
     "start_time": "2024-01-30T03:24:25.219793Z"
    },
    "scrolled": true
   },
   "outputs": [
    {
     "data": {
      "text/plain": [
       "array(['맑음', '흐림', '눈', '기타', '비'], dtype=object)"
      ]
     },
     "execution_count": 15,
     "metadata": {},
     "output_type": "execute_result"
    }
   ],
   "source": [
    "# '기상상태'에서 '안개' 삭제\n",
    "\n",
    "train_df = train_df[train_df['기상상태'] != '안개']\n",
    "accident_df = accident_df[accident_df['기상상태'] != '안개']\n",
    "\n",
    "train_df['기상상태'].unique()\n",
    "accident_df['기상상태'].unique()"
   ]
  },
  {
   "cell_type": "code",
   "execution_count": 16,
   "id": "d3921206",
   "metadata": {
    "ExecuteTime": {
     "end_time": "2024-01-30T03:24:25.815135Z",
     "start_time": "2024-01-30T03:24:25.432115Z"
    }
   },
   "outputs": [
    {
     "data": {
      "text/plain": [
       "array(['건조', '젖음/습기', '기타', '서리/결빙', '적설', '침수'], dtype=object)"
      ]
     },
     "execution_count": 16,
     "metadata": {},
     "output_type": "execute_result"
    }
   ],
   "source": [
    "# '노면상태'에서 '해빙', nan 삭제\n",
    "\n",
    "accident_df = accident_df[accident_df['노면상태'] != '해빙']\n",
    "accident_df = accident_df[~accident_df['노면상태'].isnull()]\n",
    "\n",
    "accident_df['노면상태'].unique()"
   ]
  },
  {
   "cell_type": "code",
   "execution_count": 17,
   "id": "bfab5d13",
   "metadata": {
    "ExecuteTime": {
     "end_time": "2024-01-30T03:24:26.038808Z",
     "start_time": "2024-01-30T03:24:25.816134Z"
    }
   },
   "outputs": [
    {
     "data": {
      "text/plain": [
       "array(['차대사람', '차대차', '차량단독'], dtype=object)"
      ]
     },
     "execution_count": 17,
     "metadata": {},
     "output_type": "execute_result"
    }
   ],
   "source": [
    "# '사고유형'에서 '철길건널목' 삭제\n",
    "\n",
    "accident_df = accident_df[accident_df['사고유형'] != '철길건널목']\n",
    "\n",
    "accident_df['사고유형'].unique()"
   ]
  },
  {
   "cell_type": "markdown",
   "id": "5be404e6",
   "metadata": {},
   "source": [
    "## 시군구, 날짜, 도로형태, 사고 유형 분리 분리하기"
   ]
  },
  {
   "cell_type": "code",
   "execution_count": 18,
   "id": "368f7d73",
   "metadata": {
    "ExecuteTime": {
     "end_time": "2024-01-30T03:25:03.576439Z",
     "start_time": "2024-01-30T03:24:26.039807Z"
    }
   },
   "outputs": [],
   "source": [
    "# accident_df에 '시군구'를 나눌 때 결측치가 발생하므로 따로 처리\n",
    "\n",
    "for i in range(len(accident_df)):\n",
    "    name = accident_df.iloc[i]['시군구']\n",
    "    name_lst = name.split()\n",
    "\n",
    "    if len(name_lst) == 2:\n",
    "        re_name = f'{name_lst[0]}{name_lst[0]}{name_lst[0]}'\n",
    "        accident_df.loc[i, '시군구'] = re_name"
   ]
  },
  {
   "cell_type": "code",
   "execution_count": 19,
   "id": "c441577b",
   "metadata": {
    "ExecuteTime": {
     "end_time": "2024-01-30T03:25:03.580825Z",
     "start_time": "2024-01-30T03:25:03.577439Z"
    }
   },
   "outputs": [],
   "source": [
    "# 시군구 나누는 함수 구현\n",
    "\n",
    "def si_gun_gu(df):\n",
    "    lst = df['시군구'].str.split(' ')\n",
    "    df['시'] = lst.str[0]\n",
    "    df['군'] = lst.str[1]\n",
    "    df['구'] = lst.str[2]\n",
    "    return df"
   ]
  },
  {
   "cell_type": "code",
   "execution_count": 20,
   "id": "92ba90be",
   "metadata": {
    "ExecuteTime": {
     "end_time": "2024-01-30T03:25:05.314822Z",
     "start_time": "2024-01-30T03:25:03.581826Z"
    },
    "scrolled": true
   },
   "outputs": [
    {
     "data": {
      "text/html": [
       "<div>\n",
       "<style scoped>\n",
       "    .dataframe tbody tr th:only-of-type {\n",
       "        vertical-align: middle;\n",
       "    }\n",
       "\n",
       "    .dataframe tbody tr th {\n",
       "        vertical-align: top;\n",
       "    }\n",
       "\n",
       "    .dataframe thead th {\n",
       "        text-align: right;\n",
       "    }\n",
       "</style>\n",
       "<table border=\"1\" class=\"dataframe\">\n",
       "  <thead>\n",
       "    <tr style=\"text-align: right;\">\n",
       "      <th></th>\n",
       "      <th>ID</th>\n",
       "      <th>사고일시</th>\n",
       "      <th>요일</th>\n",
       "      <th>기상상태</th>\n",
       "      <th>시군구</th>\n",
       "      <th>도로형태</th>\n",
       "      <th>노면상태</th>\n",
       "      <th>사고유형</th>\n",
       "      <th>사고유형 - 세부분류</th>\n",
       "      <th>법규위반</th>\n",
       "      <th>...</th>\n",
       "      <th>피해운전자 연령</th>\n",
       "      <th>피해운전자 상해정도</th>\n",
       "      <th>사망자수</th>\n",
       "      <th>중상자수</th>\n",
       "      <th>경상자수</th>\n",
       "      <th>부상자수</th>\n",
       "      <th>ECLO</th>\n",
       "      <th>시</th>\n",
       "      <th>군</th>\n",
       "      <th>구</th>\n",
       "    </tr>\n",
       "  </thead>\n",
       "  <tbody>\n",
       "    <tr>\n",
       "      <th>0</th>\n",
       "      <td>COUNTRYWIDE_ACCIDENT_000000</td>\n",
       "      <td>2019-01-01 00</td>\n",
       "      <td>화요일</td>\n",
       "      <td>맑음</td>\n",
       "      <td>서울특별시 강서구 방화동</td>\n",
       "      <td>교차로 - 교차로횡단보도내</td>\n",
       "      <td>건조</td>\n",
       "      <td>차대사람</td>\n",
       "      <td>횡단중</td>\n",
       "      <td>보행자보호의무위반</td>\n",
       "      <td>...</td>\n",
       "      <td>40세</td>\n",
       "      <td>경상</td>\n",
       "      <td>0.0</td>\n",
       "      <td>0.0</td>\n",
       "      <td>1.0</td>\n",
       "      <td>0.0</td>\n",
       "      <td>3.0</td>\n",
       "      <td>서울특별시</td>\n",
       "      <td>강서구</td>\n",
       "      <td>방화동</td>\n",
       "    </tr>\n",
       "    <tr>\n",
       "      <th>1</th>\n",
       "      <td>COUNTRYWIDE_ACCIDENT_000001</td>\n",
       "      <td>2019-01-01 00</td>\n",
       "      <td>화요일</td>\n",
       "      <td>맑음</td>\n",
       "      <td>경기도 포천시 소흘읍</td>\n",
       "      <td>교차로 - 교차로안</td>\n",
       "      <td>건조</td>\n",
       "      <td>차대차</td>\n",
       "      <td>기타</td>\n",
       "      <td>직진우회전진행방해</td>\n",
       "      <td>...</td>\n",
       "      <td>20세</td>\n",
       "      <td>경상</td>\n",
       "      <td>0.0</td>\n",
       "      <td>0.0</td>\n",
       "      <td>1.0</td>\n",
       "      <td>0.0</td>\n",
       "      <td>3.0</td>\n",
       "      <td>경기도</td>\n",
       "      <td>포천시</td>\n",
       "      <td>소흘읍</td>\n",
       "    </tr>\n",
       "    <tr>\n",
       "      <th>2</th>\n",
       "      <td>COUNTRYWIDE_ACCIDENT_000002</td>\n",
       "      <td>2019-01-01 00</td>\n",
       "      <td>화요일</td>\n",
       "      <td>맑음</td>\n",
       "      <td>경기도 양주시 고암동</td>\n",
       "      <td>교차로 - 교차로안</td>\n",
       "      <td>건조</td>\n",
       "      <td>차대차</td>\n",
       "      <td>측면충돌</td>\n",
       "      <td>신호위반</td>\n",
       "      <td>...</td>\n",
       "      <td>17세</td>\n",
       "      <td>중상</td>\n",
       "      <td>0.0</td>\n",
       "      <td>1.0</td>\n",
       "      <td>0.0</td>\n",
       "      <td>0.0</td>\n",
       "      <td>5.0</td>\n",
       "      <td>경기도</td>\n",
       "      <td>양주시</td>\n",
       "      <td>고암동</td>\n",
       "    </tr>\n",
       "  </tbody>\n",
       "</table>\n",
       "<p>3 rows × 26 columns</p>\n",
       "</div>"
      ],
      "text/plain": [
       "                            ID           사고일시   요일 기상상태            시군구  \\\n",
       "0  COUNTRYWIDE_ACCIDENT_000000  2019-01-01 00  화요일   맑음  서울특별시 강서구 방화동   \n",
       "1  COUNTRYWIDE_ACCIDENT_000001  2019-01-01 00  화요일   맑음    경기도 포천시 소흘읍   \n",
       "2  COUNTRYWIDE_ACCIDENT_000002  2019-01-01 00  화요일   맑음    경기도 양주시 고암동   \n",
       "\n",
       "             도로형태 노면상태  사고유형 사고유형 - 세부분류       법규위반  ... 피해운전자 연령 피해운전자 상해정도  \\\n",
       "0  교차로 - 교차로횡단보도내   건조  차대사람         횡단중  보행자보호의무위반  ...      40세         경상   \n",
       "1      교차로 - 교차로안   건조   차대차          기타  직진우회전진행방해  ...      20세         경상   \n",
       "2      교차로 - 교차로안   건조   차대차        측면충돌       신호위반  ...      17세         중상   \n",
       "\n",
       "  사망자수 중상자수 경상자수 부상자수 ECLO      시    군    구  \n",
       "0  0.0  0.0  1.0  0.0  3.0  서울특별시  강서구  방화동  \n",
       "1  0.0  0.0  1.0  0.0  3.0    경기도  포천시  소흘읍  \n",
       "2  0.0  1.0  0.0  0.0  5.0    경기도  양주시  고암동  \n",
       "\n",
       "[3 rows x 26 columns]"
      ]
     },
     "execution_count": 20,
     "metadata": {},
     "output_type": "execute_result"
    }
   ],
   "source": [
    "train_df = si_gun_gu(train_df)\n",
    "test_df = si_gun_gu(test_df)\n",
    "accident_df = si_gun_gu(accident_df)\n",
    "\n",
    "train_df.head(3)\n",
    "test_df.head(3)\n",
    "accident_df.head(3)"
   ]
  },
  {
   "cell_type": "code",
   "execution_count": 21,
   "id": "cabf7dc6",
   "metadata": {
    "ExecuteTime": {
     "end_time": "2024-01-30T03:25:05.320549Z",
     "start_time": "2024-01-30T03:25:05.315823Z"
    }
   },
   "outputs": [],
   "source": [
    "# 사고일시를 나누는 함수 \n",
    "\n",
    "def year_mon_day(df):\n",
    "    df['사고일시'] = pd.to_datetime(df['사고일시'])\n",
    "    df['연'] = df['사고일시'].dt.year\n",
    "    df['월'] = df['사고일시'].dt.month\n",
    "    df['일'] = df['사고일시'].dt.day\n",
    "    df['요일'] = df['사고일시'].dt.day_of_week # 0:월 ~ 6일요일\n",
    "    df['시간'] = df['사고일시'].dt.hour\n",
    "    return df"
   ]
  },
  {
   "cell_type": "code",
   "execution_count": 22,
   "id": "b8b32382",
   "metadata": {
    "ExecuteTime": {
     "end_time": "2024-01-30T03:25:10.582786Z",
     "start_time": "2024-01-30T03:25:05.322548Z"
    }
   },
   "outputs": [
    {
     "data": {
      "text/html": [
       "<div>\n",
       "<style scoped>\n",
       "    .dataframe tbody tr th:only-of-type {\n",
       "        vertical-align: middle;\n",
       "    }\n",
       "\n",
       "    .dataframe tbody tr th {\n",
       "        vertical-align: top;\n",
       "    }\n",
       "\n",
       "    .dataframe thead th {\n",
       "        text-align: right;\n",
       "    }\n",
       "</style>\n",
       "<table border=\"1\" class=\"dataframe\">\n",
       "  <thead>\n",
       "    <tr style=\"text-align: right;\">\n",
       "      <th></th>\n",
       "      <th>ID</th>\n",
       "      <th>사고일시</th>\n",
       "      <th>요일</th>\n",
       "      <th>기상상태</th>\n",
       "      <th>시군구</th>\n",
       "      <th>도로형태</th>\n",
       "      <th>노면상태</th>\n",
       "      <th>사고유형</th>\n",
       "      <th>사고유형 - 세부분류</th>\n",
       "      <th>법규위반</th>\n",
       "      <th>...</th>\n",
       "      <th>경상자수</th>\n",
       "      <th>부상자수</th>\n",
       "      <th>ECLO</th>\n",
       "      <th>시</th>\n",
       "      <th>군</th>\n",
       "      <th>구</th>\n",
       "      <th>연</th>\n",
       "      <th>월</th>\n",
       "      <th>일</th>\n",
       "      <th>시간</th>\n",
       "    </tr>\n",
       "  </thead>\n",
       "  <tbody>\n",
       "    <tr>\n",
       "      <th>0</th>\n",
       "      <td>COUNTRYWIDE_ACCIDENT_000000</td>\n",
       "      <td>2019-01-01</td>\n",
       "      <td>1.0</td>\n",
       "      <td>맑음</td>\n",
       "      <td>서울특별시 강서구 방화동</td>\n",
       "      <td>교차로 - 교차로횡단보도내</td>\n",
       "      <td>건조</td>\n",
       "      <td>차대사람</td>\n",
       "      <td>횡단중</td>\n",
       "      <td>보행자보호의무위반</td>\n",
       "      <td>...</td>\n",
       "      <td>1.0</td>\n",
       "      <td>0.0</td>\n",
       "      <td>3.0</td>\n",
       "      <td>서울특별시</td>\n",
       "      <td>강서구</td>\n",
       "      <td>방화동</td>\n",
       "      <td>2019.0</td>\n",
       "      <td>1.0</td>\n",
       "      <td>1.0</td>\n",
       "      <td>0.0</td>\n",
       "    </tr>\n",
       "    <tr>\n",
       "      <th>1</th>\n",
       "      <td>COUNTRYWIDE_ACCIDENT_000001</td>\n",
       "      <td>2019-01-01</td>\n",
       "      <td>1.0</td>\n",
       "      <td>맑음</td>\n",
       "      <td>경기도 포천시 소흘읍</td>\n",
       "      <td>교차로 - 교차로안</td>\n",
       "      <td>건조</td>\n",
       "      <td>차대차</td>\n",
       "      <td>기타</td>\n",
       "      <td>직진우회전진행방해</td>\n",
       "      <td>...</td>\n",
       "      <td>1.0</td>\n",
       "      <td>0.0</td>\n",
       "      <td>3.0</td>\n",
       "      <td>경기도</td>\n",
       "      <td>포천시</td>\n",
       "      <td>소흘읍</td>\n",
       "      <td>2019.0</td>\n",
       "      <td>1.0</td>\n",
       "      <td>1.0</td>\n",
       "      <td>0.0</td>\n",
       "    </tr>\n",
       "    <tr>\n",
       "      <th>2</th>\n",
       "      <td>COUNTRYWIDE_ACCIDENT_000002</td>\n",
       "      <td>2019-01-01</td>\n",
       "      <td>1.0</td>\n",
       "      <td>맑음</td>\n",
       "      <td>경기도 양주시 고암동</td>\n",
       "      <td>교차로 - 교차로안</td>\n",
       "      <td>건조</td>\n",
       "      <td>차대차</td>\n",
       "      <td>측면충돌</td>\n",
       "      <td>신호위반</td>\n",
       "      <td>...</td>\n",
       "      <td>0.0</td>\n",
       "      <td>0.0</td>\n",
       "      <td>5.0</td>\n",
       "      <td>경기도</td>\n",
       "      <td>양주시</td>\n",
       "      <td>고암동</td>\n",
       "      <td>2019.0</td>\n",
       "      <td>1.0</td>\n",
       "      <td>1.0</td>\n",
       "      <td>0.0</td>\n",
       "    </tr>\n",
       "  </tbody>\n",
       "</table>\n",
       "<p>3 rows × 30 columns</p>\n",
       "</div>"
      ],
      "text/plain": [
       "                            ID       사고일시   요일 기상상태            시군구  \\\n",
       "0  COUNTRYWIDE_ACCIDENT_000000 2019-01-01  1.0   맑음  서울특별시 강서구 방화동   \n",
       "1  COUNTRYWIDE_ACCIDENT_000001 2019-01-01  1.0   맑음    경기도 포천시 소흘읍   \n",
       "2  COUNTRYWIDE_ACCIDENT_000002 2019-01-01  1.0   맑음    경기도 양주시 고암동   \n",
       "\n",
       "             도로형태 노면상태  사고유형 사고유형 - 세부분류       법규위반  ... 경상자수 부상자수 ECLO  \\\n",
       "0  교차로 - 교차로횡단보도내   건조  차대사람         횡단중  보행자보호의무위반  ...  1.0  0.0  3.0   \n",
       "1      교차로 - 교차로안   건조   차대차          기타  직진우회전진행방해  ...  1.0  0.0  3.0   \n",
       "2      교차로 - 교차로안   건조   차대차        측면충돌       신호위반  ...  0.0  0.0  5.0   \n",
       "\n",
       "       시    군    구       연    월    일   시간  \n",
       "0  서울특별시  강서구  방화동  2019.0  1.0  1.0  0.0  \n",
       "1    경기도  포천시  소흘읍  2019.0  1.0  1.0  0.0  \n",
       "2    경기도  양주시  고암동  2019.0  1.0  1.0  0.0  \n",
       "\n",
       "[3 rows x 30 columns]"
      ]
     },
     "execution_count": 22,
     "metadata": {},
     "output_type": "execute_result"
    }
   ],
   "source": [
    "train_df = year_mon_day(train_df)\n",
    "test_df = year_mon_day(test_df)\n",
    "accident_df = year_mon_day(accident_df)\n",
    "\n",
    "train_df.head(3)\n",
    "test_df.head(3)\n",
    "accident_df.head(3)"
   ]
  },
  {
   "cell_type": "code",
   "execution_count": 23,
   "id": "f6d380e9",
   "metadata": {
    "ExecuteTime": {
     "end_time": "2024-01-30T03:25:10.586807Z",
     "start_time": "2024-01-30T03:25:10.583787Z"
    }
   },
   "outputs": [],
   "source": [
    "# 도로형태를 '-'를 기준으로 분리하는 함수 구현\n",
    "def road(df):\n",
    "    lst = df['도로형태'].str.split(' - ')\n",
    "    df['도로형태 - 대분류'] = lst.str[0]\n",
    "    df['도로형태 - 소분류'] = lst.str[1]\n",
    "    return df"
   ]
  },
  {
   "cell_type": "code",
   "execution_count": 24,
   "id": "cd275ca6",
   "metadata": {
    "ExecuteTime": {
     "end_time": "2024-01-30T03:25:13.641242Z",
     "start_time": "2024-01-30T03:25:10.587808Z"
    }
   },
   "outputs": [
    {
     "data": {
      "text/html": [
       "<div>\n",
       "<style scoped>\n",
       "    .dataframe tbody tr th:only-of-type {\n",
       "        vertical-align: middle;\n",
       "    }\n",
       "\n",
       "    .dataframe tbody tr th {\n",
       "        vertical-align: top;\n",
       "    }\n",
       "\n",
       "    .dataframe thead th {\n",
       "        text-align: right;\n",
       "    }\n",
       "</style>\n",
       "<table border=\"1\" class=\"dataframe\">\n",
       "  <thead>\n",
       "    <tr style=\"text-align: right;\">\n",
       "      <th></th>\n",
       "      <th>ID</th>\n",
       "      <th>사고일시</th>\n",
       "      <th>요일</th>\n",
       "      <th>기상상태</th>\n",
       "      <th>시군구</th>\n",
       "      <th>도로형태</th>\n",
       "      <th>노면상태</th>\n",
       "      <th>사고유형</th>\n",
       "      <th>사고유형 - 세부분류</th>\n",
       "      <th>법규위반</th>\n",
       "      <th>...</th>\n",
       "      <th>ECLO</th>\n",
       "      <th>시</th>\n",
       "      <th>군</th>\n",
       "      <th>구</th>\n",
       "      <th>연</th>\n",
       "      <th>월</th>\n",
       "      <th>일</th>\n",
       "      <th>시간</th>\n",
       "      <th>도로형태 - 대분류</th>\n",
       "      <th>도로형태 - 소분류</th>\n",
       "    </tr>\n",
       "  </thead>\n",
       "  <tbody>\n",
       "    <tr>\n",
       "      <th>0</th>\n",
       "      <td>COUNTRYWIDE_ACCIDENT_000000</td>\n",
       "      <td>2019-01-01</td>\n",
       "      <td>1.0</td>\n",
       "      <td>맑음</td>\n",
       "      <td>서울특별시 강서구 방화동</td>\n",
       "      <td>교차로 - 교차로횡단보도내</td>\n",
       "      <td>건조</td>\n",
       "      <td>차대사람</td>\n",
       "      <td>횡단중</td>\n",
       "      <td>보행자보호의무위반</td>\n",
       "      <td>...</td>\n",
       "      <td>3.0</td>\n",
       "      <td>서울특별시</td>\n",
       "      <td>강서구</td>\n",
       "      <td>방화동</td>\n",
       "      <td>2019.0</td>\n",
       "      <td>1.0</td>\n",
       "      <td>1.0</td>\n",
       "      <td>0.0</td>\n",
       "      <td>교차로</td>\n",
       "      <td>교차로횡단보도내</td>\n",
       "    </tr>\n",
       "    <tr>\n",
       "      <th>1</th>\n",
       "      <td>COUNTRYWIDE_ACCIDENT_000001</td>\n",
       "      <td>2019-01-01</td>\n",
       "      <td>1.0</td>\n",
       "      <td>맑음</td>\n",
       "      <td>경기도 포천시 소흘읍</td>\n",
       "      <td>교차로 - 교차로안</td>\n",
       "      <td>건조</td>\n",
       "      <td>차대차</td>\n",
       "      <td>기타</td>\n",
       "      <td>직진우회전진행방해</td>\n",
       "      <td>...</td>\n",
       "      <td>3.0</td>\n",
       "      <td>경기도</td>\n",
       "      <td>포천시</td>\n",
       "      <td>소흘읍</td>\n",
       "      <td>2019.0</td>\n",
       "      <td>1.0</td>\n",
       "      <td>1.0</td>\n",
       "      <td>0.0</td>\n",
       "      <td>교차로</td>\n",
       "      <td>교차로안</td>\n",
       "    </tr>\n",
       "  </tbody>\n",
       "</table>\n",
       "<p>2 rows × 32 columns</p>\n",
       "</div>"
      ],
      "text/plain": [
       "                            ID       사고일시   요일 기상상태            시군구  \\\n",
       "0  COUNTRYWIDE_ACCIDENT_000000 2019-01-01  1.0   맑음  서울특별시 강서구 방화동   \n",
       "1  COUNTRYWIDE_ACCIDENT_000001 2019-01-01  1.0   맑음    경기도 포천시 소흘읍   \n",
       "\n",
       "             도로형태 노면상태  사고유형 사고유형 - 세부분류       법규위반  ... ECLO      시    군  \\\n",
       "0  교차로 - 교차로횡단보도내   건조  차대사람         횡단중  보행자보호의무위반  ...  3.0  서울특별시  강서구   \n",
       "1      교차로 - 교차로안   건조   차대차          기타  직진우회전진행방해  ...  3.0    경기도  포천시   \n",
       "\n",
       "     구       연    월    일   시간  도로형태 - 대분류  도로형태 - 소분류  \n",
       "0  방화동  2019.0  1.0  1.0  0.0         교차로    교차로횡단보도내  \n",
       "1  소흘읍  2019.0  1.0  1.0  0.0         교차로        교차로안  \n",
       "\n",
       "[2 rows x 32 columns]"
      ]
     },
     "execution_count": 24,
     "metadata": {},
     "output_type": "execute_result"
    }
   ],
   "source": [
    "train_df = road(train_df)\n",
    "test_df = road(test_df)\n",
    "accident_df = road(accident_df)\n",
    "\n",
    "train_df.head(2)\n",
    "test_df.head(2)\n",
    "accident_df.head(2)"
   ]
  },
  {
   "cell_type": "code",
   "execution_count": 25,
   "id": "cb57b6fe",
   "metadata": {
    "ExecuteTime": {
     "end_time": "2024-01-30T03:25:13.645669Z",
     "start_time": "2024-01-30T03:25:13.642242Z"
    }
   },
   "outputs": [],
   "source": [
    "# 사고 유형 분리하기\n",
    "# 사고 유형은 차대차, 차대 사람, 차량단독\n",
    "def car_people(df):\n",
    "    pattern = r'(\\S)(\\S)(\\S+)'\n",
    "    df[['사고유형1', '대', '사고유형2']] = df['사고유형'].str.extract(pattern)\n",
    "\n",
    "    return df"
   ]
  },
  {
   "cell_type": "code",
   "execution_count": 26,
   "id": "ba208d18",
   "metadata": {
    "ExecuteTime": {
     "end_time": "2024-01-30T03:25:17.391842Z",
     "start_time": "2024-01-30T03:25:13.646667Z"
    }
   },
   "outputs": [],
   "source": [
    "train_df = car_people(train_df)\n",
    "test_df = car_people(test_df)\n",
    "accident_df = car_people(accident_df)"
   ]
  },
  {
   "cell_type": "code",
   "execution_count": 27,
   "id": "df939145",
   "metadata": {
    "ExecuteTime": {
     "end_time": "2024-01-30T03:25:17.652069Z",
     "start_time": "2024-01-30T03:25:17.395834Z"
    }
   },
   "outputs": [],
   "source": [
    "# 필요없는 col 제거\n",
    "train_df = train_df.drop(['사고일시', '시군구', '도로형태', '사고유형', '대'], axis = 1)\n",
    "test_df = test_df.drop(['사고일시', '시군구', '도로형태', '사고유형', '대'], axis = 1)\n",
    "accident_df = accident_df.drop(['사고일시', '시군구', '도로형태', '사고유형', '대'], axis = 1)"
   ]
  },
  {
   "cell_type": "code",
   "execution_count": 28,
   "id": "189ed046",
   "metadata": {
    "ExecuteTime": {
     "end_time": "2024-01-30T03:25:17.662105Z",
     "start_time": "2024-01-30T03:25:17.653070Z"
    }
   },
   "outputs": [
    {
     "data": {
      "text/html": [
       "<div>\n",
       "<style scoped>\n",
       "    .dataframe tbody tr th:only-of-type {\n",
       "        vertical-align: middle;\n",
       "    }\n",
       "\n",
       "    .dataframe tbody tr th {\n",
       "        vertical-align: top;\n",
       "    }\n",
       "\n",
       "    .dataframe thead th {\n",
       "        text-align: right;\n",
       "    }\n",
       "</style>\n",
       "<table border=\"1\" class=\"dataframe\">\n",
       "  <thead>\n",
       "    <tr style=\"text-align: right;\">\n",
       "      <th></th>\n",
       "      <th>ID</th>\n",
       "      <th>요일</th>\n",
       "      <th>기상상태</th>\n",
       "      <th>노면상태</th>\n",
       "      <th>시</th>\n",
       "      <th>군</th>\n",
       "      <th>구</th>\n",
       "      <th>연</th>\n",
       "      <th>월</th>\n",
       "      <th>일</th>\n",
       "      <th>시간</th>\n",
       "      <th>도로형태 - 대분류</th>\n",
       "      <th>도로형태 - 소분류</th>\n",
       "      <th>사고유형1</th>\n",
       "      <th>사고유형2</th>\n",
       "    </tr>\n",
       "  </thead>\n",
       "  <tbody>\n",
       "    <tr>\n",
       "      <th>0</th>\n",
       "      <td>ACCIDENT_39609</td>\n",
       "      <td>5</td>\n",
       "      <td>맑음</td>\n",
       "      <td>건조</td>\n",
       "      <td>대구광역시</td>\n",
       "      <td>수성구</td>\n",
       "      <td>상동</td>\n",
       "      <td>2022</td>\n",
       "      <td>1</td>\n",
       "      <td>1</td>\n",
       "      <td>1</td>\n",
       "      <td>교차로</td>\n",
       "      <td>교차로안</td>\n",
       "      <td>차</td>\n",
       "      <td>사람</td>\n",
       "    </tr>\n",
       "  </tbody>\n",
       "</table>\n",
       "</div>"
      ],
      "text/plain": [
       "               ID  요일 기상상태 노면상태      시    군   구     연  월  일  시간 도로형태 - 대분류  \\\n",
       "0  ACCIDENT_39609   5   맑음   건조  대구광역시  수성구  상동  2022  1  1   1        교차로   \n",
       "\n",
       "  도로형태 - 소분류 사고유형1 사고유형2  \n",
       "0       교차로안     차    사람  "
      ]
     },
     "execution_count": 28,
     "metadata": {},
     "output_type": "execute_result"
    }
   ],
   "source": [
    "train_df.head(1)\n",
    "test_df.head(1)"
   ]
  },
  {
   "cell_type": "code",
   "execution_count": 29,
   "id": "c1f28463",
   "metadata": {
    "ExecuteTime": {
     "end_time": "2024-01-30T03:25:17.675664Z",
     "start_time": "2024-01-30T03:25:17.663104Z"
    }
   },
   "outputs": [
    {
     "data": {
      "text/plain": [
       "array(['사람', '차', '단독'], dtype=object)"
      ]
     },
     "execution_count": 29,
     "metadata": {},
     "output_type": "execute_result"
    }
   ],
   "source": [
    "train_df['사고유형1'].unique()\n",
    "train_df['사고유형2'].unique()"
   ]
  },
  {
   "cell_type": "markdown",
   "id": "0937a566",
   "metadata": {},
   "source": [
    "## 필요한 col만"
   ]
  },
  {
   "cell_type": "code",
   "execution_count": 30,
   "id": "5a3b5e3a",
   "metadata": {
    "ExecuteTime": {
     "end_time": "2024-01-30T03:25:17.735685Z",
     "start_time": "2024-01-30T03:25:17.676664Z"
    }
   },
   "outputs": [],
   "source": [
    "X_test = test_df.drop(['ID'], axis = 1).copy()\n",
    "X_train = train_df[X_test.columns].copy()\n",
    "y_train = train_df['ECLO'].copy()"
   ]
  },
  {
   "cell_type": "code",
   "execution_count": 31,
   "id": "8b30c795",
   "metadata": {
    "ExecuteTime": {
     "end_time": "2024-01-30T03:25:17.741127Z",
     "start_time": "2024-01-30T03:25:17.736685Z"
    }
   },
   "outputs": [
    {
     "data": {
      "text/plain": [
       "0    5\n",
       "Name: ECLO, dtype: int64"
      ]
     },
     "execution_count": 31,
     "metadata": {},
     "output_type": "execute_result"
    }
   ],
   "source": [
    "X_test.head(1)\n",
    "X_train.head(1)\n",
    "y_train.head(1)"
   ]
  },
  {
   "cell_type": "markdown",
   "id": "59f67f21",
   "metadata": {},
   "source": [
    "## 범주형 -> 수치형"
   ]
  },
  {
   "cell_type": "code",
   "execution_count": 32,
   "id": "f0ccd245",
   "metadata": {
    "ExecuteTime": {
     "end_time": "2024-01-30T03:25:18.012749Z",
     "start_time": "2024-01-30T03:25:17.742129Z"
    }
   },
   "outputs": [],
   "source": [
    "# onehotencoding 이용\n",
    "# X_train. X_test만 실행\n",
    "\n",
    "num_col = ['요일', '연', '월', '일', '시간']\n",
    "cat_col = ['기상상태', '노면상태', '시', '군', '구', '도로형태 - 대분류', '도로형태 - 소분류', '사고유형1', '사고유형2']\n",
    "X = pd.concat([X_train, X_test])\n",
    "ohe = OneHotEncoder(handle_unknown = 'ignore')\n",
    "ohe.fit(X[cat_col])\n",
    "\n",
    "X_train_res = ohe.transform(X_train[cat_col])\n",
    "X_test_res = ohe.transform(X_test[cat_col])\n",
    "\n",
    "X_train_ohe = pd.DataFrame(X_train_res.todense(), columns = ohe.get_feature_names_out())\n",
    "X_test_ohe = pd.DataFrame(X_test_res.todense(), columns = ohe.get_feature_names_out())\n",
    "\n",
    "X_train_res = pd.concat([X_train_ohe, X_train[num_col].reset_index(drop = True)], axis = 1)\n",
    "X_test_res = pd.concat([X_test_ohe, X_test[num_col]], axis = 1)"
   ]
  },
  {
   "cell_type": "code",
   "execution_count": 33,
   "id": "fe88adfb",
   "metadata": {
    "ExecuteTime": {
     "end_time": "2024-01-30T03:25:18.045111Z",
     "start_time": "2024-01-30T03:25:18.013748Z"
    }
   },
   "outputs": [
    {
     "data": {
      "text/html": [
       "<div>\n",
       "<style scoped>\n",
       "    .dataframe tbody tr th:only-of-type {\n",
       "        vertical-align: middle;\n",
       "    }\n",
       "\n",
       "    .dataframe tbody tr th {\n",
       "        vertical-align: top;\n",
       "    }\n",
       "\n",
       "    .dataframe thead th {\n",
       "        text-align: right;\n",
       "    }\n",
       "</style>\n",
       "<table border=\"1\" class=\"dataframe\">\n",
       "  <thead>\n",
       "    <tr style=\"text-align: right;\">\n",
       "      <th></th>\n",
       "      <th>기상상태_기타</th>\n",
       "      <th>기상상태_눈</th>\n",
       "      <th>기상상태_맑음</th>\n",
       "      <th>기상상태_비</th>\n",
       "      <th>기상상태_흐림</th>\n",
       "      <th>노면상태_건조</th>\n",
       "      <th>노면상태_기타</th>\n",
       "      <th>노면상태_서리/결빙</th>\n",
       "      <th>노면상태_적설</th>\n",
       "      <th>노면상태_젖음/습기</th>\n",
       "      <th>...</th>\n",
       "      <th>도로형태 - 소분류_터널</th>\n",
       "      <th>사고유형1_차</th>\n",
       "      <th>사고유형2_단독</th>\n",
       "      <th>사고유형2_사람</th>\n",
       "      <th>사고유형2_차</th>\n",
       "      <th>요일</th>\n",
       "      <th>연</th>\n",
       "      <th>월</th>\n",
       "      <th>일</th>\n",
       "      <th>시간</th>\n",
       "    </tr>\n",
       "  </thead>\n",
       "  <tbody>\n",
       "    <tr>\n",
       "      <th>0</th>\n",
       "      <td>0.0</td>\n",
       "      <td>0.0</td>\n",
       "      <td>1.0</td>\n",
       "      <td>0.0</td>\n",
       "      <td>0.0</td>\n",
       "      <td>1.0</td>\n",
       "      <td>0.0</td>\n",
       "      <td>0.0</td>\n",
       "      <td>0.0</td>\n",
       "      <td>0.0</td>\n",
       "      <td>...</td>\n",
       "      <td>0.0</td>\n",
       "      <td>1.0</td>\n",
       "      <td>0.0</td>\n",
       "      <td>1.0</td>\n",
       "      <td>0.0</td>\n",
       "      <td>1</td>\n",
       "      <td>2019</td>\n",
       "      <td>1</td>\n",
       "      <td>1</td>\n",
       "      <td>0</td>\n",
       "    </tr>\n",
       "    <tr>\n",
       "      <th>1</th>\n",
       "      <td>0.0</td>\n",
       "      <td>0.0</td>\n",
       "      <td>0.0</td>\n",
       "      <td>0.0</td>\n",
       "      <td>1.0</td>\n",
       "      <td>1.0</td>\n",
       "      <td>0.0</td>\n",
       "      <td>0.0</td>\n",
       "      <td>0.0</td>\n",
       "      <td>0.0</td>\n",
       "      <td>...</td>\n",
       "      <td>0.0</td>\n",
       "      <td>1.0</td>\n",
       "      <td>0.0</td>\n",
       "      <td>1.0</td>\n",
       "      <td>0.0</td>\n",
       "      <td>1</td>\n",
       "      <td>2019</td>\n",
       "      <td>1</td>\n",
       "      <td>1</td>\n",
       "      <td>0</td>\n",
       "    </tr>\n",
       "    <tr>\n",
       "      <th>2</th>\n",
       "      <td>0.0</td>\n",
       "      <td>0.0</td>\n",
       "      <td>1.0</td>\n",
       "      <td>0.0</td>\n",
       "      <td>0.0</td>\n",
       "      <td>1.0</td>\n",
       "      <td>0.0</td>\n",
       "      <td>0.0</td>\n",
       "      <td>0.0</td>\n",
       "      <td>0.0</td>\n",
       "      <td>...</td>\n",
       "      <td>0.0</td>\n",
       "      <td>1.0</td>\n",
       "      <td>0.0</td>\n",
       "      <td>1.0</td>\n",
       "      <td>0.0</td>\n",
       "      <td>1</td>\n",
       "      <td>2019</td>\n",
       "      <td>1</td>\n",
       "      <td>1</td>\n",
       "      <td>1</td>\n",
       "    </tr>\n",
       "    <tr>\n",
       "      <th>3</th>\n",
       "      <td>0.0</td>\n",
       "      <td>0.0</td>\n",
       "      <td>1.0</td>\n",
       "      <td>0.0</td>\n",
       "      <td>0.0</td>\n",
       "      <td>1.0</td>\n",
       "      <td>0.0</td>\n",
       "      <td>0.0</td>\n",
       "      <td>0.0</td>\n",
       "      <td>0.0</td>\n",
       "      <td>...</td>\n",
       "      <td>0.0</td>\n",
       "      <td>1.0</td>\n",
       "      <td>0.0</td>\n",
       "      <td>0.0</td>\n",
       "      <td>1.0</td>\n",
       "      <td>1</td>\n",
       "      <td>2019</td>\n",
       "      <td>1</td>\n",
       "      <td>1</td>\n",
       "      <td>2</td>\n",
       "    </tr>\n",
       "    <tr>\n",
       "      <th>4</th>\n",
       "      <td>0.0</td>\n",
       "      <td>0.0</td>\n",
       "      <td>1.0</td>\n",
       "      <td>0.0</td>\n",
       "      <td>0.0</td>\n",
       "      <td>1.0</td>\n",
       "      <td>0.0</td>\n",
       "      <td>0.0</td>\n",
       "      <td>0.0</td>\n",
       "      <td>0.0</td>\n",
       "      <td>...</td>\n",
       "      <td>0.0</td>\n",
       "      <td>1.0</td>\n",
       "      <td>0.0</td>\n",
       "      <td>0.0</td>\n",
       "      <td>1.0</td>\n",
       "      <td>1</td>\n",
       "      <td>2019</td>\n",
       "      <td>1</td>\n",
       "      <td>1</td>\n",
       "      <td>4</td>\n",
       "    </tr>\n",
       "    <tr>\n",
       "      <th>...</th>\n",
       "      <td>...</td>\n",
       "      <td>...</td>\n",
       "      <td>...</td>\n",
       "      <td>...</td>\n",
       "      <td>...</td>\n",
       "      <td>...</td>\n",
       "      <td>...</td>\n",
       "      <td>...</td>\n",
       "      <td>...</td>\n",
       "      <td>...</td>\n",
       "      <td>...</td>\n",
       "      <td>...</td>\n",
       "      <td>...</td>\n",
       "      <td>...</td>\n",
       "      <td>...</td>\n",
       "      <td>...</td>\n",
       "      <td>...</td>\n",
       "      <td>...</td>\n",
       "      <td>...</td>\n",
       "      <td>...</td>\n",
       "      <td>...</td>\n",
       "    </tr>\n",
       "    <tr>\n",
       "      <th>39596</th>\n",
       "      <td>0.0</td>\n",
       "      <td>0.0</td>\n",
       "      <td>1.0</td>\n",
       "      <td>0.0</td>\n",
       "      <td>0.0</td>\n",
       "      <td>1.0</td>\n",
       "      <td>0.0</td>\n",
       "      <td>0.0</td>\n",
       "      <td>0.0</td>\n",
       "      <td>0.0</td>\n",
       "      <td>...</td>\n",
       "      <td>0.0</td>\n",
       "      <td>1.0</td>\n",
       "      <td>0.0</td>\n",
       "      <td>0.0</td>\n",
       "      <td>1.0</td>\n",
       "      <td>4</td>\n",
       "      <td>2021</td>\n",
       "      <td>12</td>\n",
       "      <td>31</td>\n",
       "      <td>19</td>\n",
       "    </tr>\n",
       "    <tr>\n",
       "      <th>39597</th>\n",
       "      <td>0.0</td>\n",
       "      <td>0.0</td>\n",
       "      <td>1.0</td>\n",
       "      <td>0.0</td>\n",
       "      <td>0.0</td>\n",
       "      <td>1.0</td>\n",
       "      <td>0.0</td>\n",
       "      <td>0.0</td>\n",
       "      <td>0.0</td>\n",
       "      <td>0.0</td>\n",
       "      <td>...</td>\n",
       "      <td>0.0</td>\n",
       "      <td>1.0</td>\n",
       "      <td>0.0</td>\n",
       "      <td>0.0</td>\n",
       "      <td>1.0</td>\n",
       "      <td>4</td>\n",
       "      <td>2021</td>\n",
       "      <td>12</td>\n",
       "      <td>31</td>\n",
       "      <td>19</td>\n",
       "    </tr>\n",
       "    <tr>\n",
       "      <th>39598</th>\n",
       "      <td>0.0</td>\n",
       "      <td>0.0</td>\n",
       "      <td>1.0</td>\n",
       "      <td>0.0</td>\n",
       "      <td>0.0</td>\n",
       "      <td>1.0</td>\n",
       "      <td>0.0</td>\n",
       "      <td>0.0</td>\n",
       "      <td>0.0</td>\n",
       "      <td>0.0</td>\n",
       "      <td>...</td>\n",
       "      <td>0.0</td>\n",
       "      <td>1.0</td>\n",
       "      <td>0.0</td>\n",
       "      <td>0.0</td>\n",
       "      <td>1.0</td>\n",
       "      <td>4</td>\n",
       "      <td>2021</td>\n",
       "      <td>12</td>\n",
       "      <td>31</td>\n",
       "      <td>21</td>\n",
       "    </tr>\n",
       "    <tr>\n",
       "      <th>39599</th>\n",
       "      <td>0.0</td>\n",
       "      <td>0.0</td>\n",
       "      <td>1.0</td>\n",
       "      <td>0.0</td>\n",
       "      <td>0.0</td>\n",
       "      <td>1.0</td>\n",
       "      <td>0.0</td>\n",
       "      <td>0.0</td>\n",
       "      <td>0.0</td>\n",
       "      <td>0.0</td>\n",
       "      <td>...</td>\n",
       "      <td>0.0</td>\n",
       "      <td>1.0</td>\n",
       "      <td>0.0</td>\n",
       "      <td>0.0</td>\n",
       "      <td>1.0</td>\n",
       "      <td>4</td>\n",
       "      <td>2021</td>\n",
       "      <td>12</td>\n",
       "      <td>31</td>\n",
       "      <td>22</td>\n",
       "    </tr>\n",
       "    <tr>\n",
       "      <th>39600</th>\n",
       "      <td>0.0</td>\n",
       "      <td>0.0</td>\n",
       "      <td>1.0</td>\n",
       "      <td>0.0</td>\n",
       "      <td>0.0</td>\n",
       "      <td>1.0</td>\n",
       "      <td>0.0</td>\n",
       "      <td>0.0</td>\n",
       "      <td>0.0</td>\n",
       "      <td>0.0</td>\n",
       "      <td>...</td>\n",
       "      <td>0.0</td>\n",
       "      <td>1.0</td>\n",
       "      <td>0.0</td>\n",
       "      <td>0.0</td>\n",
       "      <td>1.0</td>\n",
       "      <td>4</td>\n",
       "      <td>2021</td>\n",
       "      <td>12</td>\n",
       "      <td>31</td>\n",
       "      <td>23</td>\n",
       "    </tr>\n",
       "  </tbody>\n",
       "</table>\n",
       "<p>39601 rows × 240 columns</p>\n",
       "</div>"
      ],
      "text/plain": [
       "       기상상태_기타  기상상태_눈  기상상태_맑음  기상상태_비  기상상태_흐림  노면상태_건조  노면상태_기타  \\\n",
       "0          0.0     0.0      1.0     0.0      0.0      1.0      0.0   \n",
       "1          0.0     0.0      0.0     0.0      1.0      1.0      0.0   \n",
       "2          0.0     0.0      1.0     0.0      0.0      1.0      0.0   \n",
       "3          0.0     0.0      1.0     0.0      0.0      1.0      0.0   \n",
       "4          0.0     0.0      1.0     0.0      0.0      1.0      0.0   \n",
       "...        ...     ...      ...     ...      ...      ...      ...   \n",
       "39596      0.0     0.0      1.0     0.0      0.0      1.0      0.0   \n",
       "39597      0.0     0.0      1.0     0.0      0.0      1.0      0.0   \n",
       "39598      0.0     0.0      1.0     0.0      0.0      1.0      0.0   \n",
       "39599      0.0     0.0      1.0     0.0      0.0      1.0      0.0   \n",
       "39600      0.0     0.0      1.0     0.0      0.0      1.0      0.0   \n",
       "\n",
       "       노면상태_서리/결빙  노면상태_적설  노면상태_젖음/습기  ...  도로형태 - 소분류_터널  사고유형1_차  사고유형2_단독  \\\n",
       "0             0.0      0.0         0.0  ...            0.0      1.0       0.0   \n",
       "1             0.0      0.0         0.0  ...            0.0      1.0       0.0   \n",
       "2             0.0      0.0         0.0  ...            0.0      1.0       0.0   \n",
       "3             0.0      0.0         0.0  ...            0.0      1.0       0.0   \n",
       "4             0.0      0.0         0.0  ...            0.0      1.0       0.0   \n",
       "...           ...      ...         ...  ...            ...      ...       ...   \n",
       "39596         0.0      0.0         0.0  ...            0.0      1.0       0.0   \n",
       "39597         0.0      0.0         0.0  ...            0.0      1.0       0.0   \n",
       "39598         0.0      0.0         0.0  ...            0.0      1.0       0.0   \n",
       "39599         0.0      0.0         0.0  ...            0.0      1.0       0.0   \n",
       "39600         0.0      0.0         0.0  ...            0.0      1.0       0.0   \n",
       "\n",
       "       사고유형2_사람  사고유형2_차  요일     연   월   일  시간  \n",
       "0           1.0      0.0   1  2019   1   1   0  \n",
       "1           1.0      0.0   1  2019   1   1   0  \n",
       "2           1.0      0.0   1  2019   1   1   1  \n",
       "3           0.0      1.0   1  2019   1   1   2  \n",
       "4           0.0      1.0   1  2019   1   1   4  \n",
       "...         ...      ...  ..   ...  ..  ..  ..  \n",
       "39596       0.0      1.0   4  2021  12  31  19  \n",
       "39597       0.0      1.0   4  2021  12  31  19  \n",
       "39598       0.0      1.0   4  2021  12  31  21  \n",
       "39599       0.0      1.0   4  2021  12  31  22  \n",
       "39600       0.0      1.0   4  2021  12  31  23  \n",
       "\n",
       "[39601 rows x 240 columns]"
      ]
     },
     "execution_count": 33,
     "metadata": {},
     "output_type": "execute_result"
    }
   ],
   "source": [
    "X_train_res"
   ]
  },
  {
   "cell_type": "markdown",
   "id": "5e6f203d",
   "metadata": {},
   "source": [
    "## 데이터 나누기"
   ]
  },
  {
   "cell_type": "code",
   "execution_count": 41,
   "id": "be4a973c",
   "metadata": {
    "ExecuteTime": {
     "end_time": "2024-01-30T03:30:27.622874Z",
     "start_time": "2024-01-30T03:30:27.544945Z"
    }
   },
   "outputs": [],
   "source": [
    "# X_tr, X_val, y_tr, y_val = train_test_split(X_train_res, y_train, test_size = 0.3)"
   ]
  },
  {
   "cell_type": "markdown",
   "id": "9c8b4f14",
   "metadata": {},
   "source": [
    "# 모델링"
   ]
  },
  {
   "cell_type": "code",
   "execution_count": 44,
   "id": "8e145a2b",
   "metadata": {
    "ExecuteTime": {
     "end_time": "2024-01-30T03:34:20.366564Z",
     "start_time": "2024-01-30T03:34:20.362263Z"
    }
   },
   "outputs": [],
   "source": [
    "# 조기종료\n",
    "# evals = [(X_tr, y_tr), (X_val, y_val)]\n",
    "xgb = XGBRegressor(\n",
    "    learning_rate=0.1,          # 학습률\n",
    "    random_state=42,\n",
    "    verbosity=0,                # 로그 출력을 최소화합니다.\n",
    "    n_estimators=100,           # 트리의 개수\n",
    "    max_depth=6,                # 트리의 최대 깊이\n",
    "    n_jobs=-1\n",
    "#     early_stopping_rounds = 50, \n",
    "#     eval_set = evals\n",
    ")\n",
    "\n",
    "# LGBM\n",
    "lgb = LGBMRegressor(\n",
    "    n_estimators = 700,\n",
    "    max_depth = 30,\n",
    "    num_leaves = 31,\n",
    "    learning_rate = 0.02,\n",
    "    colsample_bytree = 0.3,\n",
    "    subsample = 0.8,\n",
    "    min_child_samples = 75,\n",
    "    reg_alpha = 3.2,\n",
    "    reg_lambda = 8.4)"
   ]
  },
  {
   "cell_type": "code",
   "execution_count": 46,
   "id": "1991e463",
   "metadata": {
    "ExecuteTime": {
     "end_time": "2024-01-30T03:35:30.431964Z",
     "start_time": "2024-01-30T03:35:30.428463Z"
    }
   },
   "outputs": [],
   "source": [
    "def rmsle(y, pred):\n",
    "    log_y = np.log1p(y)\n",
    "    log_pred = np.log1p(pred)\n",
    "    squared_error = (log_y-log_pred)**2\n",
    "    rmsle = np.sqrt(np.mean(squared_error))\n",
    "    return rmsle"
   ]
  },
  {
   "cell_type": "code",
   "execution_count": 48,
   "id": "2d1e5fb7",
   "metadata": {
    "ExecuteTime": {
     "end_time": "2024-01-30T03:36:13.734577Z",
     "start_time": "2024-01-30T03:36:04.720227Z"
    }
   },
   "outputs": [
    {
     "name": "stderr",
     "output_type": "stream",
     "text": [
      "100%|██████████████████████████████████████████████████████████████████████████████████| 10/10 [00:09<00:00,  1.11it/s]"
     ]
    },
    {
     "name": "stdout",
     "output_type": "stream",
     "text": [
      "each fold rmsle :  [0.46160381514472215, 0.46017688554274394, 0.46234198474409965, 0.4571881411232892, 0.45982457381381087, 0.459372426417145, 0.45831563354564175, 0.4609091291184987, 0.4584216245706154, 0.4607363135852191]\n",
      "rmsle :  0.45988905276057856\n"
     ]
    },
    {
     "name": "stderr",
     "output_type": "stream",
     "text": [
      "\n"
     ]
    }
   ],
   "source": [
    "# StratifiedKFold\n",
    "\n",
    "cv = StratifiedKFold(n_splits=10, shuffle=True, random_state=42)\n",
    "score_lst = []\n",
    "\n",
    "for train_idx, test_idx in tqdm(cv.split(X_train_res, y_train), total=10):\n",
    "    x_tr = X_train_res.iloc[train_idx]\n",
    "    y_tr = y_train.iloc[train_idx]\n",
    "    \n",
    "    x_val = X_train_res.iloc[test_idx]\n",
    "    y_val = y_train.iloc[test_idx]\n",
    "    \n",
    "    \n",
    "    model = xgb\n",
    "    model.fit(x_tr, y_tr, eval_metric='rmsle', verbose=False)\n",
    "\n",
    "    pred = model.predict(x_val)\n",
    "    score = rmsle(y_val, pred)\n",
    "    score_lst.append(score)\n",
    "\n",
    "print('each fold rmsle : ', score_lst)\n",
    "print('rmsle : ', np.mean(score_lst))"
   ]
  },
  {
   "cell_type": "code",
   "execution_count": 49,
   "id": "67b2ddaa",
   "metadata": {
    "ExecuteTime": {
     "end_time": "2024-01-30T03:36:25.559709Z",
     "start_time": "2024-01-30T03:36:13.736574Z"
    }
   },
   "outputs": [
    {
     "name": "stderr",
     "output_type": "stream",
     "text": [
      "100%|██████████████████████████████████████████████████████████████████████████████████| 10/10 [00:11<00:00,  1.18s/it]"
     ]
    },
    {
     "name": "stdout",
     "output_type": "stream",
     "text": [
      "each fold rmsle :  [0.460243725604073, 0.45854501276523185, 0.45805185707455454, 0.4569000668338597, 0.45498905800539186, 0.45860417710491097, 0.4578057519932152, 0.46082521059744674, 0.4596101353843705, 0.4609782506674754]\n",
      "rmsle :  0.45865532460305297\n"
     ]
    },
    {
     "name": "stderr",
     "output_type": "stream",
     "text": [
      "\n"
     ]
    }
   ],
   "source": [
    "# StratifiedKFold\n",
    "\n",
    "cv = StratifiedKFold(n_splits=10, shuffle=True, random_state=42)\n",
    "score_lst = []\n",
    "\n",
    "for train_idx, test_idx in tqdm(cv.split(X_train_res, y_train), total=10):\n",
    "    x_tr = X_train_res.iloc[train_idx]\n",
    "    y_tr = y_train.iloc[train_idx]\n",
    "    \n",
    "    x_val = X_train_res.iloc[test_idx]\n",
    "    y_val = y_train.iloc[test_idx]\n",
    "    \n",
    "    \n",
    "    model = lgb\n",
    "    model.fit(x_tr, y_tr, eval_metric='rmsle')\n",
    "\n",
    "    pred = model.predict(x_val)\n",
    "    score = rmsle(y_val, pred)\n",
    "    score_lst.append(score)\n",
    "\n",
    "print('each fold rmsle : ', score_lst)\n",
    "print('rmsle : ', np.mean(score_lst))"
   ]
  },
  {
   "cell_type": "code",
   "execution_count": null,
   "id": "87ca3121",
   "metadata": {},
   "outputs": [],
   "source": []
  },
  {
   "cell_type": "code",
   "execution_count": null,
   "id": "e78e6c48",
   "metadata": {},
   "outputs": [],
   "source": []
  },
  {
   "cell_type": "code",
   "execution_count": null,
   "id": "ccdcb471",
   "metadata": {},
   "outputs": [],
   "source": []
  },
  {
   "cell_type": "code",
   "execution_count": null,
   "id": "f9186775",
   "metadata": {},
   "outputs": [],
   "source": []
  }
 ],
 "metadata": {
  "kernelspec": {
   "display_name": "Python 3 (ipykernel)",
   "language": "python",
   "name": "python3"
  },
  "language_info": {
   "codemirror_mode": {
    "name": "ipython",
    "version": 3
   },
   "file_extension": ".py",
   "mimetype": "text/x-python",
   "name": "python",
   "nbconvert_exporter": "python",
   "pygments_lexer": "ipython3",
   "version": "3.11.5"
  },
  "toc": {
   "base_numbering": 1,
   "nav_menu": {},
   "number_sections": true,
   "sideBar": true,
   "skip_h1_title": false,
   "title_cell": "Table of Contents",
   "title_sidebar": "Contents",
   "toc_cell": false,
   "toc_position": {
    "height": "calc(100% - 180px)",
    "left": "10px",
    "top": "150px",
    "width": "243.594px"
   },
   "toc_section_display": true,
   "toc_window_display": true
  }
 },
 "nbformat": 4,
 "nbformat_minor": 5
}
