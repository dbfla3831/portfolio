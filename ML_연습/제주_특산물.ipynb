{
 "cells": [
  {
   "cell_type": "markdown",
   "id": "957ffe47",
   "metadata": {},
   "source": [
    "# 라이브러리 불러오기"
   ]
  },
  {
   "cell_type": "code",
   "execution_count": 145,
   "id": "a6014dad",
   "metadata": {
    "ExecuteTime": {
     "end_time": "2024-02-18T06:44:42.234970Z",
     "start_time": "2024-02-18T06:44:42.226792Z"
    }
   },
   "outputs": [],
   "source": [
    "# 기본 패키지 불러오기\n",
    "import numpy as np\n",
    "import pandas as pd\n",
    "# !pip install holidays\n",
    "import holidays\n",
    "\n",
    "# 모델링을 위한 라이브러리\n",
    "from sklearn.model_selection import train_test_split, GridSearchCV, KFold\n",
    "from sklearn.preprocessing import LabelEncoder\n",
    "from sklearn.ensemble import RandomForestRegressor\n",
    "from xgboost import XGBRegressor\n",
    "from sklearn.metrics import mean_squared_error\n",
    "\n",
    "# EDA 라이브러리\n",
    "import matplotlib.pyplot as plt\n",
    "import seaborn as sns"
   ]
  },
  {
   "cell_type": "markdown",
   "id": "e32162e8",
   "metadata": {},
   "source": [
    "# 데이터 불러오기"
   ]
  },
  {
   "cell_type": "code",
   "execution_count": 146,
   "id": "28a50463",
   "metadata": {
    "ExecuteTime": {
     "end_time": "2024-02-18T06:44:42.303692Z",
     "start_time": "2024-02-18T06:44:42.237591Z"
    }
   },
   "outputs": [
    {
     "name": "stdout",
     "output_type": "stream",
     "text": [
      "(59397, 7)\n",
      "(1092, 5)\n"
     ]
    }
   ],
   "source": [
    "train_df = pd.read_csv('./data/train.csv')\n",
    "test_df = pd.read_csv('./data/test.csv')\n",
    "submission = pd.read_csv('./data/sample_submission.csv')\n",
    "\n",
    "print(train_df.shape)\n",
    "print(test_df.shape)"
   ]
  },
  {
   "cell_type": "code",
   "execution_count": 147,
   "id": "723bbd81",
   "metadata": {
    "ExecuteTime": {
     "end_time": "2024-02-18T06:44:42.311769Z",
     "start_time": "2024-02-18T06:44:42.304504Z"
    }
   },
   "outputs": [
    {
     "data": {
      "text/html": [
       "<div>\n",
       "<style scoped>\n",
       "    .dataframe tbody tr th:only-of-type {\n",
       "        vertical-align: middle;\n",
       "    }\n",
       "\n",
       "    .dataframe tbody tr th {\n",
       "        vertical-align: top;\n",
       "    }\n",
       "\n",
       "    .dataframe thead th {\n",
       "        text-align: right;\n",
       "    }\n",
       "</style>\n",
       "<table border=\"1\" class=\"dataframe\">\n",
       "  <thead>\n",
       "    <tr style=\"text-align: right;\">\n",
       "      <th></th>\n",
       "      <th>ID</th>\n",
       "      <th>timestamp</th>\n",
       "      <th>item</th>\n",
       "      <th>corporation</th>\n",
       "      <th>location</th>\n",
       "      <th>supply(kg)</th>\n",
       "      <th>price(원/kg)</th>\n",
       "    </tr>\n",
       "  </thead>\n",
       "  <tbody>\n",
       "    <tr>\n",
       "      <th>0</th>\n",
       "      <td>TG_A_J_20190101</td>\n",
       "      <td>2019-01-01</td>\n",
       "      <td>TG</td>\n",
       "      <td>A</td>\n",
       "      <td>J</td>\n",
       "      <td>0.0</td>\n",
       "      <td>0.0</td>\n",
       "    </tr>\n",
       "    <tr>\n",
       "      <th>1</th>\n",
       "      <td>TG_A_J_20190102</td>\n",
       "      <td>2019-01-02</td>\n",
       "      <td>TG</td>\n",
       "      <td>A</td>\n",
       "      <td>J</td>\n",
       "      <td>0.0</td>\n",
       "      <td>0.0</td>\n",
       "    </tr>\n",
       "    <tr>\n",
       "      <th>2</th>\n",
       "      <td>TG_A_J_20190103</td>\n",
       "      <td>2019-01-03</td>\n",
       "      <td>TG</td>\n",
       "      <td>A</td>\n",
       "      <td>J</td>\n",
       "      <td>60601.0</td>\n",
       "      <td>1728.0</td>\n",
       "    </tr>\n",
       "  </tbody>\n",
       "</table>\n",
       "</div>"
      ],
      "text/plain": [
       "                ID   timestamp item corporation location  supply(kg)  \\\n",
       "0  TG_A_J_20190101  2019-01-01   TG           A        J         0.0   \n",
       "1  TG_A_J_20190102  2019-01-02   TG           A        J         0.0   \n",
       "2  TG_A_J_20190103  2019-01-03   TG           A        J     60601.0   \n",
       "\n",
       "   price(원/kg)  \n",
       "0          0.0  \n",
       "1          0.0  \n",
       "2       1728.0  "
      ]
     },
     "metadata": {},
     "output_type": "display_data"
    },
    {
     "data": {
      "text/html": [
       "<div>\n",
       "<style scoped>\n",
       "    .dataframe tbody tr th:only-of-type {\n",
       "        vertical-align: middle;\n",
       "    }\n",
       "\n",
       "    .dataframe tbody tr th {\n",
       "        vertical-align: top;\n",
       "    }\n",
       "\n",
       "    .dataframe thead th {\n",
       "        text-align: right;\n",
       "    }\n",
       "</style>\n",
       "<table border=\"1\" class=\"dataframe\">\n",
       "  <thead>\n",
       "    <tr style=\"text-align: right;\">\n",
       "      <th></th>\n",
       "      <th>ID</th>\n",
       "      <th>timestamp</th>\n",
       "      <th>item</th>\n",
       "      <th>corporation</th>\n",
       "      <th>location</th>\n",
       "    </tr>\n",
       "  </thead>\n",
       "  <tbody>\n",
       "    <tr>\n",
       "      <th>0</th>\n",
       "      <td>TG_A_J_20230304</td>\n",
       "      <td>2023-03-04</td>\n",
       "      <td>TG</td>\n",
       "      <td>A</td>\n",
       "      <td>J</td>\n",
       "    </tr>\n",
       "    <tr>\n",
       "      <th>1</th>\n",
       "      <td>TG_A_J_20230305</td>\n",
       "      <td>2023-03-05</td>\n",
       "      <td>TG</td>\n",
       "      <td>A</td>\n",
       "      <td>J</td>\n",
       "    </tr>\n",
       "    <tr>\n",
       "      <th>2</th>\n",
       "      <td>TG_A_J_20230306</td>\n",
       "      <td>2023-03-06</td>\n",
       "      <td>TG</td>\n",
       "      <td>A</td>\n",
       "      <td>J</td>\n",
       "    </tr>\n",
       "  </tbody>\n",
       "</table>\n",
       "</div>"
      ],
      "text/plain": [
       "                ID   timestamp item corporation location\n",
       "0  TG_A_J_20230304  2023-03-04   TG           A        J\n",
       "1  TG_A_J_20230305  2023-03-05   TG           A        J\n",
       "2  TG_A_J_20230306  2023-03-06   TG           A        J"
      ]
     },
     "metadata": {},
     "output_type": "display_data"
    }
   ],
   "source": [
    "display(train_df.head(3))\n",
    "display(test_df.head(3))"
   ]
  },
  {
   "cell_type": "markdown",
   "id": "c4c433d2",
   "metadata": {},
   "source": [
    "데이터 설명\n",
    "\n",
    "train\n",
    "    \n",
    "- item : 품목 코드\n",
    "    \n",
    "    - TG : 감귤\n",
    "    \n",
    "    - BC : 브로콜리\n",
    "    \n",
    "    - RD : 무\n",
    "    \n",
    "    - CR : 당근\n",
    "    \n",
    "    - CB : 양배추\n",
    "    \n",
    "- corporation : 유통 법인 코드\n",
    "\n",
    "    - A ~ F\n",
    "    \n",
    "- location : 지역 코드\n",
    "\n",
    "    - J : 제주도 제주시 \n",
    "    \n",
    "    - S : 제주도 서귀포시\n",
    "    \n",
    "- supply(kg) : 유통된 물량\n",
    "\n",
    "- price(원/kg) : 유통된 품목들의 kg마다의 가격\n",
    "    \n",
    "<br>\n",
    "    \n",
    "international_trads\n",
    "    \n",
    "- 관련 품목 수출입 정보\n",
    "    \n",
    "    - 중량 단위 kg\n",
    "    \n",
    "    - 금액 단위 천 달러"
   ]
  },
  {
   "cell_type": "markdown",
   "id": "1b2f0b5d",
   "metadata": {},
   "source": [
    "# 데이터 확인"
   ]
  },
  {
   "cell_type": "code",
   "execution_count": 148,
   "id": "b4f364b4",
   "metadata": {
    "ExecuteTime": {
     "end_time": "2024-02-18T06:44:42.322907Z",
     "start_time": "2024-02-18T06:44:42.312991Z"
    }
   },
   "outputs": [
    {
     "name": "stdout",
     "output_type": "stream",
     "text": [
      "<class 'pandas.core.frame.DataFrame'>\n",
      "RangeIndex: 59397 entries, 0 to 59396\n",
      "Data columns (total 7 columns):\n",
      " #   Column       Non-Null Count  Dtype  \n",
      "---  ------       --------------  -----  \n",
      " 0   ID           59397 non-null  object \n",
      " 1   timestamp    59397 non-null  object \n",
      " 2   item         59397 non-null  object \n",
      " 3   corporation  59397 non-null  object \n",
      " 4   location     59397 non-null  object \n",
      " 5   supply(kg)   59397 non-null  float64\n",
      " 6   price(원/kg)  59397 non-null  float64\n",
      "dtypes: float64(2), object(5)\n",
      "memory usage: 3.2+ MB\n"
     ]
    }
   ],
   "source": [
    "train_df.info()"
   ]
  },
  {
   "cell_type": "code",
   "execution_count": 149,
   "id": "12af0d70",
   "metadata": {
    "ExecuteTime": {
     "end_time": "2024-02-18T06:44:42.332560Z",
     "start_time": "2024-02-18T06:44:42.323474Z"
    }
   },
   "outputs": [
    {
     "data": {
      "text/html": [
       "<div>\n",
       "<style scoped>\n",
       "    .dataframe tbody tr th:only-of-type {\n",
       "        vertical-align: middle;\n",
       "    }\n",
       "\n",
       "    .dataframe tbody tr th {\n",
       "        vertical-align: top;\n",
       "    }\n",
       "\n",
       "    .dataframe thead th {\n",
       "        text-align: right;\n",
       "    }\n",
       "</style>\n",
       "<table border=\"1\" class=\"dataframe\">\n",
       "  <thead>\n",
       "    <tr style=\"text-align: right;\">\n",
       "      <th></th>\n",
       "      <th>supply(kg)</th>\n",
       "      <th>price(원/kg)</th>\n",
       "    </tr>\n",
       "  </thead>\n",
       "  <tbody>\n",
       "    <tr>\n",
       "      <th>count</th>\n",
       "      <td>5.939700e+04</td>\n",
       "      <td>59397.000000</td>\n",
       "    </tr>\n",
       "    <tr>\n",
       "      <th>mean</th>\n",
       "      <td>1.189453e+04</td>\n",
       "      <td>1131.680674</td>\n",
       "    </tr>\n",
       "    <tr>\n",
       "      <th>std</th>\n",
       "      <td>5.226400e+04</td>\n",
       "      <td>2029.941445</td>\n",
       "    </tr>\n",
       "    <tr>\n",
       "      <th>min</th>\n",
       "      <td>0.000000e+00</td>\n",
       "      <td>0.000000</td>\n",
       "    </tr>\n",
       "    <tr>\n",
       "      <th>25%</th>\n",
       "      <td>0.000000e+00</td>\n",
       "      <td>0.000000</td>\n",
       "    </tr>\n",
       "    <tr>\n",
       "      <th>50%</th>\n",
       "      <td>0.000000e+00</td>\n",
       "      <td>0.000000</td>\n",
       "    </tr>\n",
       "    <tr>\n",
       "      <th>75%</th>\n",
       "      <td>3.800000e+03</td>\n",
       "      <td>1519.000000</td>\n",
       "    </tr>\n",
       "    <tr>\n",
       "      <th>max</th>\n",
       "      <td>1.222800e+06</td>\n",
       "      <td>20909.000000</td>\n",
       "    </tr>\n",
       "  </tbody>\n",
       "</table>\n",
       "</div>"
      ],
      "text/plain": [
       "         supply(kg)   price(원/kg)\n",
       "count  5.939700e+04  59397.000000\n",
       "mean   1.189453e+04   1131.680674\n",
       "std    5.226400e+04   2029.941445\n",
       "min    0.000000e+00      0.000000\n",
       "25%    0.000000e+00      0.000000\n",
       "50%    0.000000e+00      0.000000\n",
       "75%    3.800000e+03   1519.000000\n",
       "max    1.222800e+06  20909.000000"
      ]
     },
     "execution_count": 149,
     "metadata": {},
     "output_type": "execute_result"
    }
   ],
   "source": [
    "train_df.describe()"
   ]
  },
  {
   "cell_type": "code",
   "execution_count": 150,
   "id": "105ee69c",
   "metadata": {
    "ExecuteTime": {
     "end_time": "2024-02-18T06:44:42.336153Z",
     "start_time": "2024-02-18T06:44:42.333237Z"
    }
   },
   "outputs": [
    {
     "name": "stdout",
     "output_type": "stream",
     "text": [
      "<class 'pandas.core.frame.DataFrame'>\n",
      "RangeIndex: 1092 entries, 0 to 1091\n",
      "Data columns (total 5 columns):\n",
      " #   Column       Non-Null Count  Dtype \n",
      "---  ------       --------------  ----- \n",
      " 0   ID           1092 non-null   object\n",
      " 1   timestamp    1092 non-null   object\n",
      " 2   item         1092 non-null   object\n",
      " 3   corporation  1092 non-null   object\n",
      " 4   location     1092 non-null   object\n",
      "dtypes: object(5)\n",
      "memory usage: 42.8+ KB\n"
     ]
    }
   ],
   "source": [
    "test_df.info()"
   ]
  },
  {
   "cell_type": "code",
   "execution_count": 151,
   "id": "38143e37",
   "metadata": {
    "ExecuteTime": {
     "end_time": "2024-02-18T06:44:42.416676Z",
     "start_time": "2024-02-18T06:44:42.336857Z"
    }
   },
   "outputs": [
    {
     "data": {
      "text/plain": [
       "<Axes: xlabel='item'>"
      ]
     },
     "execution_count": 151,
     "metadata": {},
     "output_type": "execute_result"
    },
    {
     "data": {
      "image/png": "[encoded data removed]",
      "text/plain": [
       "<Figure size 640x480 with 1 Axes>"
      ]
     },
     "metadata": {},
     "output_type": "display_data"
    }
   ],
   "source": [
    "# 품목 비율\n",
    "sns.barplot(x = train_df['item'].value_counts().index, y = train_df['item'].value_counts().values)"
   ]
  },
  {
   "cell_type": "code",
   "execution_count": 152,
   "id": "da718691",
   "metadata": {
    "ExecuteTime": {
     "end_time": "2024-02-18T06:44:42.581155Z",
     "start_time": "2024-02-18T06:44:42.419778Z"
    }
   },
   "outputs": [
    {
     "data": {
      "text/plain": [
       "<Axes: xlabel='item', ylabel='value'>"
      ]
     },
     "execution_count": 152,
     "metadata": {},
     "output_type": "execute_result"
    },
    {
     "data": {
      "image/png": "[encoded data removed]",
      "text/plain": [
       "<Figure size 640x480 with 1 Axes>"
      ]
     },
     "metadata": {},
     "output_type": "display_data"
    }
   ],
   "source": [
    "# 품목과 지역 비교\n",
    "\n",
    "train_gb = train_df.groupby(['item', 'location']).size().reset_index()\n",
    "train_gb = train_gb.rename(columns = {0 : 'value'})\n",
    "sns.barplot(x = train_gb['item'], y = train_gb['value'], hue = train_gb['location'])"
   ]
  },
  {
   "cell_type": "code",
   "execution_count": 153,
   "id": "6c376daf",
   "metadata": {
    "ExecuteTime": {
     "end_time": "2024-02-18T06:44:42.593255Z",
     "start_time": "2024-02-18T06:44:42.582576Z"
    }
   },
   "outputs": [
    {
     "data": {
      "text/plain": [
       "corporation\n",
       "A    13707\n",
       "E    13707\n",
       "D    12184\n",
       "C     9138\n",
       "B     7615\n",
       "F     3046\n",
       "Name: count, dtype: int64"
      ]
     },
     "execution_count": 153,
     "metadata": {},
     "output_type": "execute_result"
    }
   ],
   "source": [
    "# 유통법인 비율\n",
    "\n",
    "train_df['corporation'].value_counts()"
   ]
  },
  {
   "cell_type": "code",
   "execution_count": 154,
   "id": "7bade7c9",
   "metadata": {
    "ExecuteTime": {
     "end_time": "2024-02-18T06:44:42.670579Z",
     "start_time": "2024-02-18T06:44:42.607854Z"
    }
   },
   "outputs": [
    {
     "data": {
      "text/plain": [
       "<Axes: xlabel='corporation'>"
      ]
     },
     "execution_count": 154,
     "metadata": {},
     "output_type": "execute_result"
    },
    {
     "data": {
      "image/png": "[encoded data removed]",
      "text/plain": [
       "<Figure size 640x480 with 1 Axes>"
      ]
     },
     "metadata": {},
     "output_type": "display_data"
    }
   ],
   "source": [
    "# 유통법인 비율\n",
    "\n",
    "sns.barplot(x = train_df['corporation'].value_counts().index, y = train_df['corporation'].value_counts().values)"
   ]
  },
  {
   "cell_type": "code",
   "execution_count": 155,
   "id": "0d0f8a33",
   "metadata": {
    "ExecuteTime": {
     "end_time": "2024-02-18T06:44:42.716819Z",
     "start_time": "2024-02-18T06:44:42.671608Z"
    }
   },
   "outputs": [
    {
     "data": {
      "text/plain": [
       "<Axes: xlabel='location'>"
      ]
     },
     "execution_count": 155,
     "metadata": {},
     "output_type": "execute_result"
    },
    {
     "data": {
      "image/png": "[encoded data removed]",
      "text/plain": [
       "<Figure size 640x480 with 1 Axes>"
      ]
     },
     "metadata": {},
     "output_type": "display_data"
    }
   ],
   "source": [
    "# 지역 비율\n",
    "\n",
    "sns.barplot(x= train_df['location'].value_counts().index, y = train_df['location'].value_counts().values)"
   ]
  },
  {
   "cell_type": "markdown",
   "id": "1bf6e77f",
   "metadata": {},
   "source": [
    "# 데이터 전처리"
   ]
  },
  {
   "cell_type": "markdown",
   "id": "988489e7",
   "metadata": {},
   "source": [
    "## 날짜 정보 추가"
   ]
  },
  {
   "cell_type": "code",
   "execution_count": 156,
   "id": "00fcd29b",
   "metadata": {
    "ExecuteTime": {
     "end_time": "2024-02-18T06:44:42.720191Z",
     "start_time": "2024-02-18T06:44:42.717638Z"
    }
   },
   "outputs": [],
   "source": [
    "def add_day(df):\n",
    "    df['timestamp'] = pd.to_datetime(df['timestamp'])\n",
    "    df['year'] = df['timestamp'].dt.year\n",
    "    df['month'] = df['timestamp'].dt.month\n",
    "    df['day'] = df['timestamp'].dt.day    \n",
    "    df['week'] = df['timestamp'].dt.weekday # 요일\n",
    "    return df"
   ]
  },
  {
   "cell_type": "code",
   "execution_count": 157,
   "id": "ab8c25a0",
   "metadata": {
    "ExecuteTime": {
     "end_time": "2024-02-18T06:44:42.749612Z",
     "start_time": "2024-02-18T06:44:42.720867Z"
    }
   },
   "outputs": [
    {
     "data": {
      "text/html": [
       "<div>\n",
       "<style scoped>\n",
       "    .dataframe tbody tr th:only-of-type {\n",
       "        vertical-align: middle;\n",
       "    }\n",
       "\n",
       "    .dataframe tbody tr th {\n",
       "        vertical-align: top;\n",
       "    }\n",
       "\n",
       "    .dataframe thead th {\n",
       "        text-align: right;\n",
       "    }\n",
       "</style>\n",
       "<table border=\"1\" class=\"dataframe\">\n",
       "  <thead>\n",
       "    <tr style=\"text-align: right;\">\n",
       "      <th></th>\n",
       "      <th>ID</th>\n",
       "      <th>timestamp</th>\n",
       "      <th>item</th>\n",
       "      <th>corporation</th>\n",
       "      <th>location</th>\n",
       "      <th>supply(kg)</th>\n",
       "      <th>price(원/kg)</th>\n",
       "      <th>year</th>\n",
       "      <th>month</th>\n",
       "      <th>day</th>\n",
       "      <th>week</th>\n",
       "    </tr>\n",
       "  </thead>\n",
       "  <tbody>\n",
       "    <tr>\n",
       "      <th>0</th>\n",
       "      <td>TG_A_J_20190101</td>\n",
       "      <td>2019-01-01</td>\n",
       "      <td>TG</td>\n",
       "      <td>A</td>\n",
       "      <td>J</td>\n",
       "      <td>0.0</td>\n",
       "      <td>0.0</td>\n",
       "      <td>2019</td>\n",
       "      <td>1</td>\n",
       "      <td>1</td>\n",
       "      <td>1</td>\n",
       "    </tr>\n",
       "    <tr>\n",
       "      <th>1</th>\n",
       "      <td>TG_A_J_20190102</td>\n",
       "      <td>2019-01-02</td>\n",
       "      <td>TG</td>\n",
       "      <td>A</td>\n",
       "      <td>J</td>\n",
       "      <td>0.0</td>\n",
       "      <td>0.0</td>\n",
       "      <td>2019</td>\n",
       "      <td>1</td>\n",
       "      <td>2</td>\n",
       "      <td>2</td>\n",
       "    </tr>\n",
       "  </tbody>\n",
       "</table>\n",
       "</div>"
      ],
      "text/plain": [
       "                ID  timestamp item corporation location  supply(kg)  \\\n",
       "0  TG_A_J_20190101 2019-01-01   TG           A        J         0.0   \n",
       "1  TG_A_J_20190102 2019-01-02   TG           A        J         0.0   \n",
       "\n",
       "   price(원/kg)  year  month  day  week  \n",
       "0          0.0  2019      1    1     1  \n",
       "1          0.0  2019      1    2     2  "
      ]
     },
     "metadata": {},
     "output_type": "display_data"
    },
    {
     "data": {
      "text/html": [
       "<div>\n",
       "<style scoped>\n",
       "    .dataframe tbody tr th:only-of-type {\n",
       "        vertical-align: middle;\n",
       "    }\n",
       "\n",
       "    .dataframe tbody tr th {\n",
       "        vertical-align: top;\n",
       "    }\n",
       "\n",
       "    .dataframe thead th {\n",
       "        text-align: right;\n",
       "    }\n",
       "</style>\n",
       "<table border=\"1\" class=\"dataframe\">\n",
       "  <thead>\n",
       "    <tr style=\"text-align: right;\">\n",
       "      <th></th>\n",
       "      <th>ID</th>\n",
       "      <th>timestamp</th>\n",
       "      <th>item</th>\n",
       "      <th>corporation</th>\n",
       "      <th>location</th>\n",
       "      <th>year</th>\n",
       "      <th>month</th>\n",
       "      <th>day</th>\n",
       "      <th>week</th>\n",
       "    </tr>\n",
       "  </thead>\n",
       "  <tbody>\n",
       "    <tr>\n",
       "      <th>0</th>\n",
       "      <td>TG_A_J_20230304</td>\n",
       "      <td>2023-03-04</td>\n",
       "      <td>TG</td>\n",
       "      <td>A</td>\n",
       "      <td>J</td>\n",
       "      <td>2023</td>\n",
       "      <td>3</td>\n",
       "      <td>4</td>\n",
       "      <td>5</td>\n",
       "    </tr>\n",
       "    <tr>\n",
       "      <th>1</th>\n",
       "      <td>TG_A_J_20230305</td>\n",
       "      <td>2023-03-05</td>\n",
       "      <td>TG</td>\n",
       "      <td>A</td>\n",
       "      <td>J</td>\n",
       "      <td>2023</td>\n",
       "      <td>3</td>\n",
       "      <td>5</td>\n",
       "      <td>6</td>\n",
       "    </tr>\n",
       "  </tbody>\n",
       "</table>\n",
       "</div>"
      ],
      "text/plain": [
       "                ID  timestamp item corporation location  year  month  day  \\\n",
       "0  TG_A_J_20230304 2023-03-04   TG           A        J  2023      3    4   \n",
       "1  TG_A_J_20230305 2023-03-05   TG           A        J  2023      3    5   \n",
       "\n",
       "   week  \n",
       "0     5  \n",
       "1     6  "
      ]
     },
     "metadata": {},
     "output_type": "display_data"
    }
   ],
   "source": [
    "train_df = add_day(train_df)\n",
    "test_df = add_day(test_df)\n",
    "\n",
    "display(train_df.head(2))\n",
    "display(test_df.head(2))"
   ]
  },
  {
   "cell_type": "raw",
   "id": "57fd9ccb",
   "metadata": {},
   "source": [
    "공급물량이 없을 때 정보"
   ]
  },
  {
   "cell_type": "code",
   "execution_count": 158,
   "id": "9c065ea9",
   "metadata": {
    "ExecuteTime": {
     "end_time": "2024-02-18T06:44:42.758794Z",
     "start_time": "2024-02-18T06:44:42.750599Z"
    }
   },
   "outputs": [
    {
     "data": {
      "text/html": [
       "<div>\n",
       "<style scoped>\n",
       "    .dataframe tbody tr th:only-of-type {\n",
       "        vertical-align: middle;\n",
       "    }\n",
       "\n",
       "    .dataframe tbody tr th {\n",
       "        vertical-align: top;\n",
       "    }\n",
       "\n",
       "    .dataframe thead th {\n",
       "        text-align: right;\n",
       "    }\n",
       "</style>\n",
       "<table border=\"1\" class=\"dataframe\">\n",
       "  <thead>\n",
       "    <tr style=\"text-align: right;\">\n",
       "      <th></th>\n",
       "      <th>ID</th>\n",
       "      <th>timestamp</th>\n",
       "      <th>item</th>\n",
       "      <th>corporation</th>\n",
       "      <th>location</th>\n",
       "      <th>supply(kg)</th>\n",
       "      <th>price(원/kg)</th>\n",
       "      <th>year</th>\n",
       "      <th>month</th>\n",
       "      <th>day</th>\n",
       "      <th>week</th>\n",
       "    </tr>\n",
       "  </thead>\n",
       "  <tbody>\n",
       "    <tr>\n",
       "      <th>0</th>\n",
       "      <td>TG_A_J_20190101</td>\n",
       "      <td>2019-01-01</td>\n",
       "      <td>TG</td>\n",
       "      <td>A</td>\n",
       "      <td>J</td>\n",
       "      <td>0.0</td>\n",
       "      <td>0.0</td>\n",
       "      <td>2019</td>\n",
       "      <td>1</td>\n",
       "      <td>1</td>\n",
       "      <td>1</td>\n",
       "    </tr>\n",
       "    <tr>\n",
       "      <th>1</th>\n",
       "      <td>TG_A_J_20190102</td>\n",
       "      <td>2019-01-02</td>\n",
       "      <td>TG</td>\n",
       "      <td>A</td>\n",
       "      <td>J</td>\n",
       "      <td>0.0</td>\n",
       "      <td>0.0</td>\n",
       "      <td>2019</td>\n",
       "      <td>1</td>\n",
       "      <td>2</td>\n",
       "      <td>2</td>\n",
       "    </tr>\n",
       "    <tr>\n",
       "      <th>5</th>\n",
       "      <td>TG_A_J_20190106</td>\n",
       "      <td>2019-01-06</td>\n",
       "      <td>TG</td>\n",
       "      <td>A</td>\n",
       "      <td>J</td>\n",
       "      <td>0.0</td>\n",
       "      <td>0.0</td>\n",
       "      <td>2019</td>\n",
       "      <td>1</td>\n",
       "      <td>6</td>\n",
       "      <td>6</td>\n",
       "    </tr>\n",
       "    <tr>\n",
       "      <th>12</th>\n",
       "      <td>TG_A_J_20190113</td>\n",
       "      <td>2019-01-13</td>\n",
       "      <td>TG</td>\n",
       "      <td>A</td>\n",
       "      <td>J</td>\n",
       "      <td>0.0</td>\n",
       "      <td>0.0</td>\n",
       "      <td>2019</td>\n",
       "      <td>1</td>\n",
       "      <td>13</td>\n",
       "      <td>6</td>\n",
       "    </tr>\n",
       "    <tr>\n",
       "      <th>19</th>\n",
       "      <td>TG_A_J_20190120</td>\n",
       "      <td>2019-01-20</td>\n",
       "      <td>TG</td>\n",
       "      <td>A</td>\n",
       "      <td>J</td>\n",
       "      <td>0.0</td>\n",
       "      <td>0.0</td>\n",
       "      <td>2019</td>\n",
       "      <td>1</td>\n",
       "      <td>20</td>\n",
       "      <td>6</td>\n",
       "    </tr>\n",
       "    <tr>\n",
       "      <th>...</th>\n",
       "      <td>...</td>\n",
       "      <td>...</td>\n",
       "      <td>...</td>\n",
       "      <td>...</td>\n",
       "      <td>...</td>\n",
       "      <td>...</td>\n",
       "      <td>...</td>\n",
       "      <td>...</td>\n",
       "      <td>...</td>\n",
       "      <td>...</td>\n",
       "      <td>...</td>\n",
       "    </tr>\n",
       "    <tr>\n",
       "      <th>59363</th>\n",
       "      <td>RD_F_J_20230129</td>\n",
       "      <td>2023-01-29</td>\n",
       "      <td>RD</td>\n",
       "      <td>F</td>\n",
       "      <td>J</td>\n",
       "      <td>0.0</td>\n",
       "      <td>0.0</td>\n",
       "      <td>2023</td>\n",
       "      <td>1</td>\n",
       "      <td>29</td>\n",
       "      <td>6</td>\n",
       "    </tr>\n",
       "    <tr>\n",
       "      <th>59370</th>\n",
       "      <td>RD_F_J_20230205</td>\n",
       "      <td>2023-02-05</td>\n",
       "      <td>RD</td>\n",
       "      <td>F</td>\n",
       "      <td>J</td>\n",
       "      <td>0.0</td>\n",
       "      <td>0.0</td>\n",
       "      <td>2023</td>\n",
       "      <td>2</td>\n",
       "      <td>5</td>\n",
       "      <td>6</td>\n",
       "    </tr>\n",
       "    <tr>\n",
       "      <th>59377</th>\n",
       "      <td>RD_F_J_20230212</td>\n",
       "      <td>2023-02-12</td>\n",
       "      <td>RD</td>\n",
       "      <td>F</td>\n",
       "      <td>J</td>\n",
       "      <td>0.0</td>\n",
       "      <td>0.0</td>\n",
       "      <td>2023</td>\n",
       "      <td>2</td>\n",
       "      <td>12</td>\n",
       "      <td>6</td>\n",
       "    </tr>\n",
       "    <tr>\n",
       "      <th>59384</th>\n",
       "      <td>RD_F_J_20230219</td>\n",
       "      <td>2023-02-19</td>\n",
       "      <td>RD</td>\n",
       "      <td>F</td>\n",
       "      <td>J</td>\n",
       "      <td>0.0</td>\n",
       "      <td>0.0</td>\n",
       "      <td>2023</td>\n",
       "      <td>2</td>\n",
       "      <td>19</td>\n",
       "      <td>6</td>\n",
       "    </tr>\n",
       "    <tr>\n",
       "      <th>59391</th>\n",
       "      <td>RD_F_J_20230226</td>\n",
       "      <td>2023-02-26</td>\n",
       "      <td>RD</td>\n",
       "      <td>F</td>\n",
       "      <td>J</td>\n",
       "      <td>0.0</td>\n",
       "      <td>0.0</td>\n",
       "      <td>2023</td>\n",
       "      <td>2</td>\n",
       "      <td>26</td>\n",
       "      <td>6</td>\n",
       "    </tr>\n",
       "  </tbody>\n",
       "</table>\n",
       "<p>35452 rows × 11 columns</p>\n",
       "</div>"
      ],
      "text/plain": [
       "                    ID  timestamp item corporation location  supply(kg)  \\\n",
       "0      TG_A_J_20190101 2019-01-01   TG           A        J         0.0   \n",
       "1      TG_A_J_20190102 2019-01-02   TG           A        J         0.0   \n",
       "5      TG_A_J_20190106 2019-01-06   TG           A        J         0.0   \n",
       "12     TG_A_J_20190113 2019-01-13   TG           A        J         0.0   \n",
       "19     TG_A_J_20190120 2019-01-20   TG           A        J         0.0   \n",
       "...                ...        ...  ...         ...      ...         ...   \n",
       "59363  RD_F_J_20230129 2023-01-29   RD           F        J         0.0   \n",
       "59370  RD_F_J_20230205 2023-02-05   RD           F        J         0.0   \n",
       "59377  RD_F_J_20230212 2023-02-12   RD           F        J         0.0   \n",
       "59384  RD_F_J_20230219 2023-02-19   RD           F        J         0.0   \n",
       "59391  RD_F_J_20230226 2023-02-26   RD           F        J         0.0   \n",
       "\n",
       "       price(원/kg)  year  month  day  week  \n",
       "0              0.0  2019      1    1     1  \n",
       "1              0.0  2019      1    2     2  \n",
       "5              0.0  2019      1    6     6  \n",
       "12             0.0  2019      1   13     6  \n",
       "19             0.0  2019      1   20     6  \n",
       "...            ...   ...    ...  ...   ...  \n",
       "59363          0.0  2023      1   29     6  \n",
       "59370          0.0  2023      2    5     6  \n",
       "59377          0.0  2023      2   12     6  \n",
       "59384          0.0  2023      2   19     6  \n",
       "59391          0.0  2023      2   26     6  \n",
       "\n",
       "[35452 rows x 11 columns]"
      ]
     },
     "execution_count": 158,
     "metadata": {},
     "output_type": "execute_result"
    }
   ],
   "source": [
    "supply_no = train_df[train_df['supply(kg)'] == 0.0] \n",
    "\n",
    "supply_no"
   ]
  },
  {
   "cell_type": "code",
   "execution_count": 159,
   "id": "d12ce051",
   "metadata": {
    "ExecuteTime": {
     "end_time": "2024-02-18T06:44:42.764543Z",
     "start_time": "2024-02-18T06:44:42.759875Z"
    },
    "scrolled": true
   },
   "outputs": [
    {
     "name": "stdout",
     "output_type": "stream",
     "text": [
      "year\n",
      "2019    8820\n",
      "2020    8824\n",
      "2021    8449\n",
      "2022    8362\n",
      "2023     997\n",
      "dtype: int64\n",
      "month\n",
      "1     2491\n",
      "2     2127\n",
      "3     1725\n",
      "4     2181\n",
      "5     3067\n",
      "6     3454\n",
      "7     3795\n",
      "8     3851\n",
      "9     3767\n",
      "10    3717\n",
      "11    2954\n",
      "12    2323\n",
      "dtype: int64\n",
      "day\n",
      "1     1303\n",
      "2     1274\n",
      "3     1237\n",
      "4     1096\n",
      "5     1158\n",
      "6     1216\n",
      "7     1159\n",
      "8     1124\n",
      "9     1109\n",
      "10    1161\n",
      "11    1105\n",
      "12    1207\n",
      "13    1215\n",
      "14    1152\n",
      "15    1143\n",
      "16    1115\n",
      "17    1162\n",
      "18    1077\n",
      "19    1161\n",
      "20    1171\n",
      "21    1144\n",
      "22    1153\n",
      "23    1144\n",
      "24    1211\n",
      "25    1139\n",
      "26    1166\n",
      "27    1199\n",
      "28    1129\n",
      "29    1108\n",
      "30    1007\n",
      "31     707\n",
      "dtype: int64\n",
      "week\n",
      "0    4388\n",
      "1    4435\n",
      "2    4447\n",
      "3    4468\n",
      "4    4451\n",
      "5    4821\n",
      "6    8442\n",
      "dtype: int64\n"
     ]
    }
   ],
   "source": [
    "supply_no_year = supply_no.groupby(['year']).size()\n",
    "supply_no_month = supply_no.groupby(['month']).size()\n",
    "supply_no_day = supply_no.groupby(['day']).size()\n",
    "supply_no_week = supply_no.groupby(['week']).size()\n",
    "\n",
    "print(supply_no_year)\n",
    "print(supply_no_month)\n",
    "print(supply_no_day)\n",
    "print(supply_no_week)"
   ]
  },
  {
   "cell_type": "markdown",
   "id": "0e7711c4",
   "metadata": {},
   "source": [
    "=> 일요일(6)은 확실히 공급량이 적다"
   ]
  },
  {
   "cell_type": "code",
   "execution_count": 160,
   "id": "4737afc4",
   "metadata": {
    "ExecuteTime": {
     "end_time": "2024-02-18T06:44:42.774375Z",
     "start_time": "2024-02-18T06:44:42.765272Z"
    },
    "scrolled": true
   },
   "outputs": [
    {
     "data": {
      "text/html": [
       "<div>\n",
       "<style scoped>\n",
       "    .dataframe tbody tr th:only-of-type {\n",
       "        vertical-align: middle;\n",
       "    }\n",
       "\n",
       "    .dataframe tbody tr th {\n",
       "        vertical-align: top;\n",
       "    }\n",
       "\n",
       "    .dataframe thead th {\n",
       "        text-align: right;\n",
       "    }\n",
       "</style>\n",
       "<table border=\"1\" class=\"dataframe\">\n",
       "  <thead>\n",
       "    <tr style=\"text-align: right;\">\n",
       "      <th></th>\n",
       "      <th>ID</th>\n",
       "      <th>timestamp</th>\n",
       "      <th>item</th>\n",
       "      <th>corporation</th>\n",
       "      <th>location</th>\n",
       "      <th>supply(kg)</th>\n",
       "      <th>price(원/kg)</th>\n",
       "      <th>year</th>\n",
       "      <th>month</th>\n",
       "      <th>day</th>\n",
       "      <th>week</th>\n",
       "    </tr>\n",
       "  </thead>\n",
       "  <tbody>\n",
       "    <tr>\n",
       "      <th>1125</th>\n",
       "      <td>TG_A_J_20220130</td>\n",
       "      <td>2022-01-30</td>\n",
       "      <td>TG</td>\n",
       "      <td>A</td>\n",
       "      <td>J</td>\n",
       "      <td>43455.0</td>\n",
       "      <td>1597.0</td>\n",
       "      <td>2022</td>\n",
       "      <td>1</td>\n",
       "      <td>30</td>\n",
       "      <td>6</td>\n",
       "    </tr>\n",
       "    <tr>\n",
       "      <th>2648</th>\n",
       "      <td>TG_A_S_20220130</td>\n",
       "      <td>2022-01-30</td>\n",
       "      <td>TG</td>\n",
       "      <td>A</td>\n",
       "      <td>S</td>\n",
       "      <td>38439.0</td>\n",
       "      <td>2341.0</td>\n",
       "      <td>2022</td>\n",
       "      <td>1</td>\n",
       "      <td>30</td>\n",
       "      <td>6</td>\n",
       "    </tr>\n",
       "    <tr>\n",
       "      <th>4171</th>\n",
       "      <td>TG_B_J_20220130</td>\n",
       "      <td>2022-01-30</td>\n",
       "      <td>TG</td>\n",
       "      <td>B</td>\n",
       "      <td>J</td>\n",
       "      <td>3294.0</td>\n",
       "      <td>2213.0</td>\n",
       "      <td>2022</td>\n",
       "      <td>1</td>\n",
       "      <td>30</td>\n",
       "      <td>6</td>\n",
       "    </tr>\n",
       "    <tr>\n",
       "      <th>5694</th>\n",
       "      <td>TG_B_S_20220130</td>\n",
       "      <td>2022-01-30</td>\n",
       "      <td>TG</td>\n",
       "      <td>B</td>\n",
       "      <td>S</td>\n",
       "      <td>80659.0</td>\n",
       "      <td>1965.0</td>\n",
       "      <td>2022</td>\n",
       "      <td>1</td>\n",
       "      <td>30</td>\n",
       "      <td>6</td>\n",
       "    </tr>\n",
       "    <tr>\n",
       "      <th>7217</th>\n",
       "      <td>TG_C_J_20220130</td>\n",
       "      <td>2022-01-30</td>\n",
       "      <td>TG</td>\n",
       "      <td>C</td>\n",
       "      <td>J</td>\n",
       "      <td>51458.4</td>\n",
       "      <td>2755.0</td>\n",
       "      <td>2022</td>\n",
       "      <td>1</td>\n",
       "      <td>30</td>\n",
       "      <td>6</td>\n",
       "    </tr>\n",
       "    <tr>\n",
       "      <th>8740</th>\n",
       "      <td>TG_C_S_20220130</td>\n",
       "      <td>2022-01-30</td>\n",
       "      <td>TG</td>\n",
       "      <td>C</td>\n",
       "      <td>S</td>\n",
       "      <td>29426.0</td>\n",
       "      <td>2769.0</td>\n",
       "      <td>2022</td>\n",
       "      <td>1</td>\n",
       "      <td>30</td>\n",
       "      <td>6</td>\n",
       "    </tr>\n",
       "    <tr>\n",
       "      <th>10263</th>\n",
       "      <td>TG_D_J_20220130</td>\n",
       "      <td>2022-01-30</td>\n",
       "      <td>TG</td>\n",
       "      <td>D</td>\n",
       "      <td>J</td>\n",
       "      <td>13505.0</td>\n",
       "      <td>1625.0</td>\n",
       "      <td>2022</td>\n",
       "      <td>1</td>\n",
       "      <td>30</td>\n",
       "      <td>6</td>\n",
       "    </tr>\n",
       "    <tr>\n",
       "      <th>11786</th>\n",
       "      <td>TG_D_S_20220130</td>\n",
       "      <td>2022-01-30</td>\n",
       "      <td>TG</td>\n",
       "      <td>D</td>\n",
       "      <td>S</td>\n",
       "      <td>5825.0</td>\n",
       "      <td>1604.0</td>\n",
       "      <td>2022</td>\n",
       "      <td>1</td>\n",
       "      <td>30</td>\n",
       "      <td>6</td>\n",
       "    </tr>\n",
       "    <tr>\n",
       "      <th>13309</th>\n",
       "      <td>TG_E_J_20220130</td>\n",
       "      <td>2022-01-30</td>\n",
       "      <td>TG</td>\n",
       "      <td>E</td>\n",
       "      <td>J</td>\n",
       "      <td>12705.0</td>\n",
       "      <td>2396.0</td>\n",
       "      <td>2022</td>\n",
       "      <td>1</td>\n",
       "      <td>30</td>\n",
       "      <td>6</td>\n",
       "    </tr>\n",
       "    <tr>\n",
       "      <th>14832</th>\n",
       "      <td>TG_E_S_20220130</td>\n",
       "      <td>2022-01-30</td>\n",
       "      <td>TG</td>\n",
       "      <td>E</td>\n",
       "      <td>S</td>\n",
       "      <td>20073.0</td>\n",
       "      <td>1875.0</td>\n",
       "      <td>2022</td>\n",
       "      <td>1</td>\n",
       "      <td>30</td>\n",
       "      <td>6</td>\n",
       "    </tr>\n",
       "    <tr>\n",
       "      <th>27016</th>\n",
       "      <td>CB_A_J_20220130</td>\n",
       "      <td>2022-01-30</td>\n",
       "      <td>CB</td>\n",
       "      <td>A</td>\n",
       "      <td>J</td>\n",
       "      <td>500.0</td>\n",
       "      <td>1000.0</td>\n",
       "      <td>2022</td>\n",
       "      <td>1</td>\n",
       "      <td>30</td>\n",
       "      <td>6</td>\n",
       "    </tr>\n",
       "    <tr>\n",
       "      <th>33108</th>\n",
       "      <td>RD_A_J_20220130</td>\n",
       "      <td>2022-01-30</td>\n",
       "      <td>RD</td>\n",
       "      <td>A</td>\n",
       "      <td>J</td>\n",
       "      <td>4260.0</td>\n",
       "      <td>555.0</td>\n",
       "      <td>2022</td>\n",
       "      <td>1</td>\n",
       "      <td>30</td>\n",
       "      <td>6</td>\n",
       "    </tr>\n",
       "    <tr>\n",
       "      <th>34631</th>\n",
       "      <td>RD_A_S_20220130</td>\n",
       "      <td>2022-01-30</td>\n",
       "      <td>RD</td>\n",
       "      <td>A</td>\n",
       "      <td>S</td>\n",
       "      <td>27960.0</td>\n",
       "      <td>371.0</td>\n",
       "      <td>2022</td>\n",
       "      <td>1</td>\n",
       "      <td>30</td>\n",
       "      <td>6</td>\n",
       "    </tr>\n",
       "    <tr>\n",
       "      <th>37677</th>\n",
       "      <td>RD_D_J_20220130</td>\n",
       "      <td>2022-01-30</td>\n",
       "      <td>RD</td>\n",
       "      <td>D</td>\n",
       "      <td>J</td>\n",
       "      <td>1080.0</td>\n",
       "      <td>420.0</td>\n",
       "      <td>2022</td>\n",
       "      <td>1</td>\n",
       "      <td>30</td>\n",
       "      <td>6</td>\n",
       "    </tr>\n",
       "    <tr>\n",
       "      <th>39200</th>\n",
       "      <td>RD_D_S_20220130</td>\n",
       "      <td>2022-01-30</td>\n",
       "      <td>RD</td>\n",
       "      <td>D</td>\n",
       "      <td>S</td>\n",
       "      <td>6440.0</td>\n",
       "      <td>507.0</td>\n",
       "      <td>2022</td>\n",
       "      <td>1</td>\n",
       "      <td>30</td>\n",
       "      <td>6</td>\n",
       "    </tr>\n",
       "    <tr>\n",
       "      <th>40723</th>\n",
       "      <td>RD_E_J_20220130</td>\n",
       "      <td>2022-01-30</td>\n",
       "      <td>RD</td>\n",
       "      <td>E</td>\n",
       "      <td>J</td>\n",
       "      <td>15080.0</td>\n",
       "      <td>425.0</td>\n",
       "      <td>2022</td>\n",
       "      <td>1</td>\n",
       "      <td>30</td>\n",
       "      <td>6</td>\n",
       "    </tr>\n",
       "    <tr>\n",
       "      <th>43769</th>\n",
       "      <td>BC_A_J_20220130</td>\n",
       "      <td>2022-01-30</td>\n",
       "      <td>BC</td>\n",
       "      <td>A</td>\n",
       "      <td>J</td>\n",
       "      <td>2328.0</td>\n",
       "      <td>1917.0</td>\n",
       "      <td>2022</td>\n",
       "      <td>1</td>\n",
       "      <td>30</td>\n",
       "      <td>6</td>\n",
       "    </tr>\n",
       "    <tr>\n",
       "      <th>49861</th>\n",
       "      <td>BC_C_J_20220130</td>\n",
       "      <td>2022-01-30</td>\n",
       "      <td>BC</td>\n",
       "      <td>C</td>\n",
       "      <td>J</td>\n",
       "      <td>40.0</td>\n",
       "      <td>2000.0</td>\n",
       "      <td>2022</td>\n",
       "      <td>1</td>\n",
       "      <td>30</td>\n",
       "      <td>6</td>\n",
       "    </tr>\n",
       "    <tr>\n",
       "      <th>52907</th>\n",
       "      <td>BC_D_J_20220130</td>\n",
       "      <td>2022-01-30</td>\n",
       "      <td>BC</td>\n",
       "      <td>D</td>\n",
       "      <td>J</td>\n",
       "      <td>1136.0</td>\n",
       "      <td>1744.0</td>\n",
       "      <td>2022</td>\n",
       "      <td>1</td>\n",
       "      <td>30</td>\n",
       "      <td>6</td>\n",
       "    </tr>\n",
       "    <tr>\n",
       "      <th>54430</th>\n",
       "      <td>BC_E_J_20220130</td>\n",
       "      <td>2022-01-30</td>\n",
       "      <td>BC</td>\n",
       "      <td>E</td>\n",
       "      <td>J</td>\n",
       "      <td>2896.0</td>\n",
       "      <td>1996.0</td>\n",
       "      <td>2022</td>\n",
       "      <td>1</td>\n",
       "      <td>30</td>\n",
       "      <td>6</td>\n",
       "    </tr>\n",
       "    <tr>\n",
       "      <th>58999</th>\n",
       "      <td>RD_F_J_20220130</td>\n",
       "      <td>2022-01-30</td>\n",
       "      <td>RD</td>\n",
       "      <td>F</td>\n",
       "      <td>J</td>\n",
       "      <td>484440.0</td>\n",
       "      <td>481.0</td>\n",
       "      <td>2022</td>\n",
       "      <td>1</td>\n",
       "      <td>30</td>\n",
       "      <td>6</td>\n",
       "    </tr>\n",
       "  </tbody>\n",
       "</table>\n",
       "</div>"
      ],
      "text/plain": [
       "                    ID  timestamp item corporation location  supply(kg)  \\\n",
       "1125   TG_A_J_20220130 2022-01-30   TG           A        J     43455.0   \n",
       "2648   TG_A_S_20220130 2022-01-30   TG           A        S     38439.0   \n",
       "4171   TG_B_J_20220130 2022-01-30   TG           B        J      3294.0   \n",
       "5694   TG_B_S_20220130 2022-01-30   TG           B        S     80659.0   \n",
       "7217   TG_C_J_20220130 2022-01-30   TG           C        J     51458.4   \n",
       "8740   TG_C_S_20220130 2022-01-30   TG           C        S     29426.0   \n",
       "10263  TG_D_J_20220130 2022-01-30   TG           D        J     13505.0   \n",
       "11786  TG_D_S_20220130 2022-01-30   TG           D        S      5825.0   \n",
       "13309  TG_E_J_20220130 2022-01-30   TG           E        J     12705.0   \n",
       "14832  TG_E_S_20220130 2022-01-30   TG           E        S     20073.0   \n",
       "27016  CB_A_J_20220130 2022-01-30   CB           A        J       500.0   \n",
       "33108  RD_A_J_20220130 2022-01-30   RD           A        J      4260.0   \n",
       "34631  RD_A_S_20220130 2022-01-30   RD           A        S     27960.0   \n",
       "37677  RD_D_J_20220130 2022-01-30   RD           D        J      1080.0   \n",
       "39200  RD_D_S_20220130 2022-01-30   RD           D        S      6440.0   \n",
       "40723  RD_E_J_20220130 2022-01-30   RD           E        J     15080.0   \n",
       "43769  BC_A_J_20220130 2022-01-30   BC           A        J      2328.0   \n",
       "49861  BC_C_J_20220130 2022-01-30   BC           C        J        40.0   \n",
       "52907  BC_D_J_20220130 2022-01-30   BC           D        J      1136.0   \n",
       "54430  BC_E_J_20220130 2022-01-30   BC           E        J      2896.0   \n",
       "58999  RD_F_J_20220130 2022-01-30   RD           F        J    484440.0   \n",
       "\n",
       "       price(원/kg)  year  month  day  week  \n",
       "1125        1597.0  2022      1   30     6  \n",
       "2648        2341.0  2022      1   30     6  \n",
       "4171        2213.0  2022      1   30     6  \n",
       "5694        1965.0  2022      1   30     6  \n",
       "7217        2755.0  2022      1   30     6  \n",
       "8740        2769.0  2022      1   30     6  \n",
       "10263       1625.0  2022      1   30     6  \n",
       "11786       1604.0  2022      1   30     6  \n",
       "13309       2396.0  2022      1   30     6  \n",
       "14832       1875.0  2022      1   30     6  \n",
       "27016       1000.0  2022      1   30     6  \n",
       "33108        555.0  2022      1   30     6  \n",
       "34631        371.0  2022      1   30     6  \n",
       "37677        420.0  2022      1   30     6  \n",
       "39200        507.0  2022      1   30     6  \n",
       "40723        425.0  2022      1   30     6  \n",
       "43769       1917.0  2022      1   30     6  \n",
       "49861       2000.0  2022      1   30     6  \n",
       "52907       1744.0  2022      1   30     6  \n",
       "54430       1996.0  2022      1   30     6  \n",
       "58999        481.0  2022      1   30     6  "
      ]
     },
     "metadata": {},
     "output_type": "display_data"
    },
    {
     "name": "stdout",
     "output_type": "stream",
     "text": [
      "21\n",
      "Index([ 1125,  2648,  4171,  5694,  7217,  8740, 10263, 11786, 13309, 14832,\n",
      "       27016, 33108, 34631, 37677, 39200, 40723, 43769, 49861, 52907, 54430,\n",
      "       58999],\n",
      "      dtype='int64')\n"
     ]
    }
   ],
   "source": [
    "display(train_df[(train_df['week'] == 6) & (train_df['supply(kg)'] != 0)])\n",
    "print(len(train_df[(train_df['week'] == 6) & (train_df['supply(kg)'] != 0)]))\n",
    "\n",
    "ind = train_df[(train_df['week'] == 6) & (train_df['supply(kg)'] != 0)].index\n",
    "\n",
    "print(ind)"
   ]
  },
  {
   "cell_type": "markdown",
   "id": "2d59b31a",
   "metadata": {},
   "source": [
    "=> 2022년 1월 30일은 일요일인데 공급량이 있다\n",
    "\n",
    "1월 31일이 설날이라 열었나?? -> 데이터를 삭제할지 요일을 없는 값으로 변경할지 고민"
   ]
  },
  {
   "cell_type": "code",
   "execution_count": 161,
   "id": "d73c7b15",
   "metadata": {
    "ExecuteTime": {
     "end_time": "2024-02-18T06:44:42.813123Z",
     "start_time": "2024-02-18T06:44:42.775277Z"
    }
   },
   "outputs": [],
   "source": [
    "# 2022년 1월 30일 데이터의 요일을 다르 값으로 변경\n",
    "\n",
    "for i in range(len(train_df)):\n",
    "    if i in ind:\n",
    "        train_df.loc[i, 'week'] = 7"
   ]
  },
  {
   "cell_type": "code",
   "execution_count": 162,
   "id": "452e7633",
   "metadata": {
    "ExecuteTime": {
     "end_time": "2024-02-18T06:44:42.821805Z",
     "start_time": "2024-02-18T06:44:42.813810Z"
    }
   },
   "outputs": [
    {
     "data": {
      "text/html": [
       "<div>\n",
       "<style scoped>\n",
       "    .dataframe tbody tr th:only-of-type {\n",
       "        vertical-align: middle;\n",
       "    }\n",
       "\n",
       "    .dataframe tbody tr th {\n",
       "        vertical-align: top;\n",
       "    }\n",
       "\n",
       "    .dataframe thead th {\n",
       "        text-align: right;\n",
       "    }\n",
       "</style>\n",
       "<table border=\"1\" class=\"dataframe\">\n",
       "  <thead>\n",
       "    <tr style=\"text-align: right;\">\n",
       "      <th></th>\n",
       "      <th>ID</th>\n",
       "      <th>timestamp</th>\n",
       "      <th>item</th>\n",
       "      <th>corporation</th>\n",
       "      <th>location</th>\n",
       "      <th>supply(kg)</th>\n",
       "      <th>price(원/kg)</th>\n",
       "      <th>year</th>\n",
       "      <th>month</th>\n",
       "      <th>day</th>\n",
       "      <th>week</th>\n",
       "    </tr>\n",
       "  </thead>\n",
       "  <tbody>\n",
       "    <tr>\n",
       "      <th>1125</th>\n",
       "      <td>TG_A_J_20220130</td>\n",
       "      <td>2022-01-30</td>\n",
       "      <td>TG</td>\n",
       "      <td>A</td>\n",
       "      <td>J</td>\n",
       "      <td>43455.0</td>\n",
       "      <td>1597.0</td>\n",
       "      <td>2022</td>\n",
       "      <td>1</td>\n",
       "      <td>30</td>\n",
       "      <td>7</td>\n",
       "    </tr>\n",
       "    <tr>\n",
       "      <th>2648</th>\n",
       "      <td>TG_A_S_20220130</td>\n",
       "      <td>2022-01-30</td>\n",
       "      <td>TG</td>\n",
       "      <td>A</td>\n",
       "      <td>S</td>\n",
       "      <td>38439.0</td>\n",
       "      <td>2341.0</td>\n",
       "      <td>2022</td>\n",
       "      <td>1</td>\n",
       "      <td>30</td>\n",
       "      <td>7</td>\n",
       "    </tr>\n",
       "    <tr>\n",
       "      <th>4171</th>\n",
       "      <td>TG_B_J_20220130</td>\n",
       "      <td>2022-01-30</td>\n",
       "      <td>TG</td>\n",
       "      <td>B</td>\n",
       "      <td>J</td>\n",
       "      <td>3294.0</td>\n",
       "      <td>2213.0</td>\n",
       "      <td>2022</td>\n",
       "      <td>1</td>\n",
       "      <td>30</td>\n",
       "      <td>7</td>\n",
       "    </tr>\n",
       "    <tr>\n",
       "      <th>5694</th>\n",
       "      <td>TG_B_S_20220130</td>\n",
       "      <td>2022-01-30</td>\n",
       "      <td>TG</td>\n",
       "      <td>B</td>\n",
       "      <td>S</td>\n",
       "      <td>80659.0</td>\n",
       "      <td>1965.0</td>\n",
       "      <td>2022</td>\n",
       "      <td>1</td>\n",
       "      <td>30</td>\n",
       "      <td>7</td>\n",
       "    </tr>\n",
       "    <tr>\n",
       "      <th>7217</th>\n",
       "      <td>TG_C_J_20220130</td>\n",
       "      <td>2022-01-30</td>\n",
       "      <td>TG</td>\n",
       "      <td>C</td>\n",
       "      <td>J</td>\n",
       "      <td>51458.4</td>\n",
       "      <td>2755.0</td>\n",
       "      <td>2022</td>\n",
       "      <td>1</td>\n",
       "      <td>30</td>\n",
       "      <td>7</td>\n",
       "    </tr>\n",
       "    <tr>\n",
       "      <th>8740</th>\n",
       "      <td>TG_C_S_20220130</td>\n",
       "      <td>2022-01-30</td>\n",
       "      <td>TG</td>\n",
       "      <td>C</td>\n",
       "      <td>S</td>\n",
       "      <td>29426.0</td>\n",
       "      <td>2769.0</td>\n",
       "      <td>2022</td>\n",
       "      <td>1</td>\n",
       "      <td>30</td>\n",
       "      <td>7</td>\n",
       "    </tr>\n",
       "    <tr>\n",
       "      <th>10263</th>\n",
       "      <td>TG_D_J_20220130</td>\n",
       "      <td>2022-01-30</td>\n",
       "      <td>TG</td>\n",
       "      <td>D</td>\n",
       "      <td>J</td>\n",
       "      <td>13505.0</td>\n",
       "      <td>1625.0</td>\n",
       "      <td>2022</td>\n",
       "      <td>1</td>\n",
       "      <td>30</td>\n",
       "      <td>7</td>\n",
       "    </tr>\n",
       "    <tr>\n",
       "      <th>11786</th>\n",
       "      <td>TG_D_S_20220130</td>\n",
       "      <td>2022-01-30</td>\n",
       "      <td>TG</td>\n",
       "      <td>D</td>\n",
       "      <td>S</td>\n",
       "      <td>5825.0</td>\n",
       "      <td>1604.0</td>\n",
       "      <td>2022</td>\n",
       "      <td>1</td>\n",
       "      <td>30</td>\n",
       "      <td>7</td>\n",
       "    </tr>\n",
       "    <tr>\n",
       "      <th>13309</th>\n",
       "      <td>TG_E_J_20220130</td>\n",
       "      <td>2022-01-30</td>\n",
       "      <td>TG</td>\n",
       "      <td>E</td>\n",
       "      <td>J</td>\n",
       "      <td>12705.0</td>\n",
       "      <td>2396.0</td>\n",
       "      <td>2022</td>\n",
       "      <td>1</td>\n",
       "      <td>30</td>\n",
       "      <td>7</td>\n",
       "    </tr>\n",
       "    <tr>\n",
       "      <th>14832</th>\n",
       "      <td>TG_E_S_20220130</td>\n",
       "      <td>2022-01-30</td>\n",
       "      <td>TG</td>\n",
       "      <td>E</td>\n",
       "      <td>S</td>\n",
       "      <td>20073.0</td>\n",
       "      <td>1875.0</td>\n",
       "      <td>2022</td>\n",
       "      <td>1</td>\n",
       "      <td>30</td>\n",
       "      <td>7</td>\n",
       "    </tr>\n",
       "    <tr>\n",
       "      <th>27016</th>\n",
       "      <td>CB_A_J_20220130</td>\n",
       "      <td>2022-01-30</td>\n",
       "      <td>CB</td>\n",
       "      <td>A</td>\n",
       "      <td>J</td>\n",
       "      <td>500.0</td>\n",
       "      <td>1000.0</td>\n",
       "      <td>2022</td>\n",
       "      <td>1</td>\n",
       "      <td>30</td>\n",
       "      <td>7</td>\n",
       "    </tr>\n",
       "    <tr>\n",
       "      <th>33108</th>\n",
       "      <td>RD_A_J_20220130</td>\n",
       "      <td>2022-01-30</td>\n",
       "      <td>RD</td>\n",
       "      <td>A</td>\n",
       "      <td>J</td>\n",
       "      <td>4260.0</td>\n",
       "      <td>555.0</td>\n",
       "      <td>2022</td>\n",
       "      <td>1</td>\n",
       "      <td>30</td>\n",
       "      <td>7</td>\n",
       "    </tr>\n",
       "    <tr>\n",
       "      <th>34631</th>\n",
       "      <td>RD_A_S_20220130</td>\n",
       "      <td>2022-01-30</td>\n",
       "      <td>RD</td>\n",
       "      <td>A</td>\n",
       "      <td>S</td>\n",
       "      <td>27960.0</td>\n",
       "      <td>371.0</td>\n",
       "      <td>2022</td>\n",
       "      <td>1</td>\n",
       "      <td>30</td>\n",
       "      <td>7</td>\n",
       "    </tr>\n",
       "    <tr>\n",
       "      <th>37677</th>\n",
       "      <td>RD_D_J_20220130</td>\n",
       "      <td>2022-01-30</td>\n",
       "      <td>RD</td>\n",
       "      <td>D</td>\n",
       "      <td>J</td>\n",
       "      <td>1080.0</td>\n",
       "      <td>420.0</td>\n",
       "      <td>2022</td>\n",
       "      <td>1</td>\n",
       "      <td>30</td>\n",
       "      <td>7</td>\n",
       "    </tr>\n",
       "    <tr>\n",
       "      <th>39200</th>\n",
       "      <td>RD_D_S_20220130</td>\n",
       "      <td>2022-01-30</td>\n",
       "      <td>RD</td>\n",
       "      <td>D</td>\n",
       "      <td>S</td>\n",
       "      <td>6440.0</td>\n",
       "      <td>507.0</td>\n",
       "      <td>2022</td>\n",
       "      <td>1</td>\n",
       "      <td>30</td>\n",
       "      <td>7</td>\n",
       "    </tr>\n",
       "    <tr>\n",
       "      <th>40723</th>\n",
       "      <td>RD_E_J_20220130</td>\n",
       "      <td>2022-01-30</td>\n",
       "      <td>RD</td>\n",
       "      <td>E</td>\n",
       "      <td>J</td>\n",
       "      <td>15080.0</td>\n",
       "      <td>425.0</td>\n",
       "      <td>2022</td>\n",
       "      <td>1</td>\n",
       "      <td>30</td>\n",
       "      <td>7</td>\n",
       "    </tr>\n",
       "    <tr>\n",
       "      <th>43769</th>\n",
       "      <td>BC_A_J_20220130</td>\n",
       "      <td>2022-01-30</td>\n",
       "      <td>BC</td>\n",
       "      <td>A</td>\n",
       "      <td>J</td>\n",
       "      <td>2328.0</td>\n",
       "      <td>1917.0</td>\n",
       "      <td>2022</td>\n",
       "      <td>1</td>\n",
       "      <td>30</td>\n",
       "      <td>7</td>\n",
       "    </tr>\n",
       "    <tr>\n",
       "      <th>49861</th>\n",
       "      <td>BC_C_J_20220130</td>\n",
       "      <td>2022-01-30</td>\n",
       "      <td>BC</td>\n",
       "      <td>C</td>\n",
       "      <td>J</td>\n",
       "      <td>40.0</td>\n",
       "      <td>2000.0</td>\n",
       "      <td>2022</td>\n",
       "      <td>1</td>\n",
       "      <td>30</td>\n",
       "      <td>7</td>\n",
       "    </tr>\n",
       "    <tr>\n",
       "      <th>52907</th>\n",
       "      <td>BC_D_J_20220130</td>\n",
       "      <td>2022-01-30</td>\n",
       "      <td>BC</td>\n",
       "      <td>D</td>\n",
       "      <td>J</td>\n",
       "      <td>1136.0</td>\n",
       "      <td>1744.0</td>\n",
       "      <td>2022</td>\n",
       "      <td>1</td>\n",
       "      <td>30</td>\n",
       "      <td>7</td>\n",
       "    </tr>\n",
       "    <tr>\n",
       "      <th>54430</th>\n",
       "      <td>BC_E_J_20220130</td>\n",
       "      <td>2022-01-30</td>\n",
       "      <td>BC</td>\n",
       "      <td>E</td>\n",
       "      <td>J</td>\n",
       "      <td>2896.0</td>\n",
       "      <td>1996.0</td>\n",
       "      <td>2022</td>\n",
       "      <td>1</td>\n",
       "      <td>30</td>\n",
       "      <td>7</td>\n",
       "    </tr>\n",
       "    <tr>\n",
       "      <th>58999</th>\n",
       "      <td>RD_F_J_20220130</td>\n",
       "      <td>2022-01-30</td>\n",
       "      <td>RD</td>\n",
       "      <td>F</td>\n",
       "      <td>J</td>\n",
       "      <td>484440.0</td>\n",
       "      <td>481.0</td>\n",
       "      <td>2022</td>\n",
       "      <td>1</td>\n",
       "      <td>30</td>\n",
       "      <td>7</td>\n",
       "    </tr>\n",
       "  </tbody>\n",
       "</table>\n",
       "</div>"
      ],
      "text/plain": [
       "                    ID  timestamp item corporation location  supply(kg)  \\\n",
       "1125   TG_A_J_20220130 2022-01-30   TG           A        J     43455.0   \n",
       "2648   TG_A_S_20220130 2022-01-30   TG           A        S     38439.0   \n",
       "4171   TG_B_J_20220130 2022-01-30   TG           B        J      3294.0   \n",
       "5694   TG_B_S_20220130 2022-01-30   TG           B        S     80659.0   \n",
       "7217   TG_C_J_20220130 2022-01-30   TG           C        J     51458.4   \n",
       "8740   TG_C_S_20220130 2022-01-30   TG           C        S     29426.0   \n",
       "10263  TG_D_J_20220130 2022-01-30   TG           D        J     13505.0   \n",
       "11786  TG_D_S_20220130 2022-01-30   TG           D        S      5825.0   \n",
       "13309  TG_E_J_20220130 2022-01-30   TG           E        J     12705.0   \n",
       "14832  TG_E_S_20220130 2022-01-30   TG           E        S     20073.0   \n",
       "27016  CB_A_J_20220130 2022-01-30   CB           A        J       500.0   \n",
       "33108  RD_A_J_20220130 2022-01-30   RD           A        J      4260.0   \n",
       "34631  RD_A_S_20220130 2022-01-30   RD           A        S     27960.0   \n",
       "37677  RD_D_J_20220130 2022-01-30   RD           D        J      1080.0   \n",
       "39200  RD_D_S_20220130 2022-01-30   RD           D        S      6440.0   \n",
       "40723  RD_E_J_20220130 2022-01-30   RD           E        J     15080.0   \n",
       "43769  BC_A_J_20220130 2022-01-30   BC           A        J      2328.0   \n",
       "49861  BC_C_J_20220130 2022-01-30   BC           C        J        40.0   \n",
       "52907  BC_D_J_20220130 2022-01-30   BC           D        J      1136.0   \n",
       "54430  BC_E_J_20220130 2022-01-30   BC           E        J      2896.0   \n",
       "58999  RD_F_J_20220130 2022-01-30   RD           F        J    484440.0   \n",
       "\n",
       "       price(원/kg)  year  month  day  week  \n",
       "1125        1597.0  2022      1   30     7  \n",
       "2648        2341.0  2022      1   30     7  \n",
       "4171        2213.0  2022      1   30     7  \n",
       "5694        1965.0  2022      1   30     7  \n",
       "7217        2755.0  2022      1   30     7  \n",
       "8740        2769.0  2022      1   30     7  \n",
       "10263       1625.0  2022      1   30     7  \n",
       "11786       1604.0  2022      1   30     7  \n",
       "13309       2396.0  2022      1   30     7  \n",
       "14832       1875.0  2022      1   30     7  \n",
       "27016       1000.0  2022      1   30     7  \n",
       "33108        555.0  2022      1   30     7  \n",
       "34631        371.0  2022      1   30     7  \n",
       "37677        420.0  2022      1   30     7  \n",
       "39200        507.0  2022      1   30     7  \n",
       "40723        425.0  2022      1   30     7  \n",
       "43769       1917.0  2022      1   30     7  \n",
       "49861       2000.0  2022      1   30     7  \n",
       "52907       1744.0  2022      1   30     7  \n",
       "54430       1996.0  2022      1   30     7  \n",
       "58999        481.0  2022      1   30     7  "
      ]
     },
     "metadata": {},
     "output_type": "display_data"
    },
    {
     "name": "stdout",
     "output_type": "stream",
     "text": [
      "21\n"
     ]
    }
   ],
   "source": [
    "display(train_df[train_df['week'] == 7])\n",
    "print(len(train_df[train_df['week'] == 7]))"
   ]
  },
  {
   "cell_type": "markdown",
   "id": "52a6a770",
   "metadata": {},
   "source": [
    "## 휴일 정보 추가"
   ]
  },
  {
   "cell_type": "markdown",
   "id": "d21124fa",
   "metadata": {},
   "source": [
    "=> 일요일은 휴일로 안 들어감"
   ]
  },
  {
   "cell_type": "code",
   "execution_count": 163,
   "id": "3edfd51f",
   "metadata": {
    "ExecuteTime": {
     "end_time": "2024-02-18T06:44:42.824862Z",
     "start_time": "2024-02-18T06:44:42.822870Z"
    }
   },
   "outputs": [],
   "source": [
    "# 휴일col 추가\n",
    "\n",
    "def holiday(x):\n",
    "    holiday = holidays.KR()\n",
    "    \n",
    "    if x in holiday:\n",
    "        return 1\n",
    "    else:\n",
    "        return 0"
   ]
  },
  {
   "cell_type": "code",
   "execution_count": 164,
   "id": "204874c1",
   "metadata": {
    "ExecuteTime": {
     "end_time": "2024-02-18T06:44:58.392746Z",
     "start_time": "2024-02-18T06:44:42.825669Z"
    }
   },
   "outputs": [],
   "source": [
    "train_df['holiday'] = train_df['timestamp'].map(lambda x : holiday(x))"
   ]
  },
  {
   "cell_type": "code",
   "execution_count": 165,
   "id": "44df0cf0",
   "metadata": {
    "ExecuteTime": {
     "end_time": "2024-02-18T06:44:58.395752Z",
     "start_time": "2024-02-18T06:44:58.393572Z"
    }
   },
   "outputs": [
    {
     "data": {
      "text/plain": [
       "holiday\n",
       "0    56394\n",
       "1     3003\n",
       "Name: count, dtype: int64"
      ]
     },
     "execution_count": 165,
     "metadata": {},
     "output_type": "execute_result"
    }
   ],
   "source": [
    "train_df['holiday'].value_counts()"
   ]
  },
  {
   "cell_type": "code",
   "execution_count": 166,
   "id": "92a03ba8",
   "metadata": {
    "ExecuteTime": {
     "end_time": "2024-02-18T06:44:58.670621Z",
     "start_time": "2024-02-18T06:44:58.396270Z"
    }
   },
   "outputs": [
    {
     "data": {
      "text/plain": [
       "holiday\n",
       "0    1092\n",
       "Name: count, dtype: int64"
      ]
     },
     "execution_count": 166,
     "metadata": {},
     "output_type": "execute_result"
    }
   ],
   "source": [
    "test_df['holiday'] = test_df['timestamp'].map(lambda x : holiday(x))\n",
    "\n",
    "test_df['holiday'].value_counts()"
   ]
  },
  {
   "cell_type": "markdown",
   "id": "f91a9ec7",
   "metadata": {},
   "source": [
    "## 이상치 처리"
   ]
  },
  {
   "cell_type": "code",
   "execution_count": 167,
   "id": "66517798",
   "metadata": {
    "ExecuteTime": {
     "end_time": "2024-02-18T06:44:58.682036Z",
     "start_time": "2024-02-18T06:44:58.671304Z"
    }
   },
   "outputs": [
    {
     "data": {
      "text/html": [
       "<div>\n",
       "<style scoped>\n",
       "    .dataframe tbody tr th:only-of-type {\n",
       "        vertical-align: middle;\n",
       "    }\n",
       "\n",
       "    .dataframe tbody tr th {\n",
       "        vertical-align: top;\n",
       "    }\n",
       "\n",
       "    .dataframe thead th {\n",
       "        text-align: right;\n",
       "    }\n",
       "</style>\n",
       "<table border=\"1\" class=\"dataframe\">\n",
       "  <thead>\n",
       "    <tr style=\"text-align: right;\">\n",
       "      <th></th>\n",
       "      <th>count</th>\n",
       "      <th>mean</th>\n",
       "      <th>std</th>\n",
       "      <th>min</th>\n",
       "      <th>25%</th>\n",
       "      <th>50%</th>\n",
       "      <th>75%</th>\n",
       "      <th>max</th>\n",
       "    </tr>\n",
       "    <tr>\n",
       "      <th>item</th>\n",
       "      <th></th>\n",
       "      <th></th>\n",
       "      <th></th>\n",
       "      <th></th>\n",
       "      <th></th>\n",
       "      <th></th>\n",
       "      <th></th>\n",
       "      <th></th>\n",
       "    </tr>\n",
       "  </thead>\n",
       "  <tbody>\n",
       "    <tr>\n",
       "      <th>BC</th>\n",
       "      <td>13707.0</td>\n",
       "      <td>910.196615</td>\n",
       "      <td>1422.148301</td>\n",
       "      <td>0.0</td>\n",
       "      <td>0.00</td>\n",
       "      <td>0.0</td>\n",
       "      <td>2032.50</td>\n",
       "      <td>8750.0</td>\n",
       "    </tr>\n",
       "    <tr>\n",
       "      <th>CB</th>\n",
       "      <td>7615.0</td>\n",
       "      <td>152.187131</td>\n",
       "      <td>345.053036</td>\n",
       "      <td>0.0</td>\n",
       "      <td>0.00</td>\n",
       "      <td>0.0</td>\n",
       "      <td>0.00</td>\n",
       "      <td>2500.0</td>\n",
       "    </tr>\n",
       "    <tr>\n",
       "      <th>CR</th>\n",
       "      <td>10661.0</td>\n",
       "      <td>273.118938</td>\n",
       "      <td>632.929933</td>\n",
       "      <td>0.0</td>\n",
       "      <td>0.00</td>\n",
       "      <td>0.0</td>\n",
       "      <td>0.00</td>\n",
       "      <td>3882.0</td>\n",
       "    </tr>\n",
       "    <tr>\n",
       "      <th>RD</th>\n",
       "      <td>12184.0</td>\n",
       "      <td>187.073539</td>\n",
       "      <td>358.150266</td>\n",
       "      <td>0.0</td>\n",
       "      <td>0.00</td>\n",
       "      <td>0.0</td>\n",
       "      <td>383.00</td>\n",
       "      <td>5715.0</td>\n",
       "    </tr>\n",
       "    <tr>\n",
       "      <th>TG</th>\n",
       "      <td>15230.0</td>\n",
       "      <td>3177.442022</td>\n",
       "      <td>2805.240092</td>\n",
       "      <td>0.0</td>\n",
       "      <td>992.25</td>\n",
       "      <td>2273.5</td>\n",
       "      <td>5532.75</td>\n",
       "      <td>20909.0</td>\n",
       "    </tr>\n",
       "  </tbody>\n",
       "</table>\n",
       "</div>"
      ],
      "text/plain": [
       "        count         mean          std  min     25%     50%      75%      max\n",
       "item                                                                          \n",
       "BC    13707.0   910.196615  1422.148301  0.0    0.00     0.0  2032.50   8750.0\n",
       "CB     7615.0   152.187131   345.053036  0.0    0.00     0.0     0.00   2500.0\n",
       "CR    10661.0   273.118938   632.929933  0.0    0.00     0.0     0.00   3882.0\n",
       "RD    12184.0   187.073539   358.150266  0.0    0.00     0.0   383.00   5715.0\n",
       "TG    15230.0  3177.442022  2805.240092  0.0  992.25  2273.5  5532.75  20909.0"
      ]
     },
     "execution_count": 167,
     "metadata": {},
     "output_type": "execute_result"
    }
   ],
   "source": [
    "# item별 이상치 확인\n",
    "\n",
    "train_df.groupby('item')['price(원/kg)'].describe()"
   ]
  },
  {
   "cell_type": "markdown",
   "id": "7dbd1ef1",
   "metadata": {},
   "source": [
    "=> TG가 이상"
   ]
  },
  {
   "cell_type": "code",
   "execution_count": 168,
   "id": "ddc595f0",
   "metadata": {
    "ExecuteTime": {
     "end_time": "2024-02-18T06:44:58.700574Z",
     "start_time": "2024-02-18T06:44:58.682681Z"
    }
   },
   "outputs": [
    {
     "name": "stdout",
     "output_type": "stream",
     "text": [
      "{'BC': 3848.399999999998, 'CB': 1000.0, 'CR': 1676.0, 'RD': 666.8500000000004, 'TG': 8000.0}\n"
     ]
    }
   ],
   "source": [
    "# 이상치 제거\n",
    "# 각 품목에 대해 훈련 데이터에서 가격의 사분위수를 계산하여 딕셔너리에 저장\n",
    "\n",
    "item_dic = {'BC' : 0, 'CB' : 0, 'CR' : 0, 'RD' : 0, 'TG' : 0}\n",
    "item_dic = {it : train_df[train_df['item'] == it]['price(원/kg)'].quantile(0.95) for it in item_dic.keys()}\n",
    "    \n",
    "print(item_dic)"
   ]
  },
  {
   "cell_type": "code",
   "execution_count": 169,
   "id": "6f609f34",
   "metadata": {
    "ExecuteTime": {
     "end_time": "2024-02-18T06:44:59.102010Z",
     "start_time": "2024-02-18T06:44:58.701221Z"
    }
   },
   "outputs": [],
   "source": [
    "for i in range(len(train_df)):\n",
    "    item = train_df.loc[i, 'item']\n",
    "    \n",
    "    if train_df.loc[i, 'price(원/kg)'] > item_dic[item]:\n",
    "        train_df.loc[i, 'price(원/kg)'] = item_dic[item]"
   ]
  },
  {
   "cell_type": "code",
   "execution_count": 170,
   "id": "60bfa7fa",
   "metadata": {
    "ExecuteTime": {
     "end_time": "2024-02-18T06:44:59.111649Z",
     "start_time": "2024-02-18T06:44:59.102726Z"
    }
   },
   "outputs": [
    {
     "data": {
      "text/html": [
       "<div>\n",
       "<style scoped>\n",
       "    .dataframe tbody tr th:only-of-type {\n",
       "        vertical-align: middle;\n",
       "    }\n",
       "\n",
       "    .dataframe tbody tr th {\n",
       "        vertical-align: top;\n",
       "    }\n",
       "\n",
       "    .dataframe thead th {\n",
       "        text-align: right;\n",
       "    }\n",
       "</style>\n",
       "<table border=\"1\" class=\"dataframe\">\n",
       "  <thead>\n",
       "    <tr style=\"text-align: right;\">\n",
       "      <th></th>\n",
       "      <th>count</th>\n",
       "      <th>mean</th>\n",
       "      <th>std</th>\n",
       "      <th>min</th>\n",
       "      <th>25%</th>\n",
       "      <th>50%</th>\n",
       "      <th>75%</th>\n",
       "      <th>max</th>\n",
       "    </tr>\n",
       "    <tr>\n",
       "      <th>item</th>\n",
       "      <th></th>\n",
       "      <th></th>\n",
       "      <th></th>\n",
       "      <th></th>\n",
       "      <th></th>\n",
       "      <th></th>\n",
       "      <th></th>\n",
       "      <th></th>\n",
       "    </tr>\n",
       "  </thead>\n",
       "  <tbody>\n",
       "    <tr>\n",
       "      <th>BC</th>\n",
       "      <td>13707.0</td>\n",
       "      <td>872.613657</td>\n",
       "      <td>1322.976898</td>\n",
       "      <td>0.0</td>\n",
       "      <td>0.00</td>\n",
       "      <td>0.0</td>\n",
       "      <td>2032.50</td>\n",
       "      <td>3848.40</td>\n",
       "    </tr>\n",
       "    <tr>\n",
       "      <th>CB</th>\n",
       "      <td>7615.0</td>\n",
       "      <td>138.160735</td>\n",
       "      <td>294.697344</td>\n",
       "      <td>0.0</td>\n",
       "      <td>0.00</td>\n",
       "      <td>0.0</td>\n",
       "      <td>0.00</td>\n",
       "      <td>1000.00</td>\n",
       "    </tr>\n",
       "    <tr>\n",
       "      <th>CR</th>\n",
       "      <td>10661.0</td>\n",
       "      <td>237.043617</td>\n",
       "      <td>505.307581</td>\n",
       "      <td>0.0</td>\n",
       "      <td>0.00</td>\n",
       "      <td>0.0</td>\n",
       "      <td>0.00</td>\n",
       "      <td>1676.00</td>\n",
       "    </tr>\n",
       "    <tr>\n",
       "      <th>RD</th>\n",
       "      <td>12184.0</td>\n",
       "      <td>159.222546</td>\n",
       "      <td>236.759476</td>\n",
       "      <td>0.0</td>\n",
       "      <td>0.00</td>\n",
       "      <td>0.0</td>\n",
       "      <td>383.00</td>\n",
       "      <td>666.85</td>\n",
       "    </tr>\n",
       "    <tr>\n",
       "      <th>TG</th>\n",
       "      <td>15230.0</td>\n",
       "      <td>3109.188378</td>\n",
       "      <td>2650.214809</td>\n",
       "      <td>0.0</td>\n",
       "      <td>992.25</td>\n",
       "      <td>2273.5</td>\n",
       "      <td>5532.75</td>\n",
       "      <td>8000.00</td>\n",
       "    </tr>\n",
       "  </tbody>\n",
       "</table>\n",
       "</div>"
      ],
      "text/plain": [
       "        count         mean          std  min     25%     50%      75%      max\n",
       "item                                                                          \n",
       "BC    13707.0   872.613657  1322.976898  0.0    0.00     0.0  2032.50  3848.40\n",
       "CB     7615.0   138.160735   294.697344  0.0    0.00     0.0     0.00  1000.00\n",
       "CR    10661.0   237.043617   505.307581  0.0    0.00     0.0     0.00  1676.00\n",
       "RD    12184.0   159.222546   236.759476  0.0    0.00     0.0   383.00   666.85\n",
       "TG    15230.0  3109.188378  2650.214809  0.0  992.25  2273.5  5532.75  8000.00"
      ]
     },
     "execution_count": 170,
     "metadata": {},
     "output_type": "execute_result"
    }
   ],
   "source": [
    "train_df.groupby('item')['price(원/kg)'].describe()"
   ]
  },
  {
   "cell_type": "markdown",
   "id": "bed1fff5",
   "metadata": {},
   "source": [
    "## 이상값 제거"
   ]
  },
  {
   "cell_type": "markdown",
   "id": "bffcb992",
   "metadata": {},
   "source": [
    "공급량이 없는데 가격이 0이 아니거나 공급량이 있는데 가격이 0인 경우 제거"
   ]
  },
  {
   "cell_type": "code",
   "execution_count": 171,
   "id": "e3a5b2df",
   "metadata": {
    "ExecuteTime": {
     "end_time": "2024-02-18T06:44:59.115371Z",
     "start_time": "2024-02-18T06:44:59.112235Z"
    }
   },
   "outputs": [
    {
     "data": {
      "text/html": [
       "<div>\n",
       "<style scoped>\n",
       "    .dataframe tbody tr th:only-of-type {\n",
       "        vertical-align: middle;\n",
       "    }\n",
       "\n",
       "    .dataframe tbody tr th {\n",
       "        vertical-align: top;\n",
       "    }\n",
       "\n",
       "    .dataframe thead th {\n",
       "        text-align: right;\n",
       "    }\n",
       "</style>\n",
       "<table border=\"1\" class=\"dataframe\">\n",
       "  <thead>\n",
       "    <tr style=\"text-align: right;\">\n",
       "      <th></th>\n",
       "      <th>ID</th>\n",
       "      <th>timestamp</th>\n",
       "      <th>item</th>\n",
       "      <th>corporation</th>\n",
       "      <th>location</th>\n",
       "      <th>supply(kg)</th>\n",
       "      <th>price(원/kg)</th>\n",
       "      <th>year</th>\n",
       "      <th>month</th>\n",
       "      <th>day</th>\n",
       "      <th>week</th>\n",
       "      <th>holiday</th>\n",
       "    </tr>\n",
       "  </thead>\n",
       "  <tbody>\n",
       "  </tbody>\n",
       "</table>\n",
       "</div>"
      ],
      "text/plain": [
       "Empty DataFrame\n",
       "Columns: [ID, timestamp, item, corporation, location, supply(kg), price(원/kg), year, month, day, week, holiday]\n",
       "Index: []"
      ]
     },
     "execution_count": 171,
     "metadata": {},
     "output_type": "execute_result"
    }
   ],
   "source": [
    "train_df[(train_df['supply(kg)'] == 0) & train_df['price(원/kg)'] != 0]"
   ]
  },
  {
   "cell_type": "code",
   "execution_count": 172,
   "id": "3d41f76e",
   "metadata": {
    "ExecuteTime": {
     "end_time": "2024-02-18T06:44:59.132860Z",
     "start_time": "2024-02-18T06:44:59.118436Z"
    }
   },
   "outputs": [
    {
     "name": "stdout",
     "output_type": "stream",
     "text": [
      "Index([825, 9266, 31199], dtype='int64')\n",
      "(59397, 12)\n",
      "(59394, 12)\n"
     ]
    }
   ],
   "source": [
    "drop_ind = train_df[(train_df['price(원/kg)'] == 0) & (train_df['supply(kg)'])].index\n",
    "print(drop_ind)\n",
    "print(train_df.shape)\n",
    "\n",
    "train_df = train_df.drop(drop_ind)\n",
    "train_df = train_df.reset_index(drop = True)\n",
    "\n",
    "print(train_df.shape)"
   ]
  },
  {
   "cell_type": "markdown",
   "id": "6159dcb1",
   "metadata": {},
   "source": [
    "## 범주형 -> 수치형"
   ]
  },
  {
   "cell_type": "code",
   "execution_count": 173,
   "id": "29732caf",
   "metadata": {
    "ExecuteTime": {
     "end_time": "2024-02-18T06:44:59.140785Z",
     "start_time": "2024-02-18T06:44:59.133526Z"
    }
   },
   "outputs": [],
   "source": [
    "# 필요없는 col제거\n",
    "\n",
    "test_id = test_df['ID'] # 결과 제출할 때 필요\n",
    "\n",
    "train_df = train_df.drop(['ID', 'timestamp', 'supply(kg)'], axis = 1)\n",
    "test_df = test_df.drop(['ID', 'timestamp'], axis = 1)"
   ]
  },
  {
   "cell_type": "code",
   "execution_count": 174,
   "id": "669c08be",
   "metadata": {
    "ExecuteTime": {
     "end_time": "2024-02-18T06:44:59.157595Z",
     "start_time": "2024-02-18T06:44:59.141542Z"
    }
   },
   "outputs": [],
   "source": [
    "cat_col = ['item', 'corporation', 'location']\n",
    "\n",
    "for col in cat_col:\n",
    "    le = LabelEncoder()\n",
    "    train_df[col] = le.fit_transform(train_df[col])\n",
    "    test_df[col] = le.transform(test_df[col]) # test데이터에는 fit을 하지 않는다"
   ]
  },
  {
   "cell_type": "code",
   "execution_count": 175,
   "id": "af972317",
   "metadata": {
    "ExecuteTime": {
     "end_time": "2024-02-18T06:44:59.291789Z",
     "start_time": "2024-02-18T06:44:59.158306Z"
    }
   },
   "outputs": [
    {
     "name": "stderr",
     "output_type": "stream",
     "text": [
      "/Users/yurim/anaconda3/lib/python3.11/site-packages/seaborn/utils.py:80: UserWarning: Glyph 50896 (\\N{HANGUL SYLLABLE WEON}) missing from current font.\n",
      "  fig.canvas.draw()\n",
      "/Users/yurim/anaconda3/lib/python3.11/site-packages/IPython/core/events.py:93: UserWarning: Glyph 50896 (\\N{HANGUL SYLLABLE WEON}) missing from current font.\n",
      "  func(*args, **kwargs)\n",
      "/Users/yurim/anaconda3/lib/python3.11/site-packages/IPython/core/pylabtools.py:152: UserWarning: Glyph 50896 (\\N{HANGUL SYLLABLE WEON}) missing from current font.\n",
      "  fig.canvas.print_figure(bytes_io, **kw)\n"
     ]
    },
    {
     "data": {
      "image/png": "[encoded data removed]",
      "text/plain": [
       "<Figure size 640x480 with 2 Axes>"
      ]
     },
     "metadata": {},
     "output_type": "display_data"
    }
   ],
   "source": [
    "sns.heatmap(train_df.corr(), annot=True, annot_kws={\"size\": 7});"
   ]
  },
  {
   "cell_type": "markdown",
   "id": "03202f36",
   "metadata": {},
   "source": [
    "# 모델링"
   ]
  },
  {
   "cell_type": "code",
   "execution_count": 176,
   "id": "7ee72776",
   "metadata": {
    "ExecuteTime": {
     "end_time": "2024-02-18T06:44:59.295104Z",
     "start_time": "2024-02-18T06:44:59.292490Z"
    }
   },
   "outputs": [],
   "source": [
    "y = train_df['price(원/kg)']\n",
    "X = train_df.drop('price(원/kg)', axis = 1)"
   ]
  },
  {
   "cell_type": "code",
   "execution_count": 177,
   "id": "d14d81a5",
   "metadata": {
    "ExecuteTime": {
     "end_time": "2024-02-18T06:44:59.302645Z",
     "start_time": "2024-02-18T06:44:59.295756Z"
    }
   },
   "outputs": [
    {
     "name": "stdout",
     "output_type": "stream",
     "text": [
      "(41575, 8) (17819, 8) (41575,) (17819,)\n"
     ]
    }
   ],
   "source": [
    "# 데이터 세트 나누기\n",
    "\n",
    "X_train, X_test, y_train, y_test = train_test_split(X, y, test_size = 0.3)\n",
    "\n",
    "print(X_train.shape, X_test.shape, y_train.shape, y_test.shape)"
   ]
  },
  {
   "cell_type": "markdown",
   "id": "aca7b3bf",
   "metadata": {},
   "source": [
    "## RandomForest"
   ]
  },
  {
   "cell_type": "code",
   "execution_count": 178,
   "id": "3c5710ae",
   "metadata": {
    "ExecuteTime": {
     "end_time": "2024-02-18T06:45:03.474915Z",
     "start_time": "2024-02-18T06:44:59.304001Z"
    }
   },
   "outputs": [],
   "source": [
    "rf = RandomForestRegressor()\n",
    "rf.fit(X_train, y_train)\n",
    "\n",
    "rf_pred_tr = rf.predict(X_train) # 학습용 데이터셋의 타깃 변수 예측\n",
    "rf_pred_tr = np.where(rf_pred_tr < 0, 0, rf_pred_tr) # 예측값이 -인 경우 0으로 처리\n",
    "rf_pred_te = rf.predict(X_test) # 검증용 데이터셋의 타깃 변수 예측\n",
    "rf_pred_te = np.where(rf_pred_te < 0, 0, rf_pred_te) # 예측값이 -인 경우 0으로 처리"
   ]
  },
  {
   "cell_type": "code",
   "execution_count": 179,
   "id": "0b09d3ed",
   "metadata": {
    "ExecuteTime": {
     "end_time": "2024-02-18T06:45:03.478380Z",
     "start_time": "2024-02-18T06:45:03.475816Z"
    }
   },
   "outputs": [
    {
     "name": "stdout",
     "output_type": "stream",
     "text": [
      "train rmse : 293.0795\n",
      "test rmse : 774.3804\n"
     ]
    }
   ],
   "source": [
    "# rmse\n",
    "\n",
    "rf_rmse_tr = mean_squared_error(y_train, rf_pred_tr, squared = False) # 학습 데이터셋의 rmse\n",
    "rf_rmse_te = mean_squared_error(y_test, rf_pred_te, squared = False) # 검증 데이터셋의 rmse\n",
    "\n",
    "print('train rmse : {:.4f}'.format(rf_rmse_tr))\n",
    "print('test rmse : {:.4f}'.format(rf_rmse_te))"
   ]
  },
  {
   "cell_type": "markdown",
   "id": "b47051c0",
   "metadata": {},
   "source": [
    "## XGBoost"
   ]
  },
  {
   "cell_type": "code",
   "execution_count": 180,
   "id": "50f11cf7",
   "metadata": {
    "ExecuteTime": {
     "end_time": "2024-02-18T06:45:03.603120Z",
     "start_time": "2024-02-18T06:45:03.478997Z"
    }
   },
   "outputs": [],
   "source": [
    "xgb = XGBRegressor()\n",
    "xgb.fit(X_train, y_train)\n",
    "\n",
    "xgb_pred_tr = xgb.predict(X_train)\n",
    "xgb_pred_tr = np.where(xgb_pred_tr < 0, 0, xgb_pred_tr) # 예측값이 -인 경우 0으로 처리\n",
    "xgb_pred_te = xgb.predict(X_test)\n",
    "xgb_pred_te = np.where(xgb_pred_te < 0, 0, xgb_pred_te) # 예측값이 -인 경우 0으로 처리"
   ]
  },
  {
   "cell_type": "code",
   "execution_count": 181,
   "id": "3638f52a",
   "metadata": {
    "ExecuteTime": {
     "end_time": "2024-02-18T06:45:03.606543Z",
     "start_time": "2024-02-18T06:45:03.604130Z"
    }
   },
   "outputs": [
    {
     "name": "stdout",
     "output_type": "stream",
     "text": [
      "train rmse : 719.0589\n",
      "test rmse : 790.9050\n"
     ]
    }
   ],
   "source": [
    "# rmse\n",
    "\n",
    "xgb_rmse_tr = mean_squared_error(y_train, xgb_pred_tr, squared = False) # 학습 데이터셋의 rmse\n",
    "xgb_rmse_te = mean_squared_error(y_test, xgb_pred_te, squared = False) # 검증 데이터셋의 rmse\n",
    "\n",
    "print('train rmse : {:.4f}'.format(xgb_rmse_tr))\n",
    "print('test rmse : {:.4f}'.format(xgb_rmse_te))"
   ]
  },
  {
   "cell_type": "markdown",
   "id": "0aef33bd",
   "metadata": {},
   "source": [
    "# 그리드서치"
   ]
  },
  {
   "cell_type": "markdown",
   "id": "97a0a522",
   "metadata": {},
   "source": [
    "## RandomForest"
   ]
  },
  {
   "cell_type": "code",
   "execution_count": null,
   "id": "0ab4b24d",
   "metadata": {
    "ExecuteTime": {
     "end_time": "2024-02-18T06:51:46.700048Z",
     "start_time": "2024-02-18T06:51:46.700044Z"
    }
   },
   "outputs": [],
   "source": [
    "rf = RandomForestRegressor()\n",
    "\n",
    "params = {\n",
    "    'n_estimators': [200, 300, 400],  # 트리의 개수\n",
    "    'max_features': ['auto', 'sqrt'],  # 각 노드에서 feature를 찾는 방법\n",
    "    'max_depth': [5, 10, 20, 30, None],  # 트리의 최대 깊이\n",
    "    'min_samples_split': [2, 5, 10],  # 노드를 분할하기 위한 최소한의 샘플 수\n",
    "    'min_samples_leaf': [1, 2, 4],  # 리프 노드가 되기 위한 최소한의 샘플 수\n",
    "    'bootstrap': [True, False]  # 샘플링 시 중복 허용 여부\n",
    "}\n",
    "\n",
    "# 교차 검증\n",
    "kf = KFold(random_state = 30,\n",
    "           n_splits = 10,\n",
    "           shuffle = True)\n",
    "\n",
    "rf_grid = GridSearchCV(estimator = rf,\n",
    "                    param_grid = params,\n",
    "                    cv = kf,\n",
    "                    scoring = 'neg_root_mean_squared_error', \n",
    "                    n_jobs = -1)"
   ]
  },
  {
   "cell_type": "code",
   "execution_count": 183,
   "id": "f4f2519f",
   "metadata": {
    "ExecuteTime": {
     "end_time": "2024-02-18T06:51:46.698800Z",
     "start_time": "2024-02-18T06:45:03.614350Z"
    }
   },
   "outputs": [
    {
     "name": "stderr",
     "output_type": "stream",
     "text": [
      "/Users/yurim/anaconda3/lib/python3.11/site-packages/joblib/externals/loky/process_executor.py:700: UserWarning: A worker stopped while some jobs were given to the executor. This can be caused by a too short worker timeout or by a memory leak.\n",
      "  warnings.warn(\n"
     ]
    },
    {
     "ename": "KeyboardInterrupt",
     "evalue": "",
     "output_type": "error",
     "traceback": [
      "\u001b[0;31m---------------------------------------------------------------------------\u001b[0m",
      "\u001b[0;31mKeyboardInterrupt\u001b[0m                         Traceback (most recent call last)",
      "Cell \u001b[0;32mIn[183], line 1\u001b[0m\n\u001b[0;32m----> 1\u001b[0m rf_grid\u001b[38;5;241m.\u001b[39mfit(X_train, y_train)\n",
      "File \u001b[0;32m~/anaconda3/lib/python3.11/site-packages/sklearn/base.py:1151\u001b[0m, in \u001b[0;36m_fit_context.<locals>.decorator.<locals>.wrapper\u001b[0;34m(estimator, *args, **kwargs)\u001b[0m\n\u001b[1;32m   1144\u001b[0m     estimator\u001b[38;5;241m.\u001b[39m_validate_params()\n\u001b[1;32m   1146\u001b[0m \u001b[38;5;28;01mwith\u001b[39;00m config_context(\n\u001b[1;32m   1147\u001b[0m     skip_parameter_validation\u001b[38;5;241m=\u001b[39m(\n\u001b[1;32m   1148\u001b[0m         prefer_skip_nested_validation \u001b[38;5;129;01mor\u001b[39;00m global_skip_validation\n\u001b[1;32m   1149\u001b[0m     )\n\u001b[1;32m   1150\u001b[0m ):\n\u001b[0;32m-> 1151\u001b[0m     \u001b[38;5;28;01mreturn\u001b[39;00m fit_method(estimator, \u001b[38;5;241m*\u001b[39margs, \u001b[38;5;241m*\u001b[39m\u001b[38;5;241m*\u001b[39mkwargs)\n",
      "File \u001b[0;32m~/anaconda3/lib/python3.11/site-packages/sklearn/model_selection/_search.py:898\u001b[0m, in \u001b[0;36mBaseSearchCV.fit\u001b[0;34m(self, X, y, groups, **fit_params)\u001b[0m\n\u001b[1;32m    892\u001b[0m     results \u001b[38;5;241m=\u001b[39m \u001b[38;5;28mself\u001b[39m\u001b[38;5;241m.\u001b[39m_format_results(\n\u001b[1;32m    893\u001b[0m         all_candidate_params, n_splits, all_out, all_more_results\n\u001b[1;32m    894\u001b[0m     )\n\u001b[1;32m    896\u001b[0m     \u001b[38;5;28;01mreturn\u001b[39;00m results\n\u001b[0;32m--> 898\u001b[0m \u001b[38;5;28mself\u001b[39m\u001b[38;5;241m.\u001b[39m_run_search(evaluate_candidates)\n\u001b[1;32m    900\u001b[0m \u001b[38;5;66;03m# multimetric is determined here because in the case of a callable\u001b[39;00m\n\u001b[1;32m    901\u001b[0m \u001b[38;5;66;03m# self.scoring the return type is only known after calling\u001b[39;00m\n\u001b[1;32m    902\u001b[0m first_test_score \u001b[38;5;241m=\u001b[39m all_out[\u001b[38;5;241m0\u001b[39m][\u001b[38;5;124m\"\u001b[39m\u001b[38;5;124mtest_scores\u001b[39m\u001b[38;5;124m\"\u001b[39m]\n",
      "File \u001b[0;32m~/anaconda3/lib/python3.11/site-packages/sklearn/model_selection/_search.py:1419\u001b[0m, in \u001b[0;36mGridSearchCV._run_search\u001b[0;34m(self, evaluate_candidates)\u001b[0m\n\u001b[1;32m   1417\u001b[0m \u001b[38;5;28;01mdef\u001b[39;00m \u001b[38;5;21m_run_search\u001b[39m(\u001b[38;5;28mself\u001b[39m, evaluate_candidates):\n\u001b[1;32m   1418\u001b[0m \u001b[38;5;250m    \u001b[39m\u001b[38;5;124;03m\"\"\"Search all candidates in param_grid\"\"\"\u001b[39;00m\n\u001b[0;32m-> 1419\u001b[0m     evaluate_candidates(ParameterGrid(\u001b[38;5;28mself\u001b[39m\u001b[38;5;241m.\u001b[39mparam_grid))\n",
      "File \u001b[0;32m~/anaconda3/lib/python3.11/site-packages/sklearn/model_selection/_search.py:845\u001b[0m, in \u001b[0;36mBaseSearchCV.fit.<locals>.evaluate_candidates\u001b[0;34m(candidate_params, cv, more_results)\u001b[0m\n\u001b[1;32m    837\u001b[0m \u001b[38;5;28;01mif\u001b[39;00m \u001b[38;5;28mself\u001b[39m\u001b[38;5;241m.\u001b[39mverbose \u001b[38;5;241m>\u001b[39m \u001b[38;5;241m0\u001b[39m:\n\u001b[1;32m    838\u001b[0m     \u001b[38;5;28mprint\u001b[39m(\n\u001b[1;32m    839\u001b[0m         \u001b[38;5;124m\"\u001b[39m\u001b[38;5;124mFitting \u001b[39m\u001b[38;5;132;01m{0}\u001b[39;00m\u001b[38;5;124m folds for each of \u001b[39m\u001b[38;5;132;01m{1}\u001b[39;00m\u001b[38;5;124m candidates,\u001b[39m\u001b[38;5;124m\"\u001b[39m\n\u001b[1;32m    840\u001b[0m         \u001b[38;5;124m\"\u001b[39m\u001b[38;5;124m totalling \u001b[39m\u001b[38;5;132;01m{2}\u001b[39;00m\u001b[38;5;124m fits\u001b[39m\u001b[38;5;124m\"\u001b[39m\u001b[38;5;241m.\u001b[39mformat(\n\u001b[1;32m    841\u001b[0m             n_splits, n_candidates, n_candidates \u001b[38;5;241m*\u001b[39m n_splits\n\u001b[1;32m    842\u001b[0m         )\n\u001b[1;32m    843\u001b[0m     )\n\u001b[0;32m--> 845\u001b[0m out \u001b[38;5;241m=\u001b[39m parallel(\n\u001b[1;32m    846\u001b[0m     delayed(_fit_and_score)(\n\u001b[1;32m    847\u001b[0m         clone(base_estimator),\n\u001b[1;32m    848\u001b[0m         X,\n\u001b[1;32m    849\u001b[0m         y,\n\u001b[1;32m    850\u001b[0m         train\u001b[38;5;241m=\u001b[39mtrain,\n\u001b[1;32m    851\u001b[0m         test\u001b[38;5;241m=\u001b[39mtest,\n\u001b[1;32m    852\u001b[0m         parameters\u001b[38;5;241m=\u001b[39mparameters,\n\u001b[1;32m    853\u001b[0m         split_progress\u001b[38;5;241m=\u001b[39m(split_idx, n_splits),\n\u001b[1;32m    854\u001b[0m         candidate_progress\u001b[38;5;241m=\u001b[39m(cand_idx, n_candidates),\n\u001b[1;32m    855\u001b[0m         \u001b[38;5;241m*\u001b[39m\u001b[38;5;241m*\u001b[39mfit_and_score_kwargs,\n\u001b[1;32m    856\u001b[0m     )\n\u001b[1;32m    857\u001b[0m     \u001b[38;5;28;01mfor\u001b[39;00m (cand_idx, parameters), (split_idx, (train, test)) \u001b[38;5;129;01min\u001b[39;00m product(\n\u001b[1;32m    858\u001b[0m         \u001b[38;5;28menumerate\u001b[39m(candidate_params), \u001b[38;5;28menumerate\u001b[39m(cv\u001b[38;5;241m.\u001b[39msplit(X, y, groups))\n\u001b[1;32m    859\u001b[0m     )\n\u001b[1;32m    860\u001b[0m )\n\u001b[1;32m    862\u001b[0m \u001b[38;5;28;01mif\u001b[39;00m \u001b[38;5;28mlen\u001b[39m(out) \u001b[38;5;241m<\u001b[39m \u001b[38;5;241m1\u001b[39m:\n\u001b[1;32m    863\u001b[0m     \u001b[38;5;28;01mraise\u001b[39;00m \u001b[38;5;167;01mValueError\u001b[39;00m(\n\u001b[1;32m    864\u001b[0m         \u001b[38;5;124m\"\u001b[39m\u001b[38;5;124mNo fits were performed. \u001b[39m\u001b[38;5;124m\"\u001b[39m\n\u001b[1;32m    865\u001b[0m         \u001b[38;5;124m\"\u001b[39m\u001b[38;5;124mWas the CV iterator empty? \u001b[39m\u001b[38;5;124m\"\u001b[39m\n\u001b[1;32m    866\u001b[0m         \u001b[38;5;124m\"\u001b[39m\u001b[38;5;124mWere there no candidates?\u001b[39m\u001b[38;5;124m\"\u001b[39m\n\u001b[1;32m    867\u001b[0m     )\n",
      "File \u001b[0;32m~/anaconda3/lib/python3.11/site-packages/sklearn/utils/parallel.py:65\u001b[0m, in \u001b[0;36mParallel.__call__\u001b[0;34m(self, iterable)\u001b[0m\n\u001b[1;32m     60\u001b[0m config \u001b[38;5;241m=\u001b[39m get_config()\n\u001b[1;32m     61\u001b[0m iterable_with_config \u001b[38;5;241m=\u001b[39m (\n\u001b[1;32m     62\u001b[0m     (_with_config(delayed_func, config), args, kwargs)\n\u001b[1;32m     63\u001b[0m     \u001b[38;5;28;01mfor\u001b[39;00m delayed_func, args, kwargs \u001b[38;5;129;01min\u001b[39;00m iterable\n\u001b[1;32m     64\u001b[0m )\n\u001b[0;32m---> 65\u001b[0m \u001b[38;5;28;01mreturn\u001b[39;00m \u001b[38;5;28msuper\u001b[39m()\u001b[38;5;241m.\u001b[39m\u001b[38;5;21m__call__\u001b[39m(iterable_with_config)\n",
      "File \u001b[0;32m~/anaconda3/lib/python3.11/site-packages/joblib/parallel.py:1098\u001b[0m, in \u001b[0;36mParallel.__call__\u001b[0;34m(self, iterable)\u001b[0m\n\u001b[1;32m   1095\u001b[0m     \u001b[38;5;28mself\u001b[39m\u001b[38;5;241m.\u001b[39m_iterating \u001b[38;5;241m=\u001b[39m \u001b[38;5;28;01mFalse\u001b[39;00m\n\u001b[1;32m   1097\u001b[0m \u001b[38;5;28;01mwith\u001b[39;00m \u001b[38;5;28mself\u001b[39m\u001b[38;5;241m.\u001b[39m_backend\u001b[38;5;241m.\u001b[39mretrieval_context():\n\u001b[0;32m-> 1098\u001b[0m     \u001b[38;5;28mself\u001b[39m\u001b[38;5;241m.\u001b[39mretrieve()\n\u001b[1;32m   1099\u001b[0m \u001b[38;5;66;03m# Make sure that we get a last message telling us we are done\u001b[39;00m\n\u001b[1;32m   1100\u001b[0m elapsed_time \u001b[38;5;241m=\u001b[39m time\u001b[38;5;241m.\u001b[39mtime() \u001b[38;5;241m-\u001b[39m \u001b[38;5;28mself\u001b[39m\u001b[38;5;241m.\u001b[39m_start_time\n",
      "File \u001b[0;32m~/anaconda3/lib/python3.11/site-packages/joblib/parallel.py:975\u001b[0m, in \u001b[0;36mParallel.retrieve\u001b[0;34m(self)\u001b[0m\n\u001b[1;32m    973\u001b[0m \u001b[38;5;28;01mtry\u001b[39;00m:\n\u001b[1;32m    974\u001b[0m     \u001b[38;5;28;01mif\u001b[39;00m \u001b[38;5;28mgetattr\u001b[39m(\u001b[38;5;28mself\u001b[39m\u001b[38;5;241m.\u001b[39m_backend, \u001b[38;5;124m'\u001b[39m\u001b[38;5;124msupports_timeout\u001b[39m\u001b[38;5;124m'\u001b[39m, \u001b[38;5;28;01mFalse\u001b[39;00m):\n\u001b[0;32m--> 975\u001b[0m         \u001b[38;5;28mself\u001b[39m\u001b[38;5;241m.\u001b[39m_output\u001b[38;5;241m.\u001b[39mextend(job\u001b[38;5;241m.\u001b[39mget(timeout\u001b[38;5;241m=\u001b[39m\u001b[38;5;28mself\u001b[39m\u001b[38;5;241m.\u001b[39mtimeout))\n\u001b[1;32m    976\u001b[0m     \u001b[38;5;28;01melse\u001b[39;00m:\n\u001b[1;32m    977\u001b[0m         \u001b[38;5;28mself\u001b[39m\u001b[38;5;241m.\u001b[39m_output\u001b[38;5;241m.\u001b[39mextend(job\u001b[38;5;241m.\u001b[39mget())\n",
      "File \u001b[0;32m~/anaconda3/lib/python3.11/site-packages/joblib/_parallel_backends.py:567\u001b[0m, in \u001b[0;36mLokyBackend.wrap_future_result\u001b[0;34m(future, timeout)\u001b[0m\n\u001b[1;32m    564\u001b[0m \u001b[38;5;250m\u001b[39m\u001b[38;5;124;03m\"\"\"Wrapper for Future.result to implement the same behaviour as\u001b[39;00m\n\u001b[1;32m    565\u001b[0m \u001b[38;5;124;03mAsyncResults.get from multiprocessing.\"\"\"\u001b[39;00m\n\u001b[1;32m    566\u001b[0m \u001b[38;5;28;01mtry\u001b[39;00m:\n\u001b[0;32m--> 567\u001b[0m     \u001b[38;5;28;01mreturn\u001b[39;00m future\u001b[38;5;241m.\u001b[39mresult(timeout\u001b[38;5;241m=\u001b[39mtimeout)\n\u001b[1;32m    568\u001b[0m \u001b[38;5;28;01mexcept\u001b[39;00m CfTimeoutError \u001b[38;5;28;01mas\u001b[39;00m e:\n\u001b[1;32m    569\u001b[0m     \u001b[38;5;28;01mraise\u001b[39;00m \u001b[38;5;167;01mTimeoutError\u001b[39;00m \u001b[38;5;28;01mfrom\u001b[39;00m \u001b[38;5;21;01me\u001b[39;00m\n",
      "File \u001b[0;32m~/anaconda3/lib/python3.11/concurrent/futures/_base.py:451\u001b[0m, in \u001b[0;36mFuture.result\u001b[0;34m(self, timeout)\u001b[0m\n\u001b[1;32m    448\u001b[0m \u001b[38;5;28;01melif\u001b[39;00m \u001b[38;5;28mself\u001b[39m\u001b[38;5;241m.\u001b[39m_state \u001b[38;5;241m==\u001b[39m FINISHED:\n\u001b[1;32m    449\u001b[0m     \u001b[38;5;28;01mreturn\u001b[39;00m \u001b[38;5;28mself\u001b[39m\u001b[38;5;241m.\u001b[39m__get_result()\n\u001b[0;32m--> 451\u001b[0m \u001b[38;5;28mself\u001b[39m\u001b[38;5;241m.\u001b[39m_condition\u001b[38;5;241m.\u001b[39mwait(timeout)\n\u001b[1;32m    453\u001b[0m \u001b[38;5;28;01mif\u001b[39;00m \u001b[38;5;28mself\u001b[39m\u001b[38;5;241m.\u001b[39m_state \u001b[38;5;129;01min\u001b[39;00m [CANCELLED, CANCELLED_AND_NOTIFIED]:\n\u001b[1;32m    454\u001b[0m     \u001b[38;5;28;01mraise\u001b[39;00m CancelledError()\n",
      "File \u001b[0;32m~/anaconda3/lib/python3.11/threading.py:320\u001b[0m, in \u001b[0;36mCondition.wait\u001b[0;34m(self, timeout)\u001b[0m\n\u001b[1;32m    318\u001b[0m \u001b[38;5;28;01mtry\u001b[39;00m:    \u001b[38;5;66;03m# restore state no matter what (e.g., KeyboardInterrupt)\u001b[39;00m\n\u001b[1;32m    319\u001b[0m     \u001b[38;5;28;01mif\u001b[39;00m timeout \u001b[38;5;129;01mis\u001b[39;00m \u001b[38;5;28;01mNone\u001b[39;00m:\n\u001b[0;32m--> 320\u001b[0m         waiter\u001b[38;5;241m.\u001b[39macquire()\n\u001b[1;32m    321\u001b[0m         gotit \u001b[38;5;241m=\u001b[39m \u001b[38;5;28;01mTrue\u001b[39;00m\n\u001b[1;32m    322\u001b[0m     \u001b[38;5;28;01melse\u001b[39;00m:\n",
      "\u001b[0;31mKeyboardInterrupt\u001b[0m: "
     ]
    }
   ],
   "source": [
    "rf_grid.fit(X_train, y_train)"
   ]
  },
  {
   "cell_type": "code",
   "execution_count": null,
   "id": "480c9c12",
   "metadata": {
    "ExecuteTime": {
     "end_time": "2024-02-18T06:51:46.699698Z",
     "start_time": "2024-02-18T06:51:46.699693Z"
    }
   },
   "outputs": [],
   "source": [
    "print('최적 하이퍼파라미터:', rf_grid.best_params_)\n",
    "print('최적 평균 RMSE:', -rf_grid.best_score_)"
   ]
  },
  {
   "cell_type": "code",
   "execution_count": null,
   "id": "049853d3",
   "metadata": {},
   "outputs": [],
   "source": [
    "rf_g = RandomForestRegressor()\n",
    "rf_g.fit(X_train, y_train)\n",
    "\n",
    "rf_pred_tr = rf_g.predict(X_train) # 학습용 데이터셋의 타깃 변수 예측\n",
    "rf_pred_tr = np.where(rf_pred_tr < 0, 0, rf_pred_tr) # 예측값이 -인 경우 0으로 처리\n",
    "rf_pred_te = rf_g.predict(X_test) # 검증용 데이터셋의 타깃 변수 예측\n",
    "rf_pred_te = np.where(rf_pred_te < 0, 0, rf_pred_te) # 예측값이 -인 경우 0으로 처리\n",
    "\n",
    "# rmse\n",
    "\n",
    "rf_rmse_tr = mean_squared_error(y_train, rf_pred_tr, squared = False) # 학습 데이터셋의 rmse\n",
    "rf_rmse_te = mean_squared_error(y_test, rf_pred_te, squared = False) # 검증 데이터셋의 rmse\n",
    "\n",
    "print('train rmse : {:.4f}'.format(rf_rmse_tr))\n",
    "print('test rmse : {:.4f}'.format(rf_rmse_te))"
   ]
  },
  {
   "cell_type": "markdown",
   "id": "e7e60cd5",
   "metadata": {},
   "source": [
    "## XGBoost"
   ]
  },
  {
   "cell_type": "code",
   "execution_count": null,
   "id": "f3d172bd",
   "metadata": {},
   "outputs": [],
   "source": [
    "xgb_model = XGBRegressor()\n",
    "\n",
    "# 하이퍼파라미터 그리드 설정\n",
    "params = {\n",
    "    'n_estimators': [100, 300, 400, 500],\n",
    "    'max_depth': [3, 5, 7],\n",
    "    'learning_rate': [0.01, 0.05, 0.1]\n",
    "}\n",
    "\n",
    "kf = KFold(random_state = 30,\n",
    "           n_splits = 10,\n",
    "           shuffle = True)\n",
    "\n",
    "# 그리드 서치 수행\n",
    "xgb_grid = GridSearchCV(estimator = xgb_model,\n",
    "                        param_grid = params,\n",
    "                        scoring='neg_root_mean_squared_error',\n",
    "                        cv = kf)\n",
    "\n",
    "xgb_grid.fit(X_train, y_train)\n",
    "\n",
    "# 최적의 파라미터와 RMSE 값 출력\n",
    "print('최적 하이퍼파라미터:', xgb_grid.best_params_)\n",
    "print('최적 평균 RMSE:', -xgb_grid.best_score_)"
   ]
  },
  {
   "cell_type": "code",
   "execution_count": null,
   "id": "697219f7",
   "metadata": {},
   "outputs": [],
   "source": [
    "xgb_g = XGBRegressor()\n",
    "xgb_g.fit(X_train, y_train)\n",
    "\n",
    "xgb_pred_tr = xgb_g.predict(X_train)\n",
    "xgb_pred_tr = np.where(xgb_pred_tr < 0, 0, xgb_pred_tr) # 예측값이 -인 경우 0으로 처리\n",
    "xgb_pred_te = xgb_g.predict(X_test)\n",
    "xgb_pred_te = np.where(xgb_pred_te < 0, 0, xgb_pred_te) # 예측값이 -인 경우 0으로 처리\n",
    "\n",
    "# rmse\n",
    "\n",
    "xgb_rmse_tr = mean_squared_error(y_train, xgb_pred_tr, squared = False) # 학습 데이터셋의 rmse\n",
    "xgb_rmse_te = mean_squared_error(y_test, xgb_pred_te, squared = False) # 검증 데이터셋의 rmse\n",
    "\n",
    "print('train rmse : {:.4f}'.format(xgb_rmse_tr))\n",
    "print('test rmse : {:.4f}'.format(xgb_rmse_te))"
   ]
  },
  {
   "cell_type": "markdown",
   "id": "69c00f0e",
   "metadata": {},
   "source": [
    "# 결과 저장"
   ]
  },
  {
   "cell_type": "code",
   "execution_count": 185,
   "id": "c64b8ed5",
   "metadata": {
    "ExecuteTime": {
     "end_time": "2024-02-18T06:52:06.194730Z",
     "start_time": "2024-02-18T06:52:06.182725Z"
    }
   },
   "outputs": [],
   "source": [
    "xgb_pred_res = xgb.predict(test_df)\n",
    "xgb_pred_res = np.where(xgb_pred_res < 0, 0, xgb_pred_res) # 예측값이 -인 경우 0으로 처리"
   ]
  },
  {
   "cell_type": "code",
   "execution_count": 187,
   "id": "cfb96a74",
   "metadata": {
    "ExecuteTime": {
     "end_time": "2024-02-18T06:52:14.157045Z",
     "start_time": "2024-02-18T06:52:14.143017Z"
    }
   },
   "outputs": [
    {
     "data": {
      "text/html": [
       "<div>\n",
       "<style scoped>\n",
       "    .dataframe tbody tr th:only-of-type {\n",
       "        vertical-align: middle;\n",
       "    }\n",
       "\n",
       "    .dataframe tbody tr th {\n",
       "        vertical-align: top;\n",
       "    }\n",
       "\n",
       "    .dataframe thead th {\n",
       "        text-align: right;\n",
       "    }\n",
       "</style>\n",
       "<table border=\"1\" class=\"dataframe\">\n",
       "  <thead>\n",
       "    <tr style=\"text-align: right;\">\n",
       "      <th></th>\n",
       "      <th>ID</th>\n",
       "      <th>price</th>\n",
       "    </tr>\n",
       "  </thead>\n",
       "  <tbody>\n",
       "    <tr>\n",
       "      <th>0</th>\n",
       "      <td>TG_A_J_20230304</td>\n",
       "      <td>2478.700928</td>\n",
       "    </tr>\n",
       "    <tr>\n",
       "      <th>1</th>\n",
       "      <td>TG_A_J_20230305</td>\n",
       "      <td>0.000000</td>\n",
       "    </tr>\n",
       "    <tr>\n",
       "      <th>2</th>\n",
       "      <td>TG_A_J_20230306</td>\n",
       "      <td>3243.188965</td>\n",
       "    </tr>\n",
       "    <tr>\n",
       "      <th>3</th>\n",
       "      <td>TG_A_J_20230307</td>\n",
       "      <td>3525.765381</td>\n",
       "    </tr>\n",
       "    <tr>\n",
       "      <th>4</th>\n",
       "      <td>TG_A_J_20230308</td>\n",
       "      <td>3828.539551</td>\n",
       "    </tr>\n",
       "    <tr>\n",
       "      <th>...</th>\n",
       "      <td>...</td>\n",
       "      <td>...</td>\n",
       "    </tr>\n",
       "    <tr>\n",
       "      <th>1087</th>\n",
       "      <td>RD_F_J_20230327</td>\n",
       "      <td>456.082855</td>\n",
       "    </tr>\n",
       "    <tr>\n",
       "      <th>1088</th>\n",
       "      <td>RD_F_J_20230328</td>\n",
       "      <td>402.630127</td>\n",
       "    </tr>\n",
       "    <tr>\n",
       "      <th>1089</th>\n",
       "      <td>RD_F_J_20230329</td>\n",
       "      <td>389.167694</td>\n",
       "    </tr>\n",
       "    <tr>\n",
       "      <th>1090</th>\n",
       "      <td>RD_F_J_20230330</td>\n",
       "      <td>581.263733</td>\n",
       "    </tr>\n",
       "    <tr>\n",
       "      <th>1091</th>\n",
       "      <td>RD_F_J_20230331</td>\n",
       "      <td>609.871704</td>\n",
       "    </tr>\n",
       "  </tbody>\n",
       "</table>\n",
       "<p>1092 rows × 2 columns</p>\n",
       "</div>"
      ],
      "text/plain": [
       "                   ID        price\n",
       "0     TG_A_J_20230304  2478.700928\n",
       "1     TG_A_J_20230305     0.000000\n",
       "2     TG_A_J_20230306  3243.188965\n",
       "3     TG_A_J_20230307  3525.765381\n",
       "4     TG_A_J_20230308  3828.539551\n",
       "...               ...          ...\n",
       "1087  RD_F_J_20230327   456.082855\n",
       "1088  RD_F_J_20230328   402.630127\n",
       "1089  RD_F_J_20230329   389.167694\n",
       "1090  RD_F_J_20230330   581.263733\n",
       "1091  RD_F_J_20230331   609.871704\n",
       "\n",
       "[1092 rows x 2 columns]"
      ]
     },
     "execution_count": 187,
     "metadata": {},
     "output_type": "execute_result"
    }
   ],
   "source": [
    "submission = pd.DataFrame({'ID' : test_id, 'price' : xgb_pred_res})\n",
    "submission"
   ]
  },
  {
   "cell_type": "code",
   "execution_count": null,
   "id": "dea90318",
   "metadata": {},
   "outputs": [],
   "source": []
  }
 ],
 "metadata": {
  "kernelspec": {
   "display_name": "Python 3 (ipykernel)",
   "language": "python",
   "name": "python3"
  },
  "language_info": {
   "codemirror_mode": {
    "name": "ipython",
    "version": 3
   },
   "file_extension": ".py",
   "mimetype": "text/x-python",
   "name": "python",
   "nbconvert_exporter": "python",
   "pygments_lexer": "ipython3",
   "version": "3.11.5"
  },
  "toc": {
   "base_numbering": 1,
   "nav_menu": {},
   "number_sections": true,
   "sideBar": true,
   "skip_h1_title": false,
   "title_cell": "Table of Contents",
   "title_sidebar": "Contents",
   "toc_cell": false,
   "toc_position": {
    "height": "calc(100% - 180px)",
    "left": "10px",
    "top": "150px",
    "width": "182.665px"
   },
   "toc_section_display": true,
   "toc_window_display": false
  }
 },
 "nbformat": 4,
 "nbformat_minor": 5
}
