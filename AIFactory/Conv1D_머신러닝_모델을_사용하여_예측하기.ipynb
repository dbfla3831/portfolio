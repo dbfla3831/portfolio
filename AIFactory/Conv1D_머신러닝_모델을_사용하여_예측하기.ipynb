{
  "cells": [
    {
      "cell_type": "markdown",
      "metadata": {
        "id": "d6DmNrpz2X4N"
      },
      "source": [
        "#1.라이브러리 불러오기"
      ]
    },
    {
      "cell_type": "code",
      "source": [
        "from google.colab import drive\n",
        "drive.mount('/content/drive')"
      ],
      "metadata": {
        "colab": {
          "base_uri": "https://localhost:8080/"
        },
        "id": "_T52a6LcjA5P",
        "outputId": "e076e5d1-5cfa-43a5-998f-e1be27b4bb0f"
      },
      "execution_count": null,
      "outputs": [
        {
          "output_type": "stream",
          "name": "stdout",
          "text": [
            "Drive already mounted at /content/drive; to attempt to forcibly remount, call drive.mount(\"/content/drive\", force_remount=True).\n"
          ]
        }
      ]
    },
    {
      "cell_type": "code",
      "execution_count": null,
      "metadata": {
        "id": "snys7xH69lxh"
      },
      "outputs": [],
      "source": [
        "import pandas as pd\n",
        "import matplotlib.pyplot as plt\n",
        "import seaborn as sns\n",
        "from pandas import Series\n",
        "import zipfile\n",
        "from tqdm import tqdm\n",
        "import numpy as np\n",
        "import datetime\n",
        "from sklearn.preprocessing import MinMaxScaler\n",
        "# from sklearn.preprocessing import RobustScaler\n",
        "from sklearn.metrics import mean_absolute_error\n",
        "\n",
        "\n",
        "import keras \n",
        "from keras.layers import Input, Embedding, LSTM, Dense\n",
        "from keras.models import Model\n",
        "\n",
        "from tensorflow.keras.models import Sequential\n",
        "from tensorflow.keras.layers import Dense, BatchNormalization\n",
        "\n",
        "from tensorflow.keras.layers import Dense, Conv1D, Flatten\n",
        "from keras.callbacks import ModelCheckpoint, EarlyStopping\n",
        "import tensorflow as tf\n",
        "\n",
        "from keras.models import load_model\n",
        "\n",
        "plt.rc(\"font\", family=\"Malgun Gothic\") # window\n",
        "plt.rc(\"axes\", unicode_minus=False) # x,y축 (-)부호 표시"
      ]
    },
    {
      "cell_type": "markdown",
      "metadata": {
        "id": "hnxdziTJ2a0-"
      },
      "source": [
        "#2.데이터 불러오기"
      ]
    },
    {
      "cell_type": "code",
      "source": [
        "path_to_zip_file = '/content/drive/MyDrive/압축 파일' #압출 풀 데이터 경로\n",
        "directory_to_extract_to = './task3' # 압축 푼 파일 저장 \n",
        "\n",
        "\n",
        "with zipfile.ZipFile(path_to_zip_file, 'r') as zip_ref:\n",
        "    zip_ref.extractall(directory_to_extract_to)"
      ],
      "metadata": {
        "id": "wN20kPXHjErW"
      },
      "execution_count": null,
      "outputs": []
    },
    {
      "cell_type": "code",
      "source": [
        "train = pd.read_csv(\"/content/task3/train 데이터\")"
      ],
      "metadata": {
        "id": "TxUNEuSgjVd2"
      },
      "execution_count": null,
      "outputs": []
    },
    {
      "cell_type": "code",
      "source": [
        "test = pd.read_csv(\"/content/task3/test 데이터\")"
      ],
      "metadata": {
        "id": "zEnlTe-W8Zy8"
      },
      "execution_count": null,
      "outputs": []
    },
    {
      "cell_type": "code",
      "source": [
        "result = pd.read_csv('/content/task3/result 데이터')"
      ],
      "metadata": {
        "id": "mj7fefINjtby"
      },
      "execution_count": null,
      "outputs": []
    },
    {
      "cell_type": "markdown",
      "metadata": {
        "id": "FG-34NtDFqDp"
      },
      "source": [
        "##1.train nan 값 처리"
      ]
    },
    {
      "cell_type": "code",
      "execution_count": null,
      "metadata": {
        "id": "DpeB7iTJFuI1"
      },
      "outputs": [],
      "source": [
        "train.isnull().sum()"
      ]
    },
    {
      "cell_type": "code",
      "execution_count": null,
      "metadata": {
        "id": "curXpvEiFuF-"
      },
      "outputs": [],
      "source": [
        "train = train.fillna(method = 'ffill') #이전행으로"
      ]
    },
    {
      "cell_type": "code",
      "execution_count": null,
      "metadata": {
        "id": "9hX_lD6CFuDf"
      },
      "outputs": [],
      "source": [
        "train.isnull().sum()"
      ]
    },
    {
      "cell_type": "markdown",
      "metadata": {
        "id": "Qy4ya98l2jCC"
      },
      "source": [
        "#3.이상치 제거하기"
      ]
    },
    {
      "cell_type": "code",
      "execution_count": null,
      "metadata": {
        "id": "mOMmH8-vwqbQ"
      },
      "outputs": [],
      "source": [
        "#이상치 제거\n",
        "\n",
        "def dr_outlier(df):\n",
        "    quartile_1 = df.quantile(0.25)\n",
        "    quartile_3 = df.quantile(0.75)\n",
        "    IQR = quartile_3 - quartile_1\n",
        "\n",
        "    condition = (df < (quartile_1 - 1.5 * IQR)) | (df > (quartile_3 + 1.5 * IQR))\n",
        "    df[condition]=np.mean(df)\n",
        "    \n",
        "    return df\n"
      ]
    },
    {
      "cell_type": "code",
      "source": [
        "train['4단지배수지 공업 유출유량 적산차'] = dr_outlier(train['4단지배수지 공업 유출유량 적산차'])"
      ],
      "metadata": {
        "colab": {
          "base_uri": "https://localhost:8080/"
        },
        "id": "R-wiuaXaqKtj",
        "outputId": "c96a7452-b295-473f-95dc-b7e2c0206be9"
      },
      "execution_count": null,
      "outputs": [
        {
          "output_type": "stream",
          "name": "stderr",
          "text": [
            "<ipython-input-178-efd9d0f1aac1>:9: SettingWithCopyWarning:\n",
            "\n",
            "\n",
            "A value is trying to be set on a copy of a slice from a DataFrame\n",
            "\n",
            "See the caveats in the documentation: https://pandas.pydata.org/pandas-docs/stable/user_guide/indexing.html#returning-a-view-versus-a-copy\n",
            "\n"
          ]
        }
      ]
    },
    {
      "cell_type": "markdown",
      "metadata": {
        "id": "c9SOtKWXmKbP"
      },
      "source": [
        "##1.정규화하기"
      ]
    },
    {
      "cell_type": "code",
      "source": [
        "df_all = pd.concat([train, test])"
      ],
      "metadata": {
        "id": "uwr7ZOyC5tLI"
      },
      "execution_count": null,
      "outputs": []
    },
    {
      "cell_type": "code",
      "source": [
        "df_all.index = df_all['datetime']\n",
        "df_all = df_all.drop(['datetime'], axis = 1)"
      ],
      "metadata": {
        "id": "DqF31o3VyOL9"
      },
      "execution_count": null,
      "outputs": []
    },
    {
      "cell_type": "code",
      "source": [
        "scaler = MinMaxScaler()\n",
        "# scaler = RobustScaler()\n",
        "df_y = scaler.fit_transform(df_all)"
      ],
      "metadata": {
        "id": "987Yubcbyjq2"
      },
      "execution_count": null,
      "outputs": []
    },
    {
      "cell_type": "code",
      "source": [
        "df_all['4단지배수지 공업 유출유량 적산차'] = df_y\n",
        "df_all = df_all.reset_index(drop = False)"
      ],
      "metadata": {
        "id": "04faIww3536b"
      },
      "execution_count": null,
      "outputs": []
    },
    {
      "cell_type": "code",
      "source": [
        "idx_train = len(train)\n",
        "idx_test = len(test)"
      ],
      "metadata": {
        "id": "prupTPUY533i"
      },
      "execution_count": null,
      "outputs": []
    },
    {
      "cell_type": "code",
      "source": [
        "train = df_all.iloc[:idx_train]\n",
        "test = df_all.iloc[idx_train:]"
      ],
      "metadata": {
        "id": "SkF-bmsQ5307"
      },
      "execution_count": null,
      "outputs": []
    },
    {
      "cell_type": "code",
      "source": [
        "idx = []\n",
        "for i in range(len(test)):\n",
        "  idx.append(i)\n",
        "test.index = idx"
      ],
      "metadata": {
        "id": "gru-yS2X53xv"
      },
      "execution_count": null,
      "outputs": []
    },
    {
      "cell_type": "code",
      "source": [],
      "metadata": {
        "id": "YlSAd64c53u2"
      },
      "execution_count": null,
      "outputs": []
    },
    {
      "cell_type": "markdown",
      "metadata": {
        "id": "uPAnIHBQ61Az"
      },
      "source": [
        "#4.예측(2021-12-31 23:0:00)"
      ]
    },
    {
      "cell_type": "markdown",
      "metadata": {
        "id": "J5sCbtMJBjI0"
      },
      "source": [
        "##1.모델 학습(1시간만 먼저 예측해서 학습)\n",
        "-> 학습시간이 길어 먼저 하나만 예측해봄"
      ]
    },
    {
      "cell_type": "markdown",
      "source": [
        "### 예측 할 날과 시간을 추가"
      ],
      "metadata": {
        "id": "sOm2qXB5kyiE"
      }
    },
    {
      "cell_type": "code",
      "execution_count": null,
      "metadata": {
        "id": "IBDXN4NQ_Rb4"
      },
      "outputs": [],
      "source": [
        "def add_next_date(df):\n",
        "  lst_next_date = []\n",
        "  current = datetime.datetime.strptime(df.iloc[-1]['datetime'], \"%Y-%m-%d %H:%M:%S\")\n",
        "  next_date = current + datetime.timedelta(hours=1)\n",
        "  lst_next_date.append(next_date)\n",
        "  \n",
        "  plus_time = pd.DataFrame(lst_next_date, columns=[\"datetime\"])\n",
        "  plus_time\n",
        "\n",
        "  df = pd.concat([df, plus_time])\n",
        "  df[\"datetime\"] = df[\"datetime\"].astype(str)\n",
        "  df.reset_index(drop=True, inplace=True)\n",
        "  df = df.fillna(0)\n",
        "  return df"
      ]
    },
    {
      "cell_type": "code",
      "execution_count": null,
      "metadata": {
        "id": "8GamNlB4_Er3"
      },
      "outputs": [],
      "source": [
        "def add_cloumns(df):\n",
        "    df = df.astype({'datetime' : str})\n",
        "    df['year'] = [date.split('-')[0] for date in df['datetime']]\n",
        "    df['month'] = [date.split('-')[1] for date in df['datetime']]\n",
        "    df['day'] = [date.split('-')[2] for date in df['datetime']]\n",
        "    df['day'] = [date.split(' ')[0] for date in df['day']]\n",
        "    df['hour'] = [date.split(' ')[-1] for date in df['datetime']]\n",
        "    df['hour'] = [date.split(':')[0] for date in df['hour']]\n",
        "    df=df.astype({'year':\"int\",'month':\"int\",'day':\"int\",'hour':\"int\"})\n",
        "    return df"
      ]
    },
    {
      "cell_type": "code",
      "execution_count": null,
      "metadata": {
        "id": "9I7bBZFD_fR9"
      },
      "outputs": [],
      "source": [
        "#모델 Conv1D할 때만 필요\n",
        "def data_reshape(df):\n",
        "  df = np.array(df)\n",
        "  df = np.reshape(df, (len(df), 4, 1))\n",
        "  return df"
      ]
    },
    {
      "cell_type": "code",
      "execution_count": null,
      "metadata": {
        "id": "U4C-rzOu_No7"
      },
      "outputs": [],
      "source": [
        "test = add_next_date(test)\n",
        "\n",
        "train_data=add_cloumns(train)\n",
        "test_data=add_cloumns(test)\n",
        "\n",
        "x_train=train_data[['year','month','day','hour']]\n",
        "y_train=train_data['4단지배수지 공업 유출유량 적산차']\n",
        "\n",
        "x_test=test_data[['year','month','day','hour']]\n",
        "y_test=test_data['4단지배수지 공업 유출유량 적산차']\n",
        "\n",
        "#모델 Conv1D할 때만 필요\n",
        "x_train = data_reshape(x_train)\n",
        "x_test = data_reshape(x_test)"
      ]
    },
    {
      "cell_type": "code",
      "execution_count": null,
      "metadata": {
        "id": "F6mPsB_TALki"
      },
      "outputs": [],
      "source": [
        "#모델 구성\n",
        "model = keras.Sequential()\n",
        "model.add(Conv1D(4, 3, activation = 'relu', input_shape = (4, 1)))\n",
        "model.add(Flatten())\n",
        "model.add(Dense(512, activation = 'relu'))\n",
        "model.add(Dense(256, activation = 'relu'))\n",
        "# model.add(Dense(64, activation = 'relu'))\n",
        "model.add(Dense(128, activation = 'relu'))\n",
        "# model.add(Dense(128, activation = 'relu'))\n",
        "model.add(Dense(64, activation = 'relu'))\n",
        "model.add(Dense(32, activation = 'relu'))\n",
        "model.add(Dense(16, activation = 'relu'))\n",
        "model.add(Dense(1))\n",
        "\n",
        "#모델 학습과정 설정\n",
        "optimizers=keras.optimizers.Adam(lr=0.001, beta_1=0.9, beta_2=0.999, epsilon=None, decay=0.0, amsgrad=False)\n",
        "model.compile(optimizer=optimizers, loss=\"mse\", metrics=\"mae\")\n",
        "\n",
        "\n",
        "early_stopping = EarlyStopping(monitor=\"val_loss\",\n",
        "                               patience=50)\n",
        "#모델 학습\n",
        "model.fit(x_train,y_train,epochs=20,batch_size=32,callbacks=early_stopping,validation_data=(x_test, y_test))"
      ]
    },
    {
      "cell_type": "code",
      "execution_count": null,
      "metadata": {
        "id": "QKCW8M9nDn4u"
      },
      "outputs": [],
      "source": [
        "#모델 평가\n",
        "test_mse_score, test_mae_score = model.evaluate(x_test, y_test)\n",
        "print(test_mae_score)\n",
        "print(test_mse_score)\n",
        "\n",
        "predictions = model.predict(x_test)"
      ]
    },
    {
      "cell_type": "code",
      "execution_count": null,
      "metadata": {
        "id": "gjogyAuUALg8"
      },
      "outputs": [],
      "source": [
        "\n",
        "model.save('./ConvD1_model.h5')"
      ]
    },
    {
      "cell_type": "code",
      "execution_count": null,
      "metadata": {
        "id": "3CvUHPi6ALeR"
      },
      "outputs": [],
      "source": [
        "test['4단지배수지 공업 유출유량 적산차'].iloc[-1] = predictions[-1]"
      ]
    },
    {
      "cell_type": "markdown",
      "metadata": {
        "id": "407SZDHPBp3S"
      },
      "source": [
        "##2.모델 불러와서 나머지 예측"
      ]
    },
    {
      "cell_type": "code",
      "source": [
        "a = test.copy()"
      ],
      "metadata": {
        "id": "Mf7HiciXgLor"
      },
      "execution_count": null,
      "outputs": []
    },
    {
      "cell_type": "code",
      "execution_count": null,
      "metadata": {
        "id": "9ycslTwM7cuX"
      },
      "outputs": [],
      "source": [
        "for i in tqdm(range(335)):\n",
        "  a = add_next_date(a)\n",
        "\n",
        "  train_data=add_cloumns(train)\n",
        "  test_data=add_cloumns(a)\n",
        "\n",
        "  x_train=train_data[['year','month','day','hour']]\n",
        "  y_train=train_data['4단지배수지 공업 유출유량 적산차']\n",
        "\n",
        "  x_test=test_data[['year','month','day','hour']]\n",
        "  y_test=test_data['4단지배수지 공업 유출유량 적산차']\n",
        "\n",
        "  #모델 Conv1D할 때만 필요\n",
        "  x_train = data_reshape(x_train)\n",
        "  x_test = data_reshape(x_test)\n",
        "\n",
        "  \n",
        "  new_model = load_model('./ConvD1_model.h5') #내가 저장한 파일로 불러오기\n",
        "\n",
        "  predictions = new_model.predict(x_test)\n",
        "\n",
        "\n",
        "  a.iloc[[-1], [1]] = predictions[-1]"
      ]
    },
    {
      "cell_type": "markdown",
      "metadata": {
        "id": "A9hVcVSVBUxJ"
      },
      "source": [
        "#5.전체 예측"
      ]
    },
    {
      "cell_type": "code",
      "source": [
        "train_data=add_cloumns(train)\n",
        "test_data=add_cloumns(a)\n",
        "\n",
        "x_train=train_data[['year','month','day','hour']]\n",
        "y_train=train_data['4단지배수지 공업 유출유량 적산차']\n",
        "\n",
        "\n",
        "x_test=test_data[['year','month','day','hour']]\n",
        "y_test=test_data['4단지배수지 공업 유출유량 적산차']\n",
        "\n",
        "x_train = np.array(x_train)\n",
        "x_train = np.reshape(x_train, (len(x_train), 4, 1))\n",
        "\n",
        "x_test = np.array(x_test)\n",
        "x_test = np.reshape(x_test, (len(x_test), 4, 1))\n",
        "\n",
        "model = load_model('./ConvD1_model.h5') #내가 저장한 파일로 불러오기\n",
        "\n",
        "test_mse_score, test_mae_score = model.evaluate(x_test, y_test)\n",
        "\n",
        "predictions = model.predict(x_test)"
      ],
      "metadata": {
        "id": "SGUKDJIao5y8"
      },
      "execution_count": null,
      "outputs": []
    },
    {
      "cell_type": "markdown",
      "metadata": {
        "id": "uzHNODi22-I_"
      },
      "source": [
        "#6.결과 집어 넣기"
      ]
    },
    {
      "cell_type": "markdown",
      "metadata": {
        "id": "MSIXafU690r5"
      },
      "source": [
        "##1.역전규화"
      ]
    },
    {
      "cell_type": "code",
      "execution_count": null,
      "metadata": {
        "id": "8ZC8LlRM90A_"
      },
      "outputs": [],
      "source": [
        "predictions = scaler.inverse_transform(predictions)\n",
        "predictions"
      ]
    },
    {
      "cell_type": "code",
      "execution_count": null,
      "metadata": {
        "id": "THrQ05ZauS15"
      },
      "outputs": [],
      "source": [
        "len(predictions)"
      ]
    },
    {
      "cell_type": "code",
      "execution_count": null,
      "metadata": {
        "id": "gelq_HFqyM4V"
      },
      "outputs": [],
      "source": [
        "def result_csv(df):\n",
        "  df_y_pred = pd.DataFrame(data = df, columns=[\"y_pred\"])\n",
        "\n",
        "  lst_data = []\n",
        "\n",
        "  for i in range(0, len(df)-335):\n",
        "      data = df_y_pred[\"y_pred\"].loc[i:i+335].values.tolist()\n",
        "      lst_data.append(data) \n",
        "\n",
        "  df_submission = pd.DataFrame(data=lst_data, columns=result.columns[1:])\n",
        "\n",
        "  file = pd.concat([result[\"datetime\"], df_submission], axis=1)\n",
        "  file.columns = result.columns\n",
        "\n",
        "  evaluation2 = file.loc[:8424]\n",
        "\n",
        "  mission_result=evaluation2[evaluation2.columns[:]]\n",
        "  mission_result.to_csv('task3.csv',encoding='CP949',index=False)\n",
        "\n",
        "  return mission_result"
      ]
    },
    {
      "cell_type": "code",
      "source": [
        "result_csv(predictions)"
      ],
      "metadata": {
        "id": "a1OwAnfKppEQ"
      },
      "execution_count": null,
      "outputs": []
    }
  ],
  "metadata": {
    "colab": {
      "provenance": []
    },
    "gpuClass": "standard",
    "kernelspec": {
      "display_name": "Python 3",
      "name": "python3"
    },
    "language_info": {
      "name": "python"
    }
  },
  "nbformat": 4,
  "nbformat_minor": 0
}