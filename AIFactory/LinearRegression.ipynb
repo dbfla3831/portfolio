{
  "nbformat": 4,
  "nbformat_minor": 0,
  "metadata": {
    "colab": {
      "provenance": []
    },
    "kernelspec": {
      "name": "python3",
      "display_name": "Python 3"
    },
    "language_info": {
      "name": "python"
    },
    "gpuClass": "standard",
    "accelerator": "GPU"
  },
  "cells": [
    {
      "cell_type": "markdown",
      "source": [
        "#1.라이브러리 불러오기"
      ],
      "metadata": {
        "id": "zqfeYGOqR3tW"
      }
    },
    {
      "cell_type": "code",
      "source": [
        "from google.colab import drive\n",
        "drive.mount('/content/drive')"
      ],
      "metadata": {
        "colab": {
          "base_uri": "https://localhost:8080/"
        },
        "id": "_V92x9NfSBdw",
        "outputId": "a51b33ff-674f-40f6-fb6d-25595841fd1d"
      },
      "execution_count": 1,
      "outputs": [
        {
          "output_type": "stream",
          "name": "stdout",
          "text": [
            "Mounted at /content/drive\n"
          ]
        }
      ]
    },
    {
      "cell_type": "code",
      "source": [
        "import pandas as pd\n",
        "import matplotlib.pyplot as plt\n",
        "import seaborn as sns\n",
        "from pandas import Series\n",
        "import zipfile\n",
        "from tqdm import tqdm\n",
        "import numpy as np\n",
        "from sklearn.linear_model import LinearRegression\n",
        "import datetime\n",
        "\n",
        "from sklearn.preprocessing import MinMaxScaler\n",
        "# from sklearn.preprocessing import RobustScaler\n",
        "from sklearn.metrics import mean_absolute_error\n",
        "\n",
        "\n",
        "plt.rc(\"font\", family=\"Malgun Gothic\") # window\n",
        "plt.rc(\"axes\", unicode_minus=False) # x,y축 (-)부호 표시"
      ],
      "metadata": {
        "id": "x3REnnmLZBqW"
      },
      "execution_count": 2,
      "outputs": []
    },
    {
      "cell_type": "markdown",
      "source": [
        "#2.데이터 불러오기"
      ],
      "metadata": {
        "id": "Uzf6c5JtZlPo"
      }
    },
    {
      "cell_type": "code",
      "source": [
        "path_to_zip_file = '/content/drive/MyDrive/압축 파일' #압출 풀 데이터 경로\n",
        "directory_to_extract_to = './task3' # 압축 푼 파일 저장 \n",
        "\n",
        "\n",
        "with zipfile.ZipFile(path_to_zip_file, 'r') as zip_ref:\n",
        "    zip_ref.extractall(directory_to_extract_to)"
      ],
      "metadata": {
        "id": "W-Aw0E43ZBcb"
      },
      "execution_count": null,
      "outputs": []
    },
    {
      "cell_type": "code",
      "source": [
        "train = pd.read_csv(\"/content/task3/train 데이터\")"
      ],
      "metadata": {
        "id": "IajKyNgzaJk3"
      },
      "execution_count": null,
      "outputs": []
    },
    {
      "cell_type": "code",
      "source": [
        "test = pd.read_csv(\"/content/task3/test 데이터\")"
      ],
      "metadata": {
        "id": "mgfJe-AjaJiW"
      },
      "execution_count": null,
      "outputs": []
    },
    {
      "cell_type": "code",
      "source": [
        "result = pd.read_csv('/content/task3/result 데이터')"
      ],
      "metadata": {
        "id": "yQI7tPmxTAKm"
      },
      "execution_count": null,
      "outputs": []
    },
    {
      "cell_type": "markdown",
      "source": [
        "##1.train nan 값 처리"
      ],
      "metadata": {
        "id": "Vvl3yiFCTfUa"
      }
    },
    {
      "cell_type": "code",
      "source": [
        "train.isnull().sum()"
      ],
      "metadata": {
        "id": "hFRHW596Tb4v"
      },
      "execution_count": null,
      "outputs": []
    },
    {
      "cell_type": "code",
      "source": [
        "train = train.fillna(method = 'ffill') #이전행으로"
      ],
      "metadata": {
        "id": "49y_dlcmTkJy"
      },
      "execution_count": 29,
      "outputs": []
    },
    {
      "cell_type": "code",
      "source": [
        "train.isnull().sum()"
      ],
      "metadata": {
        "id": "np53At6pTj7B"
      },
      "execution_count": null,
      "outputs": []
    },
    {
      "cell_type": "markdown",
      "source": [
        "#3.이상치 제거하기"
      ],
      "metadata": {
        "id": "VZeB99LZTpE_"
      }
    },
    {
      "cell_type": "code",
      "source": [
        "#이상치 제거\n",
        "\n",
        "def dr_outlier(df):\n",
        "    quartile_1 = df.quantile(0.25)\n",
        "    quartile_3 = df.quantile(0.75)\n",
        "    IQR = quartile_3 - quartile_1\n",
        "\n",
        "    condition = (df < (quartile_1 - 1.5 * IQR)) | (df > (quartile_3 + 1.5 * IQR))\n",
        "    df[condition]=np.mean(df)\n",
        "    \n",
        "    return df\n"
      ],
      "metadata": {
        "id": "osDktX-CTo5w"
      },
      "execution_count": 31,
      "outputs": []
    },
    {
      "cell_type": "code",
      "source": [
        "train['4단지배수지 공업 유출유량 적산차'] = dr_outlier(train['4단지배수지 공업 유출유량 적산차'])"
      ],
      "metadata": {
        "colab": {
          "base_uri": "https://localhost:8080/"
        },
        "id": "k1ZcXGZRTo1u",
        "outputId": "d877776c-bcc4-4e8b-bffc-d0bf8bb55ac5"
      },
      "execution_count": 32,
      "outputs": [
        {
          "output_type": "stream",
          "name": "stderr",
          "text": [
            "<ipython-input-31-efd9d0f1aac1>:9: SettingWithCopyWarning: \n",
            "A value is trying to be set on a copy of a slice from a DataFrame\n",
            "\n",
            "See the caveats in the documentation: https://pandas.pydata.org/pandas-docs/stable/user_guide/indexing.html#returning-a-view-versus-a-copy\n",
            "  df[condition]=np.mean(df)\n"
          ]
        }
      ]
    },
    {
      "cell_type": "code",
      "source": [],
      "metadata": {
        "id": "r-WABSPkToys"
      },
      "execution_count": null,
      "outputs": []
    },
    {
      "cell_type": "markdown",
      "source": [
        "#4.전처리"
      ],
      "metadata": {
        "id": "wGDx0-hJi_jf"
      }
    },
    {
      "cell_type": "markdown",
      "source": [
        "## 정규화"
      ],
      "metadata": {
        "id": "2M2dV4YiUE6D"
      }
    },
    {
      "cell_type": "code",
      "source": [
        "df_all = pd.concat([train, test])"
      ],
      "metadata": {
        "id": "9a0ipCCNUIVX"
      },
      "execution_count": 33,
      "outputs": []
    },
    {
      "cell_type": "code",
      "source": [
        "df_all.index = df_all['datetime']\n",
        "df_all = df_all.drop(['datetime'], axis = 1)"
      ],
      "metadata": {
        "id": "FiITqdEXUIDt"
      },
      "execution_count": 34,
      "outputs": []
    },
    {
      "cell_type": "code",
      "source": [
        "scaler = MinMaxScaler()\n",
        "# scaler = RobustScaler()\n",
        "df_y = scaler.fit_transform(df_all)"
      ],
      "metadata": {
        "id": "2qz8N2wMUH8S"
      },
      "execution_count": 35,
      "outputs": []
    },
    {
      "cell_type": "code",
      "source": [
        "df_all['4단지배수지 공업 유출유량 적산차'] = df_y\n",
        "df_all = df_all.reset_index(drop = False)"
      ],
      "metadata": {
        "id": "VuPYW7M3UHtA"
      },
      "execution_count": 36,
      "outputs": []
    },
    {
      "cell_type": "code",
      "source": [
        "idx_train = len(train)\n",
        "idx_test = len(test)"
      ],
      "metadata": {
        "id": "22V_ZRBCUPCP"
      },
      "execution_count": 37,
      "outputs": []
    },
    {
      "cell_type": "code",
      "source": [
        "train = df_all.iloc[:idx_train]\n",
        "test = df_all.iloc[idx_train:]"
      ],
      "metadata": {
        "id": "IwBjdJlOUO_u"
      },
      "execution_count": 38,
      "outputs": []
    },
    {
      "cell_type": "code",
      "source": [
        "idx = []\n",
        "for i in range(len(test)):\n",
        "  idx.append(i)\n",
        "test.index = idx"
      ],
      "metadata": {
        "id": "NgTsrdi4UO8k"
      },
      "execution_count": 39,
      "outputs": []
    },
    {
      "cell_type": "code",
      "source": [],
      "metadata": {
        "id": "cf8YCoYhUVi_"
      },
      "execution_count": null,
      "outputs": []
    },
    {
      "cell_type": "markdown",
      "source": [
        "## 계절별로 전처리(3-5 : 0, 6-8 : 1, 9-11 : 2, 12-2 : 3)"
      ],
      "metadata": {
        "id": "LgpWwHFokY_3"
      }
    },
    {
      "cell_type": "code",
      "source": [
        "train.columns = ['ds', 'y']"
      ],
      "metadata": {
        "id": "yNPrCwHUuxqN"
      },
      "execution_count": 40,
      "outputs": []
    },
    {
      "cell_type": "code",
      "source": [
        "train = train.astype({\"ds\":'str'})\n",
        "train['year'] = [date.split('-')[0] for date in train['ds']]\n",
        "train['month'] = [date.split('-')[1] for date in train['ds']]\n",
        "train['day'] = [date.split('-')[2] for date in train['ds']]\n",
        "train['day'] = [date.split(' ')[0] for date in train['day']]\n",
        "train['hour'] = [date.split(' ')[-1] for date in train['ds']]\n",
        "train['hour'] = [date.split(':')[0] for date in train['hour']]\n",
        "train = train.drop(['ds'], axis = 1)\n",
        "train[['year', 'month', 'day', 'hour']] = train[['year', 'month', 'day', 'hour']].astype(int)\n",
        "train"
      ],
      "metadata": {
        "id": "KNy-HE3cjBO4"
      },
      "execution_count": null,
      "outputs": []
    },
    {
      "cell_type": "code",
      "source": [
        "dic_month2season = {1: 3, \n",
        "                    2: 3, \n",
        "                    3: 0, \n",
        "                    4: 0, \n",
        "                    5: 0, \n",
        "                    6: 1, \n",
        "                    7: 1, \n",
        "                    8: 1, \n",
        "                    9: 2, \n",
        "                    10: 2, \n",
        "                    11: 2, \n",
        "                    12: 3,\n",
        "                   }"
      ],
      "metadata": {
        "id": "qmTv8XaSjBJe"
      },
      "execution_count": 44,
      "outputs": []
    },
    {
      "cell_type": "code",
      "source": [
        "train[\"season\"] = train[\"month\"].map(dic_month2season)"
      ],
      "metadata": {
        "id": "mgn6IR6gkroG"
      },
      "execution_count": 45,
      "outputs": []
    },
    {
      "cell_type": "markdown",
      "source": [
        "#5.LinearRegression"
      ],
      "metadata": {
        "id": "Pq_vAV8uT4Hb"
      }
    },
    {
      "cell_type": "markdown",
      "source": [
        "##1.Train"
      ],
      "metadata": {
        "id": "2_udWaynlP8o"
      }
    },
    {
      "cell_type": "code",
      "source": [
        "X_train = train[[\"year\", \"month\", \"day\", \"hour\", \"season\"]]\n",
        "y_train = train[\"y\"]"
      ],
      "metadata": {
        "id": "v8a6-tV0kri3"
      },
      "execution_count": 46,
      "outputs": []
    },
    {
      "cell_type": "code",
      "source": [
        "LR = LinearRegression()"
      ],
      "metadata": {
        "id": "54GVCR8_kreH"
      },
      "execution_count": 47,
      "outputs": []
    },
    {
      "cell_type": "code",
      "source": [
        "LR.fit(X_train, y_train)"
      ],
      "metadata": {
        "colab": {
          "base_uri": "https://localhost:8080/"
        },
        "id": "O4mqA_sllok4",
        "outputId": "dd144378-603b-424e-c33d-797ef450b1e3"
      },
      "execution_count": 48,
      "outputs": [
        {
          "output_type": "execute_result",
          "data": {
            "text/plain": [
              "LinearRegression()"
            ]
          },
          "metadata": {},
          "execution_count": 48
        }
      ]
    },
    {
      "cell_type": "markdown",
      "source": [
        "##2.Test"
      ],
      "metadata": {
        "id": "vTeL1GKblrFg"
      }
    },
    {
      "cell_type": "markdown",
      "source": [
        "###1.예측할 날짜 추가(마지막날이 없어서)"
      ],
      "metadata": {
        "id": "taJwIGqznhyg"
      }
    },
    {
      "cell_type": "code",
      "source": [
        "lst_time = []\n",
        "current_time = datetime.datetime.strptime(result[\"datetime\"].loc[8424], \"%Y-%m-%d %H:%M:%S\")\n",
        "lst_time.append(current_time)\n",
        "\n",
        "for i in range(335):\n",
        "    one_hour_later = current_time + datetime.timedelta(hours=1)\n",
        "    current_time = one_hour_later\n",
        "    lst_time.append(one_hour_later)"
      ],
      "metadata": {
        "id": "UJXqgbVJlohm"
      },
      "execution_count": 49,
      "outputs": []
    },
    {
      "cell_type": "code",
      "source": [
        "plus_time = pd.DataFrame(lst_time, columns=[\"datetime\"])"
      ],
      "metadata": {
        "id": "er8f40xnloek"
      },
      "execution_count": 50,
      "outputs": []
    },
    {
      "cell_type": "code",
      "source": [
        "test = pd.concat([test, plus_time], axis=0)\n",
        "test[\"datetime\"] = test[\"datetime\"].astype(str)\n",
        "test.reset_index(drop=True, inplace=True)"
      ],
      "metadata": {
        "id": "n4JTCAr9i8EX"
      },
      "execution_count": 51,
      "outputs": []
    },
    {
      "cell_type": "code",
      "source": [
        "test.columns = [\"ds\", \"y\"]"
      ],
      "metadata": {
        "id": "O8Sz7v8RoDFI"
      },
      "execution_count": 52,
      "outputs": []
    },
    {
      "cell_type": "markdown",
      "source": [
        "###2.계절별로 전처리(3-5 : 0, 6-8 : 1, 9-11 : 2, 12-2 : 3)"
      ],
      "metadata": {
        "id": "eO1Rx5c3oVEP"
      }
    },
    {
      "cell_type": "code",
      "source": [
        "test = test.astype({\"ds\":'str'})\n",
        "test['year'] = [date.split('-')[0] for date in test['ds']]\n",
        "test['month'] = [date.split('-')[1] for date in test['ds']]\n",
        "test['day'] = [date.split('-')[2] for date in test['ds']]\n",
        "test['day'] = [date.split(' ')[0] for date in test['day']]\n",
        "test['hour'] = [date.split(' ')[-1] for date in test['ds']]\n",
        "test['hour'] = [date.split(':')[0] for date in test['hour']]\n",
        "test = test.drop(['ds'], axis = 1)\n",
        "test[['year', 'month', 'day', 'hour']] = test[['year', 'month', 'day', 'hour']].astype(int)"
      ],
      "metadata": {
        "id": "gKsgZN08oDBX"
      },
      "execution_count": 53,
      "outputs": []
    },
    {
      "cell_type": "code",
      "source": [
        "test[\"season\"] = test[\"month\"].map(dic_month2season)"
      ],
      "metadata": {
        "id": "JIl0tQpkoC-x"
      },
      "execution_count": 54,
      "outputs": []
    },
    {
      "cell_type": "code",
      "source": [
        "X_test = test[[\"year\", \"month\", \"day\", \"hour\", \"season\"]]\n",
        "y_test = test['y']"
      ],
      "metadata": {
        "id": "iokveMuAoC8Q"
      },
      "execution_count": 55,
      "outputs": []
    },
    {
      "cell_type": "markdown",
      "source": [
        "##3.predict"
      ],
      "metadata": {
        "id": "xqjGN_rPpCug"
      }
    },
    {
      "cell_type": "code",
      "source": [
        "y_pred = LR.predict(X_test)"
      ],
      "metadata": {
        "id": "XVBytx8goC5x"
      },
      "execution_count": 56,
      "outputs": []
    },
    {
      "cell_type": "code",
      "source": [
        "y_pred = scaler.inverse_transform(y_pred.reshape(-1,1))"
      ],
      "metadata": {
        "id": "dMQjP19LpIPY"
      },
      "execution_count": 61,
      "outputs": []
    },
    {
      "cell_type": "markdown",
      "source": [
        "##4.결과 집어넣기"
      ],
      "metadata": {
        "id": "qIuHREPzWeJi"
      }
    },
    {
      "cell_type": "code",
      "source": [
        "def result_csv(df):\n",
        "  df_y_pred = pd.DataFrame(data = df, columns=[\"y_pred\"])\n",
        "\n",
        "  lst_data = []\n",
        "\n",
        "  for i in range(0, len(df)-335):\n",
        "      data = df_y_pred[\"y_pred\"].loc[i:i+335].values.tolist()\n",
        "      lst_data.append(data) \n",
        "\n",
        "  df_submission = pd.DataFrame(data=lst_data, columns=result.columns[1:])\n",
        "\n",
        "  file = pd.concat([result[\"datetime\"], df_submission], axis=1)\n",
        "  file.columns = result.columns\n",
        "\n",
        "  evaluation2 = file.loc[:8424]\n",
        "\n",
        "  mission_result=evaluation2[evaluation2.columns[:]]\n",
        "  mission_result.to_csv('task3.csv',encoding='CP949',index=False)\n",
        "\n",
        "  return mission_result"
      ],
      "metadata": {
        "id": "srYBrDsbWc-u"
      },
      "execution_count": 66,
      "outputs": []
    },
    {
      "cell_type": "code",
      "source": [
        "result_csv(y_pred)"
      ],
      "metadata": {
        "id": "zgkftn9nWi7Q"
      },
      "execution_count": null,
      "outputs": []
    }
  ]
}