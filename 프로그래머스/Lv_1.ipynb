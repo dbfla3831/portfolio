{
 "cells": [
  {
   "cell_type": "markdown",
   "id": "c3ec8b0f",
   "metadata": {},
   "source": [
    "# 평균 구하기\n",
    "\n",
    "정수를 담고 있는 배열 arr의 평균값을 return하는 함수 구현"
   ]
  },
  {
   "cell_type": "code",
   "execution_count": 54,
   "id": "57ad4988",
   "metadata": {},
   "outputs": [],
   "source": [
    "def solution(arr):\n",
    "    answer = 0\n",
    "    answer = sum(arr) / len(arr)\n",
    "    return answer"
   ]
  },
  {
   "cell_type": "code",
   "execution_count": 55,
   "id": "965fdf3c",
   "metadata": {},
   "outputs": [
    {
     "data": {
      "text/plain": [
       "2.5"
      ]
     },
     "execution_count": 55,
     "metadata": {},
     "output_type": "execute_result"
    }
   ],
   "source": [
    "lst = [1, 2, 3, 4]\n",
    "solution(lst)"
   ]
  },
  {
   "cell_type": "markdown",
   "id": "64d9866e",
   "metadata": {},
   "source": [
    "# 짝수와 홀수\n",
    "\n",
    "정수 num이 짝수인 경우 'Even'을 반환하고 홀수인 경우 'Odd'를 반환하는 함수 구현"
   ]
  },
  {
   "cell_type": "code",
   "execution_count": 13,
   "id": "54f3b133",
   "metadata": {},
   "outputs": [],
   "source": [
    "def solution(num):\n",
    "    answer = ''\n",
    "    if num % 2 == 0:\n",
    "        answer = 'Even'\n",
    "    else:\n",
    "        answer = 'Odd'\n",
    "    return answer"
   ]
  },
  {
   "cell_type": "code",
   "execution_count": 14,
   "id": "17f5f6a8",
   "metadata": {},
   "outputs": [
    {
     "data": {
      "text/plain": [
       "'Odd'"
      ]
     },
     "execution_count": 14,
     "metadata": {},
     "output_type": "execute_result"
    }
   ],
   "source": [
    "num = 3\n",
    "solution(num)"
   ]
  },
  {
   "cell_type": "markdown",
   "id": "0e5ef046",
   "metadata": {},
   "source": [
    "# 약수의 합\n",
    "\n",
    "정수 n을 입력받아 n의 약수를 모두 더한 값을 리턴하는 함수 구현"
   ]
  },
  {
   "cell_type": "code",
   "execution_count": 20,
   "id": "85b536a1",
   "metadata": {},
   "outputs": [],
   "source": [
    "# 12의 약수는 1, 2, 3, 4, 6, 12이다\n",
    "# 1. n까지의 리스트를 담기\n",
    "# 2. n을 리스트 내 값으로 나눴을 때 0이면 약수\n",
    "\n",
    "def solution(n):\n",
    "    answer = 0\n",
    "    answer = sum([i for i in range(1, n + 1) if n % i == 0]) # 약수 찾아 모두 더하기\n",
    "    return answer"
   ]
  },
  {
   "cell_type": "code",
   "execution_count": 21,
   "id": "1e16c240",
   "metadata": {},
   "outputs": [
    {
     "data": {
      "text/plain": [
       "28"
      ]
     },
     "execution_count": 21,
     "metadata": {},
     "output_type": "execute_result"
    },
    {
     "data": {
      "text/plain": [
       "6"
      ]
     },
     "execution_count": 21,
     "metadata": {},
     "output_type": "execute_result"
    }
   ],
   "source": [
    "n = 12\n",
    "solution(n)\n",
    "\n",
    "n = 5\n",
    "solution(n)"
   ]
  },
  {
   "cell_type": "markdown",
   "id": "cde1ca37",
   "metadata": {},
   "source": [
    "# 문자열을 정수로 바꾸기\n",
    "\n",
    "문자열 s를 숫자로 변환한 결과를 반환\n",
    "\n",
    "- s의 맨 앞에는 부호가 올 수 있다\n",
    "\n",
    "    -1234이면 -1234반환"
   ]
  },
  {
   "cell_type": "code",
   "execution_count": 22,
   "id": "bb0195fa",
   "metadata": {},
   "outputs": [],
   "source": [
    "def solution(s):\n",
    "    answer = 0\n",
    "    answer = int(s)\n",
    "    return answer"
   ]
  },
  {
   "cell_type": "code",
   "execution_count": 23,
   "id": "fe756c0b",
   "metadata": {},
   "outputs": [
    {
     "data": {
      "text/plain": [
       "1234"
      ]
     },
     "execution_count": 23,
     "metadata": {},
     "output_type": "execute_result"
    },
    {
     "data": {
      "text/plain": [
       "-1234"
      ]
     },
     "execution_count": 23,
     "metadata": {},
     "output_type": "execute_result"
    }
   ],
   "source": [
    "s = '1234'\n",
    "solution(s)\n",
    "\n",
    "s = '-1234'\n",
    "solution(s)"
   ]
  },
  {
   "cell_type": "markdown",
   "id": "1e77f7ef",
   "metadata": {},
   "source": [
    "# 나머지가 1이 되는 수 찾기\n",
    "\n",
    "자연수 n이 매개변수로 주어집니다. n을 x로 나눈 나머지가 1이 되도록 하는 가장 작은 자연수 x를 리턴하도록 함수 구현"
   ]
  },
  {
   "cell_type": "code",
   "execution_count": 35,
   "id": "ec167af1",
   "metadata": {},
   "outputs": [],
   "source": [
    "def solution(n):\n",
    "    answer = 0\n",
    "    ansewer = min([i for i in range(1, n + 1) if n % i == 1])\n",
    "    return ansewer"
   ]
  },
  {
   "cell_type": "code",
   "execution_count": 37,
   "id": "42b8c57f",
   "metadata": {},
   "outputs": [
    {
     "data": {
      "text/plain": [
       "3"
      ]
     },
     "execution_count": 37,
     "metadata": {},
     "output_type": "execute_result"
    },
    {
     "data": {
      "text/plain": [
       "11"
      ]
     },
     "execution_count": 37,
     "metadata": {},
     "output_type": "execute_result"
    }
   ],
   "source": [
    "n = 10\n",
    "solution(n)\n",
    "\n",
    "n = 12\n",
    "solution(n)"
   ]
  },
  {
   "cell_type": "markdown",
   "id": "a3710c5e",
   "metadata": {},
   "source": [
    "# x만큼 간격이 있는 n개의 숫자\n",
    "\n",
    "함수는 정수x와 자연수 n을 입력 받아, x부터 시작해 x씩 증가하는 숫자를 n개 지니는 리스트를 리턴하는 함수를 구현"
   ]
  },
  {
   "cell_type": "code",
   "execution_count": 47,
   "id": "4d79b3f8",
   "metadata": {},
   "outputs": [],
   "source": [
    "# def solution(x, n):\n",
    "#     answer = []\n",
    "#     for i in range(n):\n",
    "#         answer.append(x + i * x)\n",
    "#     return answer\n",
    "\n",
    "def solution(x, n):\n",
    "    answer = [x + x * i for i in range(n)]\n",
    "    return answer"
   ]
  },
  {
   "cell_type": "code",
   "execution_count": 48,
   "id": "14931fa1",
   "metadata": {},
   "outputs": [
    {
     "data": {
      "text/plain": [
       "[2, 4, 6, 8, 10]"
      ]
     },
     "execution_count": 48,
     "metadata": {},
     "output_type": "execute_result"
    },
    {
     "data": {
      "text/plain": [
       "[4, 8, 12]"
      ]
     },
     "execution_count": 48,
     "metadata": {},
     "output_type": "execute_result"
    },
    {
     "data": {
      "text/plain": [
       "[-4, -8]"
      ]
     },
     "execution_count": 48,
     "metadata": {},
     "output_type": "execute_result"
    }
   ],
   "source": [
    "x = 2; n = 5\n",
    "solution(x, n)\n",
    "\n",
    "x = 4; n = 3\n",
    "solution(x, n)\n",
    "\n",
    "x = -4; n = 2\n",
    "solution(x, n)"
   ]
  },
  {
   "cell_type": "markdown",
   "id": "7d8b4a4c",
   "metadata": {},
   "source": [
    "# 자릿수 더하기\n",
    "\n",
    "자연수 n이 주어지면, n의 각 자릿수의 합을 구해서 return하는 함수 구현\n",
    "\n",
    "- n = 123이면 1 + 2 + 3 = 6을 return"
   ]
  },
  {
   "cell_type": "code",
   "execution_count": 51,
   "id": "c1aacdae",
   "metadata": {},
   "outputs": [],
   "source": [
    "def solution(n):\n",
    "    answer = 0\n",
    "    answer = sum([int(i) for i in str(n)])\n",
    "    return answer"
   ]
  },
  {
   "cell_type": "code",
   "execution_count": 52,
   "id": "c869f78c",
   "metadata": {},
   "outputs": [
    {
     "data": {
      "text/plain": [
       "6"
      ]
     },
     "execution_count": 52,
     "metadata": {},
     "output_type": "execute_result"
    },
    {
     "data": {
      "text/plain": [
       "24"
      ]
     },
     "execution_count": 52,
     "metadata": {},
     "output_type": "execute_result"
    }
   ],
   "source": [
    "n = 123\n",
    "solution(n)\n",
    "\n",
    "n = 987\n",
    "solution(n)"
   ]
  },
  {
   "cell_type": "markdown",
   "id": "3804d19f",
   "metadata": {},
   "source": [
    "# 문자열 내 p와 y의 개수\n",
    "\n",
    "대문자와 소문자가 섞여있는 문자열 s가 주어진다. s에 'p'의 개수와 'y'의 개수를 비교해 같으면 True, 다르면 False를 return하는 함수 구현\n"
   ]
  },
  {
   "cell_type": "code",
   "execution_count": 67,
   "id": "7eebc887",
   "metadata": {},
   "outputs": [],
   "source": [
    "# def solution(s):\n",
    "#     answer = True\n",
    "#     s = s.lower()\n",
    "#     p = len([i for i in s if i == 'p'])\n",
    "#     y = len([i for i in s if i == 'y'])\n",
    "    \n",
    "#     if p != y:\n",
    "#         answer = False\n",
    "        \n",
    "#     return answer\n",
    "\n",
    "def solution(s):\n",
    "    answer = True\n",
    "    s = s.lower()\n",
    "    \n",
    "    if s.count('p') != s.count('y'):\n",
    "        answer = False\n",
    "        \n",
    "    return answer"
   ]
  },
  {
   "cell_type": "code",
   "execution_count": 68,
   "id": "6c5bb7dd",
   "metadata": {},
   "outputs": [
    {
     "data": {
      "text/plain": [
       "True"
      ]
     },
     "execution_count": 68,
     "metadata": {},
     "output_type": "execute_result"
    },
    {
     "data": {
      "text/plain": [
       "False"
      ]
     },
     "execution_count": 68,
     "metadata": {},
     "output_type": "execute_result"
    }
   ],
   "source": [
    "s = 'pPoooyY'\n",
    "solution(s)\n",
    "\n",
    "s = 'Pyy'\n",
    "solution(s)"
   ]
  },
  {
   "cell_type": "markdown",
   "id": "89fe59d8",
   "metadata": {},
   "source": [
    "# 자연수 뒤집어 배열로 만들기 \n",
    "\n",
    "자연수 n을 뒤집어 각 자리 숫자를 원소로 가지는 배열 형태를 반환하는 함수 구현"
   ]
  },
  {
   "cell_type": "code",
   "execution_count": 74,
   "id": "ea90551b",
   "metadata": {},
   "outputs": [],
   "source": [
    "# def solution(n):\n",
    "#     answer = [int(i) for i in str(n)][::-1]\n",
    "#     return answer\n",
    "\n",
    "def solution(n):\n",
    "    answer =  list(map(int, reversed(str(n))))\n",
    "    return answer"
   ]
  },
  {
   "cell_type": "code",
   "execution_count": 75,
   "id": "3dd51810",
   "metadata": {},
   "outputs": [
    {
     "data": {
      "text/plain": [
       "[5, 4, 3, 2, 1]"
      ]
     },
     "execution_count": 75,
     "metadata": {},
     "output_type": "execute_result"
    }
   ],
   "source": [
    "n = 12345\n",
    "solution(n)"
   ]
  },
  {
   "cell_type": "markdown",
   "id": "666bfc8e",
   "metadata": {},
   "source": [
    "# 정수 제곱근 판별\n",
    "\n",
    "임의의 양의 정수 n에 대해, n이 어떤 양의 정수 x의 제곱인지 아닌지 판단하려 한다\n",
    "n이 양의 정수 x의 제곱근이라면 x + 1의 제곱을 리턴하고, n이 양ㅇ의 정수 x의 제곱이 아니라면 -1을 return하는 함수 구현"
   ]
  },
  {
   "cell_type": "code",
   "execution_count": 80,
   "id": "2acf472a",
   "metadata": {},
   "outputs": [],
   "source": [
    "def solution(n):\n",
    "    import numpy as np\n",
    "    answer = 0\n",
    "    sqnt_n = int(np.sqrt(n)) # 제곱근 구하기\n",
    "    \n",
    "    if sqnt_n ** 2 == n: # 주어진 수가 어떤 양의 정수의 제곱인지 판단\n",
    "        answer = (sqnt_n + 1) ** 2\n",
    "    else:\n",
    "        answer = -1\n",
    "        \n",
    "    return answer"
   ]
  },
  {
   "cell_type": "code",
   "execution_count": 81,
   "id": "9f71d99a",
   "metadata": {},
   "outputs": [
    {
     "data": {
      "text/plain": [
       "144"
      ]
     },
     "execution_count": 81,
     "metadata": {},
     "output_type": "execute_result"
    },
    {
     "data": {
      "text/plain": [
       "-1"
      ]
     },
     "execution_count": 81,
     "metadata": {},
     "output_type": "execute_result"
    }
   ],
   "source": [
    "n = 121\n",
    "solution(n)\n",
    "\n",
    "n = 3\n",
    "solution(n)"
   ]
  },
  {
   "cell_type": "markdown",
   "id": "6af8d435",
   "metadata": {},
   "source": [
    "# 정수 내림차순으로 배치하기\n",
    "\n",
    "함수는 정수 n을 매개변수로 입력받는다. n의 각 자릿수를 큰 것부터 작은 순으로 새로운 정수를 리턴\n",
    "\n",
    "n이 118372이면 873211을 리턴"
   ]
  },
  {
   "cell_type": "code",
   "execution_count": 21,
   "id": "ae912b97",
   "metadata": {},
   "outputs": [],
   "source": [
    "def solution(n):\n",
    "    answer = 0\n",
    "    lst = sorted([i for i in str(n)], reverse = True)\n",
    "    answer = int(''.join(lst))\n",
    "    \n",
    "    return answer"
   ]
  },
  {
   "cell_type": "code",
   "execution_count": 22,
   "id": "04d834f7",
   "metadata": {},
   "outputs": [
    {
     "data": {
      "text/plain": [
       "873211"
      ]
     },
     "execution_count": 22,
     "metadata": {},
     "output_type": "execute_result"
    }
   ],
   "source": [
    "n = 118372\n",
    "solution(n)"
   ]
  },
  {
   "cell_type": "markdown",
   "id": "6dfbd549",
   "metadata": {},
   "source": [
    "# 하샤드 수\n",
    "\n",
    "양의 정수 x가 하샤드 수이려면 x의 자릿수의 합으로 x가 나누어져야한다\n",
    "\n",
    "18의 자릿수 합은 1 + 8 = 9이고 18은 9로 나누어 떨어지므로 18은 하샤드수이다\n",
    "\n",
    "자연수 x를 입력받아 x가 하샤드 수인지 아닌지 검사하는 함수 구현"
   ]
  },
  {
   "cell_type": "code",
   "execution_count": 8,
   "id": "86313d87",
   "metadata": {},
   "outputs": [],
   "source": [
    "def solution(x):\n",
    "    answer = True\n",
    "    s = sum(int(i) for i in str(x))\n",
    "    if x % s != 0:\n",
    "        answer = False\n",
    "    return answer"
   ]
  },
  {
   "cell_type": "code",
   "execution_count": 9,
   "id": "575c2179",
   "metadata": {},
   "outputs": [
    {
     "data": {
      "text/plain": [
       "True"
      ]
     },
     "execution_count": 9,
     "metadata": {},
     "output_type": "execute_result"
    },
    {
     "data": {
      "text/plain": [
       "True"
      ]
     },
     "execution_count": 9,
     "metadata": {},
     "output_type": "execute_result"
    },
    {
     "data": {
      "text/plain": [
       "False"
      ]
     },
     "execution_count": 9,
     "metadata": {},
     "output_type": "execute_result"
    }
   ],
   "source": [
    "x = 10\n",
    "solution(x)\n",
    "\n",
    "x = 18\n",
    "solution(x)\n",
    "\n",
    "x = 11\n",
    "solution(x)"
   ]
  },
  {
   "cell_type": "markdown",
   "id": "4ae5b0fc",
   "metadata": {},
   "source": [
    "# 두 정수 사이의 합\n",
    "\n",
    "두 정수 a, b가 주어졌을 때 a와 b 사이에 속한 모든 정수의 합을 return하는 함수를 구현\n",
    "\n",
    "a = 3, b = 5인 경우 3 + 4 + 5 = 12"
   ]
  },
  {
   "cell_type": "code",
   "execution_count": 19,
   "id": "4313c3f6",
   "metadata": {},
   "outputs": [],
   "source": [
    "# def solution(a, b):\n",
    "#     answer = 0\n",
    "#     if a > b:\n",
    "#         answer = sum([i for i in range(int(b), int(a) + 1)])\n",
    "#     else:\n",
    "#         answer = sum([i for i in range(int(a), int(b) + 1)])\n",
    "#     return answer\n",
    "\n",
    "def solution(a, b):\n",
    "    if a > b:\n",
    "        a, b = b, a\n",
    "    return sum(range(a, b + 1))"
   ]
  },
  {
   "cell_type": "code",
   "execution_count": 20,
   "id": "ad69a245",
   "metadata": {},
   "outputs": [
    {
     "data": {
      "text/plain": [
       "12"
      ]
     },
     "execution_count": 20,
     "metadata": {},
     "output_type": "execute_result"
    },
    {
     "data": {
      "text/plain": [
       "12"
      ]
     },
     "execution_count": 20,
     "metadata": {},
     "output_type": "execute_result"
    }
   ],
   "source": [
    "a = 3; b = 5\n",
    "solution(a, b)\n",
    "\n",
    "a = 5; b = 3\n",
    "solution(a, b)"
   ]
  },
  {
   "cell_type": "markdown",
   "id": "597747ff",
   "metadata": {},
   "source": [
    "# 음양 더하기\n",
    "\n",
    "정수들의 절댓값을 차례대로 담은 정수 배열 absolutes와 이 정수들의 부호를 차례대로 담은 불리언 배열 signs가 매개변수로 주어진다\n",
    "\n",
    "실제 정수들의 합을 구하여 return하는 함수 구현"
   ]
  },
  {
   "cell_type": "code",
   "execution_count": 24,
   "id": "8ab18d0f",
   "metadata": {},
   "outputs": [],
   "source": [
    "def solution(absolutes, signs):\n",
    "    answer = 0\n",
    "    for i in range(len(absolutes)):\n",
    "        if signs[i] == False:\n",
    "            absolutes[i] = int('-' + str(absolutes[i]))\n",
    "    answer = sum(absolutes)\n",
    "    return answer"
   ]
  },
  {
   "cell_type": "code",
   "execution_count": 25,
   "id": "c63975d0",
   "metadata": {},
   "outputs": [
    {
     "data": {
      "text/plain": [
       "9"
      ]
     },
     "execution_count": 25,
     "metadata": {},
     "output_type": "execute_result"
    },
    {
     "data": {
      "text/plain": [
       "0"
      ]
     },
     "execution_count": 25,
     "metadata": {},
     "output_type": "execute_result"
    }
   ],
   "source": [
    "absolutes = [4, 7, 12]\n",
    "signs = [True, False, True]\n",
    "solution(absolutes, signs)\n",
    "\n",
    "absolutes = [1, 2, 3]\n",
    "signs = [False, False, True]\n",
    "solution(absolutes, signs)"
   ]
  },
  {
   "cell_type": "markdown",
   "id": "b37fd920",
   "metadata": {},
   "source": [
    "# 콜라츠 추축\n",
    "\n",
    "주어진 수가 1이 될 때까지 다음 작업을 반복하면, 모든 수를 1로 만들 수 있다\n",
    "\n",
    "1 - 1. 입력된 수가 짝수라면 2로 나눈다\n",
    "\n",
    "1 - 2. 입력된 수가 홀수라면 3을 곱하고 1을 더한다\n",
    "\n",
    "2. 결과로 나온 수에 같은 작업을 1이 될 때까지 반복"
   ]
  },
  {
   "cell_type": "code",
   "execution_count": 35,
   "id": "ee8a2f01",
   "metadata": {},
   "outputs": [],
   "source": [
    "def solution(num):\n",
    "    answer = 0\n",
    "    while num != 1:\n",
    "        if num % 2 == 0:\n",
    "            num = num // 2\n",
    "            answer += 1\n",
    "        elif num % 2 == 1:\n",
    "            num = num * 3 + 1\n",
    "            answer += 1\n",
    "    if answer >= 500:\n",
    "        answer = -1\n",
    "            \n",
    "    return answer"
   ]
  },
  {
   "cell_type": "code",
   "execution_count": 37,
   "id": "2a493b78",
   "metadata": {},
   "outputs": [
    {
     "data": {
      "text/plain": [
       "8"
      ]
     },
     "execution_count": 37,
     "metadata": {},
     "output_type": "execute_result"
    },
    {
     "data": {
      "text/plain": [
       "4"
      ]
     },
     "execution_count": 37,
     "metadata": {},
     "output_type": "execute_result"
    },
    {
     "data": {
      "text/plain": [
       "-1"
      ]
     },
     "execution_count": 37,
     "metadata": {},
     "output_type": "execute_result"
    },
    {
     "data": {
      "text/plain": [
       "0"
      ]
     },
     "execution_count": 37,
     "metadata": {},
     "output_type": "execute_result"
    }
   ],
   "source": [
    "num = 6\n",
    "solution(num)\n",
    "\n",
    "num = 16\n",
    "solution(num)\n",
    "\n",
    "num = 626331\n",
    "solution(num)\n",
    "\n",
    "num = 1\n",
    "solution(num)"
   ]
  },
  {
   "cell_type": "markdown",
   "id": "31ec00dc",
   "metadata": {},
   "source": [
    "# 서울에서 김서방 찾기\n",
    "\n",
    "string형 배열 seoul의 element중 'Kim'의 위치x를 찾아, '김서방은 x에 있다'는 string을 반환하는 함수를 구현"
   ]
  },
  {
   "cell_type": "code",
   "execution_count": 18,
   "id": "bdf7f08c",
   "metadata": {},
   "outputs": [],
   "source": [
    "def solution(seoul):\n",
    "    answer = ''\n",
    "    name = 'Kim'\n",
    "    ind = seoul.index(name)\n",
    "    answer = '김서방은 {}에 있다'.format(ind)\n",
    "    return answer"
   ]
  },
  {
   "cell_type": "code",
   "execution_count": 19,
   "id": "19d57c00",
   "metadata": {},
   "outputs": [
    {
     "data": {
      "text/plain": [
       "'김서방은 1에 있다'"
      ]
     },
     "execution_count": 19,
     "metadata": {},
     "output_type": "execute_result"
    }
   ],
   "source": [
    "seoul = ['Jane', 'Kim']\n",
    "solution(seoul)"
   ]
  },
  {
   "cell_type": "markdown",
   "id": "971a6c0f",
   "metadata": {},
   "source": [
    "# 나누어 떨어지는 숫자 배열\n",
    "\n",
    "array의 각 element 중 divisor로 나누어 떨어지는 값을 오름차순으로 정렬한 배열을 반환하는 함수를 구현\n",
    "\n",
    "divisor로 나누어 떨어지는 element가 하나도 없다면 배열에 -1을 담아 return"
   ]
  },
  {
   "cell_type": "code",
   "execution_count": 29,
   "id": "06262078",
   "metadata": {},
   "outputs": [],
   "source": [
    "def solution(arr, divisor):\n",
    "    answer = sorted([i for i in arr if i % divisor == 0])\n",
    "    if len(answer) == 0:\n",
    "        answer = [-1]\n",
    "    return answer"
   ]
  },
  {
   "cell_type": "code",
   "execution_count": 30,
   "id": "a0452366",
   "metadata": {},
   "outputs": [
    {
     "data": {
      "text/plain": [
       "[5, 10]"
      ]
     },
     "execution_count": 30,
     "metadata": {},
     "output_type": "execute_result"
    },
    {
     "data": {
      "text/plain": [
       "[1, 2, 3, 36]"
      ]
     },
     "execution_count": 30,
     "metadata": {},
     "output_type": "execute_result"
    },
    {
     "data": {
      "text/plain": [
       "[-1]"
      ]
     },
     "execution_count": 30,
     "metadata": {},
     "output_type": "execute_result"
    }
   ],
   "source": [
    "arr = [5, 9, 7, 10]\n",
    "divisor = 5\n",
    "solution(arr, divisor)\n",
    "\n",
    "arr = [2, 36, 1, 3]\n",
    "divisor = 1\n",
    "solution(arr, divisor)\n",
    "\n",
    "arr = [3, 2, 6]\n",
    "divisor = 10\n",
    "solution(arr, divisor)"
   ]
  },
  {
   "cell_type": "markdown",
   "id": "522c1040",
   "metadata": {},
   "source": [
    "# 없는 숫자 더하기\n",
    "\n",
    "0부터 9까지의 숫자 중 일부가 들어있는 정수 배열 numbers가 매개변수로 주어진다\n",
    "\n",
    "numbers에서 찾을 수 없는 0부터 9까지의 숫자를 모두 찾아 더한 수를 return하는 함수 구현"
   ]
  },
  {
   "cell_type": "code",
   "execution_count": 34,
   "id": "19186cda",
   "metadata": {},
   "outputs": [],
   "source": [
    "# def solution(numbers):\n",
    "#     answer = 0\n",
    "#     for i in range(0, 10):\n",
    "#         if i not in numbers:\n",
    "#             answer += i\n",
    "#     return answer\n",
    "\n",
    "def solution(numbers):\n",
    "    answer = 45 - sum(numbers) # 0 ~ 9까지의 합(45)에서 numbers의 합을 빼기\n",
    "    return answer"
   ]
  },
  {
   "cell_type": "code",
   "execution_count": 35,
   "id": "5683ab35",
   "metadata": {},
   "outputs": [
    {
     "data": {
      "text/plain": [
       "14"
      ]
     },
     "execution_count": 35,
     "metadata": {},
     "output_type": "execute_result"
    },
    {
     "data": {
      "text/plain": [
       "6"
      ]
     },
     "execution_count": 35,
     "metadata": {},
     "output_type": "execute_result"
    }
   ],
   "source": [
    "numbers = [1, 2, 3, 4, 6, 7, 8, 0]\n",
    "solution(numbers)\n",
    "\n",
    "numbers = [5, 8, 4, 0, 6, 7, 9]\n",
    "solution(numbers)"
   ]
  },
  {
   "cell_type": "markdown",
   "id": "ea35bd9d",
   "metadata": {},
   "source": [
    "# 휴대폰 번호 가리기\n",
    "\n",
    "프로그래머스 모바일은 개인정보 보호를 위해 고지서를 보낼 때 고객들의 전화번호의 일부를 가린다\n",
    "\n",
    "전화번호가 문자열 phone_number로 주어졌을 때, 전화번호의 뒷 4자리를 제외한 나머지 숫자를 보두 *으로 가린 문자열을 return하는 함수 구현"
   ]
  },
  {
   "cell_type": "code",
   "execution_count": 36,
   "id": "c6cf50b4",
   "metadata": {},
   "outputs": [],
   "source": [
    "def solution(phone_number):\n",
    "    answer = ''\n",
    "    answer = '*' * (len(phone_number) - 4) + phone_number[-4:]\n",
    "    return answer"
   ]
  },
  {
   "cell_type": "code",
   "execution_count": 37,
   "id": "2e076505",
   "metadata": {},
   "outputs": [
    {
     "data": {
      "text/plain": [
       "'*******4444'"
      ]
     },
     "execution_count": 37,
     "metadata": {},
     "output_type": "execute_result"
    },
    {
     "data": {
      "text/plain": [
       "'******8888'"
      ]
     },
     "execution_count": 37,
     "metadata": {},
     "output_type": "execute_result"
    }
   ],
   "source": [
    "phone_number = '01033334444'\n",
    "solution(phone_number)\n",
    "\n",
    "phone_number = '0277778888'\n",
    "solution(phone_number)"
   ]
  },
  {
   "cell_type": "markdown",
   "id": "c60108c7",
   "metadata": {},
   "source": [
    "# 제일 작은 수 제거하기\n",
    "\n",
    "정수를 저장한 배열 arr에서 가장 작은 수를 제거한 배열을 return하는 함수 구현\n",
    "\n",
    "return하는 배열이 빈 배열인 경우 배열에 -1을 채워 return\n",
    "\n",
    "arr = [4, 3, 2, 1]인 경우 [4, 3, 2]를 return\n",
    "\n",
    "arr = [10]인 경우 [-1]을 return"
   ]
  },
  {
   "cell_type": "code",
   "execution_count": 69,
   "id": "54fe512a",
   "metadata": {},
   "outputs": [],
   "source": [
    "def solution(arr):\n",
    "    arr = sorted(arr, reverse = True)\n",
    "    answer = arr[:-1]\n",
    "    if len(answer) == 0:\n",
    "        answer = [-1]\n",
    "    return answer"
   ]
  },
  {
   "cell_type": "code",
   "execution_count": 70,
   "id": "eaef1ae3",
   "metadata": {},
   "outputs": [
    {
     "data": {
      "text/plain": [
       "[4, 3, 2]"
      ]
     },
     "execution_count": 70,
     "metadata": {},
     "output_type": "execute_result"
    },
    {
     "data": {
      "text/plain": [
       "[-1]"
      ]
     },
     "execution_count": 70,
     "metadata": {},
     "output_type": "execute_result"
    }
   ],
   "source": [
    "arr = [4, 3, 2, 1]\n",
    "solution(arr)\n",
    "\n",
    "arr = [10]\n",
    "solution(arr)"
   ]
  },
  {
   "cell_type": "markdown",
   "id": "f85c5fe2",
   "metadata": {},
   "source": [
    "# 내적\n",
    "\n",
    "길이가 같은 두 1차원 정수 배열 a, b가 매개변수로 주어진다. a와 b의 내적을 return하는 함수 구현"
   ]
  },
  {
   "cell_type": "code",
   "execution_count": 80,
   "id": "b568faa8",
   "metadata": {},
   "outputs": [],
   "source": [
    "def solution(a, b):\n",
    "    answer = 0\n",
    "    for i in range(len(a)):\n",
    "        answer += a[i] * b[i]\n",
    "    return answer"
   ]
  },
  {
   "cell_type": "code",
   "execution_count": 82,
   "id": "d7f33231",
   "metadata": {},
   "outputs": [
    {
     "data": {
      "text/plain": [
       "3"
      ]
     },
     "execution_count": 82,
     "metadata": {},
     "output_type": "execute_result"
    },
    {
     "data": {
      "text/plain": [
       "-2"
      ]
     },
     "execution_count": 82,
     "metadata": {},
     "output_type": "execute_result"
    }
   ],
   "source": [
    "a = [1, 2, 3, 4]\n",
    "b = [-3, -1, 0, 2]\n",
    "solution(a, b)\n",
    "\n",
    "a = [-1, 0, 1]\n",
    "b = [1, 0, -1]\n",
    "solution(a, b)"
   ]
  },
  {
   "cell_type": "markdown",
   "id": "5f89a4f9",
   "metadata": {},
   "source": [
    "# 가운데 글자 가져오기\n",
    "\n",
    "단어 s의 가운데 글자를 반환하는 함수를 구현\n",
    "\n",
    "단어의 길이가 짝수라면 가운데 두 글자를 반환"
   ]
  },
  {
   "cell_type": "code",
   "execution_count": 92,
   "id": "60dee4c2",
   "metadata": {},
   "outputs": [],
   "source": [
    "# def solution(s):\n",
    "#     answer = ''\n",
    "#     if len(s) % 2 == 0:\n",
    "#         answer = s[len(s) // 2 - 1 : len(s) // 2 + 1]\n",
    "#     else:\n",
    "#         answer = s[len(s) // 2]\n",
    "#     return answer\n",
    "\n",
    "def solution(s):\n",
    "    answer = ''\n",
    "    answer = s[(len(s)-1) // 2 : len(s) // 2 + 1]\n",
    "    return answer"
   ]
  },
  {
   "cell_type": "code",
   "execution_count": 93,
   "id": "1bd46ee7",
   "metadata": {},
   "outputs": [
    {
     "data": {
      "text/plain": [
       "'c'"
      ]
     },
     "execution_count": 93,
     "metadata": {},
     "output_type": "execute_result"
    },
    {
     "data": {
      "text/plain": [
       "'we'"
      ]
     },
     "execution_count": 93,
     "metadata": {},
     "output_type": "execute_result"
    }
   ],
   "source": [
    "s = 'abced'\n",
    "solution(s)\n",
    "\n",
    "s = 'qwer'\n",
    "solution(s)"
   ]
  },
  {
   "cell_type": "markdown",
   "id": "dfd30e18",
   "metadata": {},
   "source": [
    "# 수박수박수박수박수박수?\n",
    "\n",
    "길이가 n이고, 수박수박수박수..와 같은 패턴을 유지하는 문자열을 return하는 함수 구현\n",
    "\n",
    "예를 들어 n이 4이면 수박수박을 return하고 n이 3이면 수박수를 리턴"
   ]
  },
  {
   "cell_type": "code",
   "execution_count": null,
   "id": "3cf0938b",
   "metadata": {},
   "outputs": [],
   "source": [
    "def solution(n):\n",
    "    answer = ''\n",
    "    return answer"
   ]
  },
  {
   "cell_type": "code",
   "execution_count": null,
   "id": "6c47eb2f",
   "metadata": {},
   "outputs": [],
   "source": []
  },
  {
   "cell_type": "code",
   "execution_count": null,
   "id": "88f4dc0b",
   "metadata": {},
   "outputs": [],
   "source": []
  }
 ],
 "metadata": {
  "kernelspec": {
   "display_name": "Python 3 (ipykernel)",
   "language": "python",
   "name": "python3"
  },
  "language_info": {
   "codemirror_mode": {
    "name": "ipython",
    "version": 3
   },
   "file_extension": ".py",
   "mimetype": "text/x-python",
   "name": "python",
   "nbconvert_exporter": "python",
   "pygments_lexer": "ipython3",
   "version": "3.11.5"
  },
  "toc": {
   "base_numbering": 1,
   "nav_menu": {},
   "number_sections": true,
   "sideBar": true,
   "skip_h1_title": false,
   "title_cell": "Table of Contents",
   "title_sidebar": "Contents",
   "toc_cell": false,
   "toc_position": {},
   "toc_section_display": true,
   "toc_window_display": false
  }
 },
 "nbformat": 4,
 "nbformat_minor": 5
}
