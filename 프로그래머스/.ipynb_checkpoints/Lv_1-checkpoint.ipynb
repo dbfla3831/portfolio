{
 "cells": [
  {
   "cell_type": "code",
   "execution_count": 1,
   "id": "2c358047",
   "metadata": {
    "ExecuteTime": {
     "end_time": "2024-04-02T05:03:27.075314Z",
     "start_time": "2024-04-02T05:03:27.071142Z"
    }
   },
   "outputs": [],
   "source": [
    "from IPython.core.interactiveshell import InteractiveShell\n",
    "InteractiveShell.ast_node_interactivity = 'all'"
   ]
  },
  {
   "cell_type": "markdown",
   "id": "c3ec8b0f",
   "metadata": {},
   "source": [
    "# 평균 구하기\n",
    "\n",
    "정수를 담고 있는 배열 arr의 평균값을 return하는 함수 구현"
   ]
  },
  {
   "cell_type": "code",
   "execution_count": 54,
   "id": "57ad4988",
   "metadata": {},
   "outputs": [],
   "source": [
    "def solution(arr):\n",
    "    answer = 0\n",
    "    answer = sum(arr) / len(arr)\n",
    "    return answer"
   ]
  },
  {
   "cell_type": "code",
   "execution_count": 55,
   "id": "965fdf3c",
   "metadata": {},
   "outputs": [
    {
     "data": {
      "text/plain": [
       "2.5"
      ]
     },
     "execution_count": 55,
     "metadata": {},
     "output_type": "execute_result"
    }
   ],
   "source": [
    "lst = [1, 2, 3, 4]\n",
    "solution(lst)"
   ]
  },
  {
   "cell_type": "markdown",
   "id": "64d9866e",
   "metadata": {},
   "source": [
    "# 짝수와 홀수\n",
    "\n",
    "정수 num이 짝수인 경우 'Even'을 반환하고 홀수인 경우 'Odd'를 반환하는 함수 구현"
   ]
  },
  {
   "cell_type": "code",
   "execution_count": 13,
   "id": "54f3b133",
   "metadata": {},
   "outputs": [],
   "source": [
    "def solution(num):\n",
    "    answer = ''\n",
    "    if num % 2 == 0:\n",
    "        answer = 'Even'\n",
    "    else:\n",
    "        answer = 'Odd'\n",
    "    return answer"
   ]
  },
  {
   "cell_type": "code",
   "execution_count": 14,
   "id": "17f5f6a8",
   "metadata": {},
   "outputs": [
    {
     "data": {
      "text/plain": [
       "'Odd'"
      ]
     },
     "execution_count": 14,
     "metadata": {},
     "output_type": "execute_result"
    }
   ],
   "source": [
    "num = 3\n",
    "solution(num)"
   ]
  },
  {
   "cell_type": "markdown",
   "id": "0e5ef046",
   "metadata": {},
   "source": [
    "# 약수의 합\n",
    "\n",
    "정수 n을 입력받아 n의 약수를 모두 더한 값을 리턴하는 함수 구현"
   ]
  },
  {
   "cell_type": "code",
   "execution_count": 20,
   "id": "85b536a1",
   "metadata": {},
   "outputs": [],
   "source": [
    "# 12의 약수는 1, 2, 3, 4, 6, 12이다\n",
    "# 1. n까지의 리스트를 담기\n",
    "# 2. n을 리스트 내 값으로 나눴을 때 0이면 약수\n",
    "\n",
    "def solution(n):\n",
    "    answer = 0\n",
    "    answer = sum([i for i in range(1, n + 1) if n % i == 0]) # 약수 찾아 모두 더하기\n",
    "    return answer"
   ]
  },
  {
   "cell_type": "code",
   "execution_count": 21,
   "id": "1e16c240",
   "metadata": {},
   "outputs": [
    {
     "data": {
      "text/plain": [
       "28"
      ]
     },
     "execution_count": 21,
     "metadata": {},
     "output_type": "execute_result"
    },
    {
     "data": {
      "text/plain": [
       "6"
      ]
     },
     "execution_count": 21,
     "metadata": {},
     "output_type": "execute_result"
    }
   ],
   "source": [
    "n = 12\n",
    "solution(n)\n",
    "\n",
    "n = 5\n",
    "solution(n)"
   ]
  },
  {
   "cell_type": "markdown",
   "id": "cde1ca37",
   "metadata": {},
   "source": [
    "# 문자열을 정수로 바꾸기\n",
    "\n",
    "문자열 s를 숫자로 변환한 결과를 반환\n",
    "\n",
    "- s의 맨 앞에는 부호가 올 수 있다\n",
    "\n",
    "    -1234이면 -1234반환"
   ]
  },
  {
   "cell_type": "code",
   "execution_count": 22,
   "id": "bb0195fa",
   "metadata": {},
   "outputs": [],
   "source": [
    "def solution(s):\n",
    "    answer = 0\n",
    "    answer = int(s)\n",
    "    return answer"
   ]
  },
  {
   "cell_type": "code",
   "execution_count": 23,
   "id": "fe756c0b",
   "metadata": {},
   "outputs": [
    {
     "data": {
      "text/plain": [
       "1234"
      ]
     },
     "execution_count": 23,
     "metadata": {},
     "output_type": "execute_result"
    },
    {
     "data": {
      "text/plain": [
       "-1234"
      ]
     },
     "execution_count": 23,
     "metadata": {},
     "output_type": "execute_result"
    }
   ],
   "source": [
    "s = '1234'\n",
    "solution(s)\n",
    "\n",
    "s = '-1234'\n",
    "solution(s)"
   ]
  },
  {
   "cell_type": "markdown",
   "id": "1e77f7ef",
   "metadata": {},
   "source": [
    "# 나머지가 1이 되는 수 찾기\n",
    "\n",
    "자연수 n이 매개변수로 주어집니다. n을 x로 나눈 나머지가 1이 되도록 하는 가장 작은 자연수 x를 리턴하도록 함수 구현"
   ]
  },
  {
   "cell_type": "code",
   "execution_count": 35,
   "id": "ec167af1",
   "metadata": {},
   "outputs": [],
   "source": [
    "def solution(n):\n",
    "    answer = 0\n",
    "    ansewer = min([i for i in range(1, n + 1) if n % i == 1])\n",
    "    return ansewer"
   ]
  },
  {
   "cell_type": "code",
   "execution_count": 37,
   "id": "42b8c57f",
   "metadata": {},
   "outputs": [
    {
     "data": {
      "text/plain": [
       "3"
      ]
     },
     "execution_count": 37,
     "metadata": {},
     "output_type": "execute_result"
    },
    {
     "data": {
      "text/plain": [
       "11"
      ]
     },
     "execution_count": 37,
     "metadata": {},
     "output_type": "execute_result"
    }
   ],
   "source": [
    "n = 10\n",
    "solution(n)\n",
    "\n",
    "n = 12\n",
    "solution(n)"
   ]
  },
  {
   "cell_type": "markdown",
   "id": "a3710c5e",
   "metadata": {},
   "source": [
    "# x만큼 간격이 있는 n개의 숫자\n",
    "\n",
    "함수는 정수x와 자연수 n을 입력 받아, x부터 시작해 x씩 증가하는 숫자를 n개 지니는 리스트를 리턴하는 함수를 구현"
   ]
  },
  {
   "cell_type": "code",
   "execution_count": 47,
   "id": "4d79b3f8",
   "metadata": {},
   "outputs": [],
   "source": [
    "# def solution(x, n):\n",
    "#     answer = []\n",
    "#     for i in range(n):\n",
    "#         answer.append(x + i * x)\n",
    "#     return answer\n",
    "\n",
    "def solution(x, n):\n",
    "    answer = [x + x * i for i in range(n)]\n",
    "    return answer"
   ]
  },
  {
   "cell_type": "code",
   "execution_count": 48,
   "id": "14931fa1",
   "metadata": {},
   "outputs": [
    {
     "data": {
      "text/plain": [
       "[2, 4, 6, 8, 10]"
      ]
     },
     "execution_count": 48,
     "metadata": {},
     "output_type": "execute_result"
    },
    {
     "data": {
      "text/plain": [
       "[4, 8, 12]"
      ]
     },
     "execution_count": 48,
     "metadata": {},
     "output_type": "execute_result"
    },
    {
     "data": {
      "text/plain": [
       "[-4, -8]"
      ]
     },
     "execution_count": 48,
     "metadata": {},
     "output_type": "execute_result"
    }
   ],
   "source": [
    "x = 2; n = 5\n",
    "solution(x, n)\n",
    "\n",
    "x = 4; n = 3\n",
    "solution(x, n)\n",
    "\n",
    "x = -4; n = 2\n",
    "solution(x, n)"
   ]
  },
  {
   "cell_type": "markdown",
   "id": "7d8b4a4c",
   "metadata": {},
   "source": [
    "# 자릿수 더하기\n",
    "\n",
    "자연수 n이 주어지면, n의 각 자릿수의 합을 구해서 return하는 함수 구현\n",
    "\n",
    "- n = 123이면 1 + 2 + 3 = 6을 return"
   ]
  },
  {
   "cell_type": "code",
   "execution_count": 51,
   "id": "c1aacdae",
   "metadata": {},
   "outputs": [],
   "source": [
    "def solution(n):\n",
    "    answer = 0\n",
    "    answer = sum([int(i) for i in str(n)])\n",
    "    return answer"
   ]
  },
  {
   "cell_type": "code",
   "execution_count": 52,
   "id": "c869f78c",
   "metadata": {},
   "outputs": [
    {
     "data": {
      "text/plain": [
       "6"
      ]
     },
     "execution_count": 52,
     "metadata": {},
     "output_type": "execute_result"
    },
    {
     "data": {
      "text/plain": [
       "24"
      ]
     },
     "execution_count": 52,
     "metadata": {},
     "output_type": "execute_result"
    }
   ],
   "source": [
    "n = 123\n",
    "solution(n)\n",
    "\n",
    "n = 987\n",
    "solution(n)"
   ]
  },
  {
   "cell_type": "markdown",
   "id": "3804d19f",
   "metadata": {},
   "source": [
    "# 문자열 내 p와 y의 개수\n",
    "\n",
    "대문자와 소문자가 섞여있는 문자열 s가 주어진다. s에 'p'의 개수와 'y'의 개수를 비교해 같으면 True, 다르면 False를 return하는 함수 구현\n"
   ]
  },
  {
   "cell_type": "code",
   "execution_count": 67,
   "id": "7eebc887",
   "metadata": {},
   "outputs": [],
   "source": [
    "# def solution(s):\n",
    "#     answer = True\n",
    "#     s = s.lower()\n",
    "#     p = len([i for i in s if i == 'p'])\n",
    "#     y = len([i for i in s if i == 'y'])\n",
    "    \n",
    "#     if p != y:\n",
    "#         answer = False\n",
    "        \n",
    "#     return answer\n",
    "\n",
    "def solution(s):\n",
    "    answer = True\n",
    "    s = s.lower()\n",
    "    \n",
    "    if s.count('p') != s.count('y'):\n",
    "        answer = False\n",
    "        \n",
    "    return answer"
   ]
  },
  {
   "cell_type": "code",
   "execution_count": 68,
   "id": "6c5bb7dd",
   "metadata": {},
   "outputs": [
    {
     "data": {
      "text/plain": [
       "True"
      ]
     },
     "execution_count": 68,
     "metadata": {},
     "output_type": "execute_result"
    },
    {
     "data": {
      "text/plain": [
       "False"
      ]
     },
     "execution_count": 68,
     "metadata": {},
     "output_type": "execute_result"
    }
   ],
   "source": [
    "s = 'pPoooyY'\n",
    "solution(s)\n",
    "\n",
    "s = 'Pyy'\n",
    "solution(s)"
   ]
  },
  {
   "cell_type": "markdown",
   "id": "89fe59d8",
   "metadata": {},
   "source": [
    "# 자연수 뒤집어 배열로 만들기 \n",
    "\n",
    "자연수 n을 뒤집어 각 자리 숫자를 원소로 가지는 배열 형태를 반환하는 함수 구현"
   ]
  },
  {
   "cell_type": "code",
   "execution_count": 74,
   "id": "ea90551b",
   "metadata": {},
   "outputs": [],
   "source": [
    "# def solution(n):\n",
    "#     answer = [int(i) for i in str(n)][::-1]\n",
    "#     return answer\n",
    "\n",
    "def solution(n):\n",
    "    answer =  list(map(int, reversed(str(n))))\n",
    "    return answer"
   ]
  },
  {
   "cell_type": "code",
   "execution_count": 75,
   "id": "3dd51810",
   "metadata": {},
   "outputs": [
    {
     "data": {
      "text/plain": [
       "[5, 4, 3, 2, 1]"
      ]
     },
     "execution_count": 75,
     "metadata": {},
     "output_type": "execute_result"
    }
   ],
   "source": [
    "n = 12345\n",
    "solution(n)"
   ]
  },
  {
   "cell_type": "markdown",
   "id": "666bfc8e",
   "metadata": {},
   "source": [
    "# 정수 제곱근 판별\n",
    "\n",
    "임의의 양의 정수 n에 대해, n이 어떤 양의 정수 x의 제곱인지 아닌지 판단하려 한다\n",
    "n이 양의 정수 x의 제곱근이라면 x + 1의 제곱을 리턴하고, n이 양ㅇ의 정수 x의 제곱이 아니라면 -1을 return하는 함수 구현"
   ]
  },
  {
   "cell_type": "code",
   "execution_count": 80,
   "id": "2acf472a",
   "metadata": {},
   "outputs": [],
   "source": [
    "def solution(n):\n",
    "    import numpy as np\n",
    "    answer = 0\n",
    "    sqnt_n = int(np.sqrt(n)) # 제곱근 구하기\n",
    "    \n",
    "    if sqnt_n ** 2 == n: # 주어진 수가 어떤 양의 정수의 제곱인지 판단\n",
    "        answer = (sqnt_n + 1) ** 2\n",
    "    else:\n",
    "        answer = -1\n",
    "        \n",
    "    return answer"
   ]
  },
  {
   "cell_type": "code",
   "execution_count": 81,
   "id": "9f71d99a",
   "metadata": {},
   "outputs": [
    {
     "data": {
      "text/plain": [
       "144"
      ]
     },
     "execution_count": 81,
     "metadata": {},
     "output_type": "execute_result"
    },
    {
     "data": {
      "text/plain": [
       "-1"
      ]
     },
     "execution_count": 81,
     "metadata": {},
     "output_type": "execute_result"
    }
   ],
   "source": [
    "n = 121\n",
    "solution(n)\n",
    "\n",
    "n = 3\n",
    "solution(n)"
   ]
  },
  {
   "cell_type": "markdown",
   "id": "6af8d435",
   "metadata": {},
   "source": [
    "# 정수 내림차순으로 배치하기\n",
    "\n",
    "함수는 정수 n을 매개변수로 입력받는다. n의 각 자릿수를 큰 것부터 작은 순으로 새로운 정수를 리턴\n",
    "\n",
    "n이 118372이면 873211을 리턴"
   ]
  },
  {
   "cell_type": "code",
   "execution_count": 21,
   "id": "ae912b97",
   "metadata": {},
   "outputs": [],
   "source": [
    "def solution(n):\n",
    "    answer = 0\n",
    "    lst = sorted([i for i in str(n)], reverse = True)\n",
    "    answer = int(''.join(lst))\n",
    "    \n",
    "    return answer"
   ]
  },
  {
   "cell_type": "code",
   "execution_count": 22,
   "id": "04d834f7",
   "metadata": {},
   "outputs": [
    {
     "data": {
      "text/plain": [
       "873211"
      ]
     },
     "execution_count": 22,
     "metadata": {},
     "output_type": "execute_result"
    }
   ],
   "source": [
    "n = 118372\n",
    "solution(n)"
   ]
  },
  {
   "cell_type": "markdown",
   "id": "6dfbd549",
   "metadata": {},
   "source": [
    "# 하샤드 수\n",
    "\n",
    "양의 정수 x가 하샤드 수이려면 x의 자릿수의 합으로 x가 나누어져야한다\n",
    "\n",
    "18의 자릿수 합은 1 + 8 = 9이고 18은 9로 나누어 떨어지므로 18은 하샤드수이다\n",
    "\n",
    "자연수 x를 입력받아 x가 하샤드 수인지 아닌지 검사하는 함수 구현"
   ]
  },
  {
   "cell_type": "code",
   "execution_count": 8,
   "id": "86313d87",
   "metadata": {},
   "outputs": [],
   "source": [
    "def solution(x):\n",
    "    answer = True\n",
    "    s = sum(int(i) for i in str(x))\n",
    "    if x % s != 0:\n",
    "        answer = False\n",
    "    return answer"
   ]
  },
  {
   "cell_type": "code",
   "execution_count": 9,
   "id": "575c2179",
   "metadata": {},
   "outputs": [
    {
     "data": {
      "text/plain": [
       "True"
      ]
     },
     "execution_count": 9,
     "metadata": {},
     "output_type": "execute_result"
    },
    {
     "data": {
      "text/plain": [
       "True"
      ]
     },
     "execution_count": 9,
     "metadata": {},
     "output_type": "execute_result"
    },
    {
     "data": {
      "text/plain": [
       "False"
      ]
     },
     "execution_count": 9,
     "metadata": {},
     "output_type": "execute_result"
    }
   ],
   "source": [
    "x = 10\n",
    "solution(x)\n",
    "\n",
    "x = 18\n",
    "solution(x)\n",
    "\n",
    "x = 11\n",
    "solution(x)"
   ]
  },
  {
   "cell_type": "markdown",
   "id": "4ae5b0fc",
   "metadata": {},
   "source": [
    "# 두 정수 사이의 합\n",
    "\n",
    "두 정수 a, b가 주어졌을 때 a와 b 사이에 속한 모든 정수의 합을 return하는 함수를 구현\n",
    "\n",
    "a = 3, b = 5인 경우 3 + 4 + 5 = 12"
   ]
  },
  {
   "cell_type": "code",
   "execution_count": 19,
   "id": "4313c3f6",
   "metadata": {},
   "outputs": [],
   "source": [
    "# def solution(a, b):\n",
    "#     answer = 0\n",
    "#     if a > b:\n",
    "#         answer = sum([i for i in range(int(b), int(a) + 1)])\n",
    "#     else:\n",
    "#         answer = sum([i for i in range(int(a), int(b) + 1)])\n",
    "#     return answer\n",
    "\n",
    "def solution(a, b):\n",
    "    if a > b:\n",
    "        a, b = b, a\n",
    "    return sum(range(a, b + 1))"
   ]
  },
  {
   "cell_type": "code",
   "execution_count": 20,
   "id": "ad69a245",
   "metadata": {},
   "outputs": [
    {
     "data": {
      "text/plain": [
       "12"
      ]
     },
     "execution_count": 20,
     "metadata": {},
     "output_type": "execute_result"
    },
    {
     "data": {
      "text/plain": [
       "12"
      ]
     },
     "execution_count": 20,
     "metadata": {},
     "output_type": "execute_result"
    }
   ],
   "source": [
    "a = 3; b = 5\n",
    "solution(a, b)\n",
    "\n",
    "a = 5; b = 3\n",
    "solution(a, b)"
   ]
  },
  {
   "cell_type": "markdown",
   "id": "597747ff",
   "metadata": {},
   "source": [
    "# 음양 더하기\n",
    "\n",
    "정수들의 절댓값을 차례대로 담은 정수 배열 absolutes와 이 정수들의 부호를 차례대로 담은 불리언 배열 signs가 매개변수로 주어진다\n",
    "\n",
    "실제 정수들의 합을 구하여 return하는 함수 구현"
   ]
  },
  {
   "cell_type": "code",
   "execution_count": 24,
   "id": "8ab18d0f",
   "metadata": {},
   "outputs": [],
   "source": [
    "def solution(absolutes, signs):\n",
    "    answer = 0\n",
    "    for i in range(len(absolutes)):\n",
    "        if signs[i] == False:\n",
    "            absolutes[i] = int('-' + str(absolutes[i]))\n",
    "    answer = sum(absolutes)\n",
    "    return answer"
   ]
  },
  {
   "cell_type": "code",
   "execution_count": 25,
   "id": "c63975d0",
   "metadata": {},
   "outputs": [
    {
     "data": {
      "text/plain": [
       "9"
      ]
     },
     "execution_count": 25,
     "metadata": {},
     "output_type": "execute_result"
    },
    {
     "data": {
      "text/plain": [
       "0"
      ]
     },
     "execution_count": 25,
     "metadata": {},
     "output_type": "execute_result"
    }
   ],
   "source": [
    "absolutes = [4, 7, 12]\n",
    "signs = [True, False, True]\n",
    "solution(absolutes, signs)\n",
    "\n",
    "absolutes = [1, 2, 3]\n",
    "signs = [False, False, True]\n",
    "solution(absolutes, signs)"
   ]
  },
  {
   "cell_type": "markdown",
   "id": "b37fd920",
   "metadata": {},
   "source": [
    "# 콜라츠 추축\n",
    "\n",
    "주어진 수가 1이 될 때까지 다음 작업을 반복하면, 모든 수를 1로 만들 수 있다\n",
    "\n",
    "1 - 1. 입력된 수가 짝수라면 2로 나눈다\n",
    "\n",
    "1 - 2. 입력된 수가 홀수라면 3을 곱하고 1을 더한다\n",
    "\n",
    "2. 결과로 나온 수에 같은 작업을 1이 될 때까지 반복"
   ]
  },
  {
   "cell_type": "code",
   "execution_count": 35,
   "id": "ee8a2f01",
   "metadata": {},
   "outputs": [],
   "source": [
    "def solution(num):\n",
    "    answer = 0\n",
    "    while num != 1:\n",
    "        if num % 2 == 0:\n",
    "            num = num // 2\n",
    "            answer += 1\n",
    "        elif num % 2 == 1:\n",
    "            num = num * 3 + 1\n",
    "            answer += 1\n",
    "    if answer >= 500:\n",
    "        answer = -1\n",
    "            \n",
    "    return answer"
   ]
  },
  {
   "cell_type": "code",
   "execution_count": 37,
   "id": "2a493b78",
   "metadata": {},
   "outputs": [
    {
     "data": {
      "text/plain": [
       "8"
      ]
     },
     "execution_count": 37,
     "metadata": {},
     "output_type": "execute_result"
    },
    {
     "data": {
      "text/plain": [
       "4"
      ]
     },
     "execution_count": 37,
     "metadata": {},
     "output_type": "execute_result"
    },
    {
     "data": {
      "text/plain": [
       "-1"
      ]
     },
     "execution_count": 37,
     "metadata": {},
     "output_type": "execute_result"
    },
    {
     "data": {
      "text/plain": [
       "0"
      ]
     },
     "execution_count": 37,
     "metadata": {},
     "output_type": "execute_result"
    }
   ],
   "source": [
    "num = 6\n",
    "solution(num)\n",
    "\n",
    "num = 16\n",
    "solution(num)\n",
    "\n",
    "num = 626331\n",
    "solution(num)\n",
    "\n",
    "num = 1\n",
    "solution(num)"
   ]
  },
  {
   "cell_type": "markdown",
   "id": "31ec00dc",
   "metadata": {},
   "source": [
    "# 서울에서 김서방 찾기\n",
    "\n",
    "string형 배열 seoul의 element중 'Kim'의 위치x를 찾아, '김서방은 x에 있다'는 string을 반환하는 함수를 구현"
   ]
  },
  {
   "cell_type": "code",
   "execution_count": 18,
   "id": "bdf7f08c",
   "metadata": {},
   "outputs": [],
   "source": [
    "def solution(seoul):\n",
    "    answer = ''\n",
    "    name = 'Kim'\n",
    "    ind = seoul.index(name)\n",
    "    answer = '김서방은 {}에 있다'.format(ind)\n",
    "    return answer"
   ]
  },
  {
   "cell_type": "code",
   "execution_count": 19,
   "id": "19d57c00",
   "metadata": {},
   "outputs": [
    {
     "data": {
      "text/plain": [
       "'김서방은 1에 있다'"
      ]
     },
     "execution_count": 19,
     "metadata": {},
     "output_type": "execute_result"
    }
   ],
   "source": [
    "seoul = ['Jane', 'Kim']\n",
    "solution(seoul)"
   ]
  },
  {
   "cell_type": "markdown",
   "id": "971a6c0f",
   "metadata": {},
   "source": [
    "# 나누어 떨어지는 숫자 배열\n",
    "\n",
    "array의 각 element 중 divisor로 나누어 떨어지는 값을 오름차순으로 정렬한 배열을 반환하는 함수를 구현\n",
    "\n",
    "divisor로 나누어 떨어지는 element가 하나도 없다면 배열에 -1을 담아 return"
   ]
  },
  {
   "cell_type": "code",
   "execution_count": 29,
   "id": "06262078",
   "metadata": {},
   "outputs": [],
   "source": [
    "def solution(arr, divisor):\n",
    "    answer = sorted([i for i in arr if i % divisor == 0])\n",
    "    if len(answer) == 0:\n",
    "        answer = [-1]\n",
    "    return answer"
   ]
  },
  {
   "cell_type": "code",
   "execution_count": 30,
   "id": "a0452366",
   "metadata": {},
   "outputs": [
    {
     "data": {
      "text/plain": [
       "[5, 10]"
      ]
     },
     "execution_count": 30,
     "metadata": {},
     "output_type": "execute_result"
    },
    {
     "data": {
      "text/plain": [
       "[1, 2, 3, 36]"
      ]
     },
     "execution_count": 30,
     "metadata": {},
     "output_type": "execute_result"
    },
    {
     "data": {
      "text/plain": [
       "[-1]"
      ]
     },
     "execution_count": 30,
     "metadata": {},
     "output_type": "execute_result"
    }
   ],
   "source": [
    "arr = [5, 9, 7, 10]\n",
    "divisor = 5\n",
    "solution(arr, divisor)\n",
    "\n",
    "arr = [2, 36, 1, 3]\n",
    "divisor = 1\n",
    "solution(arr, divisor)\n",
    "\n",
    "arr = [3, 2, 6]\n",
    "divisor = 10\n",
    "solution(arr, divisor)"
   ]
  },
  {
   "cell_type": "markdown",
   "id": "522c1040",
   "metadata": {},
   "source": [
    "# 없는 숫자 더하기\n",
    "\n",
    "0부터 9까지의 숫자 중 일부가 들어있는 정수 배열 numbers가 매개변수로 주어진다\n",
    "\n",
    "numbers에서 찾을 수 없는 0부터 9까지의 숫자를 모두 찾아 더한 수를 return하는 함수 구현"
   ]
  },
  {
   "cell_type": "code",
   "execution_count": 34,
   "id": "19186cda",
   "metadata": {},
   "outputs": [],
   "source": [
    "# def solution(numbers):\n",
    "#     answer = 0\n",
    "#     for i in range(0, 10):\n",
    "#         if i not in numbers:\n",
    "#             answer += i\n",
    "#     return answer\n",
    "\n",
    "def solution(numbers):\n",
    "    answer = 45 - sum(numbers) # 0 ~ 9까지의 합(45)에서 numbers의 합을 빼기\n",
    "    return answer"
   ]
  },
  {
   "cell_type": "code",
   "execution_count": 35,
   "id": "5683ab35",
   "metadata": {},
   "outputs": [
    {
     "data": {
      "text/plain": [
       "14"
      ]
     },
     "execution_count": 35,
     "metadata": {},
     "output_type": "execute_result"
    },
    {
     "data": {
      "text/plain": [
       "6"
      ]
     },
     "execution_count": 35,
     "metadata": {},
     "output_type": "execute_result"
    }
   ],
   "source": [
    "numbers = [1, 2, 3, 4, 6, 7, 8, 0]\n",
    "solution(numbers)\n",
    "\n",
    "numbers = [5, 8, 4, 0, 6, 7, 9]\n",
    "solution(numbers)"
   ]
  },
  {
   "cell_type": "markdown",
   "id": "ea35bd9d",
   "metadata": {},
   "source": [
    "# 휴대폰 번호 가리기\n",
    "\n",
    "프로그래머스 모바일은 개인정보 보호를 위해 고지서를 보낼 때 고객들의 전화번호의 일부를 가린다\n",
    "\n",
    "전화번호가 문자열 phone_number로 주어졌을 때, 전화번호의 뒷 4자리를 제외한 나머지 숫자를 보두 *으로 가린 문자열을 return하는 함수 구현"
   ]
  },
  {
   "cell_type": "code",
   "execution_count": 36,
   "id": "c6cf50b4",
   "metadata": {},
   "outputs": [],
   "source": [
    "def solution(phone_number):\n",
    "    answer = ''\n",
    "    answer = '*' * (len(phone_number) - 4) + phone_number[-4:]\n",
    "    return answer"
   ]
  },
  {
   "cell_type": "code",
   "execution_count": 37,
   "id": "2e076505",
   "metadata": {},
   "outputs": [
    {
     "data": {
      "text/plain": [
       "'*******4444'"
      ]
     },
     "execution_count": 37,
     "metadata": {},
     "output_type": "execute_result"
    },
    {
     "data": {
      "text/plain": [
       "'******8888'"
      ]
     },
     "execution_count": 37,
     "metadata": {},
     "output_type": "execute_result"
    }
   ],
   "source": [
    "phone_number = '01033334444'\n",
    "solution(phone_number)\n",
    "\n",
    "phone_number = '0277778888'\n",
    "solution(phone_number)"
   ]
  },
  {
   "cell_type": "markdown",
   "id": "c60108c7",
   "metadata": {},
   "source": [
    "# 제일 작은 수 제거하기\n",
    "\n",
    "정수를 저장한 배열 arr에서 가장 작은 수를 제거한 배열을 return하는 함수 구현\n",
    "\n",
    "return하는 배열이 빈 배열인 경우 배열에 -1을 채워 return\n",
    "\n",
    "arr = [4, 3, 2, 1]인 경우 [4, 3, 2]를 return\n",
    "\n",
    "arr = [10]인 경우 [-1]을 return"
   ]
  },
  {
   "cell_type": "code",
   "execution_count": 69,
   "id": "54fe512a",
   "metadata": {},
   "outputs": [],
   "source": [
    "def solution(arr):\n",
    "    arr = sorted(arr, reverse = True)\n",
    "    answer = arr[:-1]\n",
    "    if len(answer) == 0:\n",
    "        answer = [-1]\n",
    "    return answer"
   ]
  },
  {
   "cell_type": "code",
   "execution_count": 70,
   "id": "eaef1ae3",
   "metadata": {},
   "outputs": [
    {
     "data": {
      "text/plain": [
       "[4, 3, 2]"
      ]
     },
     "execution_count": 70,
     "metadata": {},
     "output_type": "execute_result"
    },
    {
     "data": {
      "text/plain": [
       "[-1]"
      ]
     },
     "execution_count": 70,
     "metadata": {},
     "output_type": "execute_result"
    }
   ],
   "source": [
    "arr = [4, 3, 2, 1]\n",
    "solution(arr)\n",
    "\n",
    "arr = [10]\n",
    "solution(arr)"
   ]
  },
  {
   "cell_type": "markdown",
   "id": "f85c5fe2",
   "metadata": {},
   "source": [
    "# 내적\n",
    "\n",
    "길이가 같은 두 1차원 정수 배열 a, b가 매개변수로 주어진다. a와 b의 내적을 return하는 함수 구현"
   ]
  },
  {
   "cell_type": "code",
   "execution_count": 80,
   "id": "b568faa8",
   "metadata": {},
   "outputs": [],
   "source": [
    "def solution(a, b):\n",
    "    answer = 0\n",
    "    for i in range(len(a)):\n",
    "        answer += a[i] * b[i]\n",
    "    return answer"
   ]
  },
  {
   "cell_type": "code",
   "execution_count": 82,
   "id": "d7f33231",
   "metadata": {},
   "outputs": [
    {
     "data": {
      "text/plain": [
       "3"
      ]
     },
     "execution_count": 82,
     "metadata": {},
     "output_type": "execute_result"
    },
    {
     "data": {
      "text/plain": [
       "-2"
      ]
     },
     "execution_count": 82,
     "metadata": {},
     "output_type": "execute_result"
    }
   ],
   "source": [
    "a = [1, 2, 3, 4]\n",
    "b = [-3, -1, 0, 2]\n",
    "solution(a, b)\n",
    "\n",
    "a = [-1, 0, 1]\n",
    "b = [1, 0, -1]\n",
    "solution(a, b)"
   ]
  },
  {
   "cell_type": "markdown",
   "id": "5f89a4f9",
   "metadata": {},
   "source": [
    "# 가운데 글자 가져오기\n",
    "\n",
    "단어 s의 가운데 글자를 반환하는 함수를 구현\n",
    "\n",
    "단어의 길이가 짝수라면 가운데 두 글자를 반환"
   ]
  },
  {
   "cell_type": "code",
   "execution_count": 92,
   "id": "60dee4c2",
   "metadata": {},
   "outputs": [],
   "source": [
    "# def solution(s):\n",
    "#     answer = ''\n",
    "#     if len(s) % 2 == 0:\n",
    "#         answer = s[len(s) // 2 - 1 : len(s) // 2 + 1]\n",
    "#     else:\n",
    "#         answer = s[len(s) // 2]\n",
    "#     return answer\n",
    "\n",
    "def solution(s):\n",
    "    answer = ''\n",
    "    answer = s[(len(s)-1) // 2 : len(s) // 2 + 1]\n",
    "    return answer"
   ]
  },
  {
   "cell_type": "code",
   "execution_count": 93,
   "id": "1bd46ee7",
   "metadata": {},
   "outputs": [
    {
     "data": {
      "text/plain": [
       "'c'"
      ]
     },
     "execution_count": 93,
     "metadata": {},
     "output_type": "execute_result"
    },
    {
     "data": {
      "text/plain": [
       "'we'"
      ]
     },
     "execution_count": 93,
     "metadata": {},
     "output_type": "execute_result"
    }
   ],
   "source": [
    "s = 'abced'\n",
    "solution(s)\n",
    "\n",
    "s = 'qwer'\n",
    "solution(s)"
   ]
  },
  {
   "cell_type": "markdown",
   "id": "dfd30e18",
   "metadata": {},
   "source": [
    "# 수박수박수박수박수박수?\n",
    "\n",
    "길이가 n이고, 수박수박수박수..와 같은 패턴을 유지하는 문자열을 return하는 함수 구현\n",
    "\n",
    "예를 들어 n이 4이면 수박수박을 return하고 n이 3이면 수박수를 리턴"
   ]
  },
  {
   "cell_type": "code",
   "execution_count": 17,
   "id": "3cf0938b",
   "metadata": {},
   "outputs": [],
   "source": [
    "# def solution(n):\n",
    "#     answer = ''\n",
    "#     if n % 2 == 0:\n",
    "#         answer = '수박' * int(n // 2)\n",
    "#     else:\n",
    "#         answer = '수박' * int(n // 2) + '수'\n",
    "#     return answer\n",
    "\n",
    "def solution(n):\n",
    "    answer = '수박' * n\n",
    "    answer = answer[:n]\n",
    "    return answer"
   ]
  },
  {
   "cell_type": "code",
   "execution_count": 18,
   "id": "79c25596",
   "metadata": {},
   "outputs": [
    {
     "data": {
      "text/plain": [
       "'수박수'"
      ]
     },
     "execution_count": 18,
     "metadata": {},
     "output_type": "execute_result"
    },
    {
     "data": {
      "text/plain": [
       "'수박수박'"
      ]
     },
     "execution_count": 18,
     "metadata": {},
     "output_type": "execute_result"
    }
   ],
   "source": [
    "n = 3\n",
    "solution(n)\n",
    "\n",
    "n = 4\n",
    "solution(n)"
   ]
  },
  {
   "cell_type": "markdown",
   "id": "519ba654",
   "metadata": {},
   "source": [
    "# 약수의 개수와 덧셈\n",
    "\n",
    "두 정수 left와 right가 매개변수로 주어집니다. left부터 right까지의 모든 수들 중에서 약수의 개수가 짝수인 수는 더하고 약수의 개수가 홀수인 수는 뺀 수를 return하는 함수 구현"
   ]
  },
  {
   "cell_type": "code",
   "execution_count": 19,
   "id": "28766a98",
   "metadata": {},
   "outputs": [],
   "source": [
    "def solution(left, right):\n",
    "    answer = 0\n",
    "    for i in range(left, right + 1):\n",
    "        lst = [j for j in range(1, i + 1) if i % j == 0]\n",
    "        if len(lst) % 2 == 0:\n",
    "            answer += i\n",
    "        else:\n",
    "            answer -= i\n",
    "    return answer"
   ]
  },
  {
   "cell_type": "code",
   "execution_count": 21,
   "id": "f889ca27",
   "metadata": {},
   "outputs": [
    {
     "data": {
      "text/plain": [
       "43"
      ]
     },
     "execution_count": 21,
     "metadata": {},
     "output_type": "execute_result"
    },
    {
     "data": {
      "text/plain": [
       "52"
      ]
     },
     "execution_count": 21,
     "metadata": {},
     "output_type": "execute_result"
    }
   ],
   "source": [
    "left = 13; right = 17\n",
    "solution(left, right)\n",
    "\n",
    "left = 24; right = 27\n",
    "solution(left, right)"
   ]
  },
  {
   "cell_type": "markdown",
   "id": "6d5f38e0",
   "metadata": {},
   "source": [
    "# 문자열 내림차순으로 배치하기\n",
    "\n",
    "문자열 s에 나타나는 문자를 큰 것부터 작은 순으로 정렬해 새로운 문자열을 return하는 함수를 구현\n",
    "\n",
    "s는 영문 대소문자로만 구성, 대문자는 소문자보다 작은 것으로 간주"
   ]
  },
  {
   "cell_type": "code",
   "execution_count": 30,
   "id": "2e2cd364",
   "metadata": {},
   "outputs": [],
   "source": [
    "def solution(s):\n",
    "    answer = ''\n",
    "    answer = ''.join(sorted(s, reverse = True))\n",
    "    return answer"
   ]
  },
  {
   "cell_type": "code",
   "execution_count": 31,
   "id": "fd4f9c98",
   "metadata": {},
   "outputs": [
    {
     "data": {
      "text/plain": [
       "'gfedcbZ'"
      ]
     },
     "execution_count": 31,
     "metadata": {},
     "output_type": "execute_result"
    }
   ],
   "source": [
    "s = 'Zbcdefg'\n",
    "solution(s)"
   ]
  },
  {
   "cell_type": "markdown",
   "id": "ac57e88a",
   "metadata": {},
   "source": [
    "# 부족한 금액 계산하기\n",
    "\n",
    "새로 생긴 놀이기구는 인기가 많아 줄이 끊이질 않습니다. 이 놀이기구의 원래 이용료는 price원인데, 놀이기구를 N번 째 이용한다면 원래 이용료의 N배를 받기로 했습니다.\n",
    "\n",
    "즉 처음 이용료가 100원이었다면 2번재는 200, 3번째는 300원으로 요금이 인상됩니다\n",
    "\n",
    "놀이기구를 count번 타게 되면 현재 자신이 가지고 있는 금액에서 얼마가 모자라는지 return하는 함수 구현\n",
    "\n",
    "단, 금액이 부족하지 않으면 0을 return"
   ]
  },
  {
   "cell_type": "code",
   "execution_count": 4,
   "id": "d9db3f27",
   "metadata": {},
   "outputs": [],
   "source": [
    "def solution(price, money, count):\n",
    "    answer = 0\n",
    "    tot = 0\n",
    "    for i in range(1, count + 1):\n",
    "        tot = tot + (i * price)\n",
    "    if tot > money:\n",
    "        answer = tot - money\n",
    "    else:\n",
    "        answer = 0\n",
    "    return answer"
   ]
  },
  {
   "cell_type": "code",
   "execution_count": 2,
   "id": "59144ee3",
   "metadata": {},
   "outputs": [
    {
     "data": {
      "text/plain": [
       "10"
      ]
     },
     "execution_count": 2,
     "metadata": {},
     "output_type": "execute_result"
    }
   ],
   "source": [
    "price = 3\n",
    "money = 20\n",
    "count = 4\n",
    "solution(price, money, count)"
   ]
  },
  {
   "cell_type": "markdown",
   "id": "6e1ac417",
   "metadata": {},
   "source": [
    "# 문자열 다루기 기본\n",
    "\n",
    "문자열 s의 길이가 4 혹은 6이고, 숫자로만 구성돼있는지 확인해 주는 함수 구현\n",
    "\n",
    "예를 들어 s가 'a234'이면 False를 return하고 '1234'라면 True를 return"
   ]
  },
  {
   "cell_type": "code",
   "execution_count": 15,
   "id": "eec69557",
   "metadata": {},
   "outputs": [],
   "source": [
    "# def solution(s):\n",
    "#     answer = True\n",
    "#     if len(s) in [4, 6] and s.isdigit() == True:\n",
    "#         answer = True\n",
    "#     else:\n",
    "#         answer = False\n",
    "#     return answer\n",
    "\n",
    "def solution(s):\n",
    "    return s.isdigit() and len(s) in [4, 6] # 사실이면 True 아니면 False를 반환"
   ]
  },
  {
   "cell_type": "code",
   "execution_count": 16,
   "id": "b32e2f48",
   "metadata": {},
   "outputs": [
    {
     "data": {
      "text/plain": [
       "False"
      ]
     },
     "execution_count": 16,
     "metadata": {},
     "output_type": "execute_result"
    },
    {
     "data": {
      "text/plain": [
       "True"
      ]
     },
     "execution_count": 16,
     "metadata": {},
     "output_type": "execute_result"
    }
   ],
   "source": [
    "s = 'a1234'\n",
    "solution(s)\n",
    "\n",
    "s = '1234'\n",
    "solution(s)"
   ]
  },
  {
   "cell_type": "markdown",
   "id": "a1c16905",
   "metadata": {},
   "source": [
    "# 행렬의 덧셈\n",
    "\n",
    "행렬의 덧셈은 행과 열의 크기가 같은 두 행렬의 같은 행, 같은 열의 값을 서로 더한 결과이다\n",
    "\n",
    "2개의 행렬 arr1, arr2를 입력 받아 행렬 덧셈의 결과를 반환하는 함수 구현"
   ]
  },
  {
   "cell_type": "code",
   "execution_count": 75,
   "id": "f6fcc3f7",
   "metadata": {},
   "outputs": [],
   "source": [
    "# def solution(arr1, arr2):\n",
    "#     for i in range(len(arr1)):\n",
    "#         for j in range(len(arr1[0])):\n",
    "#             arr1[i][j] += arr2[i][j]\n",
    "#     return arr1\n",
    "\n",
    "# a : [1, 2], [2, 3], b : [3, 4], [5, 6]\n",
    "# c : 1, 2, 2, 3, d : 3, 4, 5, 6\n",
    "def solution(arr1, arr2):\n",
    "    answer =  [[c + d for c, d in zip(a, b)] for a, b in zip(arr1, arr2)]\n",
    "    return answer"
   ]
  },
  {
   "cell_type": "code",
   "execution_count": 74,
   "id": "4277a273",
   "metadata": {},
   "outputs": [
    {
     "data": {
      "text/plain": [
       "[[4, 6], [7, 9]]"
      ]
     },
     "execution_count": 74,
     "metadata": {},
     "output_type": "execute_result"
    }
   ],
   "source": [
    "arr1 = [[1, 2], [2, 3]]\n",
    "arr2 = [[3, 4], [5, 6]]\n",
    "solution(arr1, arr2)"
   ]
  },
  {
   "cell_type": "markdown",
   "id": "f466108a",
   "metadata": {},
   "source": [
    "# 직사각형 별찍기\n",
    "\n",
    "이 문제는 표준 입력으로 두 개의 정수 n과 m이 주어집니다.\n",
    "\n",
    "별(*) 문자를 이용해 가로의 길이가 n, 세로의 길이가 m인 직사각형 형태를 출력"
   ]
  },
  {
   "cell_type": "code",
   "execution_count": 83,
   "id": "40b6e3d3",
   "metadata": {},
   "outputs": [
    {
     "name": "stdout",
     "output_type": "stream",
     "text": [
      "5 3\n",
      "*****\n",
      "*****\n",
      "*****\n",
      "\n"
     ]
    }
   ],
   "source": [
    "a, b = map(int, input().strip().split(' '))\n",
    "\n",
    "# for i in range(1, b + 1):\n",
    "#     for j in range(1, a + 1):\n",
    "#         print('*', end = '')\n",
    "#     print('')\n",
    "\n",
    "answer = ('*' * a + '\\n') * b\n",
    "print(answer)"
   ]
  },
  {
   "cell_type": "markdown",
   "id": "6a079d64",
   "metadata": {},
   "source": [
    "# 최대공약수와 최소공배수\n",
    "\n",
    "두 수를 입력받아 두 수의 최대공약수와 최소공배수를 return하는 함수 구현\n",
    "\n",
    "배열의 맨 앞에 최대공약수, 그 다음 최소공배수를 넣어 return\n",
    "\n",
    "예를 들어 두 수 3, 12의 최대공약수는 3, 최소 공배수는 12이므로 [3, 12]를 return"
   ]
  },
  {
   "cell_type": "code",
   "execution_count": 94,
   "id": "350aebfe",
   "metadata": {},
   "outputs": [],
   "source": [
    "def solution(n, m):\n",
    "    answer = []\n",
    "    \n",
    "    # 최대공약수 구하기\n",
    "    for i in range(min(n, m), 0, -1):\n",
    "        if (n % i == 0) and (m % i == 0):\n",
    "            answer.append(i)\n",
    "            break\n",
    "    \n",
    "    # 최소 공배수 구하기\n",
    "    for j in range(max(n, m), (n * m) + 1):\n",
    "        if (j % n == 0) and (j % m == 0):\n",
    "            answer.append(j)\n",
    "            break\n",
    "    \n",
    "    return answer"
   ]
  },
  {
   "cell_type": "code",
   "execution_count": 95,
   "id": "f4cff65b",
   "metadata": {},
   "outputs": [
    {
     "data": {
      "text/plain": [
       "[3, 12]"
      ]
     },
     "execution_count": 95,
     "metadata": {},
     "output_type": "execute_result"
    }
   ],
   "source": [
    "n = 3\n",
    "m = 12\n",
    "solution(n, m)"
   ]
  },
  {
   "cell_type": "markdown",
   "id": "d574f364",
   "metadata": {},
   "source": [
    "# 같은 숫자는 싫어"
   ]
  },
  {
   "cell_type": "markdown",
   "id": "32b97c66",
   "metadata": {},
   "source": [
    "배열 arr가 있다\n",
    "\n",
    "배열 arr의 각 원소는 숫자 0부터 9까지이다. \n",
    "\n",
    "이때, 배열 arr에서 연속적으로 나타나는 숫자는 하나만 남기고 전부 제거(단, 제거된 후 남은 수들을 반환할 때는 배열 arr의 원소들의 순서를 유지)\n",
    "\n",
    "ex) arr = [1, 1, 3, 3, 0, 1, 1] -> [1, 3, 0, 1]"
   ]
  },
  {
   "cell_type": "code",
   "execution_count": 31,
   "id": "4b41f986",
   "metadata": {
    "ExecuteTime": {
     "end_time": "2024-03-26T06:10:23.962632Z",
     "start_time": "2024-03-26T06:10:23.959640Z"
    }
   },
   "outputs": [],
   "source": [
    "def solution(arr):\n",
    "    answer = []\n",
    "   \n",
    "    for i in arr:\n",
    "        if i not in answer or i != answer[-1]:\n",
    "            answer.append(i)\n",
    "        \n",
    "    return answer"
   ]
  },
  {
   "cell_type": "code",
   "execution_count": 32,
   "id": "94cf5d31",
   "metadata": {
    "ExecuteTime": {
     "end_time": "2024-03-26T06:10:28.197312Z",
     "start_time": "2024-03-26T06:10:28.192636Z"
    }
   },
   "outputs": [
    {
     "data": {
      "text/plain": [
       "[1, 3, 0, 1]"
      ]
     },
     "execution_count": 32,
     "metadata": {},
     "output_type": "execute_result"
    },
    {
     "data": {
      "text/plain": [
       "[4, 3]"
      ]
     },
     "execution_count": 32,
     "metadata": {},
     "output_type": "execute_result"
    }
   ],
   "source": [
    "arr = [1, 1, 3, 3, 0, 1, 1]\n",
    "solution(arr)\n",
    "\n",
    "arr = [4, 4, 4, 3, 3]\n",
    "solution(arr)"
   ]
  },
  {
   "cell_type": "markdown",
   "id": "9fadd9bb",
   "metadata": {},
   "source": [
    "# 3진법 뒤집기"
   ]
  },
  {
   "cell_type": "markdown",
   "id": "6a9f25d9",
   "metadata": {},
   "source": [
    "자연수 n이 매개변수로 주어진다\n",
    "\n",
    "n을 3진법 상에서 앞뒤로 뒤집은 후, 이를 다시 10진법으로 표현한 수를 return\n",
    "\n",
    "ex) n = 45, result = 7\n",
    "\n",
    "45 -> 1200 -> 0021 -> 7"
   ]
  },
  {
   "cell_type": "code",
   "execution_count": 58,
   "id": "fe1be27a",
   "metadata": {
    "ExecuteTime": {
     "end_time": "2024-03-26T06:25:09.200624Z",
     "start_time": "2024-03-26T06:25:09.196959Z"
    }
   },
   "outputs": [],
   "source": [
    "def solution(n):\n",
    "    answer = 0\n",
    "    ternary = ''\n",
    "    \n",
    "    # 3진수 만들기\n",
    "    while n > 0:\n",
    "        res = n % 3\n",
    "        ternary = str(res) + ternary\n",
    "        n //= 3\n",
    "#     ternary = ternary[::-1]\n",
    "    \n",
    "    # 10진수로 변경하기\n",
    "    for i in range(len(ternary)):\n",
    "        answer += int(ternary[i]) * (3 ** i)\n",
    "        \n",
    "    return answer"
   ]
  },
  {
   "cell_type": "code",
   "execution_count": 66,
   "id": "eb222b3d",
   "metadata": {
    "ExecuteTime": {
     "end_time": "2024-03-26T06:27:20.285191Z",
     "start_time": "2024-03-26T06:27:20.282614Z"
    }
   },
   "outputs": [],
   "source": [
    "def solution(n):\n",
    "    tmp = ''\n",
    "    \n",
    "    while n:\n",
    "        tmp += str(n % 3)\n",
    "        n //= 3\n",
    "        \n",
    "    answer = int(tmp, 3)\n",
    "    return answer"
   ]
  },
  {
   "cell_type": "code",
   "execution_count": 67,
   "id": "afcb506c",
   "metadata": {
    "ExecuteTime": {
     "end_time": "2024-03-26T06:27:22.011032Z",
     "start_time": "2024-03-26T06:27:22.007638Z"
    }
   },
   "outputs": [
    {
     "data": {
      "text/plain": [
       "7"
      ]
     },
     "execution_count": 67,
     "metadata": {},
     "output_type": "execute_result"
    }
   ],
   "source": [
    "n = 45\n",
    "solution(n)"
   ]
  },
  {
   "cell_type": "markdown",
   "id": "66b6e336",
   "metadata": {},
   "source": [
    "# 예산"
   ]
  },
  {
   "cell_type": "markdown",
   "id": "7d02db23",
   "metadata": {
    "ExecuteTime": {
     "end_time": "2024-03-26T06:31:31.158050Z",
     "start_time": "2024-03-26T06:31:31.153925Z"
    }
   },
   "source": [
    "S사에서는 각 부서에 필요한 물품을 지원해 주기 위해 부서별로 물품을 구매하는데 필요한 금액을 조사했다\n",
    "\n",
    "그러나 전체 예산이 정해져 있기 대문에 모든 부서의 물품을 구매해 줄 수는 없다\n",
    "\n",
    "그래서 최대한 많은 부서의 물품을 구매할 수 있도록 하려고 한다\n",
    "\n",
    "물품을 구매해 줄 때는 각 부서가 신청한 금액만큼을 모두 지원해 줘야 한다\n",
    "\n",
    "예를 들어 1,000원을 신청한 부서에서는 정확히 1,000원을 지원해야 하며 1,000보다 적은 금액을 지원해 줄 수는 없다\n",
    "\n",
    "부서별로 신청한 금액이 들어있는 배열 d와 예산 budget이 매개변수로 주어질 때, 최대 몇 개의 부서에 물품을 지원할 수 있는지 return\n",
    "\n",
    "ex) d = [1, 3, 2, 5, 4], budget = 9, result = 3"
   ]
  },
  {
   "cell_type": "code",
   "execution_count": 96,
   "id": "b86d9385",
   "metadata": {
    "ExecuteTime": {
     "end_time": "2024-03-26T06:52:36.976192Z",
     "start_time": "2024-03-26T06:52:36.972692Z"
    }
   },
   "outputs": [],
   "source": [
    "def solution(d, budget):\n",
    "    answer = 0\n",
    "    \n",
    "    d.sort()\n",
    "    \n",
    "    for i in range(len(d)):\n",
    "        if d[i] <= budget:\n",
    "            answer += 1\n",
    "            budget -= d[i]\n",
    "        else:\n",
    "            break\n",
    "    return answer"
   ]
  },
  {
   "cell_type": "code",
   "execution_count": 97,
   "id": "2091ee41",
   "metadata": {
    "ExecuteTime": {
     "end_time": "2024-03-26T06:52:39.218818Z",
     "start_time": "2024-03-26T06:52:39.213731Z"
    }
   },
   "outputs": [
    {
     "data": {
      "text/plain": [
       "3"
      ]
     },
     "execution_count": 97,
     "metadata": {},
     "output_type": "execute_result"
    },
    {
     "data": {
      "text/plain": [
       "4"
      ]
     },
     "execution_count": 97,
     "metadata": {},
     "output_type": "execute_result"
    }
   ],
   "source": [
    "d = [1, 3, 2, 5, 4]\n",
    "budget = 9\n",
    "solution(d, budget)\n",
    "\n",
    "d = [2, 2, 3, 3]\n",
    "budget = 10\n",
    "solution(d, budget)"
   ]
  },
  {
   "cell_type": "markdown",
   "id": "a8112015",
   "metadata": {},
   "source": [
    "# 이상한 문자 만들기"
   ]
  },
  {
   "cell_type": "markdown",
   "id": "c3225ee8",
   "metadata": {},
   "source": [
    "문자열 s는 한 개 이상의 단어로 구성\n",
    "\n",
    "각 단어는 하나 이상의 공백문자로 구분되어 있다\n",
    "\n",
    "각 단어의 짝수번째 알파벳은 대문자로, 홀수번째 알파벳은 소문자로 바꾼 문자열을 return\n",
    "\n",
    "문자열 전체의 짝/홀수 인덱스가 아니라, 단어(공백을 기준)별로 짝/홀수 인덱스를 판단해야합니다.\n",
    "\n",
    "ex) s = 'try hello world' -> 'TrY HeLlO WoRlD'"
   ]
  },
  {
   "cell_type": "code",
   "execution_count": 127,
   "id": "f136a50e",
   "metadata": {
    "ExecuteTime": {
     "end_time": "2024-03-26T07:07:08.597531Z",
     "start_time": "2024-03-26T07:07:08.594562Z"
    }
   },
   "outputs": [],
   "source": [
    "def solution(s):\n",
    "    answer = ''\n",
    "    for str in s.split(' '):\n",
    "        for i in range(len(str)):\n",
    "            if i % 2 ==0 :\n",
    "                answer += str[i].upper()\n",
    "            else:\n",
    "                answer += str[i].lower()\n",
    "        answer += ' '\n",
    "    \n",
    "    answer = answer[:-1]\n",
    "    return answer"
   ]
  },
  {
   "cell_type": "code",
   "execution_count": 128,
   "id": "96fd50c4",
   "metadata": {
    "ExecuteTime": {
     "end_time": "2024-03-26T07:07:09.461933Z",
     "start_time": "2024-03-26T07:07:09.458619Z"
    }
   },
   "outputs": [
    {
     "data": {
      "text/plain": [
       "'TrY HeLlO WoRlD'"
      ]
     },
     "execution_count": 128,
     "metadata": {},
     "output_type": "execute_result"
    }
   ],
   "source": [
    "s = 'try hello world'\n",
    "solution(s)"
   ]
  },
  {
   "cell_type": "markdown",
   "id": "c08f30ee",
   "metadata": {},
   "source": [
    "# 크기가 작은 부분 문자열"
   ]
  },
  {
   "cell_type": "markdown",
   "id": "91d5a4ed",
   "metadata": {},
   "source": [
    "숫자로 이루어진 문자열 t, p가 주어질 때 t에서 p와 길이가 같은 부분 문자열 중에서, 이 부분 문자열이 나타내는 수가 p가 나타내는 수보다 작거나 같은 것이 나오는 횟수를 return\n",
    "\n",
    "ex) t = '3141592'이고, p = '271'인 경우 t의 길이가 3인 부분 문자열은 314, 141, 415, 152, 592이다. 이 문자열이 나타내는 수 중 271보다 작거나 같은 수는 141, 152 2개이다"
   ]
  },
  {
   "cell_type": "code",
   "execution_count": 137,
   "id": "cef29351",
   "metadata": {
    "ExecuteTime": {
     "end_time": "2024-03-26T07:15:41.058932Z",
     "start_time": "2024-03-26T07:15:41.055299Z"
    }
   },
   "outputs": [],
   "source": [
    "def solution(t, p):\n",
    "    answer = 0\n",
    "    res = []\n",
    "    \n",
    "    for i in range(len(t) - len(p) + 1):\n",
    "        res.append(t[i:i+len(p)])\n",
    "        if len(t[i:i+len(p)]) != len(p):\n",
    "            break\n",
    "    \n",
    "    for i in res:\n",
    "        if int(i) <= int(p):\n",
    "            answer += 1\n",
    "            \n",
    "    return answer"
   ]
  },
  {
   "cell_type": "code",
   "execution_count": 139,
   "id": "f55631e0",
   "metadata": {
    "ExecuteTime": {
     "end_time": "2024-03-26T07:17:38.454137Z",
     "start_time": "2024-03-26T07:17:38.450686Z"
    }
   },
   "outputs": [],
   "source": [
    "def solution(t, p):\n",
    "    answer = 0\n",
    "    \n",
    "    for i in range(len(t) - len(p) + 1):\n",
    "        if int(p) >= int(t[i:i+len(p)]):\n",
    "            answer += 1\n",
    "            \n",
    "    return answer"
   ]
  },
  {
   "cell_type": "code",
   "execution_count": 140,
   "id": "d9d6de25",
   "metadata": {
    "ExecuteTime": {
     "end_time": "2024-03-26T07:17:39.374343Z",
     "start_time": "2024-03-26T07:17:39.369245Z"
    }
   },
   "outputs": [
    {
     "data": {
      "text/plain": [
       "2"
      ]
     },
     "execution_count": 140,
     "metadata": {},
     "output_type": "execute_result"
    },
    {
     "data": {
      "text/plain": [
       "8"
      ]
     },
     "execution_count": 140,
     "metadata": {},
     "output_type": "execute_result"
    }
   ],
   "source": [
    "t = '3141592'\n",
    "p = '271'\n",
    "solution(t, p)\n",
    "\n",
    "t = '500220839878'\n",
    "p = '7'\n",
    "solution(t, p)"
   ]
  },
  {
   "cell_type": "markdown",
   "id": "0c6c3f02",
   "metadata": {},
   "source": [
    "# 삼총사"
   ]
  },
  {
   "cell_type": "markdown",
   "id": "99d724d9",
   "metadata": {},
   "source": [
    "한국중학교에 다니는 학생들은 각자 정수 번호를 갖고있다\n",
    "\n",
    "이 학교 학생 3명의 정수 번호를 더했을 때 0이 되면 3명의 학생은 삼총사라고 한다\n",
    "\n",
    "예를 들어, 5명의 학생이 있고 각각의 정수 번호가 순서대로 -2, 3, 0, 2, -5일 때 첫 번째, 세번째, 네 번째 학생의 정수 번호를 더하면 0이므로 세 학생은 삼총사이다\n",
    "\n",
    "또한 두 번째, 네 번째, 다섯 번째 학생의 정수 번호를 더해도 0이므로 세 학생도 삼총사이다\n",
    "\n",
    "따라서 이 경우 한국중 학교에서는 두 가지 방법으로 삼총사를 만들 수 있다\n",
    "\n",
    "한국중학교 학생들의 번호를 나타내는 정수 배열 number가 매개변수로 주어질 때, 학생들 중 삼총사를 만들 수 있는 방법의 수를 return"
   ]
  },
  {
   "cell_type": "code",
   "execution_count": 185,
   "id": "4e619411",
   "metadata": {
    "ExecuteTime": {
     "end_time": "2024-03-26T07:39:04.559497Z",
     "start_time": "2024-03-26T07:39:04.555887Z"
    }
   },
   "outputs": [],
   "source": [
    "def solution(number):\n",
    "    answer = 0\n",
    "    res = []\n",
    "    n = len(number)\n",
    "\n",
    "    for i in range(n):\n",
    "        for j in range(i + 1, n):\n",
    "            for k in range(j + 1, n):\n",
    "                res.append([number[i], number[j], number[k]])\n",
    "\n",
    "    for num in res:\n",
    "        s = 0\n",
    "        for i in num:\n",
    "            s += int(i)\n",
    "        if s == 0:\n",
    "            answer += 1\n",
    "    \n",
    "    return answer"
   ]
  },
  {
   "cell_type": "code",
   "execution_count": 206,
   "id": "9111b7c0",
   "metadata": {
    "ExecuteTime": {
     "end_time": "2024-03-26T07:48:17.584778Z",
     "start_time": "2024-03-26T07:48:17.581909Z"
    }
   },
   "outputs": [],
   "source": [
    "def solution(number):\n",
    "    answer = 0\n",
    "    res = []\n",
    "    n = len(number)\n",
    "\n",
    "    for i in range(n):\n",
    "        for j in range(i + 1, n):\n",
    "            for k in range(j + 1, n):\n",
    "                if number[i] + number[j] + number[k] == 0:\n",
    "                    answer += 1\n",
    "    return answer"
   ]
  },
  {
   "cell_type": "code",
   "execution_count": 207,
   "id": "89dbec45",
   "metadata": {
    "ExecuteTime": {
     "end_time": "2024-03-26T07:48:18.439552Z",
     "start_time": "2024-03-26T07:48:18.435767Z"
    }
   },
   "outputs": [
    {
     "data": {
      "text/plain": [
       "2"
      ]
     },
     "execution_count": 207,
     "metadata": {},
     "output_type": "execute_result"
    },
    {
     "data": {
      "text/plain": [
       "5"
      ]
     },
     "execution_count": 207,
     "metadata": {},
     "output_type": "execute_result"
    }
   ],
   "source": [
    "number = [-2, 3, 0, 2, -5]\n",
    "solution(number)\n",
    "\n",
    "number = [-3, -2, -1, 0, 1, 2, 3]\n",
    "solution(number)"
   ]
  },
  {
   "cell_type": "markdown",
   "id": "eb4c5bca",
   "metadata": {},
   "source": [
    "# 최소직사각형"
   ]
  },
  {
   "cell_type": "markdown",
   "id": "7b6a2d30",
   "metadata": {},
   "source": [
    "명합 지갑을 만드는 회사에서 지갑의 크기를 정하려고한다\n",
    "\n",
    "다양한 모양과 크기의 명함들을 모두 수납할 수 있으면서, 작아서 들고 다니기 편한 지갑을 만들어야 한다\n",
    "\n",
    "이러한 요건을 만족하는 지갑을 만들기 위해 디잔인팀은 모든 명함의 가로 길이와 세로 길이를 조사했다\n",
    "\n",
    "아래는 4가지 명함의 가로 길이와 세로 길이를 나타낸다\n",
    "\n",
    "명함번호, 가로길이, 세로 길기\n",
    "\n",
    "1, 60, 50\n",
    "\n",
    "2, 30, 70\n",
    "\n",
    "3, 60, 30\n",
    "\n",
    "4, 80, 40\n",
    "\n",
    "가장 긴 가로 길이와 세로 길이가 각각 80, 70이기 때문에 80 x 70크기의 지갑을 만들면 모든 명함들을 수납할 수 있다. 하지만 2번 명함을 가로로 눕혀 수납하면 80 x 50 크기의 지갑으로 모든 명함들을 수납할 수 있다.\n",
    "\n",
    "아때 지갑 크기는 4000이다"
   ]
  },
  {
   "cell_type": "code",
   "execution_count": 221,
   "id": "72ff3039",
   "metadata": {
    "ExecuteTime": {
     "end_time": "2024-03-26T08:09:33.737651Z",
     "start_time": "2024-03-26T08:09:33.734893Z"
    }
   },
   "outputs": [],
   "source": [
    "def solution(sizes):\n",
    "    answer = 0\n",
    "    w = []\n",
    "    h = []\n",
    "\n",
    "    for size in sizes:\n",
    "        if size[0] > size[1]:\n",
    "            w.append(size[0])\n",
    "            h.append(size[1])\n",
    "        else:\n",
    "            w.append(size[1])\n",
    "            h.append(size[0])\n",
    "    \n",
    "    answer += (max(w) * max(h))\n",
    "    return answer"
   ]
  },
  {
   "cell_type": "code",
   "execution_count": 222,
   "id": "b9692a3a",
   "metadata": {
    "ExecuteTime": {
     "end_time": "2024-03-26T08:09:36.021706Z",
     "start_time": "2024-03-26T08:09:36.016881Z"
    }
   },
   "outputs": [
    {
     "data": {
      "text/plain": [
       "4000"
      ]
     },
     "execution_count": 222,
     "metadata": {},
     "output_type": "execute_result"
    },
    {
     "data": {
      "text/plain": [
       "120"
      ]
     },
     "execution_count": 222,
     "metadata": {},
     "output_type": "execute_result"
    }
   ],
   "source": [
    "sizes = [[60, 50], [30, 70], [60, 30], [80, 40]]\n",
    "solution(sizes)\n",
    "\n",
    "sizes = [[10, 7], [12, 3], [8, 15], [14, 7], [5, 15]]\n",
    "solution(sizes)"
   ]
  },
  {
   "cell_type": "markdown",
   "id": "7baf2790",
   "metadata": {},
   "source": [
    "# 시저 암호"
   ]
  },
  {
   "cell_type": "markdown",
   "id": "33a77457",
   "metadata": {},
   "source": [
    "어떤 문장의 각 알파벳을 일정한 거리만큼 밀어서 다른 알파벳으로 바꾸는 암호화 방식을 시저 암호라고 한다\n",
    "\n",
    "예를 들어 'AB'는 1만큼 밀면 'BC', 3만큼 밀면 'DE'가 된다\n",
    "\n",
    "'z'는 1만큼 밀면 'a'가 된다\n",
    "\n",
    "문자열 s와 거리 n을 입력받아 s를 n만큼 민 암호문을 만드는 함수 구현"
   ]
  },
  {
   "cell_type": "code",
   "execution_count": 247,
   "id": "ba678e20",
   "metadata": {
    "ExecuteTime": {
     "end_time": "2024-03-26T08:25:35.582621Z",
     "start_time": "2024-03-26T08:25:35.578555Z"
    }
   },
   "outputs": [],
   "source": [
    "def solution(s, n):\n",
    "    s = list(s)\n",
    "    \n",
    "    for i in range(len(s)):\n",
    "        if s[i].isupper():\n",
    "            s[i] = chr((ord(s[i]) - ord('A') +n) % 26 + ord('A'))\n",
    "        elif s[i].islower():\n",
    "            s[i] = chr((ord(s[i]) - ord('a') +n) % 26 + ord('a'))\n",
    "            \n",
    "    return ''.join(s)"
   ]
  },
  {
   "cell_type": "code",
   "execution_count": 248,
   "id": "a8caeb24",
   "metadata": {
    "ExecuteTime": {
     "end_time": "2024-03-26T08:25:36.373076Z",
     "start_time": "2024-03-26T08:25:36.367179Z"
    }
   },
   "outputs": [
    {
     "data": {
      "text/plain": [
       "'BC'"
      ]
     },
     "execution_count": 248,
     "metadata": {},
     "output_type": "execute_result"
    },
    {
     "data": {
      "text/plain": [
       "'a'"
      ]
     },
     "execution_count": 248,
     "metadata": {},
     "output_type": "execute_result"
    },
    {
     "data": {
      "text/plain": [
       "'e F d'"
      ]
     },
     "execution_count": 248,
     "metadata": {},
     "output_type": "execute_result"
    }
   ],
   "source": [
    "s = 'AB'\n",
    "n = 1\n",
    "solution(s, n)\n",
    "\n",
    "s = 'z'\n",
    "n = 1\n",
    "solution(s, n)\n",
    "\n",
    "s = 'a B z'\n",
    "n = 4\n",
    "solution(s, n)"
   ]
  },
  {
   "cell_type": "markdown",
   "id": "70727dcf",
   "metadata": {},
   "source": [
    "# 가장 가까운 같은 글자"
   ]
  },
  {
   "cell_type": "markdown",
   "id": "d5746daf",
   "metadata": {},
   "source": [
    "문자열 s가 주어졌을 때, s의 각 위치마다 자신보다 앞에 나왔으면서, 자신과 가장 가까운 곳에 있는 같은 글자가 어디 있는지 알고 싶다\n",
    "\n",
    "예를 들어 s = 'banana'라고할 때, 각 글자들을 왼쪽부터 오른쪽으로 읽어 나가면서 다음과 같이 진행할 수 있다\n",
    "\n",
    "    - b는 처름 나왔기 때문의 자신의 앞에 같은 글자가 없다 이는 -1로 표현\n",
    "    \n",
    "    - a는 처음 나왔기 때문에 자신의 앞에 같은 글자가 없다 이는 -1로 표현\n",
    "    \n",
    "    - n은 처은 나왔기 때문에 자신의 앞에 같은 글자가 없다 이는 -1로 표현\n",
    "    \n",
    "    - a는 자신보다 두 칸 앞에 a가 있다 이는 2로 표현\n",
    "    \n",
    "    - n도 자신보다 두 칸 앞에 n 이 있다 이는 2로 표현\n",
    "    \n",
    "    - a는 자신보다 두칸, 네 칸 앞에 a가 있다 이 중 가까운 것은 두 칸 앞이므로 2로 표현\n",
    "    \n",
    "    즉, [-1, -1, -1, 2, 2, 2]가 된다"
   ]
  },
  {
   "cell_type": "code",
   "execution_count": 71,
   "id": "7485bddf",
   "metadata": {
    "ExecuteTime": {
     "end_time": "2024-03-27T06:02:12.110834Z",
     "start_time": "2024-03-27T06:02:12.107534Z"
    }
   },
   "outputs": [],
   "source": [
    "def solution(s):\n",
    "    answer = []\n",
    "    str_lst = []\n",
    "    \n",
    "    for i in range(len(s)):\n",
    "        if s[i] not in str_lst:\n",
    "            str_lst.append(s[i])\n",
    "            answer.append(-1)\n",
    "        else:\n",
    "            answer.append(str_lst[::-1].index(s[i]) + 1)\n",
    "            str_lst.append(s[i])\n",
    "    return answer"
   ]
  },
  {
   "cell_type": "code",
   "execution_count": 72,
   "id": "3d4eab5e",
   "metadata": {
    "ExecuteTime": {
     "end_time": "2024-03-27T06:02:13.433688Z",
     "start_time": "2024-03-27T06:02:13.429812Z"
    }
   },
   "outputs": [
    {
     "data": {
      "text/plain": [
       "[-1, -1, -1, 2, 2, 2]"
      ]
     },
     "execution_count": 72,
     "metadata": {},
     "output_type": "execute_result"
    },
    {
     "data": {
      "text/plain": [
       "[-1, -1, 1, -1, -1, -1]"
      ]
     },
     "execution_count": 72,
     "metadata": {},
     "output_type": "execute_result"
    }
   ],
   "source": [
    "s = 'banana'\n",
    "solution(s)\n",
    "\n",
    "s = 'foobar'\n",
    "solution(s)"
   ]
  },
  {
   "cell_type": "markdown",
   "id": "d52672fb",
   "metadata": {},
   "source": [
    "# 숫자 문자열과 영단어"
   ]
  },
  {
   "cell_type": "markdown",
   "id": "1e55a0a5",
   "metadata": {},
   "source": [
    "네오와 프로도가 숫자놀이를 하고 있다\n",
    "\n",
    "네오가 프로도에게 숫자를 건넬 때 일부 자릿수를 영단어로 바꾼 카드를 건네주면 프로도는 원래 숫자를 찾는 게임이다\n",
    "\n",
    "다음은 숫자의 일부 자릿수를 영단어로 바꾸는 예시이다\n",
    "\n",
    "1478 -> 'one4seveneight'\n",
    "\n",
    "234567 -> '23four5six6'\n",
    "\n",
    "10203 -> '1zerotwozero3'\n",
    "\n",
    "이렇게 숫자의 일부 자릿수가 영단어로 바뀌어졌거나, 혹은 바뀌지 않고 그대로인 문자열 s가 매개변수로 주어진다\n",
    "\n",
    "s가 의미하는 원래 숫자를 return하도록 함수 구현"
   ]
  },
  {
   "cell_type": "code",
   "execution_count": 184,
   "id": "93e4abcb",
   "metadata": {
    "ExecuteTime": {
     "end_time": "2024-03-27T06:57:24.804310Z",
     "start_time": "2024-03-27T06:57:24.798904Z"
    }
   },
   "outputs": [],
   "source": [
    "def solution(s):\n",
    "    answer = ''\n",
    "    dic = { 'zero' : '0',\n",
    "               'one' : '1',\n",
    "               'two' : '2',\n",
    "              'three' : '3',\n",
    "              'four' : '4', \n",
    "              'five' : '5',\n",
    "               'six' : '6',\n",
    "              'seven' : '7',\n",
    "               'eight' : '8', \n",
    "               'nine' : '9'}\n",
    "    i = 0\n",
    "\n",
    "    while i < len(s):\n",
    "\n",
    "        if s[:i + 1] in dic.keys():\n",
    "            answer += dic[s[:i + 1]]\n",
    "            s = s[i + 1:]\n",
    "            i = 0\n",
    "        elif s[i] in dic.values():\n",
    "            answer += s[i]\n",
    "            s = s[i + 1 :]\n",
    "            i = 0\n",
    "        else:\n",
    "            i += 1\n",
    "            \n",
    "    answer = int(answer)\n",
    "    return answer"
   ]
  },
  {
   "cell_type": "code",
   "execution_count": 186,
   "id": "568191ef",
   "metadata": {
    "ExecuteTime": {
     "end_time": "2024-03-27T06:58:43.727906Z",
     "start_time": "2024-03-27T06:58:43.724252Z"
    }
   },
   "outputs": [],
   "source": [
    "dic = { 'zero' : '0',\n",
    "           'one' : '1',\n",
    "           'two' : '2',\n",
    "          'three' : '3',\n",
    "          'four' : '4', \n",
    "          'five' : '5',\n",
    "           'six' : '6',\n",
    "          'seven' : '7',\n",
    "           'eight' : '8', \n",
    "           'nine' : '9'}\n",
    "\n",
    "def solution(s):\n",
    "    answer = s\n",
    "    \n",
    "    for key, value in dic.items():\n",
    "        answer = answer.replace(key, value)\n",
    "        \n",
    "    answer = int(answer)\n",
    "    \n",
    "    return answer"
   ]
  },
  {
   "cell_type": "code",
   "execution_count": 187,
   "id": "9e617b39",
   "metadata": {
    "ExecuteTime": {
     "end_time": "2024-03-27T06:58:44.708233Z",
     "start_time": "2024-03-27T06:58:44.701506Z"
    }
   },
   "outputs": [
    {
     "data": {
      "text/plain": [
       "1478"
      ]
     },
     "execution_count": 187,
     "metadata": {},
     "output_type": "execute_result"
    },
    {
     "data": {
      "text/plain": [
       "234567"
      ]
     },
     "execution_count": 187,
     "metadata": {},
     "output_type": "execute_result"
    },
    {
     "data": {
      "text/plain": [
       "234567"
      ]
     },
     "execution_count": 187,
     "metadata": {},
     "output_type": "execute_result"
    },
    {
     "data": {
      "text/plain": [
       "123"
      ]
     },
     "execution_count": 187,
     "metadata": {},
     "output_type": "execute_result"
    }
   ],
   "source": [
    "s = 'one4seveneight'\n",
    "solution(s)\n",
    "\n",
    "s = '23four5six7'\n",
    "solution(s)\n",
    "\n",
    "s = '2three45sixseven'\n",
    "solution(s)\n",
    "\n",
    "s = '123'\n",
    "solution(s)"
   ]
  },
  {
   "cell_type": "markdown",
   "id": "c48473fa",
   "metadata": {},
   "source": [
    "# K 번째 수"
   ]
  },
  {
   "cell_type": "markdown",
   "id": "c506bdb2",
   "metadata": {},
   "source": [
    "배열 array의 i번째 숫자부터 j번째 숫자까지 자르고 정렬했을 때, k번째에 있는 수를 구하려 한다\n",
    "\n",
    "예를 들어 array가 [1, 5, 2, 6, 3, 7, 4], i = 2, j = 5, k = 3이라면\n",
    "\n",
    "    1. array의 2번째부터 5번째까지 자르면 [5, 2, 6, 3]이다\n",
    "    \n",
    "    2. 1에서 나온 배열을 정렬하면 [2, 3, 5, 6]이다\n",
    "    \n",
    "    3. 2에서 나온 배열의 3번째 숫자는 5이다\n",
    "   \n",
    "배열 array, [i, j, k]를 원소로 가진 2차원 배열 commands가 매개변수로 주어질 때, commands의 모든 원소에 대해 앞서 설명한 연산을 적용했을 때 나온 결과를 배열에 담아 return"
   ]
  },
  {
   "cell_type": "code",
   "execution_count": 18,
   "id": "a4d10f4d",
   "metadata": {
    "ExecuteTime": {
     "end_time": "2024-04-02T00:57:55.270711Z",
     "start_time": "2024-04-02T00:57:55.266200Z"
    }
   },
   "outputs": [],
   "source": [
    "def solution(array, commands):\n",
    "    answer = []\n",
    "    \n",
    "    for ind in commands:\n",
    "        i = ind[0]\n",
    "        j = ind[1]\n",
    "        k = ind[2]\n",
    "        \n",
    "        lst = array[i - 1: j]\n",
    "        lst.sort()\n",
    "        answer.append(lst[k - 1])\n",
    "    return answer"
   ]
  },
  {
   "cell_type": "code",
   "execution_count": 19,
   "id": "e5f574a9",
   "metadata": {
    "ExecuteTime": {
     "end_time": "2024-04-02T00:57:56.801916Z",
     "start_time": "2024-04-02T00:57:56.794181Z"
    }
   },
   "outputs": [
    {
     "data": {
      "text/plain": [
       "[5, 6, 3]"
      ]
     },
     "execution_count": 19,
     "metadata": {},
     "output_type": "execute_result"
    }
   ],
   "source": [
    "array = [1, 5, 2, 6, 3, 7, 4]\n",
    "commands = [[2, 5, 3], [4, 4, 1], [1, 7, 3]]\n",
    "solution(array, commands)"
   ]
  },
  {
   "cell_type": "markdown",
   "id": "43273671",
   "metadata": {},
   "source": [
    "# 두 개 뽑아서 더하기"
   ]
  },
  {
   "cell_type": "markdown",
   "id": "345b1d54",
   "metadata": {},
   "source": [
    "정수 배열 numbers가 주어진다\n",
    "\n",
    "numbers에서 서로 다른 인덱스에 있는 두 개의 수를 뽑아 더해서 만들 수 있는 모든 수를 배열에 오름차순으로 담아 return하도록 함수 구현\n",
    "\n",
    "ex) numbers = [2, 1, 3, 4, 1]\n",
    "\n",
    "    2 = 1 + 1(numbers에 두개 존재)\n",
    "    \n",
    "    3 = 2 + 1\n",
    "    \n",
    "    4 = 1 + 3\n",
    "    \n",
    "    5 = 1 + 4 = 2 + 3\n",
    "    \n",
    "    6 = 2 + 4\n",
    "    \n",
    "    7 = 3 + 4\n",
    "    \n",
    "    따라서 [2, 3, 4, 5, 6]을 return"
   ]
  },
  {
   "cell_type": "code",
   "execution_count": 20,
   "id": "51855395",
   "metadata": {
    "ExecuteTime": {
     "end_time": "2024-04-02T01:04:32.315344Z",
     "start_time": "2024-04-02T01:04:32.308532Z"
    }
   },
   "outputs": [
    {
     "data": {
      "text/plain": [
       "[2, 3, 4, 5, 6, 7]"
      ]
     },
     "execution_count": 20,
     "metadata": {},
     "output_type": "execute_result"
    }
   ],
   "source": [
    "def solution(numbers):\n",
    "    answer = []\n",
    "    \n",
    "    for i in range(len(numbers)):\n",
    "        for j in range(i + 1, len(numbers)):\n",
    "            if numbers[i] + numbers[j] not in answer:\n",
    "                answer.append(numbers[i] + numbers[j])\n",
    "    answer.sort()\n",
    "    return answernumbers = [2, 1, 3, 4, 1]\n",
    "solution(numbers)"
   ]
  },
  {
   "cell_type": "code",
   "execution_count": 30,
   "id": "c96fbdef",
   "metadata": {
    "ExecuteTime": {
     "end_time": "2024-04-02T01:09:14.515552Z",
     "start_time": "2024-04-02T01:09:14.509547Z"
    }
   },
   "outputs": [],
   "source": [
    "from itertools import combinations\n",
    "def solution(numbers):\n",
    "    answer = []\n",
    "    \n",
    "    for i in list(combinations(numbers, 2)):\n",
    "        answer.append(sum(i))\n",
    "    answer = list(set(answer))\n",
    "    answer.sort()\n",
    "\n",
    "    return answer"
   ]
  },
  {
   "cell_type": "code",
   "execution_count": 31,
   "id": "37c9981e",
   "metadata": {
    "ExecuteTime": {
     "end_time": "2024-04-02T01:09:15.475784Z",
     "start_time": "2024-04-02T01:09:15.468976Z"
    }
   },
   "outputs": [
    {
     "data": {
      "text/plain": [
       "[2, 3, 4, 5, 6, 7]"
      ]
     },
     "execution_count": 31,
     "metadata": {},
     "output_type": "execute_result"
    }
   ],
   "source": [
    "numbers = [2, 1, 3, 4, 1]\n",
    "solution(numbers)"
   ]
  },
  {
   "cell_type": "markdown",
   "id": "acc5bb54",
   "metadata": {},
   "source": [
    "# 푸드 파이트 대회"
   ]
  },
  {
   "cell_type": "markdown",
   "id": "f4c9d6e3",
   "metadata": {},
   "source": [
    "수웅이는 매달 주어진 음식을 빨리 먹는 푸드 파이트 대회를 개최한다\n",
    "\n",
    "이 대회에서 선수들은 1대 1로 대결해 매 대결마다 음식의 종류와 양이 바뀐다\n",
    "\n",
    "대결은 준비된 음식들을 일렬로 배치한 뒤 한 선수는 제일 왼쪽에 있는 음식부터 오른쪽으로, 다른 선수는 제일 오른쪽에 있는 음식부터 왼쪽으로 순서대로 먹는 방식으로 진행된다\n",
    "\n",
    "중앙에는 물을 배치하고 물을 먼저 먹는 선수가 승리한다\n",
    "\n",
    "<br>\n",
    "\n",
    "이때, 대회의 공정성을 위해 두 선수가 먹는 음식의 종류와 양이 같아야 하며, 음식을 먹는 순서도 같아야 한다\n",
    "\n",
    "또한 이 번 대회부터는 칼로리가 낮은 음식을 먼저 먹을 수 있게 배치하여 선수들이 음식을 더 잘 먹을 수 있게 하려고 한다\n",
    "\n",
    "이번 대회를 위해 수웅이는 음식을 주문했는데, 대회의 조건을 고려하지 않고 음식을 주문하여 몇 개의 음식은 대회에 사용하지 못하게 되었다\n",
    "\n",
    "<br>\n",
    "\n",
    "예를 들어, 3가지 음식이 준비되어 있으며, 칼로기가 적은 순서대로 1번 음식을 3개, 2번 음식을 4개, 3번 음식을 6개를 준비했으며, 물을 편의상 0번 음식이라 칭한다면, 두 선수는 1번 음식 1개, 2번 음식 2개, 3번 음식 3개씩을 먹게 되므로 음식의 배치는 '1223330333221'이 된다\n",
    "\n",
    "따라서 1번 음식 1개는 대회에서 사용하지 못 한다\n",
    "\n",
    "수옹이가 준비한 음식의 양을 칼로리가 적은 순서대로 나타내는 정수배열 food가 주어졌을 때, 대회를 위한 음식의 배치를 나타내는 문자열을 return하는 함수 구현"
   ]
  },
  {
   "cell_type": "code",
   "execution_count": 54,
   "id": "44f97a18",
   "metadata": {
    "ExecuteTime": {
     "end_time": "2024-04-02T01:23:18.903081Z",
     "start_time": "2024-04-02T01:23:18.896501Z"
    }
   },
   "outputs": [],
   "source": [
    "def solution(food):\n",
    "    answer = ''\n",
    "    reanswer = ''\n",
    "    \n",
    "    for i in range(1, len(food)):\n",
    "        answer += str(i) * (food[i] // 2)\n",
    "    reanswer = answer[::-1]\n",
    "    answer += str(0)\n",
    "    answer += reanswer\n",
    "    \n",
    "    return answer"
   ]
  },
  {
   "cell_type": "code",
   "execution_count": 55,
   "id": "dd3df3a2",
   "metadata": {
    "ExecuteTime": {
     "end_time": "2024-04-02T01:23:32.667724Z",
     "start_time": "2024-04-02T01:23:32.660845Z"
    }
   },
   "outputs": [
    {
     "data": {
      "text/plain": [
       "'111303111'"
      ]
     },
     "execution_count": 55,
     "metadata": {},
     "output_type": "execute_result"
    }
   ],
   "source": [
    "food = [1, 3, 4, 6]\n",
    "solution(food)\n",
    "\n",
    "food = [1, 7, 1, 2]\n",
    "solution(food)"
   ]
  },
  {
   "cell_type": "markdown",
   "id": "d8dce912",
   "metadata": {},
   "source": [
    "# 문자열 내 마음대로 정렬하기"
   ]
  },
  {
   "cell_type": "markdown",
   "id": "f2f0b2fb",
   "metadata": {},
   "source": [
    "문자열로 구성된 리스트 strings와 정수 n이 주어졌을 때, 각 문자열의 인덱스 n번째 글자를 기준으로 오름차순 정렬하여 한다\n",
    "\n",
    "예를 들어 strings가 ['sun', 'bed', 'car']이고 n이 1이면 각 단어의 인덱스 1의 문자 'u', 'e', 'a'로 strings를 정렬한다\n",
    "\n",
    "['car', 'bed', 'sun']을 return"
   ]
  },
  {
   "cell_type": "code",
   "execution_count": 76,
   "id": "1dce2111",
   "metadata": {
    "ExecuteTime": {
     "end_time": "2024-04-02T01:45:47.116925Z",
     "start_time": "2024-04-02T01:45:47.111946Z"
    }
   },
   "outputs": [],
   "source": [
    "def solution(strings, n):\n",
    "    return sorted(strings, key = lambda x:(x[n], x))"
   ]
  },
  {
   "cell_type": "code",
   "execution_count": 77,
   "id": "ac4e04f8",
   "metadata": {
    "ExecuteTime": {
     "end_time": "2024-04-02T01:45:48.309795Z",
     "start_time": "2024-04-02T01:45:48.302991Z"
    }
   },
   "outputs": [
    {
     "data": {
      "text/plain": [
       "['abcd', 'abce', 'cdx']"
      ]
     },
     "execution_count": 77,
     "metadata": {},
     "output_type": "execute_result"
    }
   ],
   "source": [
    "strings = ['sun', 'bed', 'car']\n",
    "n = 1\n",
    "solution(strings, n)\n",
    "\n",
    "strings = [\"abce\", \"abcd\", \"cdx\"]\n",
    "n = 2\n",
    "solution(strings, n)"
   ]
  },
  {
   "cell_type": "markdown",
   "id": "668531c1",
   "metadata": {},
   "source": [
    "# [1차] 비밀지도"
   ]
  },
  {
   "cell_type": "markdown",
   "id": "2fe4d1a3",
   "metadata": {},
   "source": [
    "네오는 평소 프로도가 비상금을 숨겨놓는 장소를 알려줄 비밀지도를 손에 넣었다.\n",
    "\n",
    "그런데 이 비밀지도는 숫자로 암호화되어 있어 위치를 확인하기 위해서는 암호를 해독해야 한다. 다행히 지도 암호를 해독할 방법을 적어 놓은 메모도 함께 발견했다\n",
    "\n",
    "    1. 지도는 한 변의 길이가 n인 정사각형 배열 형태로, 각 칸은 공백 또는 벽('#') 두 종류로 이루어져 있다\n",
    "    \n",
    "    2. 전체 지도는 두 장의 지도를 겹쳐서 얻을 수 있다. 각각 '지도1'과 '지도2'라고 하자. 지도1 또는 지도2 중 어느 하나라도 벽인 부분은 전체 지도에서도 벽이다. 지도1과 지도2에서 모두 공백인 부분은 전체 지도에서도 공백이다\n",
    "    \n",
    "    3. 지도1과 지도2는 각각 정수 배열로 암호화되어 있다\n",
    "    \n",
    "    4. 암호화된 배열은 지도의 각 가로줄에서 벽 부분을 1, 공백 부분을 0으로 부호화했을 때 얻어지는 이진수에 해당하는 값의 배열이다"
   ]
  },
  {
   "cell_type": "code",
   "execution_count": 105,
   "id": "d319b14e",
   "metadata": {
    "ExecuteTime": {
     "end_time": "2024-04-02T02:14:50.261115Z",
     "start_time": "2024-04-02T02:14:50.253114Z"
    }
   },
   "outputs": [],
   "source": [
    "def solution(n, arr1, arr2):\n",
    "    arr1_mat = []\n",
    "    arr2_mat = []\n",
    "    arr_res = []\n",
    "    answer = []\n",
    "\n",
    "    for i1, i2 in zip(arr1, arr2):\n",
    "        arr1_mat.append(list(format(i1, '0{}b'.format(n))))\n",
    "        arr2_mat.append(list(format(i2, '0{}b'.format(n))))\n",
    "\n",
    "    for i in range(n):\n",
    "        row = []\n",
    "        for j in range(len(arr1_mat[0])):\n",
    "            res = int(arr1_mat[i][j]) + int(arr2_mat[i][j])\n",
    "            row.append(res)\n",
    "        arr_res.append(row)\n",
    "\n",
    "    for i in range(n):\n",
    "        res = ''\n",
    "        for j in range(len(arr_res[0])):\n",
    "            if arr_res[i][j] == 0:\n",
    "                res += ' '\n",
    "            else:\n",
    "                res += '#'\n",
    "        answer.append(res)\n",
    "    return answer"
   ]
  },
  {
   "cell_type": "code",
   "execution_count": 111,
   "id": "4a6cfca4",
   "metadata": {
    "ExecuteTime": {
     "end_time": "2024-04-02T02:18:31.300117Z",
     "start_time": "2024-04-02T02:18:31.295258Z"
    }
   },
   "outputs": [],
   "source": [
    "def solution(n, arr1, arr2):\n",
    "    answer = []\n",
    "    \n",
    "    for i, j in zip(arr1, arr2):\n",
    "        res = str(bin(i|j)[2:])\n",
    "        res = res.rjust(n, '0')\n",
    "        res = res.replace('1', '#')\n",
    "        res = res.replace('0', ' ')\n",
    "        answer.append(res)\n",
    "    return answer"
   ]
  },
  {
   "cell_type": "code",
   "execution_count": 112,
   "id": "da9a9490",
   "metadata": {
    "ExecuteTime": {
     "end_time": "2024-04-02T02:18:32.532403Z",
     "start_time": "2024-04-02T02:18:32.522419Z"
    }
   },
   "outputs": [
    {
     "data": {
      "text/plain": [
       "['######', '###  #', '##  ##', ' #### ', ' #####', '### # ']"
      ]
     },
     "execution_count": 112,
     "metadata": {},
     "output_type": "execute_result"
    }
   ],
   "source": [
    "n = 5\n",
    "arr1 = [9, 20, 28, 18, 11]\n",
    "arr2 = [30, 1, 21, 17, 28]\n",
    "solution(n, arr1, arr2)\n",
    "\n",
    "n = 6\n",
    "arr1 = [46, 33, 33 ,22, 31, 50]\n",
    "arr2 = [27 ,56, 19, 14, 14, 10]\n",
    "solution(n, arr1, arr2)"
   ]
  },
  {
   "cell_type": "markdown",
   "id": "58219caa",
   "metadata": {},
   "source": [
    "# 콜라 문제"
   ]
  },
  {
   "cell_type": "markdown",
   "id": "90fd95be",
   "metadata": {},
   "source": [
    "콜라 빈 병 2개를 가져다주면 콜라 1병을 주는 마트가 있다\n",
    "\n",
    "빈병 20개를 가져다주면 몇 병을 받을 수 있나?(단 보유 중인 빈 병이 2개 미만이면 콜라를 받을 수 없다)\n",
    "\n",
    "우선 빈 병 20개를 가져가 10병을 받는다 -> 5병을 받는다 -> 4병만 가져가 2병을 받는다 -> 1병을 받는다 -> 빈 병이 2개이므로 1병 받기\n",
    "\n",
    "=> 10 + 5 + 2 + 1 + 1 = 19개를 받을 수 있다\n",
    "\n",
    "이 문제는 빈 병 a개를 가져다주며면 b병을 주는 마트가 있을 때 빈 병 n개를 가져다주면 몇 병을 받을 수 있는지 계산하기\n",
    "\n",
    "보유 중인 빈 병이 a개 미만이면, 추가적으로 빈 병을 받을 수 없다"
   ]
  },
  {
   "cell_type": "code",
   "execution_count": 122,
   "id": "229ce55c",
   "metadata": {
    "ExecuteTime": {
     "end_time": "2024-04-02T02:32:21.132012Z",
     "start_time": "2024-04-02T02:32:21.126485Z"
    }
   },
   "outputs": [],
   "source": [
    "def solution(a, b, n):\n",
    "    answer = 0\n",
    "    \n",
    "    while a <= n:\n",
    "        re_bottle = n % a\n",
    "        n = (n // a) * b\n",
    "        answer += n\n",
    "        n += re_bottle\n",
    "        \n",
    "    return answer"
   ]
  },
  {
   "cell_type": "code",
   "execution_count": 123,
   "id": "2068235f",
   "metadata": {
    "ExecuteTime": {
     "end_time": "2024-04-02T02:32:34.958242Z",
     "start_time": "2024-04-02T02:32:34.951040Z"
    },
    "scrolled": true
   },
   "outputs": [
    {
     "data": {
      "text/plain": [
       "9"
      ]
     },
     "execution_count": 123,
     "metadata": {},
     "output_type": "execute_result"
    }
   ],
   "source": [
    "a = 2\n",
    "b = 1\n",
    "n = 20\n",
    "solution(a, b, n)\n",
    "\n",
    "a = 3\n",
    "b = 1\n",
    "n = 20\n",
    "solution(a, b, n)"
   ]
  },
  {
   "cell_type": "code",
   "execution_count": null,
   "id": "f692098d",
   "metadata": {},
   "outputs": [],
   "source": []
  },
  {
   "cell_type": "code",
   "execution_count": null,
   "id": "acee0b3a",
   "metadata": {},
   "outputs": [],
   "source": []
  },
  {
   "cell_type": "code",
   "execution_count": null,
   "id": "cdbc9dcc",
   "metadata": {},
   "outputs": [],
   "source": []
  },
  {
   "cell_type": "code",
   "execution_count": null,
   "id": "631742fc",
   "metadata": {},
   "outputs": [],
   "source": []
  },
  {
   "cell_type": "code",
   "execution_count": null,
   "id": "160c0a5f",
   "metadata": {},
   "outputs": [],
   "source": []
  },
  {
   "cell_type": "code",
   "execution_count": null,
   "id": "546ef385",
   "metadata": {},
   "outputs": [],
   "source": []
  },
  {
   "cell_type": "code",
   "execution_count": null,
   "id": "c59ee508",
   "metadata": {},
   "outputs": [],
   "source": []
  },
  {
   "cell_type": "code",
   "execution_count": null,
   "id": "88f4dc0b",
   "metadata": {},
   "outputs": [],
   "source": []
  }
 ],
 "metadata": {
  "kernelspec": {
   "display_name": "Python 3 (ipykernel)",
   "language": "python",
   "name": "python3"
  },
  "language_info": {
   "codemirror_mode": {
    "name": "ipython",
    "version": 3
   },
   "file_extension": ".py",
   "mimetype": "text/x-python",
   "name": "python",
   "nbconvert_exporter": "python",
   "pygments_lexer": "ipython3",
   "version": "3.11.5"
  },
  "toc": {
   "base_numbering": 1,
   "nav_menu": {},
   "number_sections": true,
   "sideBar": true,
   "skip_h1_title": false,
   "title_cell": "Table of Contents",
   "title_sidebar": "Contents",
   "toc_cell": false,
   "toc_position": {
    "height": "calc(100% - 180px)",
    "left": "10px",
    "top": "150px",
    "width": "426.667px"
   },
   "toc_section_display": true,
   "toc_window_display": false
  }
 },
 "nbformat": 4,
 "nbformat_minor": 5
}
