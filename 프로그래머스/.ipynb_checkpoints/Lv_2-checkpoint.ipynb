{
 "cells": [
  {
   "cell_type": "markdown",
   "id": "be4426dc",
   "metadata": {},
   "source": [
    "# 최댓값과 최솟값\n",
    "\n",
    "문자열 s에는 공백으로 구분된 숫자들이 저장되어 있다. str에 나타나는 숫자 중 최솟값과 최댓값을 찾아 이를 (최솟값)(최댓값)형태의 문자열을 반환하는 함수를 구현\n",
    "\n",
    "s = '1 2 3 4'이면 '1 4'를 리턴"
   ]
  },
  {
   "cell_type": "code",
   "execution_count": 58,
   "id": "6a1bd36e",
   "metadata": {},
   "outputs": [],
   "source": [
    "def solution(s):\n",
    "    answer = ''\n",
    "    lst = [int(i) for i in s.split()]\n",
    "    i_min = str(min(lst))\n",
    "    i_max = str(max(lst))\n",
    "    answer = i_min + ' ' + i_max\n",
    "    return answer\n",
    "\n",
    "\n",
    "# def solution(s):\n",
    "#     s = list(map(int,s.split()))\n",
    "#     return str(min(s)) + \" \" + str(max(s))"
   ]
  },
  {
   "cell_type": "code",
   "execution_count": 57,
   "id": "18e2610c",
   "metadata": {},
   "outputs": [
    {
     "data": {
      "text/plain": [
       "'1 4'"
      ]
     },
     "execution_count": 57,
     "metadata": {},
     "output_type": "execute_result"
    },
    {
     "data": {
      "text/plain": [
       "'-4 -1'"
      ]
     },
     "execution_count": 57,
     "metadata": {},
     "output_type": "execute_result"
    },
    {
     "data": {
      "text/plain": [
       "'-1 -1'"
      ]
     },
     "execution_count": 57,
     "metadata": {},
     "output_type": "execute_result"
    }
   ],
   "source": [
    "s = '1 2 3 4'\n",
    "solution(s)\n",
    "\n",
    "s = '-1 -2 -3 -4'\n",
    "solution(s)\n",
    "\n",
    "s = '-1 -1'\n",
    "solution(s)"
   ]
  },
  {
   "cell_type": "markdown",
   "id": "792ce02e",
   "metadata": {},
   "source": [
    "# JadenCase 문자열 만들기 \n",
    "\n",
    "jadencase란 모든 단어의 첫 문자가 대문자이고, 그 외의 알파벳은 소문자인 문자열이다. 단 첫 문자가 알파벳이 아닐 때에는 이어지는 알파벳은 소문자로 쓰면 됩니다\n",
    "\n",
    "문자열 s가 주어졌을 때 s를 jadencase로 바꾼 문자열을 return 하는 함수 구현"
   ]
  },
  {
   "cell_type": "code",
   "execution_count": 25,
   "id": "835f352f",
   "metadata": {},
   "outputs": [],
   "source": [
    "def solution(s):\n",
    "    answer = []\n",
    "    s = s.split(\" \")\n",
    "    for word in s:\n",
    "        if word:\n",
    "            answer.append(word[0].upper() + word[1:].lower())\n",
    "        else:\n",
    "            answer.append(word)\n",
    "    return \" \".join(answer)"
   ]
  },
  {
   "cell_type": "code",
   "execution_count": 26,
   "id": "6887d240",
   "metadata": {},
   "outputs": [
    {
     "data": {
      "text/plain": [
       "'3people Unfollowed Me'"
      ]
     },
     "execution_count": 26,
     "metadata": {},
     "output_type": "execute_result"
    },
    {
     "data": {
      "text/plain": [
       "'For The Last Week'"
      ]
     },
     "execution_count": 26,
     "metadata": {},
     "output_type": "execute_result"
    }
   ],
   "source": [
    "s = '3people unFollowed me'\n",
    "solution(s)\n",
    "\n",
    "s = 'for the last week'\n",
    "solution(s)"
   ]
  },
  {
   "cell_type": "markdown",
   "id": "aba01235",
   "metadata": {},
   "source": [
    "# 최솟값 만들기\n",
    "\n",
    "길이가 같은 배열 A, B 두개가 있습니다. 각 배열은 자연수로 이루어져 있습니다\n",
    "\n",
    "배열 A, B에서 각각 한 개의 숫자를 뽑아 두 수를 곱합니다. 이러한 과정을 배열의 길이만틈 반복하며, 두 수를 곱한 값을 누적하여 더합니다. 이때 최종적으로 누적된 값이 최소가 되도록 만드는 것이 목표이다"
   ]
  },
  {
   "cell_type": "code",
   "execution_count": 48,
   "id": "802b2b68",
   "metadata": {},
   "outputs": [],
   "source": [
    "def solution(A,B):\n",
    "    answer = 0\n",
    "    A = sorted(A)\n",
    "    B = sorted(B, reverse = True)\n",
    "    \n",
    "    for i in range(len(A)):\n",
    "        answer += A[i] * B[i]\n",
    "    return answer"
   ]
  },
  {
   "cell_type": "code",
   "execution_count": 51,
   "id": "a8461667",
   "metadata": {},
   "outputs": [
    {
     "data": {
      "text/plain": [
       "29"
      ]
     },
     "execution_count": 51,
     "metadata": {},
     "output_type": "execute_result"
    },
    {
     "data": {
      "text/plain": [
       "10"
      ]
     },
     "execution_count": 51,
     "metadata": {},
     "output_type": "execute_result"
    }
   ],
   "source": [
    "A = [1, 4, 2]\n",
    "B = [5, 4, 4]\n",
    "solution(A, B)\n",
    "\n",
    "A = [1, 2]\n",
    "B = [3, 4]\n",
    "solution(A, B)"
   ]
  },
  {
   "cell_type": "code",
   "execution_count": null,
   "id": "1a9c0a14",
   "metadata": {},
   "outputs": [],
   "source": []
  },
  {
   "cell_type": "code",
   "execution_count": null,
   "id": "958e66c0",
   "metadata": {},
   "outputs": [],
   "source": []
  },
  {
   "cell_type": "code",
   "execution_count": null,
   "id": "5a650503",
   "metadata": {},
   "outputs": [],
   "source": []
  },
  {
   "cell_type": "code",
   "execution_count": null,
   "id": "6f666352",
   "metadata": {},
   "outputs": [],
   "source": []
  }
 ],
 "metadata": {
  "kernelspec": {
   "display_name": "Python 3 (ipykernel)",
   "language": "python",
   "name": "python3"
  },
  "language_info": {
   "codemirror_mode": {
    "name": "ipython",
    "version": 3
   },
   "file_extension": ".py",
   "mimetype": "text/x-python",
   "name": "python",
   "nbconvert_exporter": "python",
   "pygments_lexer": "ipython3",
   "version": "3.11.5"
  },
  "toc": {
   "base_numbering": 1,
   "nav_menu": {},
   "number_sections": true,
   "sideBar": true,
   "skip_h1_title": false,
   "title_cell": "Table of Contents",
   "title_sidebar": "Contents",
   "toc_cell": false,
   "toc_position": {},
   "toc_section_display": true,
   "toc_window_display": false
  }
 },
 "nbformat": 4,
 "nbformat_minor": 5
}
