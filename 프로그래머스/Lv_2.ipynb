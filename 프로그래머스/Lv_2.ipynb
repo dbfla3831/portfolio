{
 "cells": [
  {
   "cell_type": "code",
   "execution_count": 1,
   "id": "66dba9b1",
   "metadata": {
    "ExecuteTime": {
     "end_time": "2024-04-02T05:03:18.488425Z",
     "start_time": "2024-04-02T05:03:18.483570Z"
    }
   },
   "outputs": [],
   "source": [
    "from IPython.core.interactiveshell import InteractiveShell\n",
    "InteractiveShell.ast_node_interactivity = 'all'"
   ]
  },
  {
   "cell_type": "markdown",
   "id": "be4426dc",
   "metadata": {},
   "source": [
    "# 최댓값과 최솟값\n",
    "\n",
    "문자열 s에는 공백으로 구분된 숫자들이 저장되어 있다. str에 나타나는 숫자 중 최솟값과 최댓값을 찾아 이를 (최솟값)(최댓값)형태의 문자열을 반환하는 함수를 구현\n",
    "\n",
    "s = '1 2 3 4'이면 '1 4'를 리턴"
   ]
  },
  {
   "cell_type": "code",
   "execution_count": 58,
   "id": "6a1bd36e",
   "metadata": {},
   "outputs": [],
   "source": [
    "def solution(s):\n",
    "    answer = ''\n",
    "    lst = [int(i) for i in s.split()]\n",
    "    i_min = str(min(lst))\n",
    "    i_max = str(max(lst))\n",
    "    answer = i_min + ' ' + i_max\n",
    "    return answer\n",
    "\n",
    "\n",
    "# def solution(s):\n",
    "#     s = list(map(int,s.split()))\n",
    "#     return str(min(s)) + \" \" + str(max(s))"
   ]
  },
  {
   "cell_type": "code",
   "execution_count": 57,
   "id": "18e2610c",
   "metadata": {},
   "outputs": [
    {
     "data": {
      "text/plain": [
       "'1 4'"
      ]
     },
     "execution_count": 57,
     "metadata": {},
     "output_type": "execute_result"
    },
    {
     "data": {
      "text/plain": [
       "'-4 -1'"
      ]
     },
     "execution_count": 57,
     "metadata": {},
     "output_type": "execute_result"
    },
    {
     "data": {
      "text/plain": [
       "'-1 -1'"
      ]
     },
     "execution_count": 57,
     "metadata": {},
     "output_type": "execute_result"
    }
   ],
   "source": [
    "s = '1 2 3 4'\n",
    "solution(s)\n",
    "\n",
    "s = '-1 -2 -3 -4'\n",
    "solution(s)\n",
    "\n",
    "s = '-1 -1'\n",
    "solution(s)"
   ]
  },
  {
   "cell_type": "markdown",
   "id": "792ce02e",
   "metadata": {},
   "source": [
    "# JadenCase 문자열 만들기 \n",
    "\n",
    "jadencase란 모든 단어의 첫 문자가 대문자이고, 그 외의 알파벳은 소문자인 문자열이다. 단 첫 문자가 알파벳이 아닐 때에는 이어지는 알파벳은 소문자로 쓰면 됩니다\n",
    "\n",
    "문자열 s가 주어졌을 때 s를 jadencase로 바꾼 문자열을 return 하는 함수 구현"
   ]
  },
  {
   "cell_type": "code",
   "execution_count": 25,
   "id": "835f352f",
   "metadata": {},
   "outputs": [],
   "source": [
    "def solution(s):\n",
    "    answer = []\n",
    "    s = s.split(\" \")\n",
    "    for word in s:\n",
    "        if word:\n",
    "            answer.append(word[0].upper() + word[1:].lower())\n",
    "        else:\n",
    "            answer.append(word)\n",
    "    return \" \".join(answer)"
   ]
  },
  {
   "cell_type": "code",
   "execution_count": 26,
   "id": "6887d240",
   "metadata": {},
   "outputs": [
    {
     "data": {
      "text/plain": [
       "'3people Unfollowed Me'"
      ]
     },
     "execution_count": 26,
     "metadata": {},
     "output_type": "execute_result"
    },
    {
     "data": {
      "text/plain": [
       "'For The Last Week'"
      ]
     },
     "execution_count": 26,
     "metadata": {},
     "output_type": "execute_result"
    }
   ],
   "source": [
    "s = '3people unFollowed me'\n",
    "solution(s)\n",
    "\n",
    "s = 'for the last week'\n",
    "solution(s)"
   ]
  },
  {
   "cell_type": "markdown",
   "id": "aba01235",
   "metadata": {},
   "source": [
    "# 최솟값 만들기\n",
    "\n",
    "길이가 같은 배열 A, B 두개가 있습니다. 각 배열은 자연수로 이루어져 있습니다\n",
    "\n",
    "배열 A, B에서 각각 한 개의 숫자를 뽑아 두 수를 곱합니다. 이러한 과정을 배열의 길이만틈 반복하며, 두 수를 곱한 값을 누적하여 더합니다. 이때 최종적으로 누적된 값이 최소가 되도록 만드는 것이 목표이다"
   ]
  },
  {
   "cell_type": "code",
   "execution_count": 48,
   "id": "802b2b68",
   "metadata": {},
   "outputs": [],
   "source": [
    "def solution(A,B):\n",
    "    answer = 0\n",
    "    A = sorted(A)\n",
    "    B = sorted(B, reverse = True)\n",
    "    \n",
    "    for i in range(len(A)):\n",
    "        answer += A[i] * B[i]\n",
    "    return answer"
   ]
  },
  {
   "cell_type": "code",
   "execution_count": 51,
   "id": "a8461667",
   "metadata": {},
   "outputs": [
    {
     "data": {
      "text/plain": [
       "29"
      ]
     },
     "execution_count": 51,
     "metadata": {},
     "output_type": "execute_result"
    },
    {
     "data": {
      "text/plain": [
       "10"
      ]
     },
     "execution_count": 51,
     "metadata": {},
     "output_type": "execute_result"
    }
   ],
   "source": [
    "A = [1, 4, 2]\n",
    "B = [5, 4, 4]\n",
    "solution(A, B)\n",
    "\n",
    "A = [1, 2]\n",
    "B = [3, 4]\n",
    "solution(A, B)"
   ]
  },
  {
   "cell_type": "markdown",
   "id": "a0cafdcc",
   "metadata": {},
   "source": [
    "# 올바른 괄호"
   ]
  },
  {
   "cell_type": "markdown",
   "id": "6fc174ab",
   "metadata": {},
   "source": [
    "괄호가 바르게 작지어졌다는 것을 '('문자로 열렸으면 반드시 짝지어서 ')'문자로 닫혀야 한다는 것이다\n",
    "\n",
    "'(' 또는 ')'로만 이루어진 문자열 s가 주어졌을 때, 문자열 s가 올바른 괄호이면 true를 return하고, 올바르지 않은 괄호이면 false를 return하는 함수 완성"
   ]
  },
  {
   "cell_type": "code",
   "execution_count": 1,
   "id": "154e680c",
   "metadata": {
    "ExecuteTime": {
     "end_time": "2024-03-26T13:03:54.342455Z",
     "start_time": "2024-03-26T13:03:54.337289Z"
    }
   },
   "outputs": [],
   "source": [
    "def solution(s):\n",
    "    answer = True\n",
    "    cnt1 = 0 # '('의 수\n",
    "    cnt2 = 0 # ')'의 수\n",
    "    \n",
    "    if s[0] == ')' or s[-1] == '(':\n",
    "        answer = False\n",
    "    \n",
    "    for i in range(len(s)):\n",
    "        if s[i] == '(':\n",
    "            cnt1 += 1\n",
    "        elif s[i] == ')':\n",
    "            cnt2 += 1\n",
    "        elif cnt2 > cnt1:\n",
    "            answer = False\n",
    "    if cnt1 != cnt2:\n",
    "        answer = False\n",
    "\n",
    "    return answer"
   ]
  },
  {
   "cell_type": "code",
   "execution_count": 4,
   "id": "3a79323b",
   "metadata": {
    "ExecuteTime": {
     "end_time": "2024-03-26T13:05:57.252924Z",
     "start_time": "2024-03-26T13:05:57.231528Z"
    }
   },
   "outputs": [
    {
     "data": {
      "text/plain": [
       "True"
      ]
     },
     "execution_count": 4,
     "metadata": {},
     "output_type": "execute_result"
    },
    {
     "data": {
      "text/plain": [
       "True"
      ]
     },
     "execution_count": 4,
     "metadata": {},
     "output_type": "execute_result"
    },
    {
     "data": {
      "text/plain": [
       "False"
      ]
     },
     "execution_count": 4,
     "metadata": {},
     "output_type": "execute_result"
    },
    {
     "data": {
      "text/plain": [
       "False"
      ]
     },
     "execution_count": 4,
     "metadata": {},
     "output_type": "execute_result"
    },
    {
     "data": {
      "text/plain": [
       "False"
      ]
     },
     "execution_count": 4,
     "metadata": {},
     "output_type": "execute_result"
    }
   ],
   "source": [
    "def solution(s):\n",
    "    stack = []\n",
    "    \n",
    "    for i in s:\n",
    "        if i == '(':\n",
    "            stack.append(i)\n",
    "        else:\n",
    "            if len(stack) == 0:\n",
    "                return False\n",
    "            else:\n",
    "                stack.pop()\n",
    "    return stack == []\n",
    "\n",
    "s = '()()'\n",
    "solution(s)\n",
    "\n",
    "s = '(())()'\n",
    "solution(s)\n",
    "\n",
    "s = ')()('\n",
    "solution(s)\n",
    "\n",
    "s = '(()('\n",
    "solution(s)\n",
    "\n",
    "s = '(()))'\n",
    "solution(s)"
   ]
  },
  {
   "cell_type": "markdown",
   "id": "1c1bfd08",
   "metadata": {},
   "source": [
    "# 이진 변환 반복하기"
   ]
  },
  {
   "cell_type": "markdown",
   "id": "ce77ca6a",
   "metadata": {
    "ExecuteTime": {
     "end_time": "2024-03-26T13:09:05.875614Z",
     "start_time": "2024-03-26T13:09:05.869297Z"
    }
   },
   "source": [
    "0과 1로 이루어진 어떤 문자열 x에 대한 이진 변환을 다음과 같이 정의\n",
    "\n",
    "1. x의 모든 0을 제거\n",
    "\n",
    "2. x의 길이를 c라고 하면, x를 'c를 이진법으로 표현한 문자열'로 바꾼다\n",
    "\n",
    "ex) x = '0111010'이라면 x에 이진 변환을 가하면 x = '0111010' -> '1111' -> '100'이 된다\n",
    "\n",
    "0과 1로 이루어진 문자열 s가 매개변수로 주어진다\n",
    "\n",
    "s가 1이 될 때까지 계속해서 s에 이진 변환을 가했을 때, 이진 변환의 횟수와 변환 과정에서 제거된\n",
    "모든 0의 개수를 각각 배열에 담아 return"
   ]
  },
  {
   "cell_type": "code",
   "execution_count": 5,
   "id": "958e66c0",
   "metadata": {
    "ExecuteTime": {
     "end_time": "2024-03-27T08:27:31.934838Z",
     "start_time": "2024-03-27T08:27:31.931888Z"
    }
   },
   "outputs": [],
   "source": [
    "def solution(s):\n",
    "    answer = []\n",
    "    cnt = 0 # 이진 변환 횟수\n",
    "    zero_cnt = 0 # 0제거 횟수\n",
    "\n",
    "    while True:\n",
    "        if s == '1': # s가 1이면 종료\n",
    "            break\n",
    "        zero_cnt += s.count('0')\n",
    "        s = s.replace('0', '')\n",
    "        s = bin(len(s))[2:]\n",
    "\n",
    "        cnt += 1\n",
    "        \n",
    "    answer.append(cnt)\n",
    "    answer.append(zero_cnt)\n",
    "    \n",
    "    return answer"
   ]
  },
  {
   "cell_type": "code",
   "execution_count": 6,
   "id": "131f86ca",
   "metadata": {
    "ExecuteTime": {
     "end_time": "2024-03-27T08:27:32.828312Z",
     "start_time": "2024-03-27T08:27:32.820609Z"
    }
   },
   "outputs": [
    {
     "data": {
      "text/plain": [
       "[3, 8]"
      ]
     },
     "execution_count": 6,
     "metadata": {},
     "output_type": "execute_result"
    },
    {
     "data": {
      "text/plain": [
       "[2, 1]"
      ]
     },
     "execution_count": 6,
     "metadata": {},
     "output_type": "execute_result"
    },
    {
     "data": {
      "text/plain": [
       "[1, 1]"
      ]
     },
     "execution_count": 6,
     "metadata": {},
     "output_type": "execute_result"
    }
   ],
   "source": [
    "s = '110010101001'\n",
    "solution(s)\n",
    "\n",
    "s = '11'\n",
    "solution(s)\n",
    "\n",
    "s = '10'\n",
    "solution(s)"
   ]
  },
  {
   "cell_type": "markdown",
   "id": "6924aa2a",
   "metadata": {},
   "source": [
    "# 숫자의 표현"
   ]
  },
  {
   "cell_type": "markdown",
   "id": "e34f8d8d",
   "metadata": {},
   "source": [
    "수학 공부를 하던 Finn은 자연수 n을 연속한 자연수들로 표현 하는 방법이 여러개라는 사실을 알게 되었다\n",
    "\n",
    "예를 들어 15는 다음과 같이 4가지로 표현할 수 있다\n",
    "\n",
    "1 + 2 + 3 + 4 + 5 = 15\n",
    "\n",
    "4 + 5 + 6 = 15\n",
    "\n",
    "7 + 8 = 15\n",
    "\n",
    "15 = 15\n",
    "\n",
    "자연수 n이 매개변수로 주어질 때, 연속된 자연수들로 n을 표현하는 방법의 수를 return하는 함수 구현"
   ]
  },
  {
   "cell_type": "code",
   "execution_count": 14,
   "id": "0a84246f",
   "metadata": {
    "ExecuteTime": {
     "end_time": "2024-03-27T08:34:07.940668Z",
     "start_time": "2024-03-27T08:34:07.937318Z"
    }
   },
   "outputs": [],
   "source": [
    "def solution(n):\n",
    "    answer = 0\n",
    "    \n",
    "    for i in range(1, n + 1):\n",
    "        tot = 0\n",
    "        for j in range(i, n + 1):\n",
    "            tot += j\n",
    "            \n",
    "            if tot == n:\n",
    "                answer += 1\n",
    "                break\n",
    "                \n",
    "            elif tot > n:\n",
    "                break\n",
    "                \n",
    "    return answer"
   ]
  },
  {
   "cell_type": "code",
   "execution_count": 15,
   "id": "29e968a2",
   "metadata": {
    "ExecuteTime": {
     "end_time": "2024-03-27T08:34:09.743287Z",
     "start_time": "2024-03-27T08:34:09.739758Z"
    }
   },
   "outputs": [
    {
     "data": {
      "text/plain": [
       "4"
      ]
     },
     "execution_count": 15,
     "metadata": {},
     "output_type": "execute_result"
    }
   ],
   "source": [
    "n = 15\n",
    "solution(n)"
   ]
  },
  {
   "cell_type": "markdown",
   "id": "460bd48a",
   "metadata": {},
   "source": [
    "# 다음 큰 숫자"
   ]
  },
  {
   "cell_type": "markdown",
   "id": "b11ba2e0",
   "metadata": {},
   "source": [
    "자연수 n이 주어졌을 때, n의 다음 큰 숫자는 다음과 같이 정의한다\n",
    "\n",
    "    1. n의 다음 큰 숫자는 n보다 큰 자연수이다\n",
    "    \n",
    "     2. n의 다음 큰 숫자와 n은 2진수로 변환했을 떼 1의 갯수가 같다\n",
    "     \n",
    "     3. n의 다음 큰 숫자는 조건 1, 2를 만족하는 수중 가장 작은 수 이다\n",
    "     \n",
    "예를 들어 78(1001110)의 다음 큰 숫자는 83(1010011)이다\n",
    "\n",
    "자연수 n이 매개변수로 주어질 때, n의 다음 큰 숫자를 return하는 함수를 구현"
   ]
  },
  {
   "cell_type": "code",
   "execution_count": 25,
   "id": "a399c82d",
   "metadata": {
    "ExecuteTime": {
     "end_time": "2024-03-27T08:40:40.397999Z",
     "start_time": "2024-03-27T08:40:40.394565Z"
    }
   },
   "outputs": [],
   "source": [
    "def solution(n):\n",
    "    answer = 0\n",
    "    \n",
    "    for i in range(n + 1, 1000001):\n",
    "        if len(bin(i)[2:].replace('0', '')) == len(bin(n)[2:].replace('0', '')):\n",
    "            answer = i\n",
    "            break\n",
    "    return answer"
   ]
  },
  {
   "cell_type": "code",
   "execution_count": 26,
   "id": "fa20b3bc",
   "metadata": {
    "ExecuteTime": {
     "end_time": "2024-03-27T08:42:18.136077Z",
     "start_time": "2024-03-27T08:42:18.132435Z"
    }
   },
   "outputs": [],
   "source": [
    "def solutuon(n):\n",
    "    answer = 0\n",
    "    \n",
    "    while True:\n",
    "        n2 = n + 1\n",
    "        \n",
    "        if bin(n).count('1') == bin(n2).count('1'):\n",
    "            answer = n2\n",
    "            break\n",
    "    return answer"
   ]
  },
  {
   "cell_type": "code",
   "execution_count": 27,
   "id": "66f9718e",
   "metadata": {
    "ExecuteTime": {
     "end_time": "2024-03-27T08:42:19.014438Z",
     "start_time": "2024-03-27T08:42:19.010161Z"
    }
   },
   "outputs": [
    {
     "data": {
      "text/plain": [
       "83"
      ]
     },
     "execution_count": 27,
     "metadata": {},
     "output_type": "execute_result"
    },
    {
     "data": {
      "text/plain": [
       "23"
      ]
     },
     "execution_count": 27,
     "metadata": {},
     "output_type": "execute_result"
    }
   ],
   "source": [
    "n = 78\n",
    "solution(n)\n",
    "\n",
    "n = 15\n",
    "solution(n)"
   ]
  },
  {
   "cell_type": "markdown",
   "id": "3bafb074",
   "metadata": {},
   "source": [
    "# 피보나치 수"
   ]
  },
  {
   "cell_type": "markdown",
   "id": "097d5dcc",
   "metadata": {},
   "source": [
    "피보나치 수는 F(0) = 0, F(1) = 1일 때, 1 이상의 n에 대하여 F(n) = F(n-1) + F(n - 2)가 적용되는 수 이다\n",
    "\n",
    "에를 들어\n",
    "    \n",
    "    F(2) = F(0) + F(1) = 0 + 1 = 1\n",
    "    \n",
    "    F(3) = F(1) + F(2) = 1 + 1 = 2\n",
    "    \n",
    "    F(4) = F(2) + F(3) = 1 + 2 = 3\n",
    "    \n",
    "    F(5) = F(4) + F(3) = 3 + 2 = 5\n",
    "    \n",
    "2 이상의 n이 입력되었을 때 n번째 피보나치 수를 1234567으로 나눈 나머지를 return하는 함수 구현"
   ]
  },
  {
   "cell_type": "code",
   "execution_count": 36,
   "id": "8e5c186e",
   "metadata": {
    "ExecuteTime": {
     "end_time": "2024-03-27T08:51:45.578358Z",
     "start_time": "2024-03-27T08:51:45.575027Z"
    }
   },
   "outputs": [],
   "source": [
    "def solution(n):\n",
    "    n1, n2 = 0, 1\n",
    "    \n",
    "    for i in range(n):\n",
    "        n1, n2 = n2, n1 + n2\n",
    "        \n",
    "    answer = n1 % 1234567\n",
    "    return answer"
   ]
  },
  {
   "cell_type": "code",
   "execution_count": 37,
   "id": "3e66b9a8",
   "metadata": {
    "ExecuteTime": {
     "end_time": "2024-03-27T08:51:47.022061Z",
     "start_time": "2024-03-27T08:51:47.016077Z"
    }
   },
   "outputs": [
    {
     "data": {
      "text/plain": [
       "2"
      ]
     },
     "execution_count": 37,
     "metadata": {},
     "output_type": "execute_result"
    },
    {
     "data": {
      "text/plain": [
       "5"
      ]
     },
     "execution_count": 37,
     "metadata": {},
     "output_type": "execute_result"
    }
   ],
   "source": [
    "n = 3\n",
    "solution(n)\n",
    "\n",
    "n = 5\n",
    "solution(n)"
   ]
  },
  {
   "cell_type": "markdown",
   "id": "ac869db4",
   "metadata": {},
   "source": [
    "# 짝지어 제거하기"
   ]
  },
  {
   "cell_type": "markdown",
   "id": "21b6162d",
   "metadata": {},
   "source": [
    "짝지어 제거하기는, 알파벳 소문자로 이루어진 문자열을 가지고 시작한다\n",
    "\n",
    "먼저 문자열에서 같은 알파벳이 2개 붙어 잇는 짝을 찾는다\n",
    "\n",
    "그 다음 그 둘을 제거한 뒤 앞뒤로 문자열을 이어 붙인다\n",
    "\n",
    "이 과정을 반복해서 문자열을 모두 제건한다면 짝지에 제거하기가 종료된다\n",
    "\n",
    "문자열 s가 주어졌을 때, 짝지어 제거하기를 성공적으로 수행할 수 있는지 반환하는 함수 구현하기\n",
    "\n",
    "성공적으로 수행할 수 있으면 1을 아닐 경우 0을 return하는 함수 구현\n",
    "\n",
    "ex) s = 'baabaa\n",
    "\n",
    "b aa baa -> bb aa -> aa -> 1을 return"
   ]
  },
  {
   "cell_type": "code",
   "execution_count": 20,
   "id": "e0f2ef39",
   "metadata": {
    "ExecuteTime": {
     "end_time": "2024-04-02T05:16:29.093826Z",
     "start_time": "2024-04-02T05:16:29.087817Z"
    }
   },
   "outputs": [],
   "source": [
    "def solution(s):\n",
    "    answer = 1\n",
    "    res = []\n",
    "    \n",
    "    for i in s:\n",
    "        if len(res) ==0: # 결과 리스트가 비었으면 채우기\n",
    "            res.append(i)\n",
    "        elif res[-1] == i: # 마지막으로 채워 넣은 값과 이제 넣을 값이 같으면 마지막으로 넣은 값을 제거\n",
    "            res.pop()\n",
    "        else:\n",
    "            res.append(i)\n",
    "    \n",
    "    if len(res) == 0:\n",
    "        answer = 1\n",
    "    else:\n",
    "        answer = 0\n",
    "    return answer"
   ]
  },
  {
   "cell_type": "code",
   "execution_count": 21,
   "id": "2f0fb426",
   "metadata": {
    "ExecuteTime": {
     "end_time": "2024-04-02T05:16:30.887415Z",
     "start_time": "2024-04-02T05:16:30.879983Z"
    },
    "scrolled": true
   },
   "outputs": [
    {
     "data": {
      "text/plain": [
       "1"
      ]
     },
     "execution_count": 21,
     "metadata": {},
     "output_type": "execute_result"
    },
    {
     "data": {
      "text/plain": [
       "0"
      ]
     },
     "execution_count": 21,
     "metadata": {},
     "output_type": "execute_result"
    }
   ],
   "source": [
    "s = 'baabaa'\n",
    "solution(s)\n",
    "\n",
    "s = 'cdcd'\n",
    "solution(s)"
   ]
  },
  {
   "cell_type": "markdown",
   "id": "18f31240",
   "metadata": {},
   "source": [
    "# 카펫"
   ]
  },
  {
   "cell_type": "markdown",
   "id": "9966e9da",
   "metadata": {},
   "source": [
    "카펫을 사러 갔다가 아래 그림과 같이 중앙에는 노란색으로 칠해져 있고 테두리 1줄은 갈색으로 칠해져 있는 격자 모양 카펫을 봤다\n",
    "\n",
    "leo는 집으로 돌아와서 아까 본 카펫의 노란색과 갈색으로 색칠된 격자의 개수는 기억했지만, 전체 카펫의 크기는 기억하지 못 했다\n",
    "\n",
    "leo가 본 카펫에서 갈색 격자의 수 brown, 노락색 격자 수 yellow가 매개변수로 주어질 때 카펫의 가로, 세로 크기를 순서대로 배열에 담아 return하도록 함수 구현"
   ]
  },
  {
   "cell_type": "markdown",
   "id": "fb1ec229",
   "metadata": {},
   "source": [
    "yellow = xy\n",
    "\n",
    "brown = (x + z)(y + z) - xy\n",
    "\n",
    "brown = 2x + 2y + 4"
   ]
  },
  {
   "cell_type": "code",
   "execution_count": 39,
   "id": "aa74c726",
   "metadata": {
    "ExecuteTime": {
     "end_time": "2024-04-02T05:34:07.109453Z",
     "start_time": "2024-04-02T05:34:07.104920Z"
    }
   },
   "outputs": [],
   "source": [
    "def solution(brown, yellow):\n",
    "    answer = []\n",
    "    y_x = 0\n",
    "    y_y = 0\n",
    "    \n",
    "    for i in range(1, yellow + 1):\n",
    "        if yellow % i == 0:\n",
    "            y_x = yellow // i\n",
    "            y_y = i\n",
    "            \n",
    "            if 2 * y_x + 2 * y_y + 4 == brown:\n",
    "                answer.append(y_x + 2)\n",
    "                answer.append(y_y + 2)\n",
    "                break\n",
    "                \n",
    "            answer.sort()\n",
    "    \n",
    "    return answer"
   ]
  },
  {
   "cell_type": "code",
   "execution_count": 43,
   "id": "62b430c2",
   "metadata": {
    "ExecuteTime": {
     "end_time": "2024-04-02T05:42:26.653411Z",
     "start_time": "2024-04-02T05:42:26.647963Z"
    }
   },
   "outputs": [],
   "source": [
    "# 근의 공식 이용\n",
    "# 1. 주어진 갈색, 노란 격자 수를 이용해 카펫 전체 격자 수 구하기\n",
    "# 2. 전체 격자 수를 이용해 가능한 카펫의 가로와 세로 크기의 조합을 찾는다\n",
    "\n",
    "import math\n",
    "\n",
    "def solution(brown, yellow):\n",
    "    answer = []\n",
    "    w = ((brown + 4) / 2 + math.sqrt(((brown + 4) / 2) ** 2 - 4 * (brown + yellow))) / 2\n",
    "    h = ((brown + 4) / 2 - math.sqrt(((brown + 4) / 2) ** 2 - 4 * (brown + yellow))) / 2    \n",
    "    answer.append(int(w))\n",
    "    answer.append(int(h))\n",
    "    return answer\n"
   ]
  },
  {
   "cell_type": "code",
   "execution_count": 44,
   "id": "4ebbda1a",
   "metadata": {
    "ExecuteTime": {
     "end_time": "2024-04-02T05:42:28.090541Z",
     "start_time": "2024-04-02T05:42:28.081692Z"
    }
   },
   "outputs": [
    {
     "data": {
      "text/plain": [
       "[4, 3]"
      ]
     },
     "execution_count": 44,
     "metadata": {},
     "output_type": "execute_result"
    },
    {
     "data": {
      "text/plain": [
       "[3, 3]"
      ]
     },
     "execution_count": 44,
     "metadata": {},
     "output_type": "execute_result"
    },
    {
     "data": {
      "text/plain": [
       "[8, 6]"
      ]
     },
     "execution_count": 44,
     "metadata": {},
     "output_type": "execute_result"
    }
   ],
   "source": [
    "brown = 10\n",
    "yellow = 2\n",
    "solution(brown, yellow)\n",
    "\n",
    "brown = 8\n",
    "yellow = 1\n",
    "solution(brown, yellow)\n",
    "\n",
    "brown = 24\n",
    "yellow = 24\n",
    "solution(brown, yellow)"
   ]
  },
  {
   "cell_type": "markdown",
   "id": "8805df11",
   "metadata": {},
   "source": [
    "# 점프와 순간 이동"
   ]
  },
  {
   "cell_type": "markdown",
   "id": "66d943b7",
   "metadata": {},
   "source": [
    "연구소는 한 번에 k칸을 앞으로 점프하거나, (현재까지 온 거리) * 2에 해당하는 위치로 순간 이동을 할 수 있는 특수한 기능을 가진 아이언 슈트를 개발하여 판매한다\n",
    "\n",
    "이 아이언 슈트는 건전지로 작동되는데, 순간 이동을 하면 건전지 사용량이 줄지 않지만, 앞으로 k칸을 점프하면 k만큼의 건전지 사용량이 든다\n",
    "\n",
    "그러므로 아이언 슈트를 착용하고 이동할 때는 순간 이동을 하는 것이 효율적이다\n",
    "\n",
    "아이언 슈트 구매자는 아이언 슈트를 착용하고 거기가 n만큼 떨어져 있는 장소로 가려고 한다\n",
    "\n",
    "단,건전지 사용량을 줄이기 위해 점프로 이동하는 것은 최소로 하려고 한다\n",
    "\n",
    "아이언 슈트 구매자가 이동하려는 거리 n이 주어졌을 때 사용해야 하는 건전지 사용량의 최솟값을 return하는 함수 구현"
   ]
  },
  {
   "cell_type": "code",
   "execution_count": null,
   "id": "ec821816",
   "metadata": {},
   "outputs": [],
   "source": []
  },
  {
   "cell_type": "code",
   "execution_count": null,
   "id": "22e0f0d9",
   "metadata": {},
   "outputs": [],
   "source": []
  },
  {
   "cell_type": "code",
   "execution_count": null,
   "id": "a4c9ba72",
   "metadata": {},
   "outputs": [],
   "source": []
  },
  {
   "cell_type": "code",
   "execution_count": null,
   "id": "6f666352",
   "metadata": {},
   "outputs": [],
   "source": []
  }
 ],
 "metadata": {
  "kernelspec": {
   "display_name": "Python 3 (ipykernel)",
   "language": "python",
   "name": "python3"
  },
  "language_info": {
   "codemirror_mode": {
    "name": "ipython",
    "version": 3
   },
   "file_extension": ".py",
   "mimetype": "text/x-python",
   "name": "python",
   "nbconvert_exporter": "python",
   "pygments_lexer": "ipython3",
   "version": "3.11.5"
  },
  "toc": {
   "base_numbering": 1,
   "nav_menu": {},
   "number_sections": true,
   "sideBar": true,
   "skip_h1_title": false,
   "title_cell": "Table of Contents",
   "title_sidebar": "Contents",
   "toc_cell": false,
   "toc_position": {},
   "toc_section_display": true,
   "toc_window_display": false
  }
 },
 "nbformat": 4,
 "nbformat_minor": 5
}
