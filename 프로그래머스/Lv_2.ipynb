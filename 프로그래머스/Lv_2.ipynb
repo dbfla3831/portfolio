{
 "cells": [
  {
   "cell_type": "markdown",
   "id": "be4426dc",
   "metadata": {},
   "source": [
    "# 최댓값과 최솟값\n",
    "\n",
    "문자열 s에는 공백으로 구분된 숫자들이 저장되어 있다. str에 나타나는 숫자 중 최솟값과 최댓값을 찾아 이를 (최솟값)(최댓값)형태의 문자열을 반환하는 함수를 구현\n",
    "\n",
    "s = '1 2 3 4'이면 '1 4'를 리턴"
   ]
  },
  {
   "cell_type": "code",
   "execution_count": 58,
   "id": "6a1bd36e",
   "metadata": {},
   "outputs": [],
   "source": [
    "def solution(s):\n",
    "    answer = ''\n",
    "    lst = [int(i) for i in s.split()]\n",
    "    i_min = str(min(lst))\n",
    "    i_max = str(max(lst))\n",
    "    answer = i_min + ' ' + i_max\n",
    "    return answer\n",
    "\n",
    "\n",
    "# def solution(s):\n",
    "#     s = list(map(int,s.split()))\n",
    "#     return str(min(s)) + \" \" + str(max(s))"
   ]
  },
  {
   "cell_type": "code",
   "execution_count": 57,
   "id": "18e2610c",
   "metadata": {},
   "outputs": [
    {
     "data": {
      "text/plain": [
       "'1 4'"
      ]
     },
     "execution_count": 57,
     "metadata": {},
     "output_type": "execute_result"
    },
    {
     "data": {
      "text/plain": [
       "'-4 -1'"
      ]
     },
     "execution_count": 57,
     "metadata": {},
     "output_type": "execute_result"
    },
    {
     "data": {
      "text/plain": [
       "'-1 -1'"
      ]
     },
     "execution_count": 57,
     "metadata": {},
     "output_type": "execute_result"
    }
   ],
   "source": [
    "s = '1 2 3 4'\n",
    "solution(s)\n",
    "\n",
    "s = '-1 -2 -3 -4'\n",
    "solution(s)\n",
    "\n",
    "s = '-1 -1'\n",
    "solution(s)"
   ]
  },
  {
   "cell_type": "code",
   "execution_count": null,
   "id": "6d5e3ce7",
   "metadata": {},
   "outputs": [],
   "source": []
  },
  {
   "cell_type": "code",
   "execution_count": null,
   "id": "835f352f",
   "metadata": {},
   "outputs": [],
   "source": []
  },
  {
   "cell_type": "code",
   "execution_count": null,
   "id": "6887d240",
   "metadata": {},
   "outputs": [],
   "source": []
  },
  {
   "cell_type": "code",
   "execution_count": null,
   "id": "e74faf95",
   "metadata": {},
   "outputs": [],
   "source": []
  },
  {
   "cell_type": "code",
   "execution_count": null,
   "id": "5a650503",
   "metadata": {},
   "outputs": [],
   "source": []
  },
  {
   "cell_type": "code",
   "execution_count": null,
   "id": "6f666352",
   "metadata": {},
   "outputs": [],
   "source": []
  }
 ],
 "metadata": {
  "kernelspec": {
   "display_name": "Python 3 (ipykernel)",
   "language": "python",
   "name": "python3"
  },
  "language_info": {
   "codemirror_mode": {
    "name": "ipython",
    "version": 3
   },
   "file_extension": ".py",
   "mimetype": "text/x-python",
   "name": "python",
   "nbconvert_exporter": "python",
   "pygments_lexer": "ipython3",
   "version": "3.11.5"
  },
  "toc": {
   "base_numbering": 1,
   "nav_menu": {},
   "number_sections": true,
   "sideBar": true,
   "skip_h1_title": false,
   "title_cell": "Table of Contents",
   "title_sidebar": "Contents",
   "toc_cell": false,
   "toc_position": {},
   "toc_section_display": true,
   "toc_window_display": false
  }
 },
 "nbformat": 4,
 "nbformat_minor": 5
}
